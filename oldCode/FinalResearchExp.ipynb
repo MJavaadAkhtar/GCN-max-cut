{
 "cells": [
  {
   "cell_type": "code",
   "execution_count": 1,
   "metadata": {
    "collapsed": true,
    "pycharm": {
     "name": "#%%\n"
    }
   },
   "outputs": [
    {
     "name": "stdout",
     "output_type": "stream",
     "text": [
      "Will use device: cpu, torch dtype: torch.float32\n"
     ]
    },
    {
     "data": {
      "text/plain": "<Figure size 640x480 with 1 Axes>",
      "image/png": "[encoded data removed]"
     },
     "metadata": {},
     "output_type": "display_data"
    }
   ],
   "source": [
    "from GraphCreator import *"
   ]
  },
  {
   "cell_type": "code",
   "execution_count": 2,
   "outputs": [],
   "source": [
    "def gen_adj_matrix(nx_G):\n",
    "    adj_dict = defaultdict(int)\n",
    "\n",
    "    for(u,v) in nx_G.edges:\n",
    "        adj_dict[(u, v)] = nx_G[u][v]['weight']\n",
    "        adj_dict[(v, u)] = nx_G[u][v]['weight']\n",
    "\n",
    "    for u in nx_G.nodes:\n",
    "        for i in nx_G.nodes:\n",
    "            if not adj_dict[(u, i)]:\n",
    "                adj_dict[(u, i)] = 0\n",
    "\n",
    "    return adj_dict\n",
    "\n",
    "def DrawGraph(graph):\n",
    "    pos = nx.spring_layout(graph,seed=1)\n",
    "\n",
    "    # Visualize graph\n",
    "    options = {\n",
    "        \"font_size\": 16,\n",
    "        \"node_size\": 800,\n",
    "        \"node_color\": \"white\",\n",
    "        \"edgecolors\": \"black\",\n",
    "        \"linewidths\": 5,\n",
    "        \"width\": 5,\n",
    "    }\n",
    "    nx.draw(graph, pos, with_labels=True, **options)\n",
    "\n",
    "    labels = nx.get_edge_attributes(graph,'weight')\n",
    "    nx.draw_networkx_edge_labels(graph,pos,edge_labels=labels)\n",
    "\n",
    "def CreateDummyFunction(edges):\n",
    "    test_graph = nx.Graph()\n",
    "    test_graph.add_edges_from(edges)\n",
    "    test_graph.order()\n",
    "    return test_graph\n",
    "\n",
    "def qubo_dict_to_torch(nx_G, Q, torch_dtype=None, torch_device=None):\n",
    "    \"\"\"\n",
    "    Output Q matrix as torch tensor for given Q in dictionary format.\n",
    "\n",
    "    Input:\n",
    "        Q: QUBO matrix as defaultdict\n",
    "        nx_G: graph as networkx object (needed for node lables can vary 0,1,... vs 1,2,... vs a,b,...)\n",
    "    Output:\n",
    "        Q: QUBO as torch tensor\n",
    "    \"\"\"\n",
    "\n",
    "    # get number of nodes\n",
    "    n_nodes = len(nx_G.nodes)\n",
    "\n",
    "    # get QUBO Q as torch tensor\n",
    "    Q_mat = torch.zeros(n_nodes, n_nodes)\n",
    "    for (x_coord, y_coord), val in Q.items():\n",
    "        Q_mat[x_coord][y_coord] = val\n",
    "\n",
    "    if torch_dtype is not None:\n",
    "        Q_mat = Q_mat.type(torch_dtype)\n",
    "\n",
    "    if torch_device is not None:\n",
    "        Q_mat = Q_mat.to(torch_device)\n",
    "\n",
    "    return Q_mat\n",
    "\n",
    "def calculateMinCut(adj_matrix, output, terminal1 = 0, terminal2 = 4):\n",
    "    #output = (output.detach() >= 0.5) * 1\n",
    "\n",
    "    # if output[terminal1] == output[terminal2]:\n",
    "    #     return float(\"inf\")\n",
    "    #print(adj_matrix, output)\n",
    "    loss = 0\n",
    "    for i in range(len(adj_matrix)):\n",
    "        for j in range(len(adj_matrix)):\n",
    "            if (output[i] > 0.5 and output[j] < 0.5) or (output[i] < 0.5 and output[j] > 0.5) :\n",
    "                loss+=adj_matrix[i][j]\n",
    "\n",
    "    return loss\n",
    "\n",
    "def partition_weight(adj, s):\n",
    "    \"\"\"\n",
    "    Calculates the sum of weights of edges that are in different partitions.\n",
    "\n",
    "    :param adj: Adjacency matrix of the graph.\n",
    "    :param s: List indicating the partition of each edge (0 or 1).\n",
    "    :return: Sum of weights of edges in different partitions.\n",
    "    \"\"\"\n",
    "    s = np.array(s)\n",
    "    partition_matrix = np.not_equal.outer(s, s).astype(int)\n",
    "    weight = (adj * partition_matrix).sum() / 2\n",
    "    return weight\n",
    "\n",
    "def expected_partition_weight(adj, s):\n",
    "    \"\"\"\n",
    "    Calculates the expected sum of weights of edges that are in different partitions,\n",
    "    based on the probabilities in s.\n",
    "\n",
    "    :param adj: Adjacency matrix of the graph.\n",
    "    :param s: List indicating the probability of each edge being in a certain partition.\n",
    "    :return: Expected sum of weights of edges in different partitions.\n",
    "    \"\"\"\n",
    "    s = np.array(s)\n",
    "    partition_matrix = np.outer(s, 1 - s) + np.outer(1 - s, s)\n",
    "    expected_weight = (adj * partition_matrix).sum() / 2\n",
    "    return expected_weight"
   ],
   "metadata": {
    "collapsed": false,
    "pycharm": {
     "name": "#%%\n"
    }
   }
  },
  {
   "cell_type": "markdown",
   "source": [
    "# Hamiltonian Partitioning\n",
    "We are going to experiment with hamilotnian paritioning on couple of graphs and adjacent matrix to see how well it works"
   ],
   "metadata": {
    "collapsed": false,
    "pycharm": {
     "name": "#%% md\n"
    }
   }
  },
  {
   "cell_type": "code",
   "execution_count": 3,
   "outputs": [],
   "source": [
    "def Hamiltonian(s, w, A = 1, B = 1):\n",
    "    '''\n",
    "\n",
    "    :param s: In original H paritioning, s is either 1 or -1\n",
    "    :param w: The adjacent matrix of the graph\n",
    "    :param A: a hyper parameter\n",
    "    :param B: another hyper parameter\n",
    "    :return:\n",
    "    '''\n",
    "\n",
    "    # Calculate HA\n",
    "    #HA = ((s.sum() ** 2) if len(s) % 2 == 0 else ((s.sum() ** 2) / 2))\n",
    "    HA = ((np.sum(s)** 2) if len(s) % 2 == 0 else ((np.sum(s) ** 2) / 2))\n",
    "\n",
    "    # Calculate HB\n",
    "    # HB = np.sum(w * (1 - np.outer(s, s)) / 2)\n",
    "\n",
    "    HB = (w * (1 - np.outer(s, s)) / 2).sum()\n",
    "    # Hamiltonian H\n",
    "    H = A * HA + B * HB\n",
    "\n",
    "    return H\n",
    "\n",
    "def HamiltonianLoss(s, w, A = 1, B = 1):\n",
    "    '''\n",
    "\n",
    "    :param s: In original H paritioning, s is either 1 or -1\n",
    "    :param w: The adjacent matrix of the graph\n",
    "    :param A: a hyper parameter\n",
    "    :param B: another hyper parameter\n",
    "    :return:\n",
    "    '''\n",
    "\n",
    "    # Calculate HA\n",
    "    HA = ((s.sum() ** 2) if len(s) % 2 == 0 else ((s.sum() ** 2) / 2))\n",
    "\n",
    "    # Calculate HB\n",
    "    # HB = np.sum(w * (1 - np.outer(s, s)) / 2)\n",
    "\n",
    "    HB = (w * (1 - torch.outer(s, s)) / 2).sum()\n",
    "    # Hamiltonian H\n",
    "    H = A * HA + B * HB\n",
    "\n",
    "    return H\n",
    "\n",
    "def HamiltonianLoss2(s, w, A = 9, B = 1):\n",
    "    '''\n",
    "\n",
    "    :param s: In original H paritioning, s is either 1 or -1\n",
    "    :param w: The adjacent matrix of the graph\n",
    "    :param A: a hyper parameter\n",
    "    :param B: another hyper parameter\n",
    "    :return:\n",
    "    '''\n",
    "\n",
    "    # Calculate HA\n",
    "    num_nodes = s.size(0)\n",
    "    ideal_balance = num_nodes / 2.0\n",
    "\n",
    "    # HA is a penalty term for the deviation of sum of probabilities from the ideal balance\n",
    "    HA = (torch.sum(s) - ideal_balance) ** 2\n",
    "\n",
    "    # Calculate HB\n",
    "    # HB = np.sum(w * (1 - np.outer(s, s)) / 2)\n",
    "\n",
    "    HB = (w * (1 - torch.outer(s, s)) / 2).sum()\n",
    "    # Hamiltonian H\n",
    "    H = A * HA + B * HB\n",
    "\n",
    "    return H\n",
    "\n",
    "\n",
    "def HamiltonianLoss3(s, w, A = 1, B = 1):\n",
    "    '''\n",
    "\n",
    "    :param s: In original H paritioning, s is either 1 or -1\n",
    "    :param w: The adjacent matrix of the graph\n",
    "    :param A: a hyper parameter\n",
    "    :param B: another hyper parameter\n",
    "    :return:\n",
    "    '''\n",
    "\n",
    "    # Calculate HA\n",
    "    num_nodes = s.size(0)\n",
    "    ideal_balance = num_nodes / 2.0\n",
    "\n",
    "    # HA is a penalty term for the deviation of sum of probabilities from the ideal balance\n",
    "    HA = (torch.sum(s) - ideal_balance) ** 2\n",
    "\n",
    "    HB = expected_partition_weight2(w, s)\n",
    "    # Hamiltonian H\n",
    "    H = A * HA + B * HB\n",
    "\n",
    "    return H\n",
    "\n",
    "def expected_partition_weight2(adj, s):\n",
    "    \"\"\"\n",
    "    Calculates the expected sum of weights of edges that are in different partitions,\n",
    "    based on the probabilities in s.\n",
    "\n",
    "    :param adj: Adjacency matrix of the graph.\n",
    "    :param s: List indicating the probability of each edge being in a certain partition.\n",
    "    :return: Expected sum of weights of edges in different partitions.\n",
    "    \"\"\"\n",
    "    #s = torch.array(s)\n",
    "    partition_matrix = torch.outer(s, 1 - s) + torch.outer(1 - s, s)\n",
    "    expected_weight = (adj * partition_matrix).sum() / 2\n",
    "\n",
    "    # # Penalty term\n",
    "    # edge_probs = s[list((0,4))]\n",
    "    # penalty = 10 * torch.prod(edge_probs) + 10 * torch.prod(1 - edge_probs)\n",
    "    # expected_weight += penalty\n",
    "    return expected_weight"
   ],
   "metadata": {
    "collapsed": false,
    "pycharm": {
     "name": "#%%\n"
    }
   }
  },
  {
   "cell_type": "markdown",
   "source": [
    "# Experiment with H partitiioning\n",
    "\n",
    "We are going to run H paritioning on some graphs with different s values. Lets talk our first graph:\n",
    "\n",
    "## Graph 1\n",
    "Vertex 0 --(1)-- Vertex 1\n",
    "  |     \\\n",
    "  |       \\\n",
    " (3)      (2)\n",
    "  |          \\\n",
    "  |            \\\n",
    "Vertex 2 --(1)-- Vertex 3\n",
    "\n"
   ],
   "metadata": {
    "collapsed": false,
    "pycharm": {
     "name": "#%% md\n"
    }
   }
  },
  {
   "cell_type": "code",
   "execution_count": 4,
   "outputs": [
    {
     "data": {
      "text/plain": "<Figure size 640x480 with 1 Axes>",
      "image/png": "[encoded data removed]"
     },
     "metadata": {},
     "output_type": "display_data"
    }
   ],
   "source": [
    "edges = [(0,1, {\"weight\": 1, \"capacity\":1}),\n",
    "         (0,2, {\"weight\": 3, \"capacity\":3}),\n",
    "         (0,3, {\"weight\": 2, \"capacity\":2}),\n",
    "         (2,3, {\"weight\": 1, \"capacity\":1})]\n",
    "graph = CreateDummyFunction(edges)\n",
    "graph_dgl = dgl.from_networkx(nx_graph=graph)\n",
    "graph_dgl = graph_dgl.to(TORCH_DEVICE)\n",
    "DrawGraph(graph)"
   ],
   "metadata": {
    "collapsed": false,
    "pycharm": {
     "name": "#%%\n"
    }
   }
  },
  {
   "cell_type": "code",
   "execution_count": 5,
   "outputs": [
    {
     "data": {
      "text/plain": "tensor([[0., 1., 3., 2.],\n        [1., 0., 0., 0.],\n        [3., 0., 0., 1.],\n        [2., 0., 1., 0.]])"
     },
     "execution_count": 5,
     "metadata": {},
     "output_type": "execute_result"
    }
   ],
   "source": [
    "q_torch = qubo_dict_to_torch(graph, gen_adj_matrix(graph), torch_dtype=TORCH_DTYPE, torch_device=TORCH_DEVICE)\n",
    "q_torch"
   ],
   "metadata": {
    "collapsed": false,
    "pycharm": {
     "name": "#%%\n"
    }
   }
  },
  {
   "cell_type": "code",
   "execution_count": 6,
   "outputs": [
    {
     "name": "stdout",
     "output_type": "stream",
     "text": [
      "tensor(10., dtype=torch.float64) tensor(3.) tensor(1.5000, dtype=torch.float64)\n",
      "tensor(10., dtype=torch.float64) tensor(5.) tensor(3., dtype=torch.float64)\n",
      "tensor(16., dtype=torch.float64) tensor(6.) tensor(3.5000, dtype=torch.float64)\n",
      "tensor(16., dtype=torch.float64) 0.0 tensor(3.5000, dtype=torch.float64)\n",
      "tensor(12., dtype=torch.float64) tensor(4.) tensor(2., dtype=torch.float64)\n",
      "tensor(6., dtype=torch.float64) tensor(1.) tensor(0.5000, dtype=torch.float64)\n",
      "tensor(16., dtype=torch.float64) tensor(6.) tensor(3., dtype=torch.float64)\n",
      "tensor(8., dtype=torch.float64) tensor(4.) tensor(2., dtype=torch.float64)\n",
      "tensor(8., dtype=torch.float64) tensor(4.) tensor(3.5000, dtype=torch.float64)\n",
      "tensor(16., dtype=torch.float64) 0.0 tensor(0., dtype=torch.float64)\n",
      "-------\n",
      "-------\n",
      "tensor(12.) tensor(3.) tensor(1.5000)\n",
      "tensor(6.) tensor(5.) tensor(3.)\n",
      "tensor(16.) tensor(6.) tensor(3.5000)\n",
      "tensor(43.) 0.0 tensor(3.5000)\n",
      "tensor(13.) tensor(4.) tensor(2.)\n",
      "tensor(10.) tensor(1.) tensor(0.5000)\n",
      "tensor(15.) tensor(6.) tensor(3.)\n",
      "tensor(4.) tensor(4.) tensor(2.)\n",
      "tensor(7.) tensor(4.) tensor(3.5000)\n",
      "tensor(36.) 0.0 tensor(0.)\n"
     ]
    }
   ],
   "source": [
    "possible_combo = [np.array([1, 1, 1, -1]),np.array([1, 1, -1, -1]), np.array([1, -1, -1, -1]), np.array([-1, -1, -1, -1]),\n",
    "                  np.array([1, 1, -1, 1]), np.array([1, -1, 1, 1]), np.array([-1, 1, 1, 1]), np.array([1, -1, 1, -1]), np.array([-1, 1, -1, 1]),\n",
    "                  np.array([1, 1, 1, 1])]\n",
    "\n",
    "for i in possible_combo:\n",
    "    hamiltonian = Hamiltonian(i, q_torch)\n",
    "    spins = [1 if m > 0.5 else 0 for m in i]\n",
    "    calc = calculateMinCut(q_torch, spins)\n",
    "\n",
    "    print(hamiltonian, calc/2, ((q_torch * (1 - np.outer(spins, spins)) / 2).sum()/2))\n",
    "print('-------')\n",
    "# for i in possible_combo:\n",
    "#     spins = [1 if m > 0.5 else 0 for m in i]\n",
    "#     hamiltonian = Hamiltonian(spins, q_torch)\n",
    "#     calc = calculateMinCut(q_torch, spins)\n",
    "#\n",
    "#     print(hamiltonian, calc/2)\n",
    "print('-------')\n",
    "for i in possible_combo:\n",
    "    spins = torch.FloatTensor([1 if m > 0.5 else 0 for m in i])\n",
    "    hamiltonian = HamiltonianLoss2(spins, q_torch)\n",
    "    calc = calculateMinCut(q_torch, spins)\n",
    "\n",
    "    print(hamiltonian, calc/2, ((q_torch * (1 - np.outer(spins, spins)) / 2).sum()/2))"
   ],
   "metadata": {
    "collapsed": false,
    "pycharm": {
     "name": "#%%\n"
    }
   }
  },
  {
   "cell_type": "code",
   "execution_count": 7,
   "outputs": [
    {
     "data": {
      "text/plain": "<Figure size 640x480 with 1 Axes>",
      "image/png": "[encoded data removed]"
     },
     "metadata": {},
     "output_type": "display_data"
    }
   ],
   "source": [
    "DrawGraph(graph)"
   ],
   "metadata": {
    "collapsed": false,
    "pycharm": {
     "name": "#%%\n"
    }
   }
  },
  {
   "cell_type": "markdown",
   "source": [
    "## Example 2\n"
   ],
   "metadata": {
    "collapsed": false,
    "pycharm": {
     "name": "#%% md\n"
    }
   }
  },
  {
   "cell_type": "code",
   "execution_count": 8,
   "outputs": [
    {
     "data": {
      "text/plain": "<Figure size 640x480 with 1 Axes>",
      "image/png": "[encoded data removed]"
     },
     "metadata": {},
     "output_type": "display_data"
    }
   ],
   "source": [
    "edges = [(0,1, {\"weight\": 8, \"capacity\":8}),\n",
    "        (0,2, {\"weight\": 1, \"capacity\":1}),\n",
    "        (1,3, {\"weight\": 1, \"capacity\":1}),\n",
    "        (2,3, {\"weight\": 1, \"capacity\":1}),\n",
    "        (2,4, {\"weight\": 1, \"capacity\":1}),\n",
    "        (3,4, {\"weight\": 1, \"capacity\":1})]\n",
    "graph = CreateDummyFunction(edges)\n",
    "graph_dgl = dgl.from_networkx(nx_graph=graph)\n",
    "graph_dgl = graph_dgl.to(TORCH_DEVICE)\n",
    "DrawGraph(graph)"
   ],
   "metadata": {
    "collapsed": false,
    "pycharm": {
     "name": "#%%\n"
    }
   }
  },
  {
   "cell_type": "code",
   "execution_count": 9,
   "outputs": [
    {
     "data": {
      "text/plain": "tensor([[0., 8., 1., 0., 0.],\n        [8., 0., 0., 1., 0.],\n        [1., 0., 0., 1., 1.],\n        [0., 1., 1., 0., 1.],\n        [0., 0., 1., 1., 0.]])"
     },
     "execution_count": 9,
     "metadata": {},
     "output_type": "execute_result"
    }
   ],
   "source": [
    "q_torch = qubo_dict_to_torch(graph, gen_adj_matrix(graph), torch_dtype=TORCH_DTYPE, torch_device=TORCH_DEVICE)\n",
    "q_torch"
   ],
   "metadata": {
    "collapsed": false,
    "pycharm": {
     "name": "#%%\n"
    }
   }
  },
  {
   "cell_type": "code",
   "execution_count": 10,
   "outputs": [
    {
     "name": "stdout",
     "output_type": "stream",
     "text": [
      "tensor(10.5000, dtype=torch.float64) tensor(3.) tensor(1.5000, dtype=torch.float64)\n",
      "tensor(8.5000, dtype=torch.float64) tensor(4.) tensor(2.5000, dtype=torch.float64)\n",
      "tensor(22.5000, dtype=torch.float64) tensor(11.) tensor(6.5000, dtype=torch.float64)\n",
      "tensor(8.5000, dtype=torch.float64) tensor(2.) tensor(6.5000, dtype=torch.float64)\n",
      "tensor(10.5000, dtype=torch.float64) tensor(3.) tensor(1.5000, dtype=torch.float64)\n",
      "tensor(22.5000, dtype=torch.float64) tensor(9.) tensor(4.5000, dtype=torch.float64)\n",
      "tensor(22.5000, dtype=torch.float64) tensor(9.) tensor(4.5000, dtype=torch.float64)\n",
      "tensor(20.5000, dtype=torch.float64) tensor(10.) tensor(5.5000, dtype=torch.float64)\n",
      "tensor(20.5000, dtype=torch.float64) tensor(10.) tensor(5.5000, dtype=torch.float64)\n",
      "tensor(4.5000, dtype=torch.float64) tensor(2.) tensor(5., dtype=torch.float64)\n",
      "tensor(12.5000, dtype=torch.float64) 0.0 tensor(0., dtype=torch.float64)\n",
      "tensor(24.5000, dtype=torch.float64) tensor(12.) tensor(6., dtype=torch.float64)\n",
      "-----\n",
      "tensor(23.2500) tensor(3.) tensor(3., dtype=torch.float64) tensor(3., dtype=torch.float64)\n",
      "tensor(7.2500) tensor(4.) tensor(4., dtype=torch.float64) tensor(4., dtype=torch.float64)\n",
      "tensor(15.2500) tensor(11.) tensor(11., dtype=torch.float64) tensor(11., dtype=torch.float64)\n",
      "tensor(33.2500) tensor(2.) tensor(2., dtype=torch.float64) tensor(2., dtype=torch.float64)\n",
      "tensor(23.2500) tensor(3.) tensor(3., dtype=torch.float64) tensor(3., dtype=torch.float64)\n",
      "tensor(29.2500) tensor(9.) tensor(9., dtype=torch.float64) tensor(9., dtype=torch.float64)\n",
      "tensor(29.2500) tensor(9.) tensor(9., dtype=torch.float64) tensor(9., dtype=torch.float64)\n",
      "tensor(13.2500) tensor(10.) tensor(10., dtype=torch.float64) tensor(10., dtype=torch.float64)\n",
      "tensor(13.2500) tensor(10.) tensor(10., dtype=torch.float64) tensor(10., dtype=torch.float64)\n",
      "tensor(12.2500) tensor(2.) tensor(2., dtype=torch.float64) tensor(2., dtype=torch.float64)\n",
      "tensor(56.2500) 0.0 tensor(0., dtype=torch.float64) tensor(0., dtype=torch.float64)\n",
      "tensor(14.2500) tensor(12.) tensor(12., dtype=torch.float64) tensor(12., dtype=torch.float64)\n"
     ]
    }
   ],
   "source": [
    "possible_combo = [np.array([1, 1, 1, -1, 1]),np.array([1, 1, -1, -1, 1]), np.array([1, -1, -1, -1, 1]), np.array([-1, -1, -1, -1, 1]),\n",
    "                  np.array([1, 1, -1, 1, 1]), np.array([1, -1, 1, 1, 1]), np.array([-1, 1, 1, 1, 1]), np.array([1, -1, 1, -1, 1]),\n",
    "                  np.array([-1, 1, -1, 1, 1]), np.array([-1, -1, 1, 1, 1]), np.array([1, 1, 1, 1, 1]), np.array([1, -1, -1, 1, 1])]\n",
    "\n",
    "for i in possible_combo:\n",
    "    hamiltonian = Hamiltonian(i, q_torch)\n",
    "    spins = [1 if m > 0.5 else 0 for m in i]\n",
    "    calc = calculateMinCut(q_torch, spins)\n",
    "\n",
    "    print(hamiltonian, calc/2, ((q_torch * (1 - np.outer(spins, spins)) / 2).sum()/2))\n",
    "print('-----')\n",
    "for i in possible_combo:\n",
    "    spins = torch.FloatTensor([1 if m > 0.5 else 0 for m in i])\n",
    "    hamiltonian = HamiltonianLoss2(spins, q_torch)\n",
    "    calc = calculateMinCut(q_torch, spins)\n",
    "\n",
    "    print(hamiltonian, calc/2,\n",
    "          ((q_torch * (1 - np.outer(i, i)) / 2).sum())/2, partition_weight(q_torch, spins))"
   ],
   "metadata": {
    "collapsed": false,
    "pycharm": {
     "name": "#%%\n"
    }
   }
  },
  {
   "cell_type": "markdown",
   "source": [
    "# Neural Network Code\n",
    "\n",
    "Neural Network Architecture"
   ],
   "metadata": {
    "collapsed": false,
    "pycharm": {
     "name": "#%% md\n"
    }
   }
  },
  {
   "cell_type": "code",
   "execution_count": 11,
   "outputs": [],
   "source": [
    "class GCN_dev(nn.Module):\n",
    "    def __init__(self, in_feats, hidden_size, number_classes, dropout, device):\n",
    "        \"\"\"\n",
    "        Initialize a new instance of the core GCN model of provided size.\n",
    "        Dropout is added in forward step.\n",
    "\n",
    "        Inputs:\n",
    "            in_feats: Dimension of the input (embedding) layer\n",
    "            hidden_size: Hidden layer size\n",
    "            dropout: Fraction of dropout to add between intermediate layer. Value is cached for later use.\n",
    "            device: Specifies device (CPU vs GPU) to load variables onto\n",
    "        \"\"\"\n",
    "        super(GCN_dev, self).__init__()\n",
    "\n",
    "        self.dropout_frac = dropout\n",
    "        self.conv1 = GraphConv(in_feats, hidden_size).to(device)\n",
    "        self.conv2 = GraphConv(hidden_size, number_classes).to(device)\n",
    "\n",
    "    def forward(self, g, inputs):\n",
    "        \"\"\"\n",
    "        Run forward propagation step of instantiated model.\n",
    "\n",
    "        Input:\n",
    "            self: GCN_dev instance\n",
    "            g: DGL graph object, i.e. problem definition\n",
    "            inputs: Input (embedding) layer weights, to be propagated through network\n",
    "        Output:\n",
    "            h: Output layer weights\n",
    "        \"\"\"\n",
    "\n",
    "        # input step\n",
    "        h = self.conv1(g, inputs)\n",
    "        h = torch.relu(h)\n",
    "        h = F.dropout(h, p=self.dropout_frac)\n",
    "\n",
    "        # output step\n",
    "        h = self.conv2(g, h)\n",
    "        h = torch.sigmoid(h)\n",
    "\n",
    "        return h"
   ],
   "metadata": {
    "collapsed": false,
    "pycharm": {
     "name": "#%%\n"
    }
   }
  },
  {
   "cell_type": "code",
   "execution_count": 12,
   "outputs": [],
   "source": [
    "# Construct graph to learn on\n",
    "def get_gnn(n_nodes, gnn_hypers, opt_params, torch_device, torch_dtype):\n",
    "    \"\"\"\n",
    "    Generate GNN instance with specified structure. Creates GNN, retrieves embedding layer,\n",
    "    and instantiates ADAM optimizer given those.\n",
    "\n",
    "    Input:\n",
    "        n_nodes: Problem size (number of nodes in graph)\n",
    "        gnn_hypers: Hyperparameters relevant to GNN structure\n",
    "        opt_params: Hyperparameters relevant to ADAM optimizer\n",
    "        torch_device: Whether to load pytorch variables onto CPU or GPU\n",
    "        torch_dtype: Datatype to use for pytorch variables\n",
    "    Output:\n",
    "        net: GNN instance\n",
    "        embed: Embedding layer to use as input to GNN\n",
    "        optimizer: ADAM optimizer instance\n",
    "    \"\"\"\n",
    "    dim_embedding = gnn_hypers['dim_embedding']\n",
    "    hidden_dim = gnn_hypers['hidden_dim']\n",
    "    dropout = gnn_hypers['dropout']\n",
    "    number_classes = gnn_hypers['number_classes']\n",
    "\n",
    "    # instantiate the GNN\n",
    "    net = GCN_dev(dim_embedding, hidden_dim, number_classes, dropout, torch_device)\n",
    "    net = net.type(torch_dtype).to(torch_device)\n",
    "    embed = nn.Embedding(n_nodes, dim_embedding)\n",
    "    embed = embed.type(torch_dtype).to(torch_device)\n",
    "\n",
    "    # set up Adam optimizer\n",
    "    params = chain(net.parameters(), embed.parameters())\n",
    "    optimizer = torch.optim.Adam(params, **opt_params)\n",
    "    return net, embed, optimizer"
   ],
   "metadata": {
    "collapsed": false,
    "pycharm": {
     "name": "#%%\n"
    }
   }
  },
  {
   "cell_type": "code",
   "execution_count": 25,
   "outputs": [],
   "source": [
    "def run_gnn_training(q_torch, dgl_graph, net, embed, optimizer, number_epochs, tol, patience, prob_threshold, loss_func):\n",
    "    \"\"\"\n",
    "    Wrapper function to run and monitor GNN training. Includes early stopping.\n",
    "    \"\"\"\n",
    "    # Assign variable for user reference\n",
    "    inputs = embed.weight\n",
    "\n",
    "    prev_loss = 1.  # initial loss value (arbitrary)\n",
    "    count = 0       # track number times early stopping is triggered\n",
    "\n",
    "    # initialize optimal solution\n",
    "    best_bitstring = torch.zeros((dgl_graph.number_of_nodes(),)).type(q_torch.dtype).to(q_torch.device)\n",
    "    best_loss = loss_func(best_bitstring.float(), q_torch)\n",
    "\n",
    "    t_gnn_start = time()\n",
    "\n",
    "    # Training logic\n",
    "    for epoch in range(number_epochs):\n",
    "\n",
    "        # get logits/activations\n",
    "        probs = net(dgl_graph, inputs)[:, 0]  # collapse extra dimension output from model\n",
    "\n",
    "        # build cost value with QUBO cost function\n",
    "        loss = loss_func(probs, q_torch)\n",
    "        loss_ = loss.detach().item()\n",
    "\n",
    "        # Apply projection\n",
    "        bitstring = (probs.detach() >= prob_threshold) * 1\n",
    "        calc = partition_weight(q_torch, bitstring)\n",
    "        # if loss < best_loss:\n",
    "        #     best_loss = loss\n",
    "        #     best_bitstring = bitstring\n",
    "\n",
    "        if calc < best_loss and calc != 0:\n",
    "            best_loss = loss\n",
    "            best_bitstring = bitstring\n",
    "\n",
    "        if epoch % 1000 == 0:\n",
    "            print(f'Epoch: {epoch}, Loss: {loss_}')\n",
    "            print(probs, q_torch)\n",
    "\n",
    "        # early stopping check\n",
    "        # If loss increases or change in loss is too small, trigger\n",
    "        if (abs(loss_ - prev_loss) <= tol) | ((loss_ - prev_loss) > 0):\n",
    "            count += 1\n",
    "        else:\n",
    "            count = 0\n",
    "\n",
    "        if count >= patience:\n",
    "            print(f'Stopping early on epoch {epoch} (patience: {patience})')\n",
    "            break\n",
    "\n",
    "        # update loss tracking\n",
    "        prev_loss = loss_\n",
    "\n",
    "        # run optimization with backpropagation\n",
    "        optimizer.zero_grad()  # clear gradient for step\n",
    "        loss.backward()        # calculate gradient through compute graph\n",
    "        optimizer.step()       # take step, update weights\n",
    "\n",
    "    t_gnn = time() - t_gnn_start\n",
    "    print(f'GNN training (n={dgl_graph.number_of_nodes()}) took {round(t_gnn, 3)}')\n",
    "    print(f'GNN final continuous loss: {loss_}')\n",
    "    print(f'GNN best continuous loss: {best_loss}')\n",
    "\n",
    "    final_bitstring = (probs.detach() >= prob_threshold) * 1\n",
    "\n",
    "    return net, epoch, final_bitstring, best_bitstring\n",
    "def run_gnn_training2(q_torch, dgl_graph, net, embed, optimizer, number_epochs, tol, patience, prob_threshold, loss_func):\n",
    "    \"\"\"\n",
    "    Wrapper function to run and monitor GNN training. Includes early stopping.\n",
    "    \"\"\"\n",
    "    # Assign variable for user reference\n",
    "    inputs = embed.weight\n",
    "\n",
    "    prev_loss = 1.  # initial loss value (arbitrary)\n",
    "    count = 0       # track number times early stopping is triggered\n",
    "\n",
    "    # initialize optimal solution\n",
    "    best_bitstring = torch.zeros((dgl_graph.number_of_nodes(),)).type(q_torch.dtype).to(q_torch.device)\n",
    "    best_loss = loss_func(best_bitstring.float(), q_torch)\n",
    "\n",
    "    t_gnn_start = time()\n",
    "\n",
    "    # Training logic\n",
    "    for epoch in range(number_epochs):\n",
    "\n",
    "        # get logits/activations\n",
    "        probs = net(dgl_graph, inputs)[:, 0]  # collapse extra dimension output from model\n",
    "\n",
    "        # build cost value with QUBO cost function\n",
    "        loss = loss_func(probs, q_torch)\n",
    "        loss_ = loss.detach().item()\n",
    "\n",
    "        # Apply projection\n",
    "        bitstring = (probs.detach() >= prob_threshold) * 1\n",
    "        calc = partition_weight(q_torch, bitstring)\n",
    "        # if loss < best_loss:\n",
    "        #     best_loss = loss\n",
    "        #     best_bitstring = bitstring\n",
    "        #add reward\n",
    "        loss = loss-calc\n",
    "\n",
    "        if calc < best_loss and calc != 0:\n",
    "            best_loss = loss\n",
    "            best_bitstring = bitstring\n",
    "\n",
    "        if epoch % 1000 == 0:\n",
    "            print(f'Epoch: {epoch}, Loss: {loss_}')\n",
    "            print(probs, q_torch)\n",
    "\n",
    "        # early stopping check\n",
    "        # If loss increases or change in loss is too small, trigger\n",
    "        if (abs(loss_ - prev_loss) <= tol) | ((loss_ - prev_loss) > 0):\n",
    "            count += 1\n",
    "        else:\n",
    "            count = 0\n",
    "\n",
    "        if count >= patience:\n",
    "            print(f'Stopping early on epoch {epoch} (patience: {patience})')\n",
    "            break\n",
    "\n",
    "        # update loss tracking\n",
    "        prev_loss = loss_\n",
    "\n",
    "        # run optimization with backpropagation\n",
    "        optimizer.zero_grad()  # clear gradient for step\n",
    "        loss.backward()        # calculate gradient through compute graph\n",
    "        optimizer.step()       # take step, update weights\n",
    "\n",
    "    t_gnn = time() - t_gnn_start\n",
    "    print(f'GNN training (n={dgl_graph.number_of_nodes()}) took {round(t_gnn, 3)}')\n",
    "    print(f'GNN final continuous loss: {loss_}')\n",
    "    print(f'GNN best continuous loss: {best_loss}')\n",
    "\n",
    "    final_bitstring = (probs.detach() >= prob_threshold) * 1\n",
    "\n",
    "    return net, epoch, final_bitstring, best_bitstring"
   ],
   "metadata": {
    "collapsed": false,
    "pycharm": {
     "name": "#%%\n"
    }
   }
  },
  {
   "cell_type": "code",
   "execution_count": 15,
   "outputs": [],
   "source": [
    "def hyperParameters(n = 100, d = 3, p = None, graph_type = 'reg', number_epochs = int(1e5),\n",
    "                    learning_rate = 1e-4, PROB_THRESHOLD = 0.5, tol = 1e-4, patience = 100):\n",
    "    dim_embedding = int(np.sqrt(n))    # e.g. 10\n",
    "    hidden_dim = int(dim_embedding/2)\n",
    "\n",
    "    return n, d, p, graph_type, number_epochs, learning_rate, PROB_THRESHOLD, tol, patience, dim_embedding, hidden_dim"
   ],
   "metadata": {
    "collapsed": false,
    "pycharm": {
     "name": "#%%\n"
    }
   }
  },
  {
   "cell_type": "markdown",
   "source": [
    "# Training GCN on graph 2"
   ],
   "metadata": {
    "collapsed": false,
    "pycharm": {
     "name": "#%% md\n"
    }
   }
  },
  {
   "cell_type": "code",
   "execution_count": 26,
   "outputs": [],
   "source": [
    "edges = [(0,1, {\"weight\": 8, \"capacity\":8}),\n",
    "         (0,2, {\"weight\": 1, \"capacity\":1}),\n",
    "         (1,3, {\"weight\": 1, \"capacity\":1}),\n",
    "         (2,3, {\"weight\": 1, \"capacity\":1}),\n",
    "         (2,4, {\"weight\": 1, \"capacity\":1}),\n",
    "         (3,4, {\"weight\": 1, \"capacity\":1})]\n",
    "graph = CreateDummyFunction(edges)\n",
    "graph_dgl = dgl.from_networkx(nx_graph=graph)\n",
    "graph_dgl = graph_dgl.to(TORCH_DEVICE)\n",
    "q_torch = qubo_dict_to_torch(graph, gen_adj_matrix(graph), torch_dtype=TORCH_DTYPE, torch_device=TORCH_DEVICE)\n",
    "\n",
    "n, d, p, graph_type, number_epochs, learning_rate, PROB_THRESHOLD, tol, patience, dim_embedding, hidden_dim = hyperParameters(n=5,patience=10000)\n",
    "# Establish pytorch GNN + optimizer\n",
    "opt_params = {'lr': learning_rate}\n",
    "gnn_hypers = {\n",
    "    'dim_embedding': dim_embedding,\n",
    "    'hidden_dim': hidden_dim,\n",
    "    'dropout': 0.0,\n",
    "    'number_classes': 3,\n",
    "    'prob_threshold': PROB_THRESHOLD,\n",
    "    'number_epochs': number_epochs,\n",
    "    'tolerance': tol,\n",
    "    'patience': patience\n",
    "}\n",
    "\n",
    "net, embed, optimizer = get_gnn(n, gnn_hypers, opt_params, TORCH_DEVICE, TORCH_DTYPE)\n",
    "\n",
    "# For tracking hyperparameters in results object\n",
    "gnn_hypers.update(opt_params)"
   ],
   "metadata": {
    "collapsed": false,
    "pycharm": {
     "name": "#%%\n"
    }
   }
  },
  {
   "cell_type": "code",
   "execution_count": 27,
   "outputs": [
    {
     "name": "stdout",
     "output_type": "stream",
     "text": [
      "Running GNN...\n"
     ]
    },
    {
     "ename": "KeyboardInterrupt",
     "evalue": "",
     "output_type": "error",
     "traceback": [
      "\u001B[0;31m---------------------------------------------------------------------------\u001B[0m",
      "\u001B[0;31mKeyboardInterrupt\u001B[0m                         Traceback (most recent call last)",
      "Cell \u001B[0;32mIn[27], line 4\u001B[0m\n\u001B[1;32m      1\u001B[0m \u001B[38;5;28mprint\u001B[39m(\u001B[38;5;124m'\u001B[39m\u001B[38;5;124mRunning GNN...\u001B[39m\u001B[38;5;124m'\u001B[39m)\n\u001B[1;32m      2\u001B[0m gnn_start \u001B[38;5;241m=\u001B[39m time()\n\u001B[0;32m----> 4\u001B[0m _, epoch, final_bitstring, best_bitstring \u001B[38;5;241m=\u001B[39m \u001B[43mrun_gnn_training\u001B[49m\u001B[43m(\u001B[49m\n\u001B[1;32m      5\u001B[0m \u001B[43m    \u001B[49m\u001B[43mq_torch\u001B[49m\u001B[43m,\u001B[49m\u001B[43m \u001B[49m\u001B[43mgraph_dgl\u001B[49m\u001B[43m,\u001B[49m\u001B[43m \u001B[49m\u001B[43mnet\u001B[49m\u001B[43m,\u001B[49m\u001B[43m \u001B[49m\u001B[43membed\u001B[49m\u001B[43m,\u001B[49m\u001B[43m \u001B[49m\u001B[43moptimizer\u001B[49m\u001B[43m,\u001B[49m\u001B[43m \u001B[49m\u001B[43mgnn_hypers\u001B[49m\u001B[43m[\u001B[49m\u001B[38;5;124;43m'\u001B[39;49m\u001B[38;5;124;43mnumber_epochs\u001B[39;49m\u001B[38;5;124;43m'\u001B[39;49m\u001B[43m]\u001B[49m\u001B[43m,\u001B[49m\n\u001B[1;32m      6\u001B[0m \u001B[43m    \u001B[49m\u001B[43mgnn_hypers\u001B[49m\u001B[43m[\u001B[49m\u001B[38;5;124;43m'\u001B[39;49m\u001B[38;5;124;43mtolerance\u001B[39;49m\u001B[38;5;124;43m'\u001B[39;49m\u001B[43m]\u001B[49m\u001B[43m,\u001B[49m\u001B[43m \u001B[49m\u001B[43mgnn_hypers\u001B[49m\u001B[43m[\u001B[49m\u001B[38;5;124;43m'\u001B[39;49m\u001B[38;5;124;43mpatience\u001B[39;49m\u001B[38;5;124;43m'\u001B[39;49m\u001B[43m]\u001B[49m\u001B[43m,\u001B[49m\u001B[43m \u001B[49m\u001B[43mgnn_hypers\u001B[49m\u001B[43m[\u001B[49m\u001B[38;5;124;43m'\u001B[39;49m\u001B[38;5;124;43mprob_threshold\u001B[39;49m\u001B[38;5;124;43m'\u001B[39;49m\u001B[43m]\u001B[49m\u001B[43m,\u001B[49m\u001B[43m \u001B[49m\u001B[43mHamiltonianLoss2\u001B[49m\u001B[43m)\u001B[49m\n\u001B[1;32m      8\u001B[0m calc \u001B[38;5;241m=\u001B[39m calculateMinCut(q_torch, best_bitstring)\n\u001B[1;32m      9\u001B[0m gnn_time \u001B[38;5;241m=\u001B[39m time() \u001B[38;5;241m-\u001B[39m gnn_start\n",
      "Cell \u001B[0;32mIn[25], line 24\u001B[0m, in \u001B[0;36mrun_gnn_training\u001B[0;34m(q_torch, dgl_graph, net, embed, optimizer, number_epochs, tol, patience, prob_threshold, loss_func)\u001B[0m\n\u001B[1;32m     21\u001B[0m probs \u001B[38;5;241m=\u001B[39m net(dgl_graph, inputs)[:, \u001B[38;5;241m0\u001B[39m]  \u001B[38;5;66;03m# collapse extra dimension output from model\u001B[39;00m\n\u001B[1;32m     23\u001B[0m \u001B[38;5;66;03m# build cost value with QUBO cost function\u001B[39;00m\n\u001B[0;32m---> 24\u001B[0m loss \u001B[38;5;241m=\u001B[39m \u001B[43mloss_func\u001B[49m(probs, q_torch)\n\u001B[1;32m     25\u001B[0m loss_ \u001B[38;5;241m=\u001B[39m loss\u001B[38;5;241m.\u001B[39mdetach()\u001B[38;5;241m.\u001B[39mitem()\n\u001B[1;32m     27\u001B[0m \u001B[38;5;66;03m# Apply projection\u001B[39;00m\n",
      "Cell \u001B[0;32mIn[25], line 24\u001B[0m, in \u001B[0;36mrun_gnn_training\u001B[0;34m(q_torch, dgl_graph, net, embed, optimizer, number_epochs, tol, patience, prob_threshold, loss_func)\u001B[0m\n\u001B[1;32m     21\u001B[0m probs \u001B[38;5;241m=\u001B[39m net(dgl_graph, inputs)[:, \u001B[38;5;241m0\u001B[39m]  \u001B[38;5;66;03m# collapse extra dimension output from model\u001B[39;00m\n\u001B[1;32m     23\u001B[0m \u001B[38;5;66;03m# build cost value with QUBO cost function\u001B[39;00m\n\u001B[0;32m---> 24\u001B[0m loss \u001B[38;5;241m=\u001B[39m \u001B[43mloss_func\u001B[49m(probs, q_torch)\n\u001B[1;32m     25\u001B[0m loss_ \u001B[38;5;241m=\u001B[39m loss\u001B[38;5;241m.\u001B[39mdetach()\u001B[38;5;241m.\u001B[39mitem()\n\u001B[1;32m     27\u001B[0m \u001B[38;5;66;03m# Apply projection\u001B[39;00m\n",
      "File \u001B[0;32m_pydevd_bundle/pydevd_cython_darwin_310_64.pyx:1179\u001B[0m, in \u001B[0;36m_pydevd_bundle.pydevd_cython_darwin_310_64.SafeCallWrapper.__call__\u001B[0;34m()\u001B[0m\n",
      "File \u001B[0;32m_pydevd_bundle/pydevd_cython_darwin_310_64.pyx:620\u001B[0m, in \u001B[0;36m_pydevd_bundle.pydevd_cython_darwin_310_64.PyDBFrame.trace_dispatch\u001B[0;34m()\u001B[0m\n",
      "File \u001B[0;32m_pydevd_bundle/pydevd_cython_darwin_310_64.pyx:1095\u001B[0m, in \u001B[0;36m_pydevd_bundle.pydevd_cython_darwin_310_64.PyDBFrame.trace_dispatch\u001B[0;34m()\u001B[0m\n",
      "File \u001B[0;32m_pydevd_bundle/pydevd_cython_darwin_310_64.pyx:1053\u001B[0m, in \u001B[0;36m_pydevd_bundle.pydevd_cython_darwin_310_64.PyDBFrame.trace_dispatch\u001B[0;34m()\u001B[0m\n",
      "File \u001B[0;32m/Applications/DataSpell.app/Contents/plugins/python-ce/helpers-pro/jupyter_debug/pydev_jupyter_plugin.py:169\u001B[0m, in \u001B[0;36mstop\u001B[0;34m(plugin, pydb, frame, event, args, stop_info, arg, step_cmd)\u001B[0m\n\u001B[1;32m    167\u001B[0m     frame \u001B[38;5;241m=\u001B[39m suspend_jupyter(main_debugger, thread, frame, step_cmd)\n\u001B[1;32m    168\u001B[0m     \u001B[38;5;28;01mif\u001B[39;00m frame:\n\u001B[0;32m--> 169\u001B[0m         \u001B[43mmain_debugger\u001B[49m\u001B[38;5;241;43m.\u001B[39;49m\u001B[43mdo_wait_suspend\u001B[49m\u001B[43m(\u001B[49m\u001B[43mthread\u001B[49m\u001B[43m,\u001B[49m\u001B[43m \u001B[49m\u001B[43mframe\u001B[49m\u001B[43m,\u001B[49m\u001B[43m \u001B[49m\u001B[43mevent\u001B[49m\u001B[43m,\u001B[49m\u001B[43m \u001B[49m\u001B[43marg\u001B[49m\u001B[43m)\u001B[49m\n\u001B[1;32m    170\u001B[0m         \u001B[38;5;28;01mreturn\u001B[39;00m \u001B[38;5;28;01mTrue\u001B[39;00m\n\u001B[1;32m    171\u001B[0m \u001B[38;5;28;01mreturn\u001B[39;00m \u001B[38;5;28;01mFalse\u001B[39;00m\n",
      "File \u001B[0;32m/Applications/DataSpell.app/Contents/plugins/python-ce/helpers/pydev/pydevd.py:1160\u001B[0m, in \u001B[0;36mPyDB.do_wait_suspend\u001B[0;34m(self, thread, frame, event, arg, send_suspend_message, is_unhandled_exception)\u001B[0m\n\u001B[1;32m   1157\u001B[0m         from_this_thread\u001B[38;5;241m.\u001B[39mappend(frame_id)\n\u001B[1;32m   1159\u001B[0m \u001B[38;5;28;01mwith\u001B[39;00m \u001B[38;5;28mself\u001B[39m\u001B[38;5;241m.\u001B[39m_threads_suspended_single_notification\u001B[38;5;241m.\u001B[39mnotify_thread_suspended(thread_id, stop_reason):\n\u001B[0;32m-> 1160\u001B[0m     \u001B[38;5;28;43mself\u001B[39;49m\u001B[38;5;241;43m.\u001B[39;49m\u001B[43m_do_wait_suspend\u001B[49m\u001B[43m(\u001B[49m\u001B[43mthread\u001B[49m\u001B[43m,\u001B[49m\u001B[43m \u001B[49m\u001B[43mframe\u001B[49m\u001B[43m,\u001B[49m\u001B[43m \u001B[49m\u001B[43mevent\u001B[49m\u001B[43m,\u001B[49m\u001B[43m \u001B[49m\u001B[43marg\u001B[49m\u001B[43m,\u001B[49m\u001B[43m \u001B[49m\u001B[43msuspend_type\u001B[49m\u001B[43m,\u001B[49m\u001B[43m \u001B[49m\u001B[43mfrom_this_thread\u001B[49m\u001B[43m)\u001B[49m\n",
      "File \u001B[0;32m/Applications/DataSpell.app/Contents/plugins/python-ce/helpers/pydev/pydevd.py:1175\u001B[0m, in \u001B[0;36mPyDB._do_wait_suspend\u001B[0;34m(self, thread, frame, event, arg, suspend_type, from_this_thread)\u001B[0m\n\u001B[1;32m   1172\u001B[0m             \u001B[38;5;28mself\u001B[39m\u001B[38;5;241m.\u001B[39m_call_mpl_hook()\n\u001B[1;32m   1174\u001B[0m         \u001B[38;5;28mself\u001B[39m\u001B[38;5;241m.\u001B[39mprocess_internal_commands()\n\u001B[0;32m-> 1175\u001B[0m         \u001B[43mtime\u001B[49m\u001B[38;5;241;43m.\u001B[39;49m\u001B[43msleep\u001B[49m\u001B[43m(\u001B[49m\u001B[38;5;241;43m0.01\u001B[39;49m\u001B[43m)\u001B[49m\n\u001B[1;32m   1177\u001B[0m \u001B[38;5;28mself\u001B[39m\u001B[38;5;241m.\u001B[39mcancel_async_evaluation(get_current_thread_id(thread), \u001B[38;5;28mstr\u001B[39m(\u001B[38;5;28mid\u001B[39m(frame)))\n\u001B[1;32m   1179\u001B[0m \u001B[38;5;66;03m# process any stepping instructions\u001B[39;00m\n",
      "\u001B[0;31mKeyboardInterrupt\u001B[0m: "
     ]
    }
   ],
   "source": [
    "print('Running GNN...')\n",
    "gnn_start = time()\n",
    "\n",
    "_, epoch, final_bitstring, best_bitstring = run_gnn_training(\n",
    "    q_torch, graph_dgl, net, embed, optimizer, gnn_hypers['number_epochs'],\n",
    "    gnn_hypers['tolerance'], gnn_hypers['patience'], gnn_hypers['prob_threshold'], HamiltonianLoss2)\n",
    "\n",
    "calc = calculateMinCut(q_torch, best_bitstring)\n",
    "gnn_time = time() - gnn_start\n",
    "final_bitstring, best_bitstring, calc/2, (q_torch * (1 - np.outer(best_bitstring, best_bitstring)) / 2).sum()"
   ],
   "metadata": {
    "collapsed": false,
    "pycharm": {
     "name": "#%%\n"
    }
   }
  },
  {
   "cell_type": "code",
   "execution_count": 561,
   "outputs": [
    {
     "name": "stdout",
     "output_type": "stream",
     "text": [
      "Final Cut LOSS:4.0 partition is:tensor([1, 1, 0, 0, 1])\n"
     ]
    }
   ],
   "source": [
    "final_bitstring, best_bitstring, calc/2, (q_torch * (1 - np.outer(best_bitstring, best_bitstring)) / 2).sum(), \\\n",
    "partition_weight(q_torch, best_bitstring), HamiltonianLoss2(best_bitstring, q_torch)\n",
    "\n",
    "print(\"Final Cut LOSS:\" + str(partition_weight(q_torch, best_bitstring).item()), \"partition is:\" + str(best_bitstring))"
   ],
   "metadata": {
    "collapsed": false,
    "pycharm": {
     "name": "#%%\n"
    }
   }
  },
  {
   "cell_type": "markdown",
   "source": [
    "# Training GCN on graph 1"
   ],
   "metadata": {
    "collapsed": false,
    "pycharm": {
     "name": "#%% md\n"
    }
   }
  },
  {
   "cell_type": "code",
   "execution_count": 556,
   "outputs": [],
   "source": [
    "edges = [(0,1, {\"weight\": 1, \"capacity\":1}),\n",
    "         (0,2, {\"weight\": 3, \"capacity\":3}),\n",
    "         (0,3, {\"weight\": 2, \"capacity\":2}),\n",
    "         (2,3, {\"weight\": 1, \"capacity\":1})]\n",
    "graph = CreateDummyFunction(edges)\n",
    "graph_dgl = dgl.from_networkx(nx_graph=graph)\n",
    "graph_dgl = graph_dgl.to(TORCH_DEVICE)\n",
    "q_torch = qubo_dict_to_torch(graph, gen_adj_matrix(graph), torch_dtype=TORCH_DTYPE, torch_device=TORCH_DEVICE)\n",
    "\n",
    "n, d, p, graph_type, number_epochs, learning_rate, PROB_THRESHOLD, tol, patience, dim_embedding, hidden_dim = hyperParameters(n=4,patience=10000)\n",
    "# Establish pytorch GNN + optimizer\n",
    "opt_params = {'lr': learning_rate}\n",
    "gnn_hypers = {\n",
    "    'dim_embedding': dim_embedding,\n",
    "    'hidden_dim': hidden_dim,\n",
    "    'dropout': 0.0,\n",
    "    'number_classes': 1,\n",
    "    'prob_threshold': PROB_THRESHOLD,\n",
    "    'number_epochs': number_epochs,\n",
    "    'tolerance': tol,\n",
    "    'patience': patience\n",
    "}\n",
    "\n",
    "net, embed, optimizer = get_gnn(n, gnn_hypers, opt_params, TORCH_DEVICE, TORCH_DTYPE)\n",
    "\n",
    "# For tracking hyperparameters in results object\n",
    "gnn_hypers.update(opt_params)"
   ],
   "metadata": {
    "collapsed": false,
    "pycharm": {
     "name": "#%%\n"
    }
   }
  },
  {
   "cell_type": "code",
   "execution_count": 557,
   "outputs": [
    {
     "name": "stdout",
     "output_type": "stream",
     "text": [
      "Running GNN...\n",
      "Epoch: 0, Loss: 5.331417560577393\n",
      "tensor([0.5000, 0.4798, 0.4857, 0.4857], grad_fn=<SelectBackward0>) tensor([[0., 1., 3., 2.],\n",
      "        [1., 0., 0., 0.],\n",
      "        [3., 0., 0., 1.],\n",
      "        [2., 0., 1., 0.]])\n",
      "Epoch: 1000, Loss: 5.170248031616211\n",
      "tensor([0.5171, 0.5171, 0.5171, 0.5171], grad_fn=<SelectBackward0>) tensor([[0., 1., 3., 2.],\n",
      "        [1., 0., 0., 0.],\n",
      "        [3., 0., 0., 1.],\n",
      "        [2., 0., 1., 0.]])\n",
      "Epoch: 2000, Loss: 5.160765647888184\n",
      "tensor([0.5244, 0.5244, 0.5244, 0.5244], grad_fn=<SelectBackward0>) tensor([[0., 1., 3., 2.],\n",
      "        [1., 0., 0., 0.],\n",
      "        [3., 0., 0., 1.],\n",
      "        [2., 0., 1., 0.]])\n",
      "Epoch: 3000, Loss: 5.160584449768066\n",
      "tensor([0.5255, 0.5255, 0.5255, 0.5255], grad_fn=<SelectBackward0>) tensor([[0., 1., 3., 2.],\n",
      "        [1., 0., 0., 0.],\n",
      "        [3., 0., 0., 1.],\n",
      "        [2., 0., 1., 0.]])\n",
      "Epoch: 4000, Loss: 5.16058349609375\n",
      "tensor([0.5255, 0.5255, 0.5255, 0.5255], grad_fn=<SelectBackward0>) tensor([[0., 1., 3., 2.],\n",
      "        [1., 0., 0., 0.],\n",
      "        [3., 0., 0., 1.],\n",
      "        [2., 0., 1., 0.]])\n",
      "Epoch: 5000, Loss: 5.160583972930908\n",
      "tensor([0.5255, 0.5255, 0.5255, 0.5255], grad_fn=<SelectBackward0>) tensor([[0., 1., 3., 2.],\n",
      "        [1., 0., 0., 0.],\n",
      "        [3., 0., 0., 1.],\n",
      "        [2., 0., 1., 0.]])\n",
      "Epoch: 6000, Loss: 5.16058349609375\n",
      "tensor([0.5255, 0.5255, 0.5255, 0.5255], grad_fn=<SelectBackward0>) tensor([[0., 1., 3., 2.],\n",
      "        [1., 0., 0., 0.],\n",
      "        [3., 0., 0., 1.],\n",
      "        [2., 0., 1., 0.]])\n",
      "Epoch: 7000, Loss: 5.16058349609375\n",
      "tensor([0.5255, 0.5255, 0.5255, 0.5255], grad_fn=<SelectBackward0>) tensor([[0., 1., 3., 2.],\n",
      "        [1., 0., 0., 0.],\n",
      "        [3., 0., 0., 1.],\n",
      "        [2., 0., 1., 0.]])\n",
      "Epoch: 8000, Loss: 5.16058349609375\n",
      "tensor([0.5255, 0.5255, 0.5255, 0.5255], grad_fn=<SelectBackward0>) tensor([[0., 1., 3., 2.],\n",
      "        [1., 0., 0., 0.],\n",
      "        [3., 0., 0., 1.],\n",
      "        [2., 0., 1., 0.]])\n",
      "Epoch: 9000, Loss: 5.16058349609375\n",
      "tensor([0.5255, 0.5255, 0.5255, 0.5255], grad_fn=<SelectBackward0>) tensor([[0., 1., 3., 2.],\n",
      "        [1., 0., 0., 0.],\n",
      "        [3., 0., 0., 1.],\n",
      "        [2., 0., 1., 0.]])\n",
      "Epoch: 10000, Loss: 5.16058349609375\n",
      "tensor([0.5255, 0.5255, 0.5255, 0.5255], grad_fn=<SelectBackward0>) tensor([[0., 1., 3., 2.],\n",
      "        [1., 0., 0., 0.],\n",
      "        [3., 0., 0., 1.],\n",
      "        [2., 0., 1., 0.]])\n",
      "Stopping early on epoch 10366 (patience: 10000)\n",
      "GNN training (n=4) took 11.969\n",
      "GNN final continuous loss: 5.16058349609375\n",
      "GNN best continuous loss: 5.228957653045654\n"
     ]
    },
    {
     "data": {
      "text/plain": "(tensor([1, 1, 1, 1]),\n tensor([1, 0, 1, 1]),\n tensor(1.),\n tensor(1., dtype=torch.float64))"
     },
     "execution_count": 557,
     "metadata": {},
     "output_type": "execute_result"
    }
   ],
   "source": [
    "print('Running GNN...')\n",
    "gnn_start = time()\n",
    "\n",
    "_, epoch, final_bitstring, best_bitstring = run_gnn_training(\n",
    "    q_torch, graph_dgl, net, embed, optimizer, gnn_hypers['number_epochs'],\n",
    "    gnn_hypers['tolerance'], gnn_hypers['patience'], gnn_hypers['prob_threshold'], HamiltonianLoss2)\n",
    "\n",
    "calc = calculateMinCut(q_torch, best_bitstring)\n",
    "gnn_time = time() - gnn_start\n",
    "final_bitstring, best_bitstring, calc/2, (q_torch * (1 - np.outer(best_bitstring, best_bitstring)) / 2).sum()"
   ],
   "metadata": {
    "collapsed": false,
    "pycharm": {
     "name": "#%%\n"
    }
   }
  },
  {
   "cell_type": "code",
   "execution_count": 558,
   "outputs": [
    {
     "name": "stdout",
     "output_type": "stream",
     "text": [
      "Final Cut LOSS:1.0 partition is:tensor([1, 0, 1, 1])\n"
     ]
    }
   ],
   "source": [
    "final_bitstring, best_bitstring, calc/2, (q_torch * (1 - np.outer(best_bitstring, best_bitstring)) / 2).sum(), \\\n",
    "partition_weight(q_torch, best_bitstring), HamiltonianLoss2(best_bitstring, q_torch)\n",
    "\n",
    "print(\"Final Cut LOSS:\" + str(partition_weight(q_torch, best_bitstring).item()), \"partition is:\" + str(best_bitstring))"
   ],
   "metadata": {
    "collapsed": false,
    "pycharm": {
     "name": "#%%\n"
    }
   }
  }
 ],
 "metadata": {
  "kernelspec": {
   "display_name": "Python 3",
   "language": "python",
   "name": "python3"
  },
  "language_info": {
   "codemirror_mode": {
    "name": "ipython",
    "version": 2
   },
   "file_extension": ".py",
   "mimetype": "text/x-python",
   "name": "python",
   "nbconvert_exporter": "python",
   "pygments_lexer": "ipython2",
   "version": "2.7.6"
  }
 },
 "nbformat": 4,
 "nbformat_minor": 0
}