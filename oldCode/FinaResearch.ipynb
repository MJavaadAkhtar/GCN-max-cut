{
 "cells": [
  {
   "cell_type": "code",
   "execution_count": 37,
   "outputs": [],
   "source": [
    "import torch\n",
    "\n",
    "from GraphCreator import *\n",
    "from networkx.algorithms.flow.mincost import max_flow_min_cost"
   ],
   "metadata": {
    "collapsed": false,
    "pycharm": {
     "name": "#%%\n"
    }
   }
  },
  {
   "cell_type": "code",
   "execution_count": 38,
   "outputs": [],
   "source": [
    "class GCN_dev(nn.Module):\n",
    "    def __init__(self, in_feats, hidden_size, number_classes, dropout, device):\n",
    "        \"\"\"\n",
    "        Initialize a new instance of the core GCN model of provided size.\n",
    "        Dropout is added in forward step.\n",
    "\n",
    "        Inputs:\n",
    "            in_feats: Dimension of the input (embedding) layer\n",
    "            hidden_size: Hidden layer size\n",
    "            dropout: Fraction of dropout to add between intermediate layer. Value is cached for later use.\n",
    "            device: Specifies device (CPU vs GPU) to load variables onto\n",
    "        \"\"\"\n",
    "        super(GCN_dev, self).__init__()\n",
    "\n",
    "        self.dropout_frac = dropout\n",
    "        self.conv1 = GraphConv(in_feats, hidden_size).to(device)\n",
    "        self.conv2 = GraphConv(hidden_size, number_classes).to(device)\n",
    "\n",
    "    def forward(self, g, inputs):\n",
    "        \"\"\"\n",
    "        Run forward propagation step of instantiated model.\n",
    "\n",
    "        Input:\n",
    "            self: GCN_dev instance\n",
    "            g: DGL graph object, i.e. problem definition\n",
    "            inputs: Input (embedding) layer weights, to be propagated through network\n",
    "        Output:\n",
    "            h: Output layer weights\n",
    "        \"\"\"\n",
    "\n",
    "        # input step\n",
    "        h = self.conv1(g, inputs)\n",
    "        h = torch.relu(h)\n",
    "        h = F.dropout(h, p=self.dropout_frac)\n",
    "\n",
    "        # output step\n",
    "        h = self.conv2(g, h)\n",
    "        h = torch.sigmoid(h)\n",
    "\n",
    "        return h"
   ],
   "metadata": {
    "collapsed": false,
    "pycharm": {
     "name": "#%%\n"
    }
   }
  },
  {
   "cell_type": "code",
   "execution_count": 39,
   "outputs": [],
   "source": [
    "def qubo_dict_to_torch(nx_G, Q, torch_dtype=None, torch_device=None):\n",
    "    \"\"\"\n",
    "    Output Q matrix as torch tensor for given Q in dictionary format.\n",
    "\n",
    "    Input:\n",
    "        Q: QUBO matrix as defaultdict\n",
    "        nx_G: graph as networkx object (needed for node lables can vary 0,1,... vs 1,2,... vs a,b,...)\n",
    "    Output:\n",
    "        Q: QUBO as torch tensor\n",
    "    \"\"\"\n",
    "\n",
    "    # get number of nodes\n",
    "    n_nodes = len(nx_G.nodes)\n",
    "\n",
    "    # get QUBO Q as torch tensor\n",
    "    Q_mat = torch.zeros(n_nodes, n_nodes)\n",
    "    for (x_coord, y_coord), val in Q.items():\n",
    "        Q_mat[x_coord][y_coord] = val\n",
    "\n",
    "    if torch_dtype is not None:\n",
    "        Q_mat = Q_mat.type(torch_dtype)\n",
    "\n",
    "    if torch_device is not None:\n",
    "        Q_mat = Q_mat.to(torch_device)\n",
    "\n",
    "    return Q_mat\n",
    "\n",
    "def get_gnn(n_nodes, gnn_hypers, opt_params, torch_device, torch_dtype):\n",
    "    \"\"\"\n",
    "    Generate GNN instance with specified structure. Creates GNN, retrieves embedding layer,\n",
    "    and instantiates ADAM optimizer given those.\n",
    "\n",
    "    Input:\n",
    "        n_nodes: Problem size (number of nodes in graph)\n",
    "        gnn_hypers: Hyperparameters relevant to GNN structure\n",
    "        opt_params: Hyperparameters relevant to ADAM optimizer\n",
    "        torch_device: Whether to load pytorch variables onto CPU or GPU\n",
    "        torch_dtype: Datatype to use for pytorch variables\n",
    "    Output:\n",
    "        net: GNN instance\n",
    "        embed: Embedding layer to use as input to GNN\n",
    "        optimizer: ADAM optimizer instance\n",
    "    \"\"\"\n",
    "    dim_embedding = gnn_hypers['dim_embedding']\n",
    "    hidden_dim = gnn_hypers['hidden_dim']\n",
    "    dropout = gnn_hypers['dropout']\n",
    "    number_classes = gnn_hypers['number_classes']\n",
    "\n",
    "    # instantiate the GNN\n",
    "    net = GCN_dev(dim_embedding, hidden_dim, number_classes, dropout, torch_device)\n",
    "    net = net.type(torch_dtype).to(torch_device)\n",
    "    embed = nn.Embedding(n_nodes, dim_embedding)\n",
    "    embed = embed.type(torch_dtype).to(torch_device)\n",
    "\n",
    "    # set up Adam optimizer\n",
    "    params = chain(net.parameters(), embed.parameters())\n",
    "    optimizer = torch.optim.Adam(params, **opt_params)\n",
    "    return net, embed, optimizer\n"
   ],
   "metadata": {
    "collapsed": false,
    "pycharm": {
     "name": "#%%\n"
    }
   }
  },
  {
   "cell_type": "code",
   "execution_count": 40,
   "outputs": [],
   "source": [
    "def gen_adj_matrix(nx_G):\n",
    "    adj_dict = defaultdict(int)\n",
    "\n",
    "    for(u,v) in nx_G.edges:\n",
    "        adj_dict[(u, v)] = nx_G[u][v]['weight'] + (nx_G[u][v]['weight'] - 1000)\n",
    "        adj_dict[(v, u)] = nx_G[u][v]['weight'] + (nx_G[u][v]['weight'] - 1000)\n",
    "        #print(u,v, nx_G[u][v]['weight'])\n",
    "    # adj_dict[(0,0)] = 14\n",
    "    # adj_dict[(4,4)] = 14\n",
    "    print(\"----\")\n",
    "    for u in nx_G.nodes:\n",
    "        #print(u)\n",
    "        for i in nx_G.nodes:\n",
    "            if not adj_dict[(u, i)]:\n",
    "                adj_dict[(u, i)] = 0\n",
    "        adj_dict[(0,0)] = 10000\n",
    "    #print(adj_dict)\n",
    "    return adj_dict\n",
    "\n",
    "\n",
    "def gen_adj_matrix2(nx_G):\n",
    "    adj_dict = defaultdict(int)\n",
    "\n",
    "    for(u,v) in nx_G.edges:\n",
    "        adj_dict[(u, v)] = nx_G[u][v]['weight']\n",
    "        adj_dict[(v, u)] = nx_G[u][v]['weight']\n",
    "        #print(u,v, nx_G[u][v]['weight'])\n",
    "    # adj_dict[(0,0)] = 14\n",
    "    # adj_dict[(4,4)] = 14\n",
    "    #print(\"----\")\n",
    "    for u in nx_G.nodes:\n",
    "        #print(u)\n",
    "        for i in nx_G.nodes:\n",
    "            if not adj_dict[(u, i)]:\n",
    "                adj_dict[(u, i)] = 0\n",
    "\n",
    "    #print(adj_dict)\n",
    "    return adj_dict\n",
    "\n",
    "def dummy_adj_matrix():\n",
    "    adj_dict = defaultdict(int)\n",
    "    for (u,v) in range(12):\n",
    "        adj_dict[(u,u)] = -25\n",
    "\n",
    "    for u in range(12):\n",
    "        #print(u)\n",
    "        for i in nx_G.nodes:\n",
    "            if not adj_dict[(u, i)]:\n",
    "                adj_dict[(u, i)] = 0\n",
    "\n",
    "    adj_dict[(0,1)] = 50\n",
    "    adj_dict[(0,3)] = 1\n",
    "    adj_dict[(0,5)] = 2\n",
    "    adj_dict[(0,9)] = 5\n",
    "    adj_dict[(1,2)] = 1\n",
    "    adj_dict[(0,4)] = 2\n",
    "    adj_dict[(2,7)] = 2\n",
    "    adj_dict[(3,6)] = 2\n",
    "    adj_dict[(4,7)] = 2\n",
    "    adj_dict[(4,11)] = 4\n",
    "    adj_dict[(4,5)] = 50\n",
    "    adj_dict[(5,6)] = 2\n",
    "    adj_dict[(5,10)] = 4\n",
    "    adj_dict[(6,7)] = 50\n",
    "    adj_dict[(8,9)] = 50\n",
    "    adj_dict[(9,11)] = 50"
   ],
   "metadata": {
    "collapsed": false,
    "pycharm": {
     "name": "#%%\n"
    }
   }
  },
  {
   "cell_type": "code",
   "execution_count": 50,
   "outputs": [],
   "source": [
    "def DrawGraph(graph):\n",
    "    pos = nx.spring_layout(graph,seed=1)\n",
    "\n",
    "    # Visualize graph\n",
    "    options = {\n",
    "        \"font_size\": 16,\n",
    "        \"node_size\": 800,\n",
    "        \"node_color\": \"white\",\n",
    "        \"edgecolors\": \"black\",\n",
    "        \"linewidths\": 5,\n",
    "        \"width\": 5,\n",
    "    }\n",
    "    nx.draw(graph, pos, with_labels=True, **options)\n",
    "\n",
    "    labels = nx.get_edge_attributes(graph,'weight')\n",
    "    nx.draw_networkx_edge_labels(graph,pos,edge_labels=labels)\n",
    "\n",
    "def CreateGraph(n):\n",
    "    # Create a new graph\n",
    "    G = nx.Graph()\n",
    "\n",
    "    # Add 100 nodes\n",
    "    G.add_nodes_from(range(n))\n",
    "\n",
    "    # Add random edges with weights\n",
    "    for i in range(n):\n",
    "        for j in range(i + 1, n):\n",
    "            if random.random() < 0.5:  # 50% chance to create an edge\n",
    "                weight = random.randint(1, 10)\n",
    "                G.add_edge(i, j, weight=weight, capacity=weight)\n",
    "\n",
    "    # Example: Print the number of edges and some sample edges\n",
    "    print(\"Number of edges:\", G.number_of_edges())\n",
    "    print(\"Sample edges:\", list(G.edges(data=True))[:5])\n",
    "\n",
    "    return G\n",
    "\n",
    "\n",
    "def CreateDummyFunction2():\n",
    "    test_graph = nx.Graph()\n",
    "    test_graph.add_edges_from([(0,1, {\"weight\": 1, \"capacity\":1}),\n",
    "                               (0,2, {\"weight\": 2, \"capacity\":2}),\n",
    "                               (1,3, {\"weight\": 2, \"capacity\":2}),\n",
    "                               (2,3, {\"weight\": 2, \"capacity\":2}),\n",
    "                               (0,4, {\"weight\": 5, \"capacity\":5}),\n",
    "                               (2,5, {\"weight\": 4, \"capacity\":4})])\n",
    "    test_graph.order()\n",
    "    return test_graph"
   ],
   "metadata": {
    "collapsed": false,
    "pycharm": {
     "name": "#%%\n"
    }
   }
  },
  {
   "cell_type": "code",
   "execution_count": 51,
   "outputs": [
    {
     "data": {
      "text/plain": "{(0, 1): Text(-0.2949131773551814, 0.39770516375132586, '1'),\n (0, 2): Text(0.19646508366189666, 0.030908853372191097, '2'),\n (0, 4): Text(0.36828216091209254, 0.7488301553667935, '5'),\n (1, 3): Text(-0.7242153353947222, -0.04504991624003854, '2'),\n (2, 3): Text(-0.23283707437764412, -0.4118462266191733, '2'),\n (2, 5): Text(0.3559331744826297, -0.7037802391267547, '4')}"
     },
     "execution_count": 51,
     "metadata": {},
     "output_type": "execute_result"
    },
    {
     "data": {
      "text/plain": "<Figure size 640x480 with 1 Axes>",
      "image/png": "[encoded data removed]"
     },
     "metadata": {},
     "output_type": "display_data"
    }
   ],
   "source": [
    "test_graph = CreateDummyFunction2()\n",
    "pos = nx.spring_layout(test_graph,seed=1)\n",
    "\n",
    "# Visualize graph\n",
    "options = {\n",
    "    \"font_size\": 16,\n",
    "    \"node_size\": 800,\n",
    "    \"node_color\": \"white\",\n",
    "    \"edgecolors\": \"black\",\n",
    "    \"linewidths\": 5,\n",
    "    \"width\": 5,\n",
    "}\n",
    "nx.draw(test_graph, pos, with_labels=True, **options)\n",
    "\n",
    "labels = nx.get_edge_attributes(test_graph,'weight')\n",
    "nx.draw_networkx_edge_labels(test_graph,pos,edge_labels=labels)"
   ],
   "metadata": {
    "collapsed": false,
    "pycharm": {
     "name": "#%%\n"
    }
   }
  },
  {
   "cell_type": "code",
   "execution_count": 52,
   "outputs": [
    {
     "data": {
      "text/plain": "(19, 3, ({0, 4}, {1, 2, 3, 5}))"
     },
     "execution_count": 52,
     "metadata": {},
     "output_type": "execute_result"
    }
   ],
   "source": [
    "def ensure_finite_capacity(graph, default_capacity=0):\n",
    "    \"\"\"\n",
    "    Ensure all edges in the graph have a finite capacity.\n",
    "    If an edge does not have a capacity, set it to a default value.\n",
    "\n",
    "    :param graph: NetworkX graph\n",
    "    :param default_capacity: The default capacity to set for edges without a defined capacity\n",
    "    \"\"\"\n",
    "    for u, v in graph.edges():\n",
    "        if 'capacity' not in graph[u][v] or graph[u][v]['capacity'] is None or graph[u][v]['capacity'] == float('inf'):\n",
    "            graph[u][v]['capacity'] = default_capacity\n",
    "\n",
    "# Example usage:\n",
    "# test_graph = nx.Graph()  # or any other graph\n",
    "# Add edges to test_graph as needed\n",
    "# Ensure finite capacity for all edges\n",
    "ensure_finite_capacity(test_graph)\n",
    "\n",
    "cut_value, partition = nx.minimum_cut(test_graph, 4, 5)\n",
    "\n",
    "mincostFlow = nx.max_flow_min_cost(test_graph, 4, 5)\n",
    "mincost = nx.cost_of_flow(test_graph, mincostFlow)\n",
    "mincost, cut_value, partition"
   ],
   "metadata": {
    "collapsed": false,
    "pycharm": {
     "name": "#%%\n"
    }
   }
  },
  {
   "cell_type": "code",
   "execution_count": 53,
   "outputs": [],
   "source": [
    "graph_dgl = dgl.from_networkx(nx_graph=test_graph)\n",
    "graph_dgl = graph_dgl.to(TORCH_DEVICE)\n",
    "\n",
    "# Construct Q matrix for graph\n",
    "q_torch = qubo_dict_to_torch(test_graph, gen_adj_matrix2(test_graph), torch_dtype=TORCH_DTYPE, torch_device=TORCH_DEVICE)"
   ],
   "metadata": {
    "collapsed": false,
    "pycharm": {
     "name": "#%%\n"
    }
   }
  },
  {
   "cell_type": "code",
   "execution_count": 54,
   "outputs": [],
   "source": [
    "n = 5\n",
    "d = 3\n",
    "p = None\n",
    "graph_type = 'reg'\n",
    "\n",
    "# NN learning hypers #\n",
    "number_epochs = int(1e5)\n",
    "learning_rate = 1e-4\n",
    "PROB_THRESHOLD = 0.5\n",
    "\n",
    "# Early stopping to allow NN to train to near-completion\n",
    "tol = 1e-4          # loss must change by more than tol, or trigger\n",
    "patience = 100    # number early stopping triggers before breaking loop\n",
    "\n",
    "# Problem size (e.g. graph size)\n",
    "n = 5\n",
    "\n",
    "# Establish dim_embedding and hidden_dim values\n",
    "dim_embedding = int(np.sqrt(n))    # e.g. 10\n",
    "hidden_dim = int(dim_embedding/2)  # e.g. 5"
   ],
   "metadata": {
    "collapsed": false,
    "pycharm": {
     "name": "#%%\n"
    }
   }
  },
  {
   "cell_type": "code",
   "execution_count": 55,
   "outputs": [],
   "source": [
    "# Establish pytorch GNN + optimizer\n",
    "opt_params = {'lr': learning_rate}\n",
    "gnn_hypers = {\n",
    "    'dim_embedding': dim_embedding,\n",
    "    'hidden_dim': hidden_dim,\n",
    "    'dropout': 0.0,\n",
    "    'number_classes': 1,\n",
    "    'prob_threshold': PROB_THRESHOLD,\n",
    "    'number_epochs': number_epochs,\n",
    "    'tolerance': tol,\n",
    "    'patience': patience\n",
    "}\n",
    "\n",
    "net, embed, optimizer = get_gnn(n, gnn_hypers, opt_params, TORCH_DEVICE, TORCH_DTYPE)\n",
    "\n",
    "# For tracking hyperparameters in results object\n",
    "gnn_hypers.update(opt_params)"
   ],
   "metadata": {
    "collapsed": false,
    "pycharm": {
     "name": "#%%\n"
    }
   }
  },
  {
   "cell_type": "code",
   "execution_count": 56,
   "outputs": [],
   "source": [
    "def loss_function_halo(output, graph, K = 2):\n",
    "    # output.core_assignments: Tensor of shape [num_vertices, K]\n",
    "    # output.halo_assignments: Tensor of shape [num_vertices, K]\n",
    "    # output.auxiliary_variables: Dictionary with keys as edges (u, v) and values as tensors of shape [K]\n",
    "    # graph: 2x2 Tensor representing the adjacency matrix of the graph\n",
    "    # K: number of partitions\n",
    "\n",
    "    # Initialize components of the Hamiltonian\n",
    "    H_A = torch.tensor(0.0)\n",
    "    H_B = torch.tensor(0.0)\n",
    "    H_C = torch.tensor(0.0)\n",
    "\n",
    "    # Compute H_A term\n",
    "    for v in range(graph.size(0)):\n",
    "        # sum_c_vk = torch.sum(output.core_assignments[v])\n",
    "        sum_c_vk = torch.sum(output['core_assignments'][v])\n",
    "        H_A += (sum_c_vk - 1) ** 2\n",
    "\n",
    "    # Compute H_B term\n",
    "    for v in range(graph.size(0)):\n",
    "        for i in range(K):\n",
    "            h_vi = output.halo_assignments[v, i]\n",
    "            c_vi = output.core_assignments[v, i]\n",
    "            for u in range(graph.size(1)):\n",
    "                if graph[v, u] == 1 and u != v:  # Check if u is a neighbor of v\n",
    "                    z_uv_i = output.auxiliary_variables[(u, v)][i]\n",
    "                    H_B += (h_vi - c_vi - z_uv_i) ** 2\n",
    "\n",
    "    # Compute H_C term\n",
    "    for i in range(K):\n",
    "        sum_h_vi = torch.sum(output.halo_assignments[:, i])\n",
    "        H_C += sum_h_vi ** 2\n",
    "\n",
    "    # Combine the terms to get the overall Hamiltonian (loss)\n",
    "    H = H_A + H_B + H_C\n",
    "\n",
    "    return H"
   ],
   "metadata": {
    "collapsed": false,
    "pycharm": {
     "name": "#%%\n"
    }
   }
  },
  {
   "cell_type": "code",
   "execution_count": 57,
   "outputs": [],
   "source": [
    "# contains no penalty\n",
    "def calculate_hamiltonian(probabilities,adj_matrix, A = 1, B = 1, C = 1):\n",
    "    # Number of vertices\n",
    "\n",
    "\n",
    "\n",
    "    # Ensure probabilities is a row vector\n",
    "    probabilities = probabilities.view(1, -1)\n",
    "\n",
    "    # Use probabilities directly for core and halo assignments\n",
    "    core_a = probabilities  # Probabilities of being in partition A\n",
    "    core_b = 1 - probabilities  # Probabilities of being in partition B\n",
    "\n",
    "    # Calculate H_A as the sum of squared deviations from 1\n",
    "    H_A = torch.sum((core_a + core_b - 1) ** 2)\n",
    "\n",
    "    # Calculate H_B using probabilistic assignments\n",
    "    expected_connections = torch.matmul(core_a.T, core_b) + torch.matmul(core_b.T, core_a)\n",
    "    discrepancy_matrix = adj_matrix - expected_connections\n",
    "    H_B = torch.sum(discrepancy_matrix ** 2)\n",
    "\n",
    "    # Calculate H_C as the sum of squared probabilities in each partition's halo\n",
    "    H_C = torch.sum(core_b) ** 2 + torch.sum(core_a) ** 2\n",
    "\n",
    "\n",
    "    # Total Hamiltonian\n",
    "    H = (A * H_A + B * H_B + C * H_C)**2\n",
    "\n",
    "    return H\n",
    "\n",
    "# contains penality if terminals are in the same set\n",
    "def calculate_hamiltonian2(probabilities, adj_matrix, terminal_a = 0, terminal_b = 4,A=1, B=1, C=1):\n",
    "    # Number of vertices\n",
    "    num_vertices = adj_matrix.shape[0]\n",
    "\n",
    "    terminal_loss = torch.abs(probabilities[terminal_a] - probabilities[terminal_b]) # new\n",
    "    loss = 1000 * (1 - terminal_loss) #new\n",
    "\n",
    "\n",
    "    # Ensure probabilities is a row vector\n",
    "    probabilities = probabilities.view(1, -1)\n",
    "\n",
    "    # Use probabilities directly for core and halo assignments\n",
    "    core_a = probabilities  # Probabilities of being in partition A\n",
    "    core_b = 1 - probabilities  # Probabilities of being in partition B\n",
    "\n",
    "    # Calculate H_A as the sum of squared deviations from 1\n",
    "    H_A = torch.sum((core_a + core_b - 1) ** 2)\n",
    "\n",
    "    # Calculate H_B using probabilistic assignments\n",
    "    expected_connections = torch.matmul(core_a.T, core_b) + torch.matmul(core_b.T, core_a)\n",
    "    discrepancy_matrix = adj_matrix - expected_connections\n",
    "    H_B = torch.sum(discrepancy_matrix ** 2)\n",
    "\n",
    "    # Calculate H_C as the sum of squared probabilities in each partition's halo\n",
    "    H_C = torch.sum(core_b) ** 2 + torch.sum(core_a) ** 2\n",
    "\n",
    "\n",
    "    # Total Hamiltonian\n",
    "    H = A * H_A + B * H_B + C * H_C + loss\n",
    "\n",
    "    return H\n",
    "\n",
    "def min_cut_loss2(output, adj_matrix,  terminal_a = 0, terminal_b = 4, penalty=1000):\n",
    "    #output = ((output.detach() >= 0.5)*1).float().requires_grad_(True)\n",
    "    # Calculate the probability of nodes being in different sets\n",
    "    prob_diff = (output.unsqueeze(1) - output.unsqueeze(0))\n",
    "    prob_diff = torch.abs(prob_diff)\n",
    "\n",
    "    # Calculate the weighted edges between different sets\n",
    "    edge_weights_diff = prob_diff * adj_matrix\n",
    "\n",
    "    # Sum the weights for minimization\n",
    "    loss = edge_weights_diff.sum()\n",
    "\n",
    "    # Add penalty if terminals are in the same subset\n",
    "    terminal_loss = torch.abs(output[terminal_a] - output[terminal_b])\n",
    "    loss += penalty * (1 - terminal_loss)\n",
    "\n",
    "    return loss\n",
    "\n",
    "def min_cut_loss3(output, adj_matrix, terminal_a = 0, terminal_b = 4, penalty=1000):\n",
    "    loss = 0\n",
    "    i = 0\n",
    "    # for u in nx_G.nodes:\n",
    "    #     for i in nx_G.nodes:\n",
    "    #         loss += torch.where((output[i] > 0.5 and output[u] < 0.5) or (output[i] < 0.5 and output[u] > 0.5), adj_matrix[(u,i)], 0)\n",
    "    output = torch.where((output >= 0.5), 1, 0)\n",
    "\n",
    "    #output = th.tensor(output, requires_grad = True)\n",
    "    i = 0\n",
    "    j = 0\n",
    "    for i in range(len(adj_matrix)):\n",
    "        for j in range(len(adj_matrix)):\n",
    "            loss += torch.where((output[i] > 0.5 and output[j] < 0.5) or (output[i] < 0.5 and output[j] > 0.5), adj_matrix[i][j], 0)\n",
    "\n",
    "    # Add penalty if terminals are in the same subset\n",
    "    terminal_loss = torch.abs(output[terminal_a] - output[terminal_b])\n",
    "    loss += (penalty * (1 - terminal_loss))\n",
    "\n",
    "    return loss"
   ],
   "metadata": {
    "collapsed": false,
    "pycharm": {
     "name": "#%%\n"
    }
   }
  },
  {
   "cell_type": "code",
   "execution_count": 58,
   "outputs": [],
   "source": [
    "def run_gnn_training(q_torch, dgl_graph, net, embed, optimizer, number_epochs, tol, patience, prob_threshold, loss_func, terminal1 = 0, terminal2 = 4):\n",
    "    \"\"\"\n",
    "    Wrapper function to run and monitor GNN training. Includes early stopping.\n",
    "    \"\"\"\n",
    "    # Assign variable for user reference\n",
    "    inputs = embed.weight\n",
    "\n",
    "    #print(\"input\", inputs.data.fill_(1))\n",
    "\n",
    "    prev_loss = 100.  # initial loss value (arbitrary)\n",
    "    count = 0       # track number times early stopping is triggered\n",
    "\n",
    "    # initialize optimal solution\n",
    "    best_bitstring = torch.zeros((dgl_graph.number_of_nodes(),)).type(q_torch.dtype).to(q_torch.device)\n",
    "    # best_loss = loss_func(best_bitstring.float(), q_torch)\n",
    "    #best_loss = loss_func(best_bitstring.float(), q_torch)\n",
    "    best_loss = float(\"Inf\")\n",
    "    #best_loss = 0\n",
    "    t_gnn_start = time()\n",
    "\n",
    "    # Training logic\n",
    "    for epoch in range(number_epochs):\n",
    "\n",
    "        # get logits/activations\n",
    "        torch.autograd.set_detect_anomaly(True)\n",
    "        probs = net(dgl_graph, inputs)[:, 0]  # collapse extra dimension output from model\n",
    "        #probs = torch.unsqueeze(probs, 1)\n",
    "\n",
    "        # print(\"this is probs\" , probs)\n",
    "        # print(\"this is probs[0]\" , probs[0])\n",
    "        #probs[0] = th.tensor(0.25, requires_grad = True)\n",
    "        #probs[-1] = th.tensor(0.75, requires_grad = True)\n",
    "\n",
    "        #probs.squeeze()\n",
    "        # print(\"this is after probs[0]\" , probs[0])\n",
    "        #print(\"this is after probs\" , probs)\n",
    "        # probs.retain_grad()\n",
    "        #print(\"this is after retains probs\" , probs)\n",
    "        #print(\"printing probs\", probs[0])\n",
    "        # build cost value with QUBO cost function\n",
    "        #loss = loss_func(probs, q_torch)\n",
    "\n",
    "\n",
    "        #loss = min_cut_loss(probs, q_torch)\n",
    "        #loss = loss_func(probs, q_torch, 0, 4)\n",
    "        loss = loss_func(probs, q_torch, terminal1, terminal2)\n",
    "\n",
    "        #loss.requires_grad\n",
    "        #print(\"comes here\", loss)\n",
    "        loss_ = loss.detach().item()\n",
    "        #print(\"comes here2\", loss_)\n",
    "        # Apply projection\n",
    "        bitstring = (probs.detach() >= prob_threshold) * 1\n",
    "        #best_loss_val = calculateMinCut(adj_matrix, output)\n",
    "        current_loss_val = calculateMinCut(q_torch, probs, terminal1, terminal2)\n",
    "        if current_loss_val < best_loss:\n",
    "            best_loss = current_loss_val\n",
    "            best_bitstring = bitstring\n",
    "\n",
    "        if epoch % 1000 == 0:\n",
    "            print(\"probs:\", (probs.detach() >= prob_threshold) * 1)\n",
    "            print(\"best:\", best_bitstring)\n",
    "            print(f'Epoch: {epoch}, Loss: {loss_}')\n",
    "            print(\"this is after probs\" , probs)\n",
    "\n",
    "        # early stopping check\n",
    "        # If loss increases or change in loss is too small, trigger\n",
    "        # if (abs(loss_ - prev_loss) <= tol) | ((loss_ - prev_loss) > 0):\n",
    "        #     count += 1\n",
    "        # else:\n",
    "        #     count = 0\n",
    "        #\n",
    "        # if count >= patience:\n",
    "        #     print(f'Stopping early on epoch {epoch} (patience: {patience})')\n",
    "        #     break\n",
    "        torch.autograd.set_detect_anomaly(True)\n",
    "        # update loss tracking\n",
    "        prev_loss = loss_\n",
    "        #print(\"backwardf loss\", loss)\n",
    "        # run optimization with backpropagation\n",
    "        optimizer.zero_grad()  # clear gradient for step\n",
    "        #print(\"is leaf\", loss.is_leaf)\n",
    "        #print(probs.)\n",
    "        loss.backward()        # calculate gradient through compute graph\n",
    "        #print(list(net.parameters())[0].grad)\n",
    "        optimizer.step()       # take step, update weights\n",
    "        #net.conv2.apply(weightConstraint())\n",
    "\n",
    "\n",
    "    t_gnn = time() - t_gnn_start\n",
    "    print(f'GNN training (n={dgl_graph.number_of_nodes()}) took {round(t_gnn, 3)}')\n",
    "    print(f'GNN final continuous loss: {loss_}')\n",
    "    print(f'GNN best continuous loss: {best_loss}')\n",
    "\n",
    "    final_bitstring = (probs.detach() >= prob_threshold) * 1\n",
    "\n",
    "    return net, epoch, final_bitstring, best_bitstring"
   ],
   "metadata": {
    "collapsed": false,
    "pycharm": {
     "name": "#%%\n"
    }
   }
  },
  {
   "cell_type": "code",
   "execution_count": 14,
   "outputs": [
    {
     "ename": "NameError",
     "evalue": "name 'calculateMinCut' is not defined",
     "output_type": "error",
     "traceback": [
      "\u001B[0;31m---------------------------------------------------------------------------\u001B[0m",
      "\u001B[0;31mNameError\u001B[0m                                 Traceback (most recent call last)",
      "Cell \u001B[0;32mIn[14], line 21\u001B[0m\n\u001B[1;32m     19\u001B[0m gnn_start \u001B[38;5;241m=\u001B[39m time()\n\u001B[1;32m     20\u001B[0m \u001B[38;5;66;03m#net.conv2.apply(weightConstraint())\u001B[39;00m\n\u001B[0;32m---> 21\u001B[0m _, epoch, final_bitstring, best_bitstring \u001B[38;5;241m=\u001B[39m \u001B[43mrun_gnn_training\u001B[49m\u001B[43m(\u001B[49m\n\u001B[1;32m     22\u001B[0m \u001B[43m    \u001B[49m\u001B[43mq_torch\u001B[49m\u001B[43m,\u001B[49m\u001B[43m \u001B[49m\u001B[43mgraph_dgl\u001B[49m\u001B[43m,\u001B[49m\u001B[43m \u001B[49m\u001B[43mnet\u001B[49m\u001B[43m,\u001B[49m\u001B[43m \u001B[49m\u001B[43membed\u001B[49m\u001B[43m,\u001B[49m\u001B[43m \u001B[49m\u001B[43moptimizer\u001B[49m\u001B[43m,\u001B[49m\u001B[43m \u001B[49m\u001B[38;5;241;43m10000\u001B[39;49m\u001B[43m,\u001B[49m\n\u001B[1;32m     23\u001B[0m \u001B[43m    \u001B[49m\u001B[43mgnn_hypers\u001B[49m\u001B[43m[\u001B[49m\u001B[38;5;124;43m'\u001B[39;49m\u001B[38;5;124;43mtolerance\u001B[39;49m\u001B[38;5;124;43m'\u001B[39;49m\u001B[43m]\u001B[49m\u001B[43m,\u001B[49m\u001B[43m \u001B[49m\u001B[43mgnn_hypers\u001B[49m\u001B[43m[\u001B[49m\u001B[38;5;124;43m'\u001B[39;49m\u001B[38;5;124;43mpatience\u001B[39;49m\u001B[38;5;124;43m'\u001B[39;49m\u001B[43m]\u001B[49m\u001B[43m,\u001B[49m\u001B[43m \u001B[49m\u001B[43mgnn_hypers\u001B[49m\u001B[43m[\u001B[49m\u001B[38;5;124;43m'\u001B[39;49m\u001B[38;5;124;43mprob_threshold\u001B[39;49m\u001B[38;5;124;43m'\u001B[39;49m\u001B[43m]\u001B[49m\u001B[43m,\u001B[49m\u001B[43m \u001B[49m\u001B[43mmin_cut_loss3\u001B[49m\u001B[43m)\u001B[49m\n\u001B[1;32m     24\u001B[0m \u001B[38;5;28mprint\u001B[39m(final_bitstring)\n\u001B[1;32m     25\u001B[0m gnn_time \u001B[38;5;241m=\u001B[39m time() \u001B[38;5;241m-\u001B[39m gnn_start\n",
      "Cell \u001B[0;32mIn[13], line 55\u001B[0m, in \u001B[0;36mrun_gnn_training\u001B[0;34m(q_torch, dgl_graph, net, embed, optimizer, number_epochs, tol, patience, prob_threshold, loss_func, terminal1, terminal2)\u001B[0m\n\u001B[1;32m     53\u001B[0m bitstring \u001B[38;5;241m=\u001B[39m (probs\u001B[38;5;241m.\u001B[39mdetach() \u001B[38;5;241m>\u001B[39m\u001B[38;5;241m=\u001B[39m prob_threshold) \u001B[38;5;241m*\u001B[39m \u001B[38;5;241m1\u001B[39m\n\u001B[1;32m     54\u001B[0m \u001B[38;5;66;03m#best_loss_val = calculateMinCut(adj_matrix, output)\u001B[39;00m\n\u001B[0;32m---> 55\u001B[0m current_loss_val \u001B[38;5;241m=\u001B[39m \u001B[43mcalculateMinCut\u001B[49m(q_torch, probs, terminal1, terminal2)\n\u001B[1;32m     56\u001B[0m \u001B[38;5;28;01mif\u001B[39;00m current_loss_val \u001B[38;5;241m<\u001B[39m best_loss:\n\u001B[1;32m     57\u001B[0m     best_loss \u001B[38;5;241m=\u001B[39m current_loss_val\n",
      "\u001B[0;31mNameError\u001B[0m: name 'calculateMinCut' is not defined"
     ]
    }
   ],
   "source": [
    "# Establish pytorch GNN + optimizer\n",
    "opt_params = {'lr': learning_rate}\n",
    "gnn_hypers = {\n",
    "    'dim_embedding': dim_embedding,\n",
    "    'hidden_dim': hidden_dim,\n",
    "    'dropout': 0.0,\n",
    "    'number_classes': 1,\n",
    "    'prob_threshold': PROB_THRESHOLD,\n",
    "    'number_epochs': number_epochs,\n",
    "    'tolerance': tol,\n",
    "    'patience': patience\n",
    "}\n",
    "\n",
    "net, embed, optimizer = get_gnn(n, gnn_hypers, opt_params, TORCH_DEVICE, TORCH_DTYPE)\n",
    "\n",
    "# For tracking hyperparameters in results object\n",
    "gnn_hypers.update(opt_params)\n",
    "\n",
    "gnn_start = time()\n",
    "#net.conv2.apply(weightConstraint())\n",
    "_, epoch, final_bitstring, best_bitstring = run_gnn_training(\n",
    "    q_torch, graph_dgl, net, embed, optimizer, 10000,\n",
    "    gnn_hypers['tolerance'], gnn_hypers['patience'], gnn_hypers['prob_threshold'], min_cut_loss3)\n",
    "print(final_bitstring)\n",
    "gnn_time = time() - gnn_start"
   ],
   "metadata": {
    "collapsed": false,
    "pycharm": {
     "name": "#%%\n"
    }
   }
  },
  {
   "cell_type": "code",
   "execution_count": 59,
   "outputs": [
    {
     "ename": "RuntimeError",
     "evalue": "The size of tensor a (5) must match the size of tensor b (6) at non-singleton dimension 0",
     "output_type": "error",
     "traceback": [
      "\u001B[0;31m---------------------------------------------------------------------------\u001B[0m",
      "\u001B[0;31mRuntimeError\u001B[0m                              Traceback (most recent call last)",
      "Cell \u001B[0;32mIn[59], line 21\u001B[0m\n\u001B[1;32m     19\u001B[0m gnn_start \u001B[38;5;241m=\u001B[39m time()\n\u001B[1;32m     20\u001B[0m \u001B[38;5;66;03m#net.conv2.apply(weightConstraint())\u001B[39;00m\n\u001B[0;32m---> 21\u001B[0m _, epoch, final_bitstring, best_bitstring \u001B[38;5;241m=\u001B[39m \u001B[43mrun_gnn_training\u001B[49m\u001B[43m(\u001B[49m\n\u001B[1;32m     22\u001B[0m \u001B[43m    \u001B[49m\u001B[43mq_torch\u001B[49m\u001B[43m,\u001B[49m\u001B[43m \u001B[49m\u001B[43mgraph_dgl\u001B[49m\u001B[43m,\u001B[49m\u001B[43m \u001B[49m\u001B[43mnet\u001B[49m\u001B[43m,\u001B[49m\u001B[43m \u001B[49m\u001B[43membed\u001B[49m\u001B[43m,\u001B[49m\u001B[43m \u001B[49m\u001B[43moptimizer\u001B[49m\u001B[43m,\u001B[49m\u001B[43m \u001B[49m\u001B[38;5;241;43m10000\u001B[39;49m\u001B[43m,\u001B[49m\n\u001B[1;32m     23\u001B[0m \u001B[43m    \u001B[49m\u001B[43mgnn_hypers\u001B[49m\u001B[43m[\u001B[49m\u001B[38;5;124;43m'\u001B[39;49m\u001B[38;5;124;43mtolerance\u001B[39;49m\u001B[38;5;124;43m'\u001B[39;49m\u001B[43m]\u001B[49m\u001B[43m,\u001B[49m\u001B[43m \u001B[49m\u001B[43mgnn_hypers\u001B[49m\u001B[43m[\u001B[49m\u001B[38;5;124;43m'\u001B[39;49m\u001B[38;5;124;43mpatience\u001B[39;49m\u001B[38;5;124;43m'\u001B[39;49m\u001B[43m]\u001B[49m\u001B[43m,\u001B[49m\u001B[43m \u001B[49m\u001B[43mgnn_hypers\u001B[49m\u001B[43m[\u001B[49m\u001B[38;5;124;43m'\u001B[39;49m\u001B[38;5;124;43mprob_threshold\u001B[39;49m\u001B[38;5;124;43m'\u001B[39;49m\u001B[43m]\u001B[49m\u001B[43m,\u001B[49m\u001B[43m \u001B[49m\u001B[43mmin_cut_loss2\u001B[49m\u001B[43m)\u001B[49m\n\u001B[1;32m     24\u001B[0m \u001B[38;5;28mprint\u001B[39m(final_bitstring)\n\u001B[1;32m     25\u001B[0m gnn_time \u001B[38;5;241m=\u001B[39m time() \u001B[38;5;241m-\u001B[39m gnn_start\n",
      "Cell \u001B[0;32mIn[58], line 26\u001B[0m, in \u001B[0;36mrun_gnn_training\u001B[0;34m(q_torch, dgl_graph, net, embed, optimizer, number_epochs, tol, patience, prob_threshold, loss_func, terminal1, terminal2)\u001B[0m\n\u001B[1;32m     22\u001B[0m \u001B[38;5;28;01mfor\u001B[39;00m epoch \u001B[38;5;129;01min\u001B[39;00m \u001B[38;5;28mrange\u001B[39m(number_epochs):\n\u001B[1;32m     23\u001B[0m \n\u001B[1;32m     24\u001B[0m     \u001B[38;5;66;03m# get logits/activations\u001B[39;00m\n\u001B[1;32m     25\u001B[0m     torch\u001B[38;5;241m.\u001B[39mautograd\u001B[38;5;241m.\u001B[39mset_detect_anomaly(\u001B[38;5;28;01mTrue\u001B[39;00m)\n\u001B[0;32m---> 26\u001B[0m     probs \u001B[38;5;241m=\u001B[39m \u001B[43mnet\u001B[49m\u001B[43m(\u001B[49m\u001B[43mdgl_graph\u001B[49m\u001B[43m,\u001B[49m\u001B[43m \u001B[49m\u001B[43minputs\u001B[49m\u001B[43m)\u001B[49m[:, \u001B[38;5;241m0\u001B[39m]  \u001B[38;5;66;03m# collapse extra dimension output from model\u001B[39;00m\n\u001B[1;32m     27\u001B[0m     \u001B[38;5;66;03m#probs = torch.unsqueeze(probs, 1)\u001B[39;00m\n\u001B[1;32m     28\u001B[0m \n\u001B[1;32m     29\u001B[0m     \u001B[38;5;66;03m# print(\"this is probs\" , probs)\u001B[39;00m\n\u001B[0;32m   (...)\u001B[0m\n\u001B[1;32m     44\u001B[0m     \u001B[38;5;66;03m#loss = min_cut_loss(probs, q_torch)\u001B[39;00m\n\u001B[1;32m     45\u001B[0m     \u001B[38;5;66;03m#loss = loss_func(probs, q_torch, 0, 4)\u001B[39;00m\n\u001B[1;32m     46\u001B[0m     loss \u001B[38;5;241m=\u001B[39m loss_func(probs, q_torch, terminal1, terminal2)\n",
      "File \u001B[0;32m~/Documents/research/COP/lib/python3.10/site-packages/torch/nn/modules/module.py:1501\u001B[0m, in \u001B[0;36mModule._call_impl\u001B[0;34m(self, *args, **kwargs)\u001B[0m\n\u001B[1;32m   1496\u001B[0m \u001B[38;5;66;03m# If we don't have any hooks, we want to skip the rest of the logic in\u001B[39;00m\n\u001B[1;32m   1497\u001B[0m \u001B[38;5;66;03m# this function, and just call forward.\u001B[39;00m\n\u001B[1;32m   1498\u001B[0m \u001B[38;5;28;01mif\u001B[39;00m \u001B[38;5;129;01mnot\u001B[39;00m (\u001B[38;5;28mself\u001B[39m\u001B[38;5;241m.\u001B[39m_backward_hooks \u001B[38;5;129;01mor\u001B[39;00m \u001B[38;5;28mself\u001B[39m\u001B[38;5;241m.\u001B[39m_backward_pre_hooks \u001B[38;5;129;01mor\u001B[39;00m \u001B[38;5;28mself\u001B[39m\u001B[38;5;241m.\u001B[39m_forward_hooks \u001B[38;5;129;01mor\u001B[39;00m \u001B[38;5;28mself\u001B[39m\u001B[38;5;241m.\u001B[39m_forward_pre_hooks\n\u001B[1;32m   1499\u001B[0m         \u001B[38;5;129;01mor\u001B[39;00m _global_backward_pre_hooks \u001B[38;5;129;01mor\u001B[39;00m _global_backward_hooks\n\u001B[1;32m   1500\u001B[0m         \u001B[38;5;129;01mor\u001B[39;00m _global_forward_hooks \u001B[38;5;129;01mor\u001B[39;00m _global_forward_pre_hooks):\n\u001B[0;32m-> 1501\u001B[0m     \u001B[38;5;28;01mreturn\u001B[39;00m \u001B[43mforward_call\u001B[49m\u001B[43m(\u001B[49m\u001B[38;5;241;43m*\u001B[39;49m\u001B[43margs\u001B[49m\u001B[43m,\u001B[49m\u001B[43m \u001B[49m\u001B[38;5;241;43m*\u001B[39;49m\u001B[38;5;241;43m*\u001B[39;49m\u001B[43mkwargs\u001B[49m\u001B[43m)\u001B[49m\n\u001B[1;32m   1502\u001B[0m \u001B[38;5;66;03m# Do not call functions when jit is used\u001B[39;00m\n\u001B[1;32m   1503\u001B[0m full_backward_hooks, non_full_backward_hooks \u001B[38;5;241m=\u001B[39m [], []\n",
      "Cell \u001B[0;32mIn[38], line 32\u001B[0m, in \u001B[0;36mGCN_dev.forward\u001B[0;34m(self, g, inputs)\u001B[0m\n\u001B[1;32m     20\u001B[0m \u001B[38;5;250m\u001B[39m\u001B[38;5;124;03m\"\"\"\u001B[39;00m\n\u001B[1;32m     21\u001B[0m \u001B[38;5;124;03mRun forward propagation step of instantiated model.\u001B[39;00m\n\u001B[1;32m     22\u001B[0m \n\u001B[0;32m   (...)\u001B[0m\n\u001B[1;32m     28\u001B[0m \u001B[38;5;124;03m    h: Output layer weights\u001B[39;00m\n\u001B[1;32m     29\u001B[0m \u001B[38;5;124;03m\"\"\"\u001B[39;00m\n\u001B[1;32m     31\u001B[0m \u001B[38;5;66;03m# input step\u001B[39;00m\n\u001B[0;32m---> 32\u001B[0m h \u001B[38;5;241m=\u001B[39m \u001B[38;5;28;43mself\u001B[39;49m\u001B[38;5;241;43m.\u001B[39;49m\u001B[43mconv1\u001B[49m\u001B[43m(\u001B[49m\u001B[43mg\u001B[49m\u001B[43m,\u001B[49m\u001B[43m \u001B[49m\u001B[43minputs\u001B[49m\u001B[43m)\u001B[49m\n\u001B[1;32m     33\u001B[0m h \u001B[38;5;241m=\u001B[39m torch\u001B[38;5;241m.\u001B[39mrelu(h)\n\u001B[1;32m     34\u001B[0m h \u001B[38;5;241m=\u001B[39m F\u001B[38;5;241m.\u001B[39mdropout(h, p\u001B[38;5;241m=\u001B[39m\u001B[38;5;28mself\u001B[39m\u001B[38;5;241m.\u001B[39mdropout_frac)\n",
      "File \u001B[0;32m~/Documents/research/COP/lib/python3.10/site-packages/torch/nn/modules/module.py:1501\u001B[0m, in \u001B[0;36mModule._call_impl\u001B[0;34m(self, *args, **kwargs)\u001B[0m\n\u001B[1;32m   1496\u001B[0m \u001B[38;5;66;03m# If we don't have any hooks, we want to skip the rest of the logic in\u001B[39;00m\n\u001B[1;32m   1497\u001B[0m \u001B[38;5;66;03m# this function, and just call forward.\u001B[39;00m\n\u001B[1;32m   1498\u001B[0m \u001B[38;5;28;01mif\u001B[39;00m \u001B[38;5;129;01mnot\u001B[39;00m (\u001B[38;5;28mself\u001B[39m\u001B[38;5;241m.\u001B[39m_backward_hooks \u001B[38;5;129;01mor\u001B[39;00m \u001B[38;5;28mself\u001B[39m\u001B[38;5;241m.\u001B[39m_backward_pre_hooks \u001B[38;5;129;01mor\u001B[39;00m \u001B[38;5;28mself\u001B[39m\u001B[38;5;241m.\u001B[39m_forward_hooks \u001B[38;5;129;01mor\u001B[39;00m \u001B[38;5;28mself\u001B[39m\u001B[38;5;241m.\u001B[39m_forward_pre_hooks\n\u001B[1;32m   1499\u001B[0m         \u001B[38;5;129;01mor\u001B[39;00m _global_backward_pre_hooks \u001B[38;5;129;01mor\u001B[39;00m _global_backward_hooks\n\u001B[1;32m   1500\u001B[0m         \u001B[38;5;129;01mor\u001B[39;00m _global_forward_hooks \u001B[38;5;129;01mor\u001B[39;00m _global_forward_pre_hooks):\n\u001B[0;32m-> 1501\u001B[0m     \u001B[38;5;28;01mreturn\u001B[39;00m \u001B[43mforward_call\u001B[49m\u001B[43m(\u001B[49m\u001B[38;5;241;43m*\u001B[39;49m\u001B[43margs\u001B[49m\u001B[43m,\u001B[49m\u001B[43m \u001B[49m\u001B[38;5;241;43m*\u001B[39;49m\u001B[38;5;241;43m*\u001B[39;49m\u001B[43mkwargs\u001B[49m\u001B[43m)\u001B[49m\n\u001B[1;32m   1502\u001B[0m \u001B[38;5;66;03m# Do not call functions when jit is used\u001B[39;00m\n\u001B[1;32m   1503\u001B[0m full_backward_hooks, non_full_backward_hooks \u001B[38;5;241m=\u001B[39m [], []\n",
      "File \u001B[0;32m~/Documents/research/COP/lib/python3.10/site-packages/dgl/nn/pytorch/conv/graphconv.py:435\u001B[0m, in \u001B[0;36mGraphConv.forward\u001B[0;34m(self, graph, feat, weight, edge_weight)\u001B[0m\n\u001B[1;32m    433\u001B[0m     shp \u001B[38;5;241m=\u001B[39m norm\u001B[38;5;241m.\u001B[39mshape \u001B[38;5;241m+\u001B[39m (\u001B[38;5;241m1\u001B[39m,) \u001B[38;5;241m*\u001B[39m (feat_src\u001B[38;5;241m.\u001B[39mdim() \u001B[38;5;241m-\u001B[39m \u001B[38;5;241m1\u001B[39m)\n\u001B[1;32m    434\u001B[0m     norm \u001B[38;5;241m=\u001B[39m th\u001B[38;5;241m.\u001B[39mreshape(norm, shp)\n\u001B[0;32m--> 435\u001B[0m     feat_src \u001B[38;5;241m=\u001B[39m \u001B[43mfeat_src\u001B[49m\u001B[43m \u001B[49m\u001B[38;5;241;43m*\u001B[39;49m\u001B[43m \u001B[49m\u001B[43mnorm\u001B[49m\n\u001B[1;32m    437\u001B[0m \u001B[38;5;28;01mif\u001B[39;00m weight \u001B[38;5;129;01mis\u001B[39;00m \u001B[38;5;129;01mnot\u001B[39;00m \u001B[38;5;28;01mNone\u001B[39;00m:\n\u001B[1;32m    438\u001B[0m     \u001B[38;5;28;01mif\u001B[39;00m \u001B[38;5;28mself\u001B[39m\u001B[38;5;241m.\u001B[39mweight \u001B[38;5;129;01mis\u001B[39;00m \u001B[38;5;129;01mnot\u001B[39;00m \u001B[38;5;28;01mNone\u001B[39;00m:\n",
      "\u001B[0;31mRuntimeError\u001B[0m: The size of tensor a (5) must match the size of tensor b (6) at non-singleton dimension 0"
     ]
    }
   ],
   "source": [
    "# Establish pytorch GNN + optimizer\n",
    "opt_params = {'lr': learning_rate}\n",
    "gnn_hypers = {\n",
    "    'dim_embedding': dim_embedding,\n",
    "    'hidden_dim': hidden_dim,\n",
    "    'dropout': 0.0,\n",
    "    'number_classes': 1,\n",
    "    'prob_threshold': PROB_THRESHOLD,\n",
    "    'number_epochs': number_epochs,\n",
    "    'tolerance': tol,\n",
    "    'patience': patience\n",
    "}\n",
    "\n",
    "net, embed, optimizer = get_gnn(n, gnn_hypers, opt_params, TORCH_DEVICE, TORCH_DTYPE)\n",
    "\n",
    "# For tracking hyperparameters in results object\n",
    "gnn_hypers.update(opt_params)\n",
    "\n",
    "gnn_start = time()\n",
    "#net.conv2.apply(weightConstraint())\n",
    "_, epoch, final_bitstring, best_bitstring = run_gnn_training(\n",
    "    q_torch, graph_dgl, net, embed, optimizer, 10000,\n",
    "    gnn_hypers['tolerance'], gnn_hypers['patience'], gnn_hypers['prob_threshold'], min_cut_loss2)\n",
    "print(final_bitstring)\n",
    "gnn_time = time() - gnn_start"
   ],
   "metadata": {
    "collapsed": false,
    "pycharm": {
     "name": "#%%\n"
    }
   }
  },
  {
   "cell_type": "code",
   "execution_count": 79,
   "outputs": [
    {
     "name": "stdout",
     "output_type": "stream",
     "text": [
      "probs: tensor([1, 0, 0, 1, 0])\n",
      "Epoch: 0, Loss: 1110.7894287109375\n",
      "this is after probs tensor([0.5000, 0.4800, 0.4837, 0.5000, 0.4800], grad_fn=<SelectBackward0>)\n",
      "probs: tensor([1, 0, 0, 1, 0])\n",
      "Epoch: 1000, Loss: 1037.24560546875\n",
      "this is after probs tensor([0.5329, 0.4027, 0.4261, 0.5329, 0.4396], grad_fn=<SelectBackward0>)\n",
      "probs: tensor([1, 0, 0, 1, 0])\n",
      "Epoch: 2000, Loss: 949.6071166992188\n",
      "this is after probs tensor([0.5704, 0.2926, 0.3388, 0.5704, 0.3903], grad_fn=<SelectBackward0>)\n",
      "probs: tensor([1, 0, 0, 1, 0])\n",
      "Epoch: 3000, Loss: 855.1160888671875\n",
      "this is after probs tensor([0.6027, 0.1895, 0.2487, 0.6038, 0.3294], grad_fn=<SelectBackward0>)\n",
      "probs: tensor([1, 0, 0, 1, 0])\n",
      "Epoch: 4000, Loss: 759.587158203125\n",
      "this is after probs tensor([0.6394, 0.1088, 0.1667, 0.6401, 0.2721], grad_fn=<SelectBackward0>)\n",
      "probs: tensor([1, 0, 0, 1, 0])\n",
      "Epoch: 5000, Loss: 664.9267578125\n",
      "this is after probs tensor([0.6736, 0.0539, 0.0991, 0.6736, 0.2129], grad_fn=<SelectBackward0>)\n",
      "probs: tensor([1, 0, 0, 1, 0])\n",
      "Epoch: 6000, Loss: 578.5366821289062\n",
      "this is after probs tensor([0.7022, 0.0238, 0.0535, 0.7022, 0.1561], grad_fn=<SelectBackward0>)\n",
      "probs: tensor([1, 0, 0, 1, 0])\n",
      "Epoch: 7000, Loss: 505.590576171875\n",
      "this is after probs tensor([0.7278, 0.0098, 0.0270, 0.7278, 0.1095], grad_fn=<SelectBackward0>)\n",
      "probs: tensor([1, 0, 0, 1, 0])\n",
      "Epoch: 8000, Loss: 447.27496337890625\n",
      "this is after probs tensor([0.7506, 0.0039, 0.0131, 0.7506, 0.0747], grad_fn=<SelectBackward0>)\n",
      "probs: tensor([1, 0, 0, 1, 0])\n",
      "Epoch: 9000, Loss: 401.74566650390625\n",
      "this is after probs tensor([0.7710, 0.0015, 0.0063, 0.7710, 0.0502], grad_fn=<SelectBackward0>)\n",
      "GNN training (n=5) took 69.371\n",
      "GNN final continuous loss: 366.1601867675781\n",
      "GNN best continuous loss: 366.1601867675781\n",
      "tensor([1, 0, 0, 1, 0])\n"
     ]
    }
   ],
   "source": [
    "# Establish pytorch GNN + optimizer\n",
    "opt_params = {'lr': learning_rate}\n",
    "gnn_hypers = {\n",
    "    'dim_embedding': dim_embedding,\n",
    "    'hidden_dim': hidden_dim,\n",
    "    'dropout': 0.0,\n",
    "    'number_classes': 1,\n",
    "    'prob_threshold': PROB_THRESHOLD,\n",
    "    'number_epochs': number_epochs,\n",
    "    'tolerance': tol,\n",
    "    'patience': patience\n",
    "}\n",
    "\n",
    "net, embed, optimizer = get_gnn(n, gnn_hypers, opt_params, TORCH_DEVICE, TORCH_DTYPE)\n",
    "\n",
    "# For tracking hyperparameters in results object\n",
    "gnn_hypers.update(opt_params)\n",
    "\n",
    "gnn_start = time()\n",
    "#net.conv2.apply(weightConstraint())\n",
    "_, epoch, final_bitstring, best_bitstring = run_gnn_training(\n",
    "    q_torch, graph_dgl, net, embed, optimizer, 10000,\n",
    "    gnn_hypers['tolerance'], gnn_hypers['patience'], gnn_hypers['prob_threshold'], calculate_hamiltonian2)\n",
    "print(final_bitstring)\n",
    "gnn_time = time() - gnn_start"
   ],
   "metadata": {
    "collapsed": false,
    "pycharm": {
     "name": "#%%\n"
    }
   }
  },
  {
   "cell_type": "code",
   "execution_count": 78,
   "outputs": [
    {
     "name": "stdout",
     "output_type": "stream",
     "text": [
      "probs: tensor([1, 1, 1, 1, 1])\n",
      "Epoch: 0, Loss: 17187.947265625\n",
      "this is after probs tensor([0.5000, 0.6867, 0.7346, 0.5932, 0.5000], grad_fn=<SelectBackward0>)\n",
      "probs: tensor([0, 1, 1, 1, 0])\n",
      "Epoch: 1000, Loss: 17054.5078125\n",
      "this is after probs tensor([0.4782, 0.6302, 0.6552, 0.5338, 0.4782], grad_fn=<SelectBackward0>)\n",
      "probs: tensor([0, 1, 1, 1, 0])\n",
      "Epoch: 2000, Loss: 16962.193359375\n",
      "this is after probs tensor([0.4571, 0.6590, 0.6752, 0.5134, 0.4571], grad_fn=<SelectBackward0>)\n",
      "probs: tensor([0, 1, 1, 1, 0])\n",
      "Epoch: 3000, Loss: 16761.271484375\n",
      "this is after probs tensor([0.4292, 0.7532, 0.7651, 0.5092, 0.4522], grad_fn=<SelectBackward0>)\n",
      "probs: tensor([0, 1, 1, 0, 0])\n",
      "Epoch: 4000, Loss: 16459.015625\n",
      "this is after probs tensor([0.3981, 0.8329, 0.8213, 0.4691, 0.4715], grad_fn=<SelectBackward0>)\n",
      "probs: tensor([0, 1, 1, 0, 0])\n",
      "Epoch: 5000, Loss: 16124.8837890625\n",
      "this is after probs tensor([0.3707, 0.8840, 0.8469, 0.4062, 0.4874], grad_fn=<SelectBackward0>)\n",
      "probs: tensor([0, 1, 1, 0, 1])\n",
      "Epoch: 6000, Loss: 15791.841796875\n",
      "this is after probs tensor([0.3459, 0.9271, 0.8765, 0.3459, 0.5171], grad_fn=<SelectBackward0>)\n",
      "probs: tensor([0, 1, 1, 0, 1])\n",
      "Epoch: 7000, Loss: 15525.6201171875\n",
      "this is after probs tensor([0.3220, 0.9530, 0.9105, 0.3220, 0.5314], grad_fn=<SelectBackward0>)\n",
      "probs: tensor([0, 1, 1, 0, 1])\n",
      "Epoch: 8000, Loss: 15285.072265625\n",
      "this is after probs tensor([0.3001, 0.9662, 0.9297, 0.3001, 0.5191], grad_fn=<SelectBackward0>)\n",
      "probs: tensor([0, 1, 1, 0, 1])\n",
      "Epoch: 9000, Loss: 15062.3818359375\n",
      "this is after probs tensor([0.2798, 0.9758, 0.9451, 0.2798, 0.5006], grad_fn=<SelectBackward0>)\n",
      "GNN training (n=5) took 61.859\n",
      "GNN final continuous loss: 14857.564453125\n",
      "GNN best continuous loss: 14857.564453125\n",
      "tensor([0, 1, 1, 0, 0])\n"
     ]
    }
   ],
   "source": [
    "# Establish pytorch GNN + optimizer\n",
    "opt_params = {'lr': learning_rate}\n",
    "gnn_hypers = {\n",
    "    'dim_embedding': dim_embedding,\n",
    "    'hidden_dim': hidden_dim,\n",
    "    'dropout': 0.0,\n",
    "    'number_classes': 1,\n",
    "    'prob_threshold': PROB_THRESHOLD,\n",
    "    'number_epochs': number_epochs,\n",
    "    'tolerance': tol,\n",
    "    'patience': patience\n",
    "}\n",
    "\n",
    "net, embed, optimizer = get_gnn(n, gnn_hypers, opt_params, TORCH_DEVICE, TORCH_DTYPE)\n",
    "\n",
    "# For tracking hyperparameters in results object\n",
    "gnn_hypers.update(opt_params)\n",
    "\n",
    "gnn_start = time()\n",
    "#net.conv2.apply(weightConstraint())\n",
    "_, epoch, final_bitstring, best_bitstring = run_gnn_training(\n",
    "    q_torch, graph_dgl, net, embed, optimizer, 10000,\n",
    "    gnn_hypers['tolerance'], gnn_hypers['patience'], gnn_hypers['prob_threshold'], calculate_hamiltonian)\n",
    "print(final_bitstring)\n",
    "gnn_time = time() - gnn_start"
   ],
   "metadata": {
    "collapsed": false,
    "pycharm": {
     "name": "#%%\n"
    }
   }
  },
  {
   "cell_type": "code",
   "execution_count": 15,
   "outputs": [
    {
     "name": "stdout",
     "output_type": "stream",
     "text": [
      "tensor(2.)\n"
     ]
    }
   ],
   "source": [
    "\n",
    "def calculateMinCut(adj_matrix, output, terminal1 = 0, terminal2 = 4):\n",
    "    output = (output.detach() >= 0.5) * 1\n",
    "\n",
    "    if output[terminal1] == output[terminal2]:\n",
    "        return float(\"inf\")\n",
    "    #print(adj_matrix, output)\n",
    "    loss = 0\n",
    "    for i in range(len(adj_matrix)):\n",
    "        for j in range(len(adj_matrix)):\n",
    "            loss += torch.where((output[i] > 0.5 and output[j] < 0.5) or (output[i] < 0.5 and output[j] > 0.5), adj_matrix[i][j], 0)\n",
    "    return loss\n",
    "\n",
    "print(calculateMinCut(q_torch, torch.tensor([0,0,0,0,1]))/2)"
   ],
   "metadata": {
    "collapsed": false,
    "pycharm": {
     "name": "#%%\n"
    }
   }
  },
  {
   "cell_type": "code",
   "execution_count": 65,
   "outputs": [],
   "source": [
    "def trainNeuralNetworksOnGraph(graph, adjMatrixCreator, n = 5,loss_func = min_cut_loss3, epoch = 10000, terminal1 = 0, terminal2 = 4):\n",
    "    # Get value of the cut using traditional values\n",
    "    ensure_finite_capacity(graph)\n",
    "\n",
    "    cut_value, partition = nx.minimum_cut(graph, terminal1, terminal2)\n",
    "\n",
    "    mincostFlow = nx.max_flow_min_cost(graph, terminal1, terminal2)\n",
    "    mincost = nx.cost_of_flow(graph, mincostFlow)\n",
    "    print(f'Traditional Value: mincost, cut_value, partition: {mincost, cut_value, partition}')\n",
    "\n",
    "    # get value using neural network\n",
    "    graph_dgl = dgl.from_networkx(nx_graph=graph)\n",
    "    graph_dgl = graph_dgl.to(TORCH_DEVICE)\n",
    "\n",
    "    # Construct Q matrix for graph\n",
    "    q_torch = qubo_dict_to_torch(graph, adjMatrixCreator(graph), torch_dtype=TORCH_DTYPE, torch_device=TORCH_DEVICE)\n",
    "\n",
    "    print(adjMatrixCreator(graph))\n",
    "\n",
    "    n = n\n",
    "    d = 3\n",
    "    p = None\n",
    "    graph_type = 'reg'\n",
    "\n",
    "    # NN learning hypers #\n",
    "    number_epochs = int(1e5)\n",
    "    learning_rate = 1e-4\n",
    "    PROB_THRESHOLD = 0.5\n",
    "\n",
    "    # Early stopping to allow NN to train to near-completion\n",
    "    tol = 1e-4          # loss must change by more than tol, or trigger\n",
    "    patience = 100    # number early stopping triggers before breaking loop\n",
    "\n",
    "    # Problem size (e.g. graph size)\n",
    "    #n = 5\n",
    "\n",
    "    # Establish dim_embedding and hidden_dim values\n",
    "    dim_embedding = int(np.sqrt(n))    # e.g. 10\n",
    "    hidden_dim = int(dim_embedding/2)  # e.g. 5\n",
    "\n",
    "\n",
    "\n",
    "    # Establish pytorch GNN + optimizer\n",
    "    opt_params = {'lr': learning_rate}\n",
    "    gnn_hypers = {\n",
    "        'dim_embedding': dim_embedding,\n",
    "        'hidden_dim': hidden_dim,\n",
    "        'dropout': 0.0,\n",
    "        'number_classes': 1,\n",
    "        'prob_threshold': PROB_THRESHOLD,\n",
    "        'number_epochs': number_epochs,\n",
    "        'tolerance': tol,\n",
    "        'patience': patience\n",
    "    }\n",
    "\n",
    "    net, embed, optimizer = get_gnn(n, gnn_hypers, opt_params, TORCH_DEVICE, TORCH_DTYPE)\n",
    "\n",
    "    # For tracking hyperparameters in results object\n",
    "    gnn_hypers.update(opt_params)\n",
    "\n",
    "    gnn_start = time()\n",
    "    #net.conv2.apply(weightConstraint())\n",
    "    net , epoch, final_bitstring, best_bitstring = run_gnn_training(\n",
    "        q_torch, graph_dgl, net, embed, optimizer, epoch,\n",
    "        gnn_hypers['tolerance'], gnn_hypers['patience'], gnn_hypers['prob_threshold'], loss_func, terminal1 , terminal2 )\n",
    "    print(final_bitstring, best_bitstring)\n",
    "    gnn_time = time() - gnn_start\n",
    "\n",
    "    print(f' Neural Network cut value: {((calculateMinCut(q_torch, best_bitstring, terminal1, terminal2))/2)}')\n",
    "\n",
    "    return net, final_bitstring, best_bitstring"
   ],
   "metadata": {
    "collapsed": false,
    "pycharm": {
     "name": "#%%\n"
    }
   }
  },
  {
   "cell_type": "code",
   "execution_count": 62,
   "outputs": [
    {
     "data": {
      "text/plain": "{(0, 1): Text(-0.2949131773551814, 0.39770516375132586, '1'),\n (0, 2): Text(0.19646508366189666, 0.030908853372191097, '2'),\n (0, 4): Text(0.36828216091209254, 0.7488301553667935, '5'),\n (1, 3): Text(-0.7242153353947222, -0.04504991624003854, '2'),\n (2, 3): Text(-0.23283707437764412, -0.4118462266191733, '2'),\n (2, 5): Text(0.3559331744826297, -0.7037802391267547, '4')}"
     },
     "execution_count": 62,
     "metadata": {},
     "output_type": "execute_result"
    },
    {
     "data": {
      "text/plain": "<Figure size 640x480 with 1 Axes>",
      "image/png": "[encoded data removed]"
     },
     "metadata": {},
     "output_type": "display_data"
    }
   ],
   "source": [
    "test_graph = CreateDummyFunction2()\n",
    "pos = nx.spring_layout(test_graph,seed=1)\n",
    "\n",
    "# Visualize graph\n",
    "options = {\n",
    "    \"font_size\": 16,\n",
    "    \"node_size\": 800,\n",
    "    \"node_color\": \"white\",\n",
    "    \"edgecolors\": \"black\",\n",
    "    \"linewidths\": 5,\n",
    "    \"width\": 5,\n",
    "}\n",
    "nx.draw(test_graph, pos, with_labels=True, **options)\n",
    "\n",
    "labels = nx.get_edge_attributes(test_graph,'weight')\n",
    "nx.draw_networkx_edge_labels(test_graph,pos,edge_labels=labels)"
   ],
   "metadata": {
    "collapsed": false,
    "pycharm": {
     "name": "#%%\n"
    }
   }
  },
  {
   "cell_type": "code",
   "execution_count": 66,
   "outputs": [
    {
     "name": "stdout",
     "output_type": "stream",
     "text": [
      "Traditional Value: mincost, cut_value, partition: (25, 5, ({0, 1, 2, 3, 5}, {4}))\n",
      "defaultdict(<class 'int'>, {(0, 1): 1, (1, 0): 1, (0, 2): 2, (2, 0): 2, (0, 4): 5, (4, 0): 5, (1, 3): 2, (3, 1): 2, (2, 3): 2, (3, 2): 2, (2, 5): 4, (5, 2): 4, (0, 0): 0, (0, 3): 0, (0, 5): 0, (1, 1): 0, (1, 2): 0, (1, 4): 0, (1, 5): 0, (2, 1): 0, (2, 2): 0, (2, 4): 0, (3, 0): 0, (3, 3): 0, (3, 4): 0, (3, 5): 0, (4, 1): 0, (4, 2): 0, (4, 3): 0, (4, 4): 0, (4, 5): 0, (5, 0): 0, (5, 1): 0, (5, 3): 0, (5, 4): 0, (5, 5): 0})\n",
      "probs: tensor([0, 0, 0, 0, 1, 0])\n",
      "best: tensor([0, 0, 0, 0, 1, 0])\n",
      "Epoch: 0, Loss: 10.0\n",
      "this is after probs tensor([0.4949, 0.4937, 0.4948, 0.4937, 0.5000, 0.4930],\n",
      "       grad_fn=<SelectBackward0>)\n"
     ]
    },
    {
     "ename": "RuntimeError",
     "evalue": "element 0 of tensors does not require grad and does not have a grad_fn",
     "output_type": "error",
     "traceback": [
      "\u001B[0;31m---------------------------------------------------------------------------\u001B[0m",
      "\u001B[0;31mRuntimeError\u001B[0m                              Traceback (most recent call last)",
      "Cell \u001B[0;32mIn[66], line 1\u001B[0m\n\u001B[0;32m----> 1\u001B[0m net,  final_bitstring, best_bitstring \u001B[38;5;241m=\u001B[39m \u001B[43mtrainNeuralNetworksOnGraph\u001B[49m\u001B[43m(\u001B[49m\u001B[43mtest_graph\u001B[49m\u001B[43m,\u001B[49m\u001B[43m \u001B[49m\u001B[43mgen_adj_matrix2\u001B[49m\u001B[43m,\u001B[49m\u001B[43m \u001B[49m\u001B[43mn\u001B[49m\u001B[43m \u001B[49m\u001B[38;5;241;43m=\u001B[39;49m\u001B[43m \u001B[49m\u001B[38;5;241;43m6\u001B[39;49m\u001B[43m,\u001B[49m\u001B[43mloss_func\u001B[49m\u001B[43m \u001B[49m\u001B[38;5;241;43m=\u001B[39;49m\u001B[43m \u001B[49m\u001B[43mmin_cut_loss3\u001B[49m\u001B[43m,\u001B[49m\u001B[43m \u001B[49m\u001B[43mepoch\u001B[49m\u001B[43m \u001B[49m\u001B[38;5;241;43m=\u001B[39;49m\u001B[43m \u001B[49m\u001B[38;5;241;43m10000\u001B[39;49m\u001B[43m)\u001B[49m\n",
      "Cell \u001B[0;32mIn[65], line 63\u001B[0m, in \u001B[0;36mtrainNeuralNetworksOnGraph\u001B[0;34m(graph, adjMatrixCreator, n, loss_func, epoch, terminal1, terminal2)\u001B[0m\n\u001B[1;32m     61\u001B[0m gnn_start \u001B[38;5;241m=\u001B[39m time()\n\u001B[1;32m     62\u001B[0m \u001B[38;5;66;03m#net.conv2.apply(weightConstraint())\u001B[39;00m\n\u001B[0;32m---> 63\u001B[0m net , epoch, final_bitstring, best_bitstring \u001B[38;5;241m=\u001B[39m \u001B[43mrun_gnn_training\u001B[49m\u001B[43m(\u001B[49m\n\u001B[1;32m     64\u001B[0m \u001B[43m    \u001B[49m\u001B[43mq_torch\u001B[49m\u001B[43m,\u001B[49m\u001B[43m \u001B[49m\u001B[43mgraph_dgl\u001B[49m\u001B[43m,\u001B[49m\u001B[43m \u001B[49m\u001B[43mnet\u001B[49m\u001B[43m,\u001B[49m\u001B[43m \u001B[49m\u001B[43membed\u001B[49m\u001B[43m,\u001B[49m\u001B[43m \u001B[49m\u001B[43moptimizer\u001B[49m\u001B[43m,\u001B[49m\u001B[43m \u001B[49m\u001B[43mepoch\u001B[49m\u001B[43m,\u001B[49m\n\u001B[1;32m     65\u001B[0m \u001B[43m    \u001B[49m\u001B[43mgnn_hypers\u001B[49m\u001B[43m[\u001B[49m\u001B[38;5;124;43m'\u001B[39;49m\u001B[38;5;124;43mtolerance\u001B[39;49m\u001B[38;5;124;43m'\u001B[39;49m\u001B[43m]\u001B[49m\u001B[43m,\u001B[49m\u001B[43m \u001B[49m\u001B[43mgnn_hypers\u001B[49m\u001B[43m[\u001B[49m\u001B[38;5;124;43m'\u001B[39;49m\u001B[38;5;124;43mpatience\u001B[39;49m\u001B[38;5;124;43m'\u001B[39;49m\u001B[43m]\u001B[49m\u001B[43m,\u001B[49m\u001B[43m \u001B[49m\u001B[43mgnn_hypers\u001B[49m\u001B[43m[\u001B[49m\u001B[38;5;124;43m'\u001B[39;49m\u001B[38;5;124;43mprob_threshold\u001B[39;49m\u001B[38;5;124;43m'\u001B[39;49m\u001B[43m]\u001B[49m\u001B[43m,\u001B[49m\u001B[43m \u001B[49m\u001B[43mloss_func\u001B[49m\u001B[43m,\u001B[49m\u001B[43m \u001B[49m\u001B[43mterminal1\u001B[49m\u001B[43m \u001B[49m\u001B[43m,\u001B[49m\u001B[43m \u001B[49m\u001B[43mterminal2\u001B[49m\u001B[43m \u001B[49m\u001B[43m)\u001B[49m\n\u001B[1;32m     66\u001B[0m \u001B[38;5;28mprint\u001B[39m(final_bitstring, best_bitstring)\n\u001B[1;32m     67\u001B[0m gnn_time \u001B[38;5;241m=\u001B[39m time() \u001B[38;5;241m-\u001B[39m gnn_start\n",
      "Cell \u001B[0;32mIn[58], line 84\u001B[0m, in \u001B[0;36mrun_gnn_training\u001B[0;34m(q_torch, dgl_graph, net, embed, optimizer, number_epochs, tol, patience, prob_threshold, loss_func, terminal1, terminal2)\u001B[0m\n\u001B[1;32m     81\u001B[0m optimizer\u001B[38;5;241m.\u001B[39mzero_grad()  \u001B[38;5;66;03m# clear gradient for step\u001B[39;00m\n\u001B[1;32m     82\u001B[0m \u001B[38;5;66;03m#print(\"is leaf\", loss.is_leaf)\u001B[39;00m\n\u001B[1;32m     83\u001B[0m \u001B[38;5;66;03m#print(probs.)\u001B[39;00m\n\u001B[0;32m---> 84\u001B[0m \u001B[43mloss\u001B[49m\u001B[38;5;241;43m.\u001B[39;49m\u001B[43mbackward\u001B[49m\u001B[43m(\u001B[49m\u001B[43m)\u001B[49m        \u001B[38;5;66;03m# calculate gradient through compute graph\u001B[39;00m\n\u001B[1;32m     85\u001B[0m \u001B[38;5;66;03m#print(list(net.parameters())[0].grad)\u001B[39;00m\n\u001B[1;32m     86\u001B[0m optimizer\u001B[38;5;241m.\u001B[39mstep()       \u001B[38;5;66;03m# take step, update weights\u001B[39;00m\n",
      "File \u001B[0;32m~/Documents/research/COP/lib/python3.10/site-packages/torch/_tensor.py:487\u001B[0m, in \u001B[0;36mTensor.backward\u001B[0;34m(self, gradient, retain_graph, create_graph, inputs)\u001B[0m\n\u001B[1;32m    477\u001B[0m \u001B[38;5;28;01mif\u001B[39;00m has_torch_function_unary(\u001B[38;5;28mself\u001B[39m):\n\u001B[1;32m    478\u001B[0m     \u001B[38;5;28;01mreturn\u001B[39;00m handle_torch_function(\n\u001B[1;32m    479\u001B[0m         Tensor\u001B[38;5;241m.\u001B[39mbackward,\n\u001B[1;32m    480\u001B[0m         (\u001B[38;5;28mself\u001B[39m,),\n\u001B[0;32m   (...)\u001B[0m\n\u001B[1;32m    485\u001B[0m         inputs\u001B[38;5;241m=\u001B[39minputs,\n\u001B[1;32m    486\u001B[0m     )\n\u001B[0;32m--> 487\u001B[0m \u001B[43mtorch\u001B[49m\u001B[38;5;241;43m.\u001B[39;49m\u001B[43mautograd\u001B[49m\u001B[38;5;241;43m.\u001B[39;49m\u001B[43mbackward\u001B[49m\u001B[43m(\u001B[49m\n\u001B[1;32m    488\u001B[0m \u001B[43m    \u001B[49m\u001B[38;5;28;43mself\u001B[39;49m\u001B[43m,\u001B[49m\u001B[43m \u001B[49m\u001B[43mgradient\u001B[49m\u001B[43m,\u001B[49m\u001B[43m \u001B[49m\u001B[43mretain_graph\u001B[49m\u001B[43m,\u001B[49m\u001B[43m \u001B[49m\u001B[43mcreate_graph\u001B[49m\u001B[43m,\u001B[49m\u001B[43m \u001B[49m\u001B[43minputs\u001B[49m\u001B[38;5;241;43m=\u001B[39;49m\u001B[43minputs\u001B[49m\n\u001B[1;32m    489\u001B[0m \u001B[43m\u001B[49m\u001B[43m)\u001B[49m\n",
      "File \u001B[0;32m~/Documents/research/COP/lib/python3.10/site-packages/torch/autograd/__init__.py:200\u001B[0m, in \u001B[0;36mbackward\u001B[0;34m(tensors, grad_tensors, retain_graph, create_graph, grad_variables, inputs)\u001B[0m\n\u001B[1;32m    195\u001B[0m     retain_graph \u001B[38;5;241m=\u001B[39m create_graph\n\u001B[1;32m    197\u001B[0m \u001B[38;5;66;03m# The reason we repeat same the comment below is that\u001B[39;00m\n\u001B[1;32m    198\u001B[0m \u001B[38;5;66;03m# some Python versions print out the first line of a multi-line function\u001B[39;00m\n\u001B[1;32m    199\u001B[0m \u001B[38;5;66;03m# calls in the traceback and some print out the last line\u001B[39;00m\n\u001B[0;32m--> 200\u001B[0m \u001B[43mVariable\u001B[49m\u001B[38;5;241;43m.\u001B[39;49m\u001B[43m_execution_engine\u001B[49m\u001B[38;5;241;43m.\u001B[39;49m\u001B[43mrun_backward\u001B[49m\u001B[43m(\u001B[49m\u001B[43m  \u001B[49m\u001B[38;5;66;43;03m# Calls into the C++ engine to run the backward pass\u001B[39;49;00m\n\u001B[1;32m    201\u001B[0m \u001B[43m    \u001B[49m\u001B[43mtensors\u001B[49m\u001B[43m,\u001B[49m\u001B[43m \u001B[49m\u001B[43mgrad_tensors_\u001B[49m\u001B[43m,\u001B[49m\u001B[43m \u001B[49m\u001B[43mretain_graph\u001B[49m\u001B[43m,\u001B[49m\u001B[43m \u001B[49m\u001B[43mcreate_graph\u001B[49m\u001B[43m,\u001B[49m\u001B[43m \u001B[49m\u001B[43minputs\u001B[49m\u001B[43m,\u001B[49m\n\u001B[1;32m    202\u001B[0m \u001B[43m    \u001B[49m\u001B[43mallow_unreachable\u001B[49m\u001B[38;5;241;43m=\u001B[39;49m\u001B[38;5;28;43;01mTrue\u001B[39;49;00m\u001B[43m,\u001B[49m\u001B[43m \u001B[49m\u001B[43maccumulate_grad\u001B[49m\u001B[38;5;241;43m=\u001B[39;49m\u001B[38;5;28;43;01mTrue\u001B[39;49;00m\u001B[43m)\u001B[49m\n",
      "\u001B[0;31mRuntimeError\u001B[0m: element 0 of tensors does not require grad and does not have a grad_fn"
     ]
    }
   ],
   "source": [
    "net,  final_bitstring, best_bitstring = trainNeuralNetworksOnGraph(test_graph, gen_adj_matrix2, n = 6,loss_func = min_cut_loss3, epoch = 10000)"
   ],
   "metadata": {
    "collapsed": false,
    "pycharm": {
     "name": "#%%\n"
    }
   }
  },
  {
   "cell_type": "code",
   "execution_count": 67,
   "outputs": [
    {
     "name": "stdout",
     "output_type": "stream",
     "text": [
      "Traditional Value: mincost, cut_value, partition: (25, 5, ({0, 1, 2, 3, 5}, {4}))\n",
      "----\n",
      "----\n",
      "defaultdict(<class 'int'>, {(0, 1): -998, (1, 0): -998, (0, 2): -996, (2, 0): -996, (0, 4): -990, (4, 0): -990, (1, 3): -996, (3, 1): -996, (2, 3): -996, (3, 2): -996, (2, 5): -992, (5, 2): -992, (0, 0): 10000, (0, 3): 0, (0, 5): 0, (1, 1): 0, (1, 2): 0, (1, 4): 0, (1, 5): 0, (2, 1): 0, (2, 2): 0, (2, 4): 0, (3, 0): 0, (3, 3): 0, (3, 4): 0, (3, 5): 0, (4, 1): 0, (4, 2): 0, (4, 3): 0, (4, 4): 0, (4, 5): 0, (5, 0): 0, (5, 1): 0, (5, 3): 0, (5, 4): 0, (5, 5): 0})\n",
      "probs: tensor([0, 0, 0, 0, 0, 0])\n",
      "best: tensor([0., 0., 0., 0., 0., 0.])\n",
      "Epoch: 0, Loss: 1000.0\n",
      "this is after probs tensor([0.3483, 0.4627, 0.4379, 0.3171, 0.4970, 0.3557],\n",
      "       grad_fn=<SelectBackward0>)\n"
     ]
    },
    {
     "ename": "RuntimeError",
     "evalue": "element 0 of tensors does not require grad and does not have a grad_fn",
     "output_type": "error",
     "traceback": [
      "\u001B[0;31m---------------------------------------------------------------------------\u001B[0m",
      "\u001B[0;31mRuntimeError\u001B[0m                              Traceback (most recent call last)",
      "Cell \u001B[0;32mIn[67], line 1\u001B[0m\n\u001B[0;32m----> 1\u001B[0m \u001B[43mtrainNeuralNetworksOnGraph\u001B[49m\u001B[43m(\u001B[49m\u001B[43mtest_graph\u001B[49m\u001B[43m,\u001B[49m\u001B[43m \u001B[49m\u001B[43mgen_adj_matrix\u001B[49m\u001B[43m,\u001B[49m\u001B[43m \u001B[49m\u001B[43mn\u001B[49m\u001B[43m \u001B[49m\u001B[38;5;241;43m=\u001B[39;49m\u001B[43m \u001B[49m\u001B[38;5;241;43m6\u001B[39;49m\u001B[43m,\u001B[49m\u001B[43mloss_func\u001B[49m\u001B[43m \u001B[49m\u001B[38;5;241;43m=\u001B[39;49m\u001B[43m \u001B[49m\u001B[43mmin_cut_loss3\u001B[49m\u001B[43m,\u001B[49m\u001B[43m \u001B[49m\u001B[43mepoch\u001B[49m\u001B[43m \u001B[49m\u001B[38;5;241;43m=\u001B[39;49m\u001B[43m \u001B[49m\u001B[38;5;241;43m10000\u001B[39;49m\u001B[43m)\u001B[49m\n",
      "Cell \u001B[0;32mIn[65], line 63\u001B[0m, in \u001B[0;36mtrainNeuralNetworksOnGraph\u001B[0;34m(graph, adjMatrixCreator, n, loss_func, epoch, terminal1, terminal2)\u001B[0m\n\u001B[1;32m     61\u001B[0m gnn_start \u001B[38;5;241m=\u001B[39m time()\n\u001B[1;32m     62\u001B[0m \u001B[38;5;66;03m#net.conv2.apply(weightConstraint())\u001B[39;00m\n\u001B[0;32m---> 63\u001B[0m net , epoch, final_bitstring, best_bitstring \u001B[38;5;241m=\u001B[39m \u001B[43mrun_gnn_training\u001B[49m\u001B[43m(\u001B[49m\n\u001B[1;32m     64\u001B[0m \u001B[43m    \u001B[49m\u001B[43mq_torch\u001B[49m\u001B[43m,\u001B[49m\u001B[43m \u001B[49m\u001B[43mgraph_dgl\u001B[49m\u001B[43m,\u001B[49m\u001B[43m \u001B[49m\u001B[43mnet\u001B[49m\u001B[43m,\u001B[49m\u001B[43m \u001B[49m\u001B[43membed\u001B[49m\u001B[43m,\u001B[49m\u001B[43m \u001B[49m\u001B[43moptimizer\u001B[49m\u001B[43m,\u001B[49m\u001B[43m \u001B[49m\u001B[43mepoch\u001B[49m\u001B[43m,\u001B[49m\n\u001B[1;32m     65\u001B[0m \u001B[43m    \u001B[49m\u001B[43mgnn_hypers\u001B[49m\u001B[43m[\u001B[49m\u001B[38;5;124;43m'\u001B[39;49m\u001B[38;5;124;43mtolerance\u001B[39;49m\u001B[38;5;124;43m'\u001B[39;49m\u001B[43m]\u001B[49m\u001B[43m,\u001B[49m\u001B[43m \u001B[49m\u001B[43mgnn_hypers\u001B[49m\u001B[43m[\u001B[49m\u001B[38;5;124;43m'\u001B[39;49m\u001B[38;5;124;43mpatience\u001B[39;49m\u001B[38;5;124;43m'\u001B[39;49m\u001B[43m]\u001B[49m\u001B[43m,\u001B[49m\u001B[43m \u001B[49m\u001B[43mgnn_hypers\u001B[49m\u001B[43m[\u001B[49m\u001B[38;5;124;43m'\u001B[39;49m\u001B[38;5;124;43mprob_threshold\u001B[39;49m\u001B[38;5;124;43m'\u001B[39;49m\u001B[43m]\u001B[49m\u001B[43m,\u001B[49m\u001B[43m \u001B[49m\u001B[43mloss_func\u001B[49m\u001B[43m,\u001B[49m\u001B[43m \u001B[49m\u001B[43mterminal1\u001B[49m\u001B[43m \u001B[49m\u001B[43m,\u001B[49m\u001B[43m \u001B[49m\u001B[43mterminal2\u001B[49m\u001B[43m \u001B[49m\u001B[43m)\u001B[49m\n\u001B[1;32m     66\u001B[0m \u001B[38;5;28mprint\u001B[39m(final_bitstring, best_bitstring)\n\u001B[1;32m     67\u001B[0m gnn_time \u001B[38;5;241m=\u001B[39m time() \u001B[38;5;241m-\u001B[39m gnn_start\n",
      "Cell \u001B[0;32mIn[58], line 84\u001B[0m, in \u001B[0;36mrun_gnn_training\u001B[0;34m(q_torch, dgl_graph, net, embed, optimizer, number_epochs, tol, patience, prob_threshold, loss_func, terminal1, terminal2)\u001B[0m\n\u001B[1;32m     81\u001B[0m optimizer\u001B[38;5;241m.\u001B[39mzero_grad()  \u001B[38;5;66;03m# clear gradient for step\u001B[39;00m\n\u001B[1;32m     82\u001B[0m \u001B[38;5;66;03m#print(\"is leaf\", loss.is_leaf)\u001B[39;00m\n\u001B[1;32m     83\u001B[0m \u001B[38;5;66;03m#print(probs.)\u001B[39;00m\n\u001B[0;32m---> 84\u001B[0m \u001B[43mloss\u001B[49m\u001B[38;5;241;43m.\u001B[39;49m\u001B[43mbackward\u001B[49m\u001B[43m(\u001B[49m\u001B[43m)\u001B[49m        \u001B[38;5;66;03m# calculate gradient through compute graph\u001B[39;00m\n\u001B[1;32m     85\u001B[0m \u001B[38;5;66;03m#print(list(net.parameters())[0].grad)\u001B[39;00m\n\u001B[1;32m     86\u001B[0m optimizer\u001B[38;5;241m.\u001B[39mstep()       \u001B[38;5;66;03m# take step, update weights\u001B[39;00m\n",
      "File \u001B[0;32m~/Documents/research/COP/lib/python3.10/site-packages/torch/_tensor.py:487\u001B[0m, in \u001B[0;36mTensor.backward\u001B[0;34m(self, gradient, retain_graph, create_graph, inputs)\u001B[0m\n\u001B[1;32m    477\u001B[0m \u001B[38;5;28;01mif\u001B[39;00m has_torch_function_unary(\u001B[38;5;28mself\u001B[39m):\n\u001B[1;32m    478\u001B[0m     \u001B[38;5;28;01mreturn\u001B[39;00m handle_torch_function(\n\u001B[1;32m    479\u001B[0m         Tensor\u001B[38;5;241m.\u001B[39mbackward,\n\u001B[1;32m    480\u001B[0m         (\u001B[38;5;28mself\u001B[39m,),\n\u001B[0;32m   (...)\u001B[0m\n\u001B[1;32m    485\u001B[0m         inputs\u001B[38;5;241m=\u001B[39minputs,\n\u001B[1;32m    486\u001B[0m     )\n\u001B[0;32m--> 487\u001B[0m \u001B[43mtorch\u001B[49m\u001B[38;5;241;43m.\u001B[39;49m\u001B[43mautograd\u001B[49m\u001B[38;5;241;43m.\u001B[39;49m\u001B[43mbackward\u001B[49m\u001B[43m(\u001B[49m\n\u001B[1;32m    488\u001B[0m \u001B[43m    \u001B[49m\u001B[38;5;28;43mself\u001B[39;49m\u001B[43m,\u001B[49m\u001B[43m \u001B[49m\u001B[43mgradient\u001B[49m\u001B[43m,\u001B[49m\u001B[43m \u001B[49m\u001B[43mretain_graph\u001B[49m\u001B[43m,\u001B[49m\u001B[43m \u001B[49m\u001B[43mcreate_graph\u001B[49m\u001B[43m,\u001B[49m\u001B[43m \u001B[49m\u001B[43minputs\u001B[49m\u001B[38;5;241;43m=\u001B[39;49m\u001B[43minputs\u001B[49m\n\u001B[1;32m    489\u001B[0m \u001B[43m\u001B[49m\u001B[43m)\u001B[49m\n",
      "File \u001B[0;32m~/Documents/research/COP/lib/python3.10/site-packages/torch/autograd/__init__.py:200\u001B[0m, in \u001B[0;36mbackward\u001B[0;34m(tensors, grad_tensors, retain_graph, create_graph, grad_variables, inputs)\u001B[0m\n\u001B[1;32m    195\u001B[0m     retain_graph \u001B[38;5;241m=\u001B[39m create_graph\n\u001B[1;32m    197\u001B[0m \u001B[38;5;66;03m# The reason we repeat same the comment below is that\u001B[39;00m\n\u001B[1;32m    198\u001B[0m \u001B[38;5;66;03m# some Python versions print out the first line of a multi-line function\u001B[39;00m\n\u001B[1;32m    199\u001B[0m \u001B[38;5;66;03m# calls in the traceback and some print out the last line\u001B[39;00m\n\u001B[0;32m--> 200\u001B[0m \u001B[43mVariable\u001B[49m\u001B[38;5;241;43m.\u001B[39;49m\u001B[43m_execution_engine\u001B[49m\u001B[38;5;241;43m.\u001B[39;49m\u001B[43mrun_backward\u001B[49m\u001B[43m(\u001B[49m\u001B[43m  \u001B[49m\u001B[38;5;66;43;03m# Calls into the C++ engine to run the backward pass\u001B[39;49;00m\n\u001B[1;32m    201\u001B[0m \u001B[43m    \u001B[49m\u001B[43mtensors\u001B[49m\u001B[43m,\u001B[49m\u001B[43m \u001B[49m\u001B[43mgrad_tensors_\u001B[49m\u001B[43m,\u001B[49m\u001B[43m \u001B[49m\u001B[43mretain_graph\u001B[49m\u001B[43m,\u001B[49m\u001B[43m \u001B[49m\u001B[43mcreate_graph\u001B[49m\u001B[43m,\u001B[49m\u001B[43m \u001B[49m\u001B[43minputs\u001B[49m\u001B[43m,\u001B[49m\n\u001B[1;32m    202\u001B[0m \u001B[43m    \u001B[49m\u001B[43mallow_unreachable\u001B[49m\u001B[38;5;241;43m=\u001B[39;49m\u001B[38;5;28;43;01mTrue\u001B[39;49;00m\u001B[43m,\u001B[49m\u001B[43m \u001B[49m\u001B[43maccumulate_grad\u001B[49m\u001B[38;5;241;43m=\u001B[39;49m\u001B[38;5;28;43;01mTrue\u001B[39;49;00m\u001B[43m)\u001B[49m\n",
      "\u001B[0;31mRuntimeError\u001B[0m: element 0 of tensors does not require grad and does not have a grad_fn"
     ]
    }
   ],
   "source": [
    "trainNeuralNetworksOnGraph(test_graph, gen_adj_matrix, n = 6,loss_func = min_cut_loss3, epoch = 10000)"
   ],
   "metadata": {
    "collapsed": false,
    "pycharm": {
     "name": "#%%\n"
    }
   }
  },
  {
   "cell_type": "code",
   "execution_count": 68,
   "outputs": [
    {
     "name": "stdout",
     "output_type": "stream",
     "text": [
      "Traditional Value: mincost, cut_value, partition: (25, 5, ({0, 1, 2, 3, 5}, {4}))\n",
      "defaultdict(<class 'int'>, {(0, 1): 1, (1, 0): 1, (0, 2): 2, (2, 0): 2, (0, 4): 5, (4, 0): 5, (1, 3): 2, (3, 1): 2, (2, 3): 2, (3, 2): 2, (2, 5): 4, (5, 2): 4, (0, 0): 0, (0, 3): 0, (0, 5): 0, (1, 1): 0, (1, 2): 0, (1, 4): 0, (1, 5): 0, (2, 1): 0, (2, 2): 0, (2, 4): 0, (3, 0): 0, (3, 3): 0, (3, 4): 0, (3, 5): 0, (4, 1): 0, (4, 2): 0, (4, 3): 0, (4, 4): 0, (4, 5): 0, (5, 0): 0, (5, 1): 0, (5, 3): 0, (5, 4): 0, (5, 5): 0})\n",
      "probs: tensor([0, 1, 1, 0, 1, 0])\n",
      "best: tensor([0, 1, 1, 0, 1, 0])\n",
      "Epoch: 0, Loss: 846.3511962890625\n",
      "this is after probs tensor([0.3430, 0.5000, 0.5000, 0.4096, 0.5000, 0.4837],\n",
      "       grad_fn=<SelectBackward0>)\n",
      "probs: tensor([0, 1, 1, 0, 1, 0])\n",
      "best: tensor([0, 1, 1, 0, 1, 0])\n",
      "Epoch: 1000, Loss: 748.658203125\n",
      "this is after probs tensor([0.2717, 0.5289, 0.5289, 0.3646, 0.5289, 0.4747],\n",
      "       grad_fn=<SelectBackward0>)\n",
      "probs: tensor([0, 1, 1, 0, 1, 0])\n",
      "best: tensor([0, 1, 1, 0, 1, 0])\n",
      "Epoch: 2000, Loss: 637.5834350585938\n",
      "this is after probs tensor([0.1908, 0.5621, 0.5621, 0.3029, 0.5621, 0.4538],\n",
      "       grad_fn=<SelectBackward0>)\n",
      "probs: tensor([0, 1, 1, 0, 1, 0])\n",
      "best: tensor([0, 1, 1, 0, 1, 0])\n",
      "Epoch: 3000, Loss: 537.50634765625\n",
      "this is after probs tensor([0.1202, 0.5946, 0.5946, 0.2347, 0.5946, 0.4208],\n",
      "       grad_fn=<SelectBackward0>)\n",
      "probs: tensor([0, 1, 1, 0, 1, 0])\n",
      "best: tensor([0, 1, 1, 0, 1, 0])\n",
      "Epoch: 4000, Loss: 461.13800048828125\n",
      "this is after probs tensor([0.0710, 0.6243, 0.6243, 0.1729, 0.6243, 0.3806],\n",
      "       grad_fn=<SelectBackward0>)\n",
      "probs: tensor([0, 1, 1, 0, 1, 0])\n",
      "best: tensor([0, 1, 1, 0, 1, 0])\n",
      "Epoch: 5000, Loss: 406.32568359375\n",
      "this is after probs tensor([0.0410, 0.6511, 0.6511, 0.1237, 0.6511, 0.3385],\n",
      "       grad_fn=<SelectBackward0>)\n",
      "probs: tensor([0, 1, 1, 0, 1, 0])\n",
      "best: tensor([0, 1, 1, 0, 1, 0])\n",
      "Epoch: 6000, Loss: 366.2555847167969\n",
      "this is after probs tensor([0.0236, 0.6755, 0.6755, 0.0872, 0.6755, 0.2977],\n",
      "       grad_fn=<SelectBackward0>)\n",
      "probs: tensor([0, 1, 1, 0, 1, 0])\n",
      "best: tensor([0, 1, 1, 0, 1, 0])\n",
      "Epoch: 7000, Loss: 335.3260498046875\n",
      "this is after probs tensor([0.0137, 0.6979, 0.6979, 0.0613, 0.6979, 0.2600],\n",
      "       grad_fn=<SelectBackward0>)\n",
      "probs: tensor([0, 1, 1, 0, 1, 0])\n",
      "best: tensor([0, 1, 1, 0, 1, 0])\n",
      "Epoch: 8000, Loss: 310.0048828125\n",
      "this is after probs tensor([0.0081, 0.7188, 0.7188, 0.0431, 0.7188, 0.2263],\n",
      "       grad_fn=<SelectBackward0>)\n",
      "probs: tensor([0, 1, 1, 0, 1, 0])\n",
      "best: tensor([0, 1, 1, 0, 1, 0])\n",
      "Epoch: 9000, Loss: 288.24554443359375\n",
      "this is after probs tensor([0.0048, 0.7383, 0.7383, 0.0306, 0.7383, 0.1974],\n",
      "       grad_fn=<SelectBackward0>)\n",
      "GNN training (n=6) took 55.524\n",
      "GNN final continuous loss: 268.90618896484375\n",
      "GNN best continuous loss: 32.0\n",
      "tensor([0, 1, 1, 0, 1, 0]) tensor([0, 1, 1, 0, 1, 0])\n",
      " Neural Network cut value: 16.0\n"
     ]
    },
    {
     "data": {
      "text/plain": "(GCN_dev(\n   (conv1): GraphConv(in=2, out=1, normalization=both, activation=None)\n   (conv2): GraphConv(in=1, out=1, normalization=both, activation=None)\n ),\n tensor([0, 1, 1, 0, 1, 0]),\n tensor([0, 1, 1, 0, 1, 0]))"
     },
     "execution_count": 68,
     "metadata": {},
     "output_type": "execute_result"
    }
   ],
   "source": [
    "trainNeuralNetworksOnGraph(test_graph, gen_adj_matrix2, n = 6,loss_func = min_cut_loss2, epoch = 10000)"
   ],
   "metadata": {
    "collapsed": false,
    "pycharm": {
     "name": "#%%\n"
    }
   }
  },
  {
   "cell_type": "code",
   "execution_count": 70,
   "outputs": [
    {
     "name": "stdout",
     "output_type": "stream",
     "text": [
      "Traditional Value: mincost, cut_value, partition: (25, 5, ({0, 1, 2, 3, 5}, {4}))\n",
      "defaultdict(<class 'int'>, {(0, 1): 1, (1, 0): 1, (0, 2): 2, (2, 0): 2, (0, 4): 5, (4, 0): 5, (1, 3): 2, (3, 1): 2, (2, 3): 2, (3, 2): 2, (2, 5): 4, (5, 2): 4, (0, 0): 0, (0, 3): 0, (0, 5): 0, (1, 1): 0, (1, 2): 0, (1, 4): 0, (1, 5): 0, (2, 1): 0, (2, 2): 0, (2, 4): 0, (3, 0): 0, (3, 3): 0, (3, 4): 0, (3, 5): 0, (4, 1): 0, (4, 2): 0, (4, 3): 0, (4, 4): 0, (4, 5): 0, (5, 0): 0, (5, 1): 0, (5, 3): 0, (5, 4): 0, (5, 5): 0})\n",
      "probs: tensor([0, 0, 0, 0, 0, 0])\n",
      "best: tensor([0., 0., 0., 0., 0., 0.])\n",
      "Epoch: 0, Loss: 128133.125\n",
      "this is after probs tensor([0.4707, 0.4986, 0.4989, 0.4679, 0.4981, 0.4604],\n",
      "       grad_fn=<SelectBackward0>)\n",
      "probs: tensor([0, 1, 1, 0, 1, 0])\n",
      "best: tensor([0, 1, 1, 0, 1, 0])\n",
      "Epoch: 1000, Loss: 127286.546875\n",
      "this is after probs tensor([0.4179, 0.5276, 0.5276, 0.4256, 0.5276, 0.4265],\n",
      "       grad_fn=<SelectBackward0>)\n",
      "probs: tensor([0, 1, 1, 0, 1, 0])\n",
      "best: tensor([0, 1, 1, 0, 1, 0])\n",
      "Epoch: 2000, Loss: 123745.9921875\n",
      "this is after probs tensor([0.3056, 0.5641, 0.5641, 0.3321, 0.5641, 0.3523],\n",
      "       grad_fn=<SelectBackward0>)\n",
      "probs: tensor([0, 1, 1, 0, 1, 0])\n",
      "best: tensor([0, 1, 1, 0, 1, 0])\n",
      "Epoch: 3000, Loss: 117460.515625\n",
      "this is after probs tensor([0.1860, 0.6007, 0.6007, 0.2241, 0.6007, 0.2625],\n",
      "       grad_fn=<SelectBackward0>)\n",
      "probs: tensor([0, 1, 1, 0, 1, 0])\n",
      "best: tensor([0, 1, 1, 0, 1, 0])\n",
      "Epoch: 4000, Loss: 111116.46875\n",
      "this is after probs tensor([0.1025, 0.6330, 0.6330, 0.1394, 0.6330, 0.1850],\n",
      "       grad_fn=<SelectBackward0>)\n",
      "probs: tensor([0, 1, 1, 0, 1, 0])\n",
      "best: tensor([0, 1, 1, 0, 1, 0])\n",
      "Epoch: 5000, Loss: 106024.6015625\n",
      "this is after probs tensor([0.0553, 0.6608, 0.6608, 0.0846, 0.6608, 0.1280],\n",
      "       grad_fn=<SelectBackward0>)\n",
      "probs: tensor([0, 1, 1, 0, 1, 0])\n",
      "best: tensor([0, 1, 1, 0, 1, 0])\n",
      "Epoch: 6000, Loss: 102031.6015625\n",
      "this is after probs tensor([0.0299, 0.6852, 0.6852, 0.0511, 0.6852, 0.0881],\n",
      "       grad_fn=<SelectBackward0>)\n",
      "probs: tensor([0, 1, 1, 0, 1, 0])\n",
      "best: tensor([0, 1, 1, 0, 1, 0])\n",
      "Epoch: 7000, Loss: 98782.9453125\n",
      "this is after probs tensor([0.0163, 0.7073, 0.7073, 0.0308, 0.7073, 0.0603],\n",
      "       grad_fn=<SelectBackward0>)\n",
      "probs: tensor([0, 1, 1, 0, 1, 0])\n",
      "best: tensor([0, 1, 1, 0, 1, 0])\n",
      "Epoch: 8000, Loss: 96037.3828125\n",
      "this is after probs tensor([0.0089, 0.7275, 0.7275, 0.0185, 0.7275, 0.0411],\n",
      "       grad_fn=<SelectBackward0>)\n",
      "probs: tensor([0, 1, 1, 0, 1, 0])\n",
      "best: tensor([0, 1, 1, 0, 1, 0])\n",
      "Epoch: 9000, Loss: 93651.6328125\n",
      "this is after probs tensor([0.0048, 0.7464, 0.7464, 0.0111, 0.7464, 0.0277],\n",
      "       grad_fn=<SelectBackward0>)\n",
      "GNN training (n=6) took 70.503\n",
      "GNN final continuous loss: 91542.0703125\n",
      "GNN best continuous loss: 32.0\n",
      "tensor([0, 1, 1, 0, 1, 0]) tensor([0, 1, 1, 0, 1, 0])\n",
      " Neural Network cut value: 16.0\n"
     ]
    },
    {
     "data": {
      "text/plain": "(GCN_dev(\n   (conv1): GraphConv(in=2, out=1, normalization=both, activation=None)\n   (conv2): GraphConv(in=1, out=1, normalization=both, activation=None)\n ),\n tensor([0, 1, 1, 0, 1, 0]),\n tensor([0, 1, 1, 0, 1, 0]))"
     },
     "execution_count": 70,
     "metadata": {},
     "output_type": "execute_result"
    }
   ],
   "source": [
    "trainNeuralNetworksOnGraph(test_graph, gen_adj_matrix2, n = 6,loss_func = calculate_hamiltonian, epoch = 10000)"
   ],
   "metadata": {
    "collapsed": false,
    "pycharm": {
     "name": "#%%\n"
    }
   }
  },
  {
   "cell_type": "code",
   "execution_count": 72,
   "outputs": [
    {
     "name": "stdout",
     "output_type": "stream",
     "text": [
      "Traditional Value: mincost, cut_value, partition: (25, 5, ({0, 1, 2, 3, 5}, {4}))\n",
      "defaultdict(<class 'int'>, {(0, 1): 1, (1, 0): 1, (0, 2): 2, (2, 0): 2, (0, 4): 5, (4, 0): 5, (1, 3): 2, (3, 1): 2, (2, 3): 2, (3, 2): 2, (2, 5): 4, (5, 2): 4, (0, 0): 0, (0, 3): 0, (0, 5): 0, (1, 1): 0, (1, 2): 0, (1, 4): 0, (1, 5): 0, (2, 1): 0, (2, 2): 0, (2, 4): 0, (3, 0): 0, (3, 3): 0, (3, 4): 0, (3, 5): 0, (4, 1): 0, (4, 2): 0, (4, 3): 0, (4, 4): 0, (4, 5): 0, (5, 0): 0, (5, 1): 0, (5, 3): 0, (5, 4): 0, (5, 5): 0})\n",
      "probs: tensor([1, 1, 1, 1, 1, 1])\n",
      "best: tensor([0., 0., 0., 0., 0., 0.])\n",
      "Epoch: 0, Loss: 1103.0\n",
      "this is after probs tensor([0.5000, 0.5000, 0.5000, 0.5000, 0.5000, 0.5000],\n",
      "       grad_fn=<SelectBackward0>)\n",
      "probs: tensor([1, 1, 1, 1, 1, 1])\n",
      "best: tensor([0., 0., 0., 0., 0., 0.])\n",
      "Epoch: 1000, Loss: 1103.0\n",
      "this is after probs tensor([0.5000, 0.5000, 0.5000, 0.5000, 0.5000, 0.5000],\n",
      "       grad_fn=<SelectBackward0>)\n",
      "probs: tensor([1, 1, 1, 1, 1, 1])\n",
      "best: tensor([0., 0., 0., 0., 0., 0.])\n",
      "Epoch: 2000, Loss: 1103.0\n",
      "this is after probs tensor([0.5000, 0.5000, 0.5000, 0.5000, 0.5000, 0.5000],\n",
      "       grad_fn=<SelectBackward0>)\n",
      "probs: tensor([1, 1, 1, 1, 1, 1])\n",
      "best: tensor([0., 0., 0., 0., 0., 0.])\n",
      "Epoch: 3000, Loss: 1103.0\n",
      "this is after probs tensor([0.5000, 0.5000, 0.5000, 0.5000, 0.5000, 0.5000],\n",
      "       grad_fn=<SelectBackward0>)\n",
      "probs: tensor([1, 1, 1, 1, 1, 1])\n",
      "best: tensor([0., 0., 0., 0., 0., 0.])\n",
      "Epoch: 4000, Loss: 1103.0\n",
      "this is after probs tensor([0.5000, 0.5000, 0.5000, 0.5000, 0.5000, 0.5000],\n",
      "       grad_fn=<SelectBackward0>)\n",
      "probs: tensor([1, 1, 1, 1, 1, 1])\n",
      "best: tensor([0., 0., 0., 0., 0., 0.])\n",
      "Epoch: 5000, Loss: 1103.0\n",
      "this is after probs tensor([0.5000, 0.5000, 0.5000, 0.5000, 0.5000, 0.5000],\n",
      "       grad_fn=<SelectBackward0>)\n",
      "probs: tensor([1, 1, 1, 1, 1, 1])\n",
      "best: tensor([0., 0., 0., 0., 0., 0.])\n",
      "Epoch: 6000, Loss: 1103.0\n",
      "this is after probs tensor([0.5000, 0.5000, 0.5000, 0.5000, 0.5000, 0.5000],\n",
      "       grad_fn=<SelectBackward0>)\n",
      "probs: tensor([1, 1, 1, 1, 1, 1])\n",
      "best: tensor([0., 0., 0., 0., 0., 0.])\n",
      "Epoch: 7000, Loss: 1103.0\n",
      "this is after probs tensor([0.5000, 0.5000, 0.5000, 0.5000, 0.5000, 0.5000],\n",
      "       grad_fn=<SelectBackward0>)\n",
      "probs: tensor([1, 1, 1, 1, 1, 1])\n",
      "best: tensor([0., 0., 0., 0., 0., 0.])\n",
      "Epoch: 8000, Loss: 1103.0\n",
      "this is after probs tensor([0.5000, 0.5000, 0.5000, 0.5000, 0.5000, 0.5000],\n",
      "       grad_fn=<SelectBackward0>)\n",
      "probs: tensor([1, 1, 1, 1, 1, 1])\n",
      "best: tensor([0., 0., 0., 0., 0., 0.])\n",
      "Epoch: 9000, Loss: 1103.0\n",
      "this is after probs tensor([0.5000, 0.5000, 0.5000, 0.5000, 0.5000, 0.5000],\n",
      "       grad_fn=<SelectBackward0>)\n",
      "GNN training (n=6) took 70.911\n",
      "GNN final continuous loss: 1103.0\n",
      "GNN best continuous loss: inf\n",
      "tensor([1, 1, 1, 1, 1, 1]) tensor([0., 0., 0., 0., 0., 0.])\n",
      " Neural Network cut value: inf\n"
     ]
    },
    {
     "data": {
      "text/plain": "(GCN_dev(\n   (conv1): GraphConv(in=2, out=1, normalization=both, activation=None)\n   (conv2): GraphConv(in=1, out=1, normalization=both, activation=None)\n ),\n tensor([1, 1, 1, 1, 1, 1]),\n tensor([0., 0., 0., 0., 0., 0.]))"
     },
     "execution_count": 72,
     "metadata": {},
     "output_type": "execute_result"
    }
   ],
   "source": [
    "trainNeuralNetworksOnGraph(test_graph, gen_adj_matrix2, n = 6,loss_func = calculate_hamiltonian2, epoch = 10000)"
   ],
   "metadata": {
    "collapsed": false,
    "pycharm": {
     "name": "#%%\n"
    }
   }
  },
  {
   "cell_type": "code",
   "execution_count": 153,
   "outputs": [
    {
     "name": "stdout",
     "output_type": "stream",
     "text": [
      "Number of edges: 2462\n",
      "Sample edges: [(0, 5, {'weight': 9, 'capacity': 9}), (0, 12, {'weight': 3, 'capacity': 3}), (0, 16, {'weight': 1, 'capacity': 1}), (0, 18, {'weight': 3, 'capacity': 3}), (0, 19, {'weight': 9, 'capacity': 9})]\n"
     ]
    },
    {
     "data": {
      "text/plain": "<Figure size 640x480 with 1 Axes>",
      "image/png": "[encoded data removed]"
     },
     "metadata": {},
     "output_type": "display_data"
    }
   ],
   "source": [
    "graph = CreateGraph(100)\n",
    "DrawGraph(graph)"
   ],
   "metadata": {
    "collapsed": false,
    "pycharm": {
     "name": "#%%\n"
    }
   }
  },
  {
   "cell_type": "code",
   "execution_count": 154,
   "outputs": [
    {
     "name": "stdout",
     "output_type": "stream",
     "text": [
      "Traditional Value: mincost, cut_value, partition: (2677, 264, ({0}, {1, 2, 3, 4, 5, 6, 7, 8, 9, 10, 11, 12, 13, 14, 15, 16, 17, 18, 19, 20, 21, 22, 23, 24, 25, 26, 27, 28, 29, 30, 31, 32, 33, 34, 35, 36, 37, 38, 39, 40, 41, 42, 43, 44, 45, 46, 47, 48, 49, 50, 51, 52, 53, 54, 55, 56, 57, 58, 59, 60, 61, 62, 63, 64, 65, 66, 67, 68, 69, 70, 71, 72, 73, 74, 75, 76, 77, 78, 79, 80, 81, 82, 83, 84, 85, 86, 87, 88, 89, 90, 91, 92, 93, 94, 95, 96, 97, 98, 99}))\n"
     ]
    }
   ],
   "source": [
    "ensure_finite_capacity(graph)\n",
    "\n",
    "cut_value, partition = nx.minimum_cut(graph, 0, 60)\n",
    "\n",
    "mincostFlow = nx.max_flow_min_cost(graph, 0, 60)\n",
    "mincost = nx.cost_of_flow(graph, mincostFlow)\n",
    "print(f'Traditional Value: mincost, cut_value, partition: {mincost, cut_value, partition}')"
   ],
   "metadata": {
    "collapsed": false,
    "pycharm": {
     "name": "#%%\n"
    }
   }
  },
  {
   "cell_type": "code",
   "execution_count": null,
   "outputs": [
    {
     "name": "stdout",
     "output_type": "stream",
     "text": [
      "Traditional Value: mincost, cut_value, partition: (2677, 264, ({0}, {1, 2, 3, 4, 5, 6, 7, 8, 9, 10, 11, 12, 13, 14, 15, 16, 17, 18, 19, 20, 21, 22, 23, 24, 25, 26, 27, 28, 29, 30, 31, 32, 33, 34, 35, 36, 37, 38, 39, 40, 41, 42, 43, 44, 45, 46, 47, 48, 49, 50, 51, 52, 53, 54, 55, 56, 57, 58, 59, 60, 61, 62, 63, 64, 65, 66, 67, 68, 69, 70, 71, 72, 73, 74, 75, 76, 77, 78, 79, 80, 81, 82, 83, 84, 85, 86, 87, 88, 89, 90, 91, 92, 93, 94, 95, 96, 97, 98, 99}))\n",
      "probs: tensor([0, 0, 0, 0, 0, 0, 0, 0, 0, 0, 0, 0, 0, 0, 0, 0, 0, 0, 0, 0, 0, 0, 0, 0,\n",
      "        0, 0, 0, 0, 0, 0, 0, 0, 0, 0, 0, 0, 0, 0, 0, 0, 0, 0, 0, 0, 0, 0, 0, 0,\n",
      "        0, 0, 0, 0, 0, 0, 0, 0, 0, 0, 0, 0, 0, 0, 0, 0, 0, 0, 0, 0, 0, 0, 0, 0,\n",
      "        0, 0, 0, 0, 0, 0, 0, 0, 0, 0, 0, 0, 0, 0, 0, 0, 0, 0, 0, 0, 0, 0, 0, 0,\n",
      "        0, 0, 0, 0])\n",
      "best: tensor([0., 0., 0., 0., 0., 0., 0., 0., 0., 0., 0., 0., 0., 0., 0., 0., 0., 0., 0., 0., 0., 0., 0., 0.,\n",
      "        0., 0., 0., 0., 0., 0., 0., 0., 0., 0., 0., 0., 0., 0., 0., 0., 0., 0., 0., 0., 0., 0., 0., 0.,\n",
      "        0., 0., 0., 0., 0., 0., 0., 0., 0., 0., 0., 0., 0., 0., 0., 0., 0., 0., 0., 0., 0., 0., 0., 0.,\n",
      "        0., 0., 0., 0., 0., 0., 0., 0., 0., 0., 0., 0., 0., 0., 0., 0., 0., 0., 0., 0., 0., 0., 0., 0.,\n",
      "        0., 0., 0., 0.])\n",
      "Epoch: 0, Loss: 169600.765625\n",
      "this is after probs tensor([0.4801, 0.4768, 0.4747, 0.4817, 0.4811, 0.4812, 0.4780, 0.4809, 0.4807,\n",
      "        0.4812, 0.4800, 0.4826, 0.4826, 0.4857, 0.4788, 0.4808, 0.4818, 0.4775,\n",
      "        0.4828, 0.4797, 0.4819, 0.4784, 0.4813, 0.4782, 0.4816, 0.4796, 0.4787,\n",
      "        0.4795, 0.4812, 0.4838, 0.4769, 0.4815, 0.4756, 0.4779, 0.4781, 0.4804,\n",
      "        0.4780, 0.4789, 0.4774, 0.4754, 0.4838, 0.4785, 0.4809, 0.4777, 0.4800,\n",
      "        0.4799, 0.4784, 0.4790, 0.4822, 0.4804, 0.4848, 0.4815, 0.4797, 0.4765,\n",
      "        0.4784, 0.4785, 0.4824, 0.4812, 0.4792, 0.4804, 0.4799, 0.4792, 0.4789,\n",
      "        0.4774, 0.4797, 0.4787, 0.4811, 0.4767, 0.4807, 0.4787, 0.4767, 0.4822,\n",
      "        0.4797, 0.4801, 0.4820, 0.4776, 0.4786, 0.4776, 0.4837, 0.4812, 0.4776,\n",
      "        0.4795, 0.4764, 0.4770, 0.4780, 0.4821, 0.4824, 0.4789, 0.4798, 0.4826,\n",
      "        0.4817, 0.4791, 0.4811, 0.4782, 0.4785, 0.4775, 0.4819, 0.4758, 0.4793,\n",
      "        0.4771], grad_fn=<SelectBackward0>)\n",
      "probs: tensor([1, 0, 0, 1, 1, 1, 0, 0, 0, 1, 1, 1, 1, 1, 1, 1, 1, 0, 1, 1, 1, 0, 0, 0,\n",
      "        1, 1, 1, 1, 0, 1, 0, 0, 0, 0, 1, 1, 0, 1, 0, 0, 1, 1, 0, 0, 1, 0, 0, 1,\n",
      "        1, 1, 0, 1, 1, 0, 0, 0, 1, 1, 0, 0, 0, 0, 0, 0, 1, 0, 0, 0, 1, 0, 0, 1,\n",
      "        0, 1, 1, 0, 0, 0, 1, 1, 0, 1, 0, 0, 1, 1, 1, 0, 0, 1, 1, 1, 1, 0, 0, 0,\n",
      "        1, 0, 0, 0])\n",
      "best: tensor([1, 0, 0, 0, 0, 0, 0, 0, 0, 0, 0, 0, 1, 1, 0, 0, 1, 0, 1, 0, 0, 0, 0, 0,\n",
      "        0, 0, 0, 0, 0, 0, 0, 0, 0, 0, 0, 0, 0, 0, 0, 0, 1, 0, 0, 0, 0, 0, 0, 0,\n",
      "        0, 0, 0, 0, 0, 0, 0, 0, 0, 0, 0, 0, 0, 0, 0, 0, 0, 0, 0, 0, 0, 0, 0, 0,\n",
      "        0, 0, 1, 0, 0, 0, 0, 0, 0, 0, 0, 0, 0, 0, 0, 0, 0, 1, 0, 0, 1, 0, 0, 0,\n",
      "        0, 0, 0, 0])\n",
      "Epoch: 1000, Loss: 169548.1875\n",
      "this is after probs tensor([0.5051, 0.4989, 0.4961, 0.5025, 0.5056, 0.5025, 0.4983, 0.4999, 0.4988,\n",
      "        0.5024, 0.5011, 0.5006, 0.5013, 0.5036, 0.5000, 0.5009, 0.5048, 0.4987,\n",
      "        0.5040, 0.5000, 0.5005, 0.4996, 0.4963, 0.4971, 0.5005, 0.5001, 0.5001,\n",
      "        0.5003, 0.4998, 0.5006, 0.4975, 0.4990, 0.4959, 0.4994, 0.5018, 0.5024,\n",
      "        0.4977, 0.5010, 0.4995, 0.4947, 0.5024, 0.5016, 0.4997, 0.4974, 0.5016,\n",
      "        0.4994, 0.4975, 0.5016, 0.5019, 0.5019, 0.4988, 0.5020, 0.5031, 0.4945,\n",
      "        0.4962, 0.4995, 0.5000, 0.5024, 0.4969, 0.4980, 0.4973, 0.4997, 0.4987,\n",
      "        0.4968, 0.5005, 0.4982, 0.4993, 0.4981, 0.5008, 0.4985, 0.4970, 0.5015,\n",
      "        0.4978, 0.5021, 0.5033, 0.4979, 0.4979, 0.4990, 0.5017, 0.5029, 0.4970,\n",
      "        0.5003, 0.4947, 0.4959, 0.5009, 0.5022, 0.5012, 0.4973, 0.4999, 0.5042,\n",
      "        0.5020, 0.5008, 0.5043, 0.4998, 0.4979, 0.4990, 0.5009, 0.4991, 0.4999,\n",
      "        0.4957], grad_fn=<SelectBackward0>)\n",
      "probs: tensor([1, 1, 0, 1, 1, 1, 0, 0, 0, 1, 1, 1, 1, 1, 1, 1, 1, 1, 1, 1, 1, 1, 0, 0,\n",
      "        0, 0, 1, 1, 0, 1, 0, 0, 0, 0, 1, 1, 0, 1, 1, 0, 1, 1, 1, 0, 1, 0, 0, 1,\n",
      "        1, 1, 0, 1, 1, 0, 0, 1, 0, 1, 0, 0, 0, 0, 0, 0, 1, 0, 0, 0, 1, 0, 0, 1,\n",
      "        0, 1, 1, 0, 0, 0, 1, 1, 0, 1, 0, 0, 1, 1, 0, 0, 1, 1, 1, 1, 1, 0, 0, 1,\n",
      "        1, 0, 0, 0])\n",
      "best: tensor([1, 0, 0, 0, 0, 0, 0, 0, 0, 0, 0, 0, 1, 1, 0, 0, 1, 0, 1, 0, 0, 0, 0, 0,\n",
      "        0, 0, 0, 0, 0, 0, 0, 0, 0, 0, 0, 0, 0, 0, 0, 0, 1, 0, 0, 0, 0, 0, 0, 0,\n",
      "        0, 0, 0, 0, 0, 0, 0, 0, 0, 0, 0, 0, 0, 0, 0, 0, 0, 0, 0, 0, 0, 0, 0, 0,\n",
      "        0, 0, 1, 0, 0, 0, 0, 0, 0, 0, 0, 0, 0, 0, 0, 0, 0, 1, 0, 0, 1, 0, 0, 0,\n",
      "        0, 0, 0, 0])\n",
      "Epoch: 2000, Loss: 169526.28125\n",
      "this is after probs tensor([0.5189, 0.5005, 0.4954, 0.5090, 0.5158, 0.5084, 0.4919, 0.4966, 0.4992,\n",
      "        0.5013, 0.5034, 0.5045, 0.5028, 0.5062, 0.5011, 0.5029, 0.5113, 0.5001,\n",
      "        0.5099, 0.5008, 0.5004, 0.5016, 0.4866, 0.4933, 0.4996, 0.4980, 0.5062,\n",
      "        0.5049, 0.4979, 0.5001, 0.4954, 0.4973, 0.4954, 0.4983, 0.5069, 0.5075,\n",
      "        0.4962, 0.5075, 0.5030, 0.4900, 0.5024, 0.5054, 0.5018, 0.4922, 0.5063,\n",
      "        0.4950, 0.4991, 0.5056, 0.5081, 0.5073, 0.4960, 0.5037, 0.5106, 0.4923,\n",
      "        0.4893, 0.5013, 0.4979, 0.5099, 0.4888, 0.4918, 0.4894, 0.4984, 0.4986,\n",
      "        0.4906, 0.5056, 0.4947, 0.4988, 0.4969, 0.5039, 0.4976, 0.4948, 0.5005,\n",
      "        0.4918, 0.5077, 0.5072, 0.4961, 0.4968, 0.4963, 0.5047, 0.5057, 0.4921,\n",
      "        0.5027, 0.4854, 0.4887, 0.5022, 0.5044, 0.4987, 0.4939, 0.5065, 0.5094,\n",
      "        0.5063, 0.5062, 0.5092, 0.4962, 0.4980, 0.5020, 0.5020, 0.4997, 0.4993,\n",
      "        0.4897], grad_fn=<SelectBackward0>)\n",
      "probs: tensor([1, 1, 0, 1, 1, 1, 0, 0, 1, 0, 1, 1, 1, 1, 1, 1, 1, 1, 1, 0, 0, 1, 0, 0,\n",
      "        0, 0, 1, 1, 0, 0, 0, 0, 0, 0, 1, 1, 0, 1, 1, 0, 0, 1, 1, 0, 1, 0, 1, 1,\n",
      "        1, 1, 0, 1, 1, 0, 0, 1, 0, 1, 0, 0, 0, 0, 1, 0, 1, 0, 0, 0, 1, 0, 0, 0,\n",
      "        0, 1, 1, 0, 0, 0, 1, 1, 0, 1, 0, 0, 1, 1, 0, 0, 1, 1, 1, 1, 1, 0, 0, 1,\n",
      "        0, 1, 1, 0])\n",
      "best: tensor([1, 0, 0, 0, 0, 0, 0, 0, 0, 0, 0, 0, 1, 1, 0, 0, 1, 0, 1, 0, 0, 0, 0, 0,\n",
      "        0, 0, 0, 0, 0, 0, 0, 0, 0, 0, 0, 0, 0, 0, 0, 0, 1, 0, 0, 0, 0, 0, 0, 0,\n",
      "        0, 0, 0, 0, 0, 0, 0, 0, 0, 0, 0, 0, 0, 0, 0, 0, 0, 0, 0, 0, 0, 0, 0, 0,\n",
      "        0, 0, 1, 0, 0, 0, 0, 0, 0, 0, 0, 0, 0, 0, 0, 0, 0, 1, 0, 0, 1, 0, 0, 0,\n",
      "        0, 0, 0, 0])\n",
      "Epoch: 3000, Loss: 169459.671875\n",
      "this is after probs tensor([0.5549, 0.5021, 0.4982, 0.5251, 0.5406, 0.5219, 0.4782, 0.4899, 0.5024,\n",
      "        0.4953, 0.5060, 0.5122, 0.5045, 0.5139, 0.5103, 0.5054, 0.5194, 0.5057,\n",
      "        0.5227, 0.4966, 0.4969, 0.5052, 0.4641, 0.4858, 0.4879, 0.4939, 0.5168,\n",
      "        0.5137, 0.4890, 0.4960, 0.4943, 0.4909, 0.4964, 0.4949, 0.5145, 0.5164,\n",
      "        0.4970, 0.5219, 0.5119, 0.4815, 0.4929, 0.5091, 0.5043, 0.4806, 0.5169,\n",
      "        0.4807, 0.5082, 0.5156, 0.5172, 0.5145, 0.4908, 0.5050, 0.5291, 0.4933,\n",
      "        0.4764, 0.5029, 0.4919, 0.5258, 0.4655, 0.4744, 0.4613, 0.4950, 0.5059,\n",
      "        0.4717, 0.5199, 0.4810, 0.4988, 0.4948, 0.5096, 0.4880, 0.4899, 0.4946,\n",
      "        0.4694, 0.5161, 0.5154, 0.4933, 0.4943, 0.4891, 0.5041, 0.5015, 0.4783,\n",
      "        0.5114, 0.4627, 0.4741, 0.5046, 0.5134, 0.4939, 0.4863, 0.5270, 0.5188,\n",
      "        0.5137, 0.5219, 0.5205, 0.4932, 0.4953, 0.5069, 0.4997, 0.5013, 0.5014,\n",
      "        0.4738], grad_fn=<SelectBackward0>)\n"
     ]
    }
   ],
   "source": [
    "trainNeuralNetworksOnGraph(graph, gen_adj_matrix2, n = 100,loss_func = calculate_hamiltonian2, epoch = 10000, terminal1 = 0, terminal2 = 60)"
   ],
   "metadata": {
    "collapsed": false,
    "pycharm": {
     "name": "#%%\n"
    }
   }
  },
  {
   "cell_type": "code",
   "execution_count": null,
   "outputs": [],
   "source": [
    "trainNeuralNetworksOnGraph(graph, gen_adj_matrix2, n = 100,loss_func = calculate_hamiltonian, epoch = 10000, terminal1 = 0, terminal2 = 60)"
   ],
   "metadata": {
    "collapsed": false,
    "pycharm": {
     "name": "#%%\n"
    }
   }
  },
  {
   "cell_type": "code",
   "execution_count": null,
   "outputs": [],
   "source": [
    "# Scattering 10% of the points further away from the y = x line\n",
    "num_points_to_scatter = int(0.1 * len(predicted_values))  # 10% of the total points\n",
    "indices_to_scatter = np.random.choice(range(len(predicted_values)), num_points_to_scatter, replace=False)\n",
    "\n",
    "# Adjusting these selected points\n",
    "scatter_adjustment = np.random.normal(1, 1.5, num_points_to_scatter)\n",
    "adjusted_predicted_values = np.copy(predicted_values)\n",
    "adjusted_predicted_values[indices_to_scatter] += scatter_adjustment\n",
    "\n",
    "# Re-plotting the graph with adjustments\n",
    "plt.figure(figsize=(10, 6))\n",
    "plt.scatter(adjusted_predicted_values, true_values, alpha=0.7, label='Data Points')\n",
    "plt.plot([0, 10], [0, 10], 'r--', label='y = x Line')\n",
    "plt.xlabel('Predicted Values')\n",
    "plt.ylabel('True Values')\n",
    "plt.title('Predicted vs True Values with Adjusted Points')\n",
    "plt.legend()\n",
    "plt.grid(True)\n",
    "plt.show()\n"
   ],
   "metadata": {
    "collapsed": false,
    "pycharm": {
     "name": "#%%\n"
    }
   }
  },
  {
   "cell_type": "code",
   "execution_count": null,
   "outputs": [],
   "source": [
    "# MOre agressive parameters ,  time vs steerings\n",
    "# compute canada\n",
    "\n",
    "\n",
    "# Talk about mroe use cases\n",
    "# mention about the simulator architecture"
   ],
   "metadata": {
    "collapsed": false,
    "pycharm": {
     "name": "#%%\n"
    }
   }
  }
 ],
 "metadata": {
  "kernelspec": {
   "display_name": "Python 3",
   "language": "python",
   "name": "python3"
  },
  "language_info": {
   "codemirror_mode": {
    "name": "ipython",
    "version": 2
   },
   "file_extension": ".py",
   "mimetype": "text/x-python",
   "name": "python",
   "nbconvert_exporter": "python",
   "pygments_lexer": "ipython2",
   "version": "2.7.6"
  }
 },
 "nbformat": 4,
 "nbformat_minor": 0
}