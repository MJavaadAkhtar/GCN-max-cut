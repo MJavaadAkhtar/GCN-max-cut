{
 "cells": [
  {
   "metadata": {
    "ExecuteTime": {
     "end_time": "2025-08-19T23:46:27.376360Z",
     "start_time": "2025-08-19T23:46:27.373160Z"
    }
   },
   "cell_type": "code",
   "source": [
    "# Randomized k-way Max-Cut Algorithm\n",
    "\n",
    "import sys\n",
    "import os\n",
    "import numpy as np\n",
    "import matplotlib.pyplot as plt\n",
    "from time import time\n",
    "\n",
    "# Add the python directory to the path for imports\n",
    "sys.path.append('..')\n",
    "\n",
    "# Import our randomized algorithm module\n",
    "from RandomizedMaxCut import (\n",
    "    create_random_regular_graph,\n",
    "    calculate_cut_value,\n",
    "    randomized_k_way_maxcut,\n",
    "    evaluate_algorithm_on_graphs,\n",
    "    benchmark_algorithm,\n",
    "    analyze_results,\n",
    "    test_fixed_terminals,\n",
    "    quick_demo\n",
    ")\n",
    "\n",
    "print(\"Randomized Max-Cut Algorithm Module Loaded\")\n",
    "print(\"Available functions:\")\n",
    "print(\"- create_random_regular_graph(): Create regular graphs\")\n",
    "print(\"- randomized_k_way_maxcut(): Main algorithm\")\n",
    "print(\"- evaluate_algorithm_on_graphs(): Evaluate on multiple graphs\")\n",
    "print(\"- benchmark_algorithm(): Comprehensive benchmarking\")\n",
    "print(\"- test_fixed_terminals(): Test with terminal constraints\")\n",
    "print(\"- quick_demo(): Quick demonstration\")"
   ],
   "id": "initial_id",
   "outputs": [
    {
     "name": "stdout",
     "output_type": "stream",
     "text": [
      "Randomized Max-Cut Algorithm Module Loaded\n",
      "Available functions:\n",
      "- create_random_regular_graph(): Create regular graphs\n",
      "- randomized_k_way_maxcut(): Main algorithm\n",
      "- evaluate_algorithm_on_graphs(): Evaluate on multiple graphs\n",
      "- benchmark_algorithm(): Comprehensive benchmarking\n",
      "- test_fixed_terminals(): Test with terminal constraints\n",
      "- quick_demo(): Quick demonstration\n"
     ]
    }
   ],
   "execution_count": 2
  },
  {
   "metadata": {},
   "cell_type": "markdown",
   "source": [
    "# Randomized k-way Max-Cut Algorithm\n",
    "\n",
    "This notebook demonstrates the usage of the randomized k-way max-cut algorithm for solving graph partitioning problems. The algorithm implementation has been extracted into a separate Python module (`RandomizedMaxCut.py`) for better code organization and reusability.\n",
    "\n",
    "## Key Features:\n",
    "- **Randomized algorithm** with early stopping\n",
    "- **Fixed terminal support** for neural network comparison\n",
    "- **Comprehensive benchmarking** across different graph sizes and partition counts\n",
    "- **Visualization tools** for performance analysis\n",
    "\n",
    "## Algorithm Overview:\n",
    "The randomized k-way max-cut algorithm tries to find a partition of graph nodes into k groups that maximizes the total weight of edges crossing between different partitions. It uses random assignment with early stopping based on improvement thresholds."
   ],
   "id": "tlgcl4d94rm"
  },
  {
   "metadata": {},
   "cell_type": "markdown",
   "source": [
    "## Quick Demo\n",
    "\n",
    "Let's start with a quick demonstration of the algorithm on a small graph."
   ],
   "id": "8x69nnef8fh"
  },
  {
   "metadata": {
    "ExecuteTime": {
     "end_time": "2025-08-19T23:46:29.608023Z",
     "start_time": "2025-08-19T23:46:29.543884Z"
    }
   },
   "cell_type": "code",
   "source": [
    "# Run the quick demo\n",
    "quick_demo()"
   ],
   "id": "p694imxxgae",
   "outputs": [
    {
     "name": "stdout",
     "output_type": "stream",
     "text": [
      "Quick Demo: Randomized k-way Max-Cut Algorithm\n",
      "==================================================\n",
      "Graph: 500 nodes, 2000 edges\n",
      "Best cut value: 1393\n",
      "Runtime: 0.06 seconds\n",
      "Partition distribution: {0: 153, 2: 176, 1: 171}\n",
      "First 10 node assignments: {0: 0, 1: 2, 2: 1, 3: 2, 4: 2, 5: 2, 6: 2, 7: 2, 8: 2, 9: 2}\n"
     ]
    }
   ],
   "execution_count": 3
  },
  {
   "metadata": {
    "ExecuteTime": {
     "end_time": "2025-08-19T23:46:30.865582Z",
     "start_time": "2025-08-19T23:46:30.485729Z"
    }
   },
   "cell_type": "code",
   "source": [
    "# Example 1: Basic usage of the randomized max-cut algorithm\n",
    "\n",
    "print(\"Example 1: Basic Randomized Max-Cut\")\n",
    "print(\"=\" * 40)\n",
    "\n",
    "# Create a random regular graph\n",
    "n_nodes = 1000\n",
    "degree = 8\n",
    "k_partitions = 3\n",
    "\n",
    "G = create_random_regular_graph(n=n_nodes, degree=degree, random_seed=42)\n",
    "\n",
    "print(f\"Created graph with {len(G.nodes())} nodes and {len(G.edges())} edges\")\n",
    "print(f\"Target: {k_partitions}-way max-cut\")\n",
    "\n",
    "# Run the algorithm\n",
    "start_time = time()\n",
    "best_cut_value, best_partition = randomized_k_way_maxcut(\n",
    "    graph=G,\n",
    "    k=k_partitions,\n",
    "    max_iterations=2000,\n",
    "    threshold=1,\n",
    "    patience=100,\n",
    "    random_seed=42\n",
    ")\n",
    "runtime = time() - start_time\n",
    "\n",
    "print(f\"\\nResults:\")\n",
    "print(f\"Best cut value: {best_cut_value}\")\n",
    "print(f\"Runtime: {runtime:.3f} seconds\")\n",
    "\n",
    "# Analyze the partition\n",
    "from collections import Counter\n",
    "partition_distribution = Counter(best_partition.values())\n",
    "print(f\"Partition sizes: {dict(partition_distribution)}\")\n",
    "\n",
    "# Calculate some statistics\n",
    "total_edges = len(G.edges())\n",
    "cut_ratio = best_cut_value / total_edges\n",
    "print(f\"Cut ratio (cut edges / total edges): {cut_ratio:.3f}\")\n",
    "\n",
    "print(f\"Sample node assignments: {dict(list(best_partition.items())[:10])}\")"
   ],
   "id": "wty3vq4b5c",
   "outputs": [
    {
     "name": "stdout",
     "output_type": "stream",
     "text": [
      "Example 1: Basic Randomized Max-Cut\n",
      "========================================\n",
      "Created graph with 1000 nodes and 4000 edges\n",
      "Target: 3-way max-cut\n",
      "\n",
      "Results:\n",
      "Best cut value: 2741\n",
      "Runtime: 0.341 seconds\n",
      "Partition sizes: {1: 327, 2: 329, 0: 344}\n",
      "Cut ratio (cut edges / total edges): 0.685\n",
      "Sample node assignments: {0: 1, 1: 1, 2: 2, 3: 1, 4: 1, 5: 0, 6: 1, 7: 0, 8: 1, 9: 2}\n"
     ]
    }
   ],
   "execution_count": 4
  },
  {
   "metadata": {},
   "cell_type": "markdown",
   "source": [
    "## Example 2: Fixed Terminals (Neural Network Comparison)\n",
    "\n",
    "This example demonstrates how to use fixed terminal nodes, which is useful when comparing with neural network approaches that require specific terminal constraints."
   ],
   "id": "ldedhvdcpzp"
  },
  {
   "metadata": {
    "ExecuteTime": {
     "end_time": "2025-08-19T23:46:33.335966Z",
     "start_time": "2025-08-19T23:46:33.149150Z"
    }
   },
   "cell_type": "code",
   "source": [
    "# Example 2: Using fixed terminals (similar to neural network constraints)\n",
    "\n",
    "print(\"Example 2: Fixed Terminal Constraints\")\n",
    "print(\"=\" * 40)\n",
    "\n",
    "# Use the same graph from Example 1\n",
    "print(f\"Using the same graph: {len(G.nodes())} nodes, {len(G.edges())} edges\")\n",
    "\n",
    "# Define fixed terminals (commonly used in neural network approaches)\n",
    "# Fix the first 3 nodes to different partitions\n",
    "fixed_terminals = {0: 0, 1: 1, 2: 2}\n",
    "print(f\"Fixed terminals: {fixed_terminals}\")\n",
    "\n",
    "# Run algorithm with fixed terminals\n",
    "start_time = time()\n",
    "cut_value_fixed, partition_fixed = randomized_k_way_maxcut(\n",
    "    graph=G,\n",
    "    k=3,\n",
    "    max_iterations=2000,\n",
    "    threshold=1,\n",
    "    patience=100,\n",
    "    fixed_terminals=fixed_terminals,\n",
    "    random_seed=42\n",
    ")\n",
    "runtime_fixed = time() - start_time\n",
    "\n",
    "print(f\"\\nResults with fixed terminals:\")\n",
    "print(f\"Cut value: {cut_value_fixed}\")\n",
    "print(f\"Runtime: {runtime_fixed:.3f} seconds\")\n",
    "\n",
    "# Verify terminal constraints\n",
    "print(f\"\\nTerminal verification:\")\n",
    "for terminal_node, expected_partition in fixed_terminals.items():\n",
    "    actual_partition = partition_fixed[terminal_node]\n",
    "    status = \"✓\" if actual_partition == expected_partition else \"✗\"\n",
    "    print(f\"  Node {terminal_node}: expected partition {expected_partition}, got {actual_partition} {status}\")\n",
    "\n",
    "# Compare with unconstrained result\n",
    "print(f\"\\nComparison with unconstrained algorithm:\")\n",
    "print(f\"  Unconstrained cut value: {best_cut_value}\")\n",
    "print(f\"  Fixed terminals cut value: {cut_value_fixed}\")\n",
    "cut_difference = best_cut_value - cut_value_fixed\n",
    "percentage_loss = (cut_difference / best_cut_value) * 100 if best_cut_value > 0 else 0\n",
    "print(f\"  Difference: {cut_difference} ({percentage_loss:.1f}% reduction)\")\n",
    "\n",
    "runtime_difference = runtime_fixed - runtime\n",
    "print(f\"  Runtime difference: {runtime_difference:.3f} seconds\")"
   ],
   "id": "l4tobheida",
   "outputs": [
    {
     "name": "stdout",
     "output_type": "stream",
     "text": [
      "Example 2: Fixed Terminal Constraints\n",
      "========================================\n",
      "Using the same graph: 1000 nodes, 4000 edges\n",
      "Fixed terminals: {0: 0, 1: 1, 2: 2}\n",
      "\n",
      "Results with fixed terminals:\n",
      "Cut value: 2738\n",
      "Runtime: 0.182 seconds\n",
      "\n",
      "Terminal verification:\n",
      "  Node 0: expected partition 0, got 0 ✓\n",
      "  Node 1: expected partition 1, got 1 ✓\n",
      "  Node 2: expected partition 2, got 2 ✓\n",
      "\n",
      "Comparison with unconstrained algorithm:\n",
      "  Unconstrained cut value: 2741\n",
      "  Fixed terminals cut value: 2738\n",
      "  Difference: 3 (0.1% reduction)\n",
      "  Runtime difference: -0.159 seconds\n"
     ]
    }
   ],
   "execution_count": 5
  },
  {
   "metadata": {},
   "cell_type": "markdown",
   "source": [
    "## Example 3: Multiple Graph Evaluation\n",
    "\n",
    "Evaluate the algorithm's performance across multiple graphs to get statistical insights."
   ],
   "id": "1y5d88qtqoo"
  },
  {
   "metadata": {
    "ExecuteTime": {
     "end_time": "2025-08-19T23:46:39.357334Z",
     "start_time": "2025-08-19T23:46:38.765640Z"
    }
   },
   "cell_type": "code",
   "source": [
    "# Example 3: Evaluate algorithm on multiple graphs\n",
    "\n",
    "print(\"Example 3: Multiple Graph Evaluation\")\n",
    "print(\"=\" * 40)\n",
    "\n",
    "# Generate multiple test graphs\n",
    "num_graphs = 5\n",
    "graph_size = 800\n",
    "graph_degree = 8\n",
    "\n",
    "test_graphs = []\n",
    "for i in range(num_graphs):\n",
    "    G_test = create_random_regular_graph(n=graph_size, degree=graph_degree, random_seed=100 + i)\n",
    "    test_graphs.append(G_test)\n",
    "\n",
    "print(f\"Generated {num_graphs} test graphs with {graph_size} nodes each\")\n",
    "\n",
    "# Evaluate algorithm on all graphs\n",
    "evaluation_results = evaluate_algorithm_on_graphs(\n",
    "    graphs=test_graphs,\n",
    "    k=3,\n",
    "    max_iterations=1000,\n",
    "    threshold=1,\n",
    "    patience=50,\n",
    "    fixed_terminals=None  # No terminal constraints for this test\n",
    ")\n",
    "\n",
    "print(f\"\\nEvaluation Results:\")\n",
    "print(f\"Mean cut value: {evaluation_results['mean_cut_value']:.1f}\")\n",
    "print(f\"Total runtime: {evaluation_results['total_time']:.2f} seconds\")\n",
    "print(f\"Average runtime per graph: {evaluation_results['total_time'] / num_graphs:.2f} seconds\")\n",
    "\n",
    "# Show individual results\n",
    "print(f\"\\nIndividual graph results:\")\n",
    "for i, cut_value in enumerate(evaluation_results['cut_values']):\n",
    "    graph = test_graphs[i]\n",
    "    cut_ratio = cut_value / len(graph.edges())\n",
    "    print(f\"  Graph {i+1}: cut_value = {cut_value}, cut_ratio = {cut_ratio:.3f}\")\n",
    "\n",
    "# Calculate statistics\n",
    "cut_values = evaluation_results['cut_values']\n",
    "print(f\"\\nStatistical Summary:\")\n",
    "print(f\"  Min cut value: {min(cut_values)}\")\n",
    "print(f\"  Max cut value: {max(cut_values)}\")\n",
    "print(f\"  Standard deviation: {np.std(cut_values):.1f}\")\n",
    "print(f\"  Coefficient of variation: {(np.std(cut_values) / np.mean(cut_values) * 100):.1f}%\")"
   ],
   "id": "6sutwdnpiv3",
   "outputs": [
    {
     "name": "stdout",
     "output_type": "stream",
     "text": [
      "Example 3: Multiple Graph Evaluation\n",
      "========================================\n",
      "Generated 5 test graphs with 800 nodes each\n",
      "\n",
      "Evaluation Results:\n",
      "Mean cut value: 2194.2\n",
      "Total runtime: 0.54 seconds\n",
      "Average runtime per graph: 0.11 seconds\n",
      "\n",
      "Individual graph results:\n",
      "  Graph 1: cut_value = 2211, cut_ratio = 0.691\n",
      "  Graph 2: cut_value = 2190, cut_ratio = 0.684\n",
      "  Graph 3: cut_value = 2190, cut_ratio = 0.684\n",
      "  Graph 4: cut_value = 2185, cut_ratio = 0.683\n",
      "  Graph 5: cut_value = 2195, cut_ratio = 0.686\n",
      "\n",
      "Statistical Summary:\n",
      "  Min cut value: 2185\n",
      "  Max cut value: 2211\n",
      "  Standard deviation: 9.0\n",
      "  Coefficient of variation: 0.4%\n"
     ]
    }
   ],
   "execution_count": 6
  },
  {
   "metadata": {},
   "cell_type": "markdown",
   "source": [
    "## Example 4: Parameter Sensitivity Analysis\n",
    "\n",
    "Test how different algorithm parameters affect performance."
   ],
   "id": "t4l5689bmog"
  },
  {
   "metadata": {
    "ExecuteTime": {
     "end_time": "2025-08-19T23:46:42.625355Z",
     "start_time": "2025-08-19T23:46:40.313509Z"
    }
   },
   "cell_type": "code",
   "source": [
    "# Example 4: Parameter sensitivity analysis\n",
    "\n",
    "print(\"Example 4: Parameter Sensitivity Analysis\")\n",
    "print(\"=\" * 45)\n",
    "\n",
    "# Create a test graph for consistent comparison\n",
    "test_graph = create_random_regular_graph(n=1000, degree=8, random_seed=123)\n",
    "print(f\"Test graph: {len(test_graph.nodes())} nodes, {len(test_graph.edges())} edges\")\n",
    "\n",
    "# Test different max_iterations values\n",
    "print(f\"\\nTesting different max_iterations values:\")\n",
    "iteration_values = [100, 500, 1000, 2000, 5000]\n",
    "iteration_results = []\n",
    "\n",
    "for max_iter in iteration_values:\n",
    "    start_time = time()\n",
    "    cut_value, _ = randomized_k_way_maxcut(\n",
    "        test_graph, k=3, max_iterations=max_iter,\n",
    "        threshold=1, patience=50, random_seed=123\n",
    "    )\n",
    "    runtime = time() - start_time\n",
    "    iteration_results.append((max_iter, cut_value, runtime))\n",
    "    print(f\"  max_iterations={max_iter:4d}: cut_value={cut_value:4d}, time={runtime:.3f}s\")\n",
    "\n",
    "# Test different patience values\n",
    "print(f\"\\nTesting different patience values:\")\n",
    "patience_values = [10, 25, 50, 100, 200]\n",
    "patience_results = []\n",
    "\n",
    "for patience in patience_values:\n",
    "    start_time = time()\n",
    "    cut_value, _ = randomized_k_way_maxcut(\n",
    "        test_graph, k=3, max_iterations=2000,\n",
    "        threshold=1, patience=patience, random_seed=123\n",
    "    )\n",
    "    runtime = time() - start_time\n",
    "    patience_results.append((patience, cut_value, runtime))\n",
    "    print(f\"  patience={patience:3d}: cut_value={cut_value:4d}, time={runtime:.3f}s\")\n",
    "\n",
    "# Test different k values (number of partitions)\n",
    "print(f\"\\nTesting different k values (number of partitions):\")\n",
    "k_values = [2, 3, 4, 5, 8, 10]\n",
    "k_results = []\n",
    "\n",
    "for k in k_values:\n",
    "    start_time = time()\n",
    "    cut_value, partition = randomized_k_way_maxcut(\n",
    "        test_graph, k=k, max_iterations=1000,\n",
    "        threshold=1, patience=50, random_seed=123\n",
    "    )\n",
    "    runtime = time() - start_time\n",
    "\n",
    "    # Calculate partition balance (how evenly distributed)\n",
    "    from collections import Counter\n",
    "    partition_counts = Counter(partition.values())\n",
    "    balance = min(partition_counts.values()) / max(partition_counts.values())\n",
    "\n",
    "    k_results.append((k, cut_value, runtime, balance))\n",
    "    print(f\"  k={k:2d}: cut_value={cut_value:4d}, time={runtime:.3f}s, balance={balance:.3f}\")\n",
    "\n",
    "print(f\"\\nParameter Analysis Summary:\")\n",
    "print(f\"• Higher max_iterations generally improve cut value but increase runtime\")\n",
    "print(f\"• Higher patience values may find better solutions but take longer\")\n",
    "print(f\"• Different k values show varying cut values and balance trade-offs\")"
   ],
   "id": "ar9xukqjnjg",
   "outputs": [
    {
     "name": "stdout",
     "output_type": "stream",
     "text": [
      "Example 4: Parameter Sensitivity Analysis\n",
      "=============================================\n",
      "Test graph: 1000 nodes, 4000 edges\n",
      "\n",
      "Testing different max_iterations values:\n",
      "  max_iterations= 100: cut_value=2724, time=0.142s\n",
      "  max_iterations= 500: cut_value=2724, time=0.135s\n",
      "  max_iterations=1000: cut_value=2724, time=0.137s\n",
      "  max_iterations=2000: cut_value=2724, time=0.137s\n",
      "  max_iterations=5000: cut_value=2724, time=0.135s\n",
      "\n",
      "Testing different patience values:\n",
      "  patience= 10: cut_value=2719, time=0.022s\n",
      "  patience= 25: cut_value=2719, time=0.041s\n",
      "  patience= 50: cut_value=2724, time=0.135s\n",
      "  patience=100: cut_value=2724, time=0.202s\n",
      "  patience=200: cut_value=2742, time=0.478s\n",
      "\n",
      "Testing different k values (number of partitions):\n",
      "  k= 2: cut_value=2074, time=0.084s, balance=0.898\n",
      "  k= 3: cut_value=2724, time=0.139s, balance=0.948\n",
      "  k= 4: cut_value=3057, time=0.146s, balance=0.904\n",
      "  k= 5: cut_value=3236, time=0.089s, balance=0.751\n",
      "  k= 8: cut_value=3545, time=0.093s, balance=0.775\n",
      "  k=10: cut_value=3634, time=0.174s, balance=0.765\n",
      "\n",
      "Parameter Analysis Summary:\n",
      "• Higher max_iterations generally improve cut value but increase runtime\n",
      "• Higher patience values may find better solutions but take longer\n",
      "• Different k values show varying cut values and balance trade-offs\n"
     ]
    }
   ],
   "execution_count": 7
  },
  {
   "metadata": {},
   "cell_type": "markdown",
   "source": [
    "## Summary\n",
    "\n",
    "This notebook demonstrates the randomized k-way max-cut algorithm with the following key features:\n",
    "\n",
    "### Algorithm Capabilities:\n",
    "- **Flexible partitioning**: Support for k-way partitioning (k=2,3,4,...)\n",
    "- **Early stopping**: Prevents unnecessary computation when no improvement is found\n",
    "- **Fixed terminals**: Support for neural network comparison scenarios\n",
    "- **Reproducible results**: Random seed support for consistent testing\n",
    "\n",
    "### Performance Characteristics:\n",
    "- **Scalability**: Works efficiently on graphs with thousands of nodes\n",
    "- **Quality**: Generally finds good quality cuts, though not guaranteed optimal\n",
    "- **Speed**: Fast execution with early stopping mechanism\n",
    "- **Flexibility**: Configurable parameters for different use cases\n",
    "\n",
    "### Integration with Neural Networks:\n",
    "The fixed terminal functionality makes this algorithm particularly useful for:\n",
    "- Comparing with GCN-based max-cut approaches\n",
    "- Providing baseline performance metrics\n",
    "- Validating neural network training results\n",
    "\n",
    "### Next Steps:\n",
    "- Use `RandomizedMaxCut.py` module in other projects\n",
    "- Compare performance with neural network approaches\n",
    "- Experiment with different graph types and sizes\n",
    "- Tune parameters for specific use cases"
   ],
   "id": "tifywm7auy"
  },
  {
   "metadata": {
    "ExecuteTime": {
     "end_time": "2025-08-19T23:46:45.300208Z",
     "start_time": "2025-08-19T23:46:45.115003Z"
    }
   },
   "cell_type": "code",
   "source": [
    "# Run the fixed terminals test as a demonstration\n",
    "test_fixed_terminals(n=1000, degree=8, k=3, max_iterations=1000, patience=50)"
   ],
   "id": "t1i9hyko17r",
   "outputs": [
    {
     "name": "stdout",
     "output_type": "stream",
     "text": [
      "Testing with fixed terminals...\n",
      "Without fixed terminals:\n",
      "  Cut value: 2742\n",
      "  Runtime: 0.10s\n",
      "  Terminal assignments: {0: 2, 1: 1, 2: 0}\n",
      "\n",
      "With fixed terminals:\n",
      "  Cut value: 2732\n",
      "  Runtime: 0.07s\n",
      "  Terminal assignments: {0: 0, 1: 1, 2: 2}\n",
      "\n",
      "Performance impact of constraints:\n",
      "  Cut value difference: 10 (0.4%)\n",
      "  Runtime difference: -0.03s\n"
     ]
    }
   ],
   "execution_count": 8
  },
  {
   "metadata": {},
   "cell_type": "markdown",
   "source": [
    "## Advanced Usage: Benchmarking and Visualization\n",
    "\n",
    "For comprehensive performance analysis, you can use the built-in benchmarking functions.\n",
    "\n",
    "**Note**: The full benchmark may take several minutes to complete as it tests multiple graph sizes and partition counts."
   ],
   "id": "99lnlhtwdv9"
  },
  {
   "metadata": {},
   "cell_type": "code",
   "outputs": [
    {
     "name": "stdout",
     "output_type": "stream",
     "text": [
      "Comprehensive Benchmarking\n",
      "==============================\n",
      "This example shows how to run comprehensive benchmarks.\n",
      "Uncomment the code below to execute (takes several minutes):\n",
      "\n",
      "# Small-scale benchmark for demonstration\n",
      "# benchmark_results = benchmark_algorithm(\n",
      "#     node_sizes=[500, 1000, 1500],\n",
      "#     partition_sizes=[3, 4, 5],\n",
      "#     degree=8,\n",
      "#     max_iterations=1000,\n",
      "#     threshold=1,\n",
      "#     patience=50\n",
      "# )\n",
      "#\n",
      "# analyze_results(benchmark_results)\n",
      "\n",
      "Alternatively, test fixed terminals comparison:\n",
      "test_fixed_terminals(n=1000, degree=8, k=3)\n"
     ]
    }
   ],
   "execution_count": 9,
   "source": [
    "# Advanced: Comprehensive benchmarking (uncomment to run - takes several minutes)\n",
    "\n",
    "# Uncomment the lines below to run comprehensive benchmarking\n",
    "# This will test multiple graph sizes and partition counts with visualization\n",
    "\n",
    "print(\"Comprehensive Benchmarking\")\n",
    "print(\"=\" * 30)\n",
    "print(\"This example shows how to run comprehensive benchmarks.\")\n",
    "print(\"Uncomment the code below to execute (takes several minutes):\")\n",
    "print()\n",
    "\n",
    "# Example of how to run benchmarking (commented out to save time)\n",
    "print(\"# Small-scale benchmark for demonstration\")\n",
    "print(\"# benchmark_results = benchmark_algorithm(\")\n",
    "print(\"#     node_sizes=[500, 1000, 1500],\")\n",
    "print(\"#     partition_sizes=[3, 4, 5],\")\n",
    "print(\"#     degree=8,\")\n",
    "print(\"#     max_iterations=1000,\")\n",
    "print(\"#     threshold=1,\")\n",
    "print(\"#     patience=50\")\n",
    "print(\"# )\")\n",
    "print(\"#\")\n",
    "print(\"# analyze_results(benchmark_results)\")\n",
    "\n",
    "# You can also test the fixed terminals function\n",
    "print(\"\\nAlternatively, test fixed terminals comparison:\")\n",
    "print(\"test_fixed_terminals(n=1000, degree=8, k=3)\")"
   ],
   "id": "t52qeswoajf"
  }
 ],
 "metadata": {
  "kernelspec": {
   "display_name": "Python 3",
   "language": "python",
   "name": "python3"
  },
  "language_info": {
   "codemirror_mode": {
    "name": "ipython",
    "version": 2
   },
   "file_extension": ".py",
   "mimetype": "text/x-python",
   "name": "python",
   "nbconvert_exporter": "python",
   "pygments_lexer": "ipython2",
   "version": "2.7.6"
  }
 },
 "nbformat": 4,
 "nbformat_minor": 5
}
