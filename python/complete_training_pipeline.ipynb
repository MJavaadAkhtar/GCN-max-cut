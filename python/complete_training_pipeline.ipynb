{
 "cells": [
  {
   "cell_type": "markdown",
   "metadata": {},
   "source": [
    "# Complete GCN Max-Cut Training Pipeline\n",
    "\n",
    "This notebook demonstrates the complete pipeline for training a Graph Convolutional Network on 3-way max-cut problems:\n",
    "\n",
    "1. **Graph Generation**: Create 200-400 random graphs with 500 nodes and degree 6-8\n",
    "2. **Data Processing**: Use GraphCreator and graphExtender to create training dataset\n",
    "3. **Model Training**: Train 3-way max-cut neural network using TrainingNeural.py\n",
    "4. **Model Persistence**: Save the trained model for future use\n",
    "\n",
    "## Dataset Specifications\n",
    "- **Number of graphs**: 300 (between 200-400 as requested)\n",
    "- **Nodes per graph**: 500\n",
    "- **Average degree**: 6-8 (random within range)\n",
    "- **Problem type**: 3-way max-cut with terminal constraints"
   ]
  },
  {
   "cell_type": "code",
   "metadata": {
    "ExecuteTime": {
     "end_time": "2025-08-20T00:43:03.798062Z",
     "start_time": "2025-08-20T00:43:02.315860Z"
    }
   },
   "source": [
    "# Import required modules\n",
    "import sys\n",
    "import os\n",
    "import numpy as np\n",
    "import networkx as nx\n",
    "import torch\n",
    "from pathlib import Path\n",
    "from time import time\n",
    "import random\n",
    "\n",
    "from RandomAlgorithm.RandomizedMaxCut import (\n",
    "    create_random_regular_graph,\n",
    "    calculate_cut_value,\n",
    "    randomized_k_way_maxcut,\n",
    "    evaluate_algorithm_on_graphs,\n",
    "    benchmark_algorithm,\n",
    "    analyze_results,\n",
    "    test_fixed_terminals,\n",
    "    quick_demo\n",
    ")\n",
    "\n",
    "# Add the current directory to Python path for imports\n",
    "current_dir = Path.cwd()\n",
    "if str(current_dir) not in sys.path:\n",
    "    sys.path.append(str(current_dir))\n",
    "\n",
    "# Import our custom modules\n",
    "from DataGenerator.GraphCreator import generate_graph_dataset, save_graphs_to_pickle, save_terminals_to_pickle, generate_graph, generate_unique_terminals\n",
    "from DataGenerator.graphExtender import process_graphs_from_folder\n",
    "from Training.TrainingNeural import TrainingConfig, train_from_pickle, save_neural_model\n",
    "from commons import save_object, open_file\n",
    "\n",
    "print(\"All modules imported successfully!\")\n",
    "print(f\"Current working directory: {current_dir}\")\n",
    "print(f\"PyTorch version: {torch.__version__}\")\n",
    "print(f\"CUDA available: {torch.cuda.is_available()}\")"
   ],
   "outputs": [
    {
     "name": "stdout",
     "output_type": "stream",
     "text": [
      "All modules imported successfully!\n",
      "Current working directory: /Users/javaad/Documents/research/GCN-max-cut/python\n",
      "PyTorch version: 2.7.1\n",
      "CUDA available: False\n"
     ]
    }
   ],
   "execution_count": 1
  },
  {
   "metadata": {},
   "cell_type": "markdown",
   "source": [
    "## Step 1: Graph Generation\n",
    "\n",
    "Generate 300 random graphs with specified parameters using GraphCreator."
   ]
  },
  {
   "metadata": {
    "ExecuteTime": {
     "end_time": "2025-08-20T00:43:03.834387Z",
     "start_time": "2025-08-20T00:43:03.831920Z"
    }
   },
   "cell_type": "code",
   "source": [
    "# Configuration for graph generation\n",
    "DATASET_CONFIG = {\n",
    "    'num_graphs': 20,\n",
    "    'num_nodes': 500,\n",
    "    'min_degree': 6,\n",
    "    'max_degree': 8,\n",
    "    'num_terminals': 3,  # For 3-way max-cut\n",
    "    'output_directory': './training_data',\n",
    "    'dataset_name': 'maxcut_3way_n500_d6_8_t300'\n",
    "}\n",
    "\n",
    "# Create output directory\n",
    "os.makedirs(DATASET_CONFIG['output_directory'], exist_ok=True)\n",
    "\n",
    "print(\"Dataset Configuration:\")\n",
    "for key, value in DATASET_CONFIG.items():\n",
    "    print(f\"  {key}: {value}\")"
   ],
   "outputs": [
    {
     "name": "stdout",
     "output_type": "stream",
     "text": [
      "Dataset Configuration:\n",
      "  num_graphs: 20\n",
      "  num_nodes: 500\n",
      "  min_degree: 6\n",
      "  max_degree: 8\n",
      "  num_terminals: 3\n",
      "  output_directory: ./training_data\n",
      "  dataset_name: maxcut_3way_n500_d6_8_t300\n"
     ]
    }
   ],
   "execution_count": 2
  },
  {
   "metadata": {
    "ExecuteTime": {
     "end_time": "2025-08-20T00:43:04.030874Z",
     "start_time": "2025-08-20T00:43:03.844512Z"
    }
   },
   "cell_type": "code",
   "source": [
    "# Generate graphs using the available functions\n",
    "print(\"Generating graphs...\")\n",
    "start_time = time()\n",
    "\n",
    "all_graphs = {}\n",
    "all_terminals = {}\n",
    "\n",
    "for i in range(DATASET_CONFIG['num_graphs']):\n",
    "    # Random degree within specified range\n",
    "    avg_degree = random.randint(DATASET_CONFIG['min_degree'], DATASET_CONFIG['max_degree'])\n",
    "\n",
    "    # Generate graph using available function\n",
    "    graph = generate_graph(\n",
    "        n=DATASET_CONFIG['num_nodes'],\n",
    "        d=avg_degree,\n",
    "        graph_type='reg',  # Regular graph\n",
    "        random_seed=i + 1000,  # Ensure reproducibility with unique seeds\n",
    "        edge_weight=1,\n",
    "        edge_capacity=1\n",
    "    )\n",
    "\n",
    "    # Generate unique terminal nodes\n",
    "    terminals = generate_unique_terminals(\n",
    "        DATASET_CONFIG['num_nodes'],\n",
    "        DATASET_CONFIG['num_terminals']\n",
    "    )\n",
    "\n",
    "    # Store with consistent naming\n",
    "    graph_name = f\"graph_{i:04d}_n{DATASET_CONFIG['num_nodes']}_d{avg_degree}\"\n",
    "    all_graphs[graph_name] = graph\n",
    "    all_terminals[graph_name] = terminals\n",
    "\n",
    "    # Progress update every 50 graphs\n",
    "    if (i + 1) % 50 == 0:\n",
    "        elapsed = time() - start_time\n",
    "        avg_time = elapsed / (i + 1)\n",
    "        eta = avg_time * (DATASET_CONFIG['num_graphs'] - i - 1)\n",
    "        print(f\"  Generated {i + 1}/{DATASET_CONFIG['num_graphs']} graphs. \"\n",
    "              f\"Elapsed: {elapsed:.1f}s, ETA: {eta:.1f}s\")\n",
    "\n",
    "generation_time = time() - start_time\n",
    "print(f\"\\nGraph generation completed in {generation_time:.2f} seconds\")\n",
    "print(f\"Generated {len(all_graphs)} graphs with {len(all_terminals)} terminal sets\")"
   ],
   "outputs": [
    {
     "name": "stdout",
     "output_type": "stream",
     "text": [
      "Generating graphs...\n",
      "\n",
      "Graph generation completed in 0.18 seconds\n",
      "Generated 20 graphs with 20 terminal sets\n"
     ]
    }
   ],
   "execution_count": 3
  },
  {
   "metadata": {
    "ExecuteTime": {
     "end_time": "2025-08-20T00:43:04.043072Z",
     "start_time": "2025-08-20T00:43:04.036512Z"
    }
   },
   "cell_type": "code",
   "source": [
    "# Analyze generated dataset\n",
    "print(\"\\nDataset Analysis:\")\n",
    "node_counts = [len(graph.nodes()) for graph in all_graphs.values()]\n",
    "edge_counts = [len(graph.edges()) for graph in all_graphs.values()]\n",
    "degrees = [sum(dict(graph.degree()).values()) / len(graph.nodes()) for graph in all_graphs.values()]\n",
    "\n",
    "print(f\"Nodes per graph: {min(node_counts)} - {max(node_counts)} (target: {DATASET_CONFIG['num_nodes']})\")\n",
    "print(f\"Edges per graph: {min(edge_counts)} - {max(edge_counts)}\")\n",
    "print(f\"Average degree: {min(degrees):.2f} - {max(degrees):.2f} (target: {DATASET_CONFIG['min_degree']}-{DATASET_CONFIG['max_degree']})\")\n",
    "print(f\"Mean average degree: {np.mean(degrees):.2f}\")\n",
    "\n",
    "# Check terminal sets\n",
    "terminal_lens = [len(terminals) for terminals in all_terminals.values()]\n",
    "print(f\"Terminals per graph: {min(terminal_lens)} - {max(terminal_lens)} (target: {DATASET_CONFIG['num_terminals']})\")\n",
    "\n",
    "# Sample a few graphs for verification\n",
    "print(\"\\nSample graphs:\")\n",
    "for i, (name, graph) in enumerate(list(all_graphs.items())[:3]):\n",
    "    terminals = all_terminals[name]\n",
    "    avg_deg = sum(dict(graph.degree()).values()) / len(graph.nodes())\n",
    "    print(f\"  {name}: {len(graph.nodes())} nodes, {len(graph.edges())} edges, \"\n",
    "          f\"avg_degree={avg_deg:.2f}, terminals={terminals}\")"
   ],
   "outputs": [
    {
     "name": "stdout",
     "output_type": "stream",
     "text": [
      "\n",
      "Dataset Analysis:\n",
      "Nodes per graph: 500 - 500 (target: 500)\n",
      "Edges per graph: 1500 - 2000\n",
      "Average degree: 6.00 - 8.00 (target: 6-8)\n",
      "Mean average degree: 7.10\n",
      "Terminals per graph: 3 - 3 (target: 3)\n",
      "\n",
      "Sample graphs:\n",
      "  graph_0000_n500_d7: 500 nodes, 1750 edges, avg_degree=7.00, terminals=[33, 175, 326]\n",
      "  graph_0001_n500_d7: 500 nodes, 1750 edges, avg_degree=7.00, terminals=[244, 373, 303]\n",
      "  graph_0002_n500_d8: 500 nodes, 2000 edges, avg_degree=8.00, terminals=[144, 129, 406]\n"
     ]
    }
   ],
   "execution_count": 4
  },
  {
   "metadata": {},
   "cell_type": "markdown",
   "source": [
    "## Step 2: Save Generated Graphs\n",
    "\n",
    "Save the generated graphs and terminals to pickle files for persistence."
   ]
  },
  {
   "metadata": {
    "ExecuteTime": {
     "end_time": "2025-08-20T00:43:04.074731Z",
     "start_time": "2025-08-20T00:43:04.060271Z"
    }
   },
   "cell_type": "code",
   "source": [
    "# Save raw graphs and terminals\n",
    "graphs_file = os.path.join(DATASET_CONFIG['output_directory'], f\"{DATASET_CONFIG['dataset_name']}_graphs.pkl\")\n",
    "terminals_file = os.path.join(DATASET_CONFIG['output_directory'], f\"{DATASET_CONFIG['dataset_name']}_terminals.pkl\")\n",
    "\n",
    "print(\"Saving generated data...\")\n",
    "save_graphs_to_pickle(all_graphs, graphs_file)\n",
    "save_terminals_to_pickle(all_terminals, terminals_file)\n",
    "\n",
    "print(f\"Graphs saved to: {graphs_file}\")\n",
    "print(f\"Terminals saved to: {terminals_file}\")\n",
    "\n",
    "# Verify files were created\n",
    "print(f\"\\nFile verification:\")\n",
    "print(f\"  Graphs file size: {os.path.getsize(graphs_file) / 1024 / 1024:.2f} MB\")\n",
    "print(f\"  Terminals file size: {os.path.getsize(terminals_file) / 1024 / 1024:.2f} MB\")"
   ],
   "outputs": [
    {
     "name": "stdout",
     "output_type": "stream",
     "text": [
      "Saving generated data...\n",
      "Graphs saved to: ./training_data/maxcut_3way_n500_d6_8_t300_graphs.pkl\n",
      "Terminals saved to: ./training_data/maxcut_3way_n500_d6_8_t300_terminals.pkl\n",
      "\n",
      "File verification:\n",
      "  Graphs file size: 1.06 MB\n",
      "  Terminals file size: 0.00 MB\n"
     ]
    }
   ],
   "execution_count": 5
  },
  {
   "metadata": {},
   "cell_type": "markdown",
   "source": [
    "## Step 3: Process Graphs for Training\n",
    "\n",
    "Use graphExtender to convert raw graphs into training-ready format with DGL graphs and adjacency matrices."
   ]
  },
  {
   "metadata": {
    "ExecuteTime": {
     "end_time": "2025-08-20T00:43:16.960463Z",
     "start_time": "2025-08-20T00:43:04.097113Z"
    }
   },
   "cell_type": "code",
   "source": [
    "# Configuration for graph processing\n",
    "MAX_NODES = 1000  # Extended matrix size for training\n",
    "BATCH_SIZE = 100  # Process in batches to manage memory\n",
    "\n",
    "print(\"Processing graphs for training...\")\n",
    "start_time = time()\n",
    "\n",
    "# Process graphs using graphExtender\n",
    "processed_dataset = process_graphs_from_folder(\n",
    "    all_graphs=all_graphs,\n",
    "    all_terminals=all_terminals,\n",
    "    max_nodes=MAX_NODES,\n",
    "    save_batch_size=BATCH_SIZE,\n",
    "    output_filename_prefix=f\"{DATASET_CONFIG['dataset_name']}_processed\"\n",
    ")\n",
    "\n",
    "processing_time = time() - start_time\n",
    "print(f\"Graph processing completed in {processing_time:.2f} seconds\")\n",
    "print(f\"Processed {len(processed_dataset)} graphs for training\")"
   ],
   "outputs": [
    {
     "name": "stdout",
     "output_type": "stream",
     "text": [
      "Processing graphs for training...\n",
      "Terminal swapped 0\n",
      "Graph finished: 1\n",
      "Terminal swapped 1\n",
      "Graph finished: 2\n",
      "Terminal swapped 2\n",
      "Graph finished: 3\n",
      "Terminal swapped 3\n",
      "Graph finished: 4\n",
      "Terminal swapped 4\n",
      "Graph finished: 5\n",
      "Terminal swapped 5\n",
      "Graph finished: 6\n",
      "Terminal swapped 6\n",
      "Graph finished: 7\n",
      "Terminal swapped 7\n",
      "Graph finished: 8\n",
      "Terminal swapped 8\n",
      "Graph finished: 9\n",
      "Terminal swapped 9\n",
      "Graph finished: 10\n",
      "Terminal swapped 10\n",
      "Graph finished: 11\n",
      "Terminal swapped 11\n",
      "Graph finished: 12\n",
      "Terminal swapped 12\n",
      "Graph finished: 13\n",
      "Terminal swapped 13\n",
      "Graph finished: 14\n",
      "Terminal swapped 14\n",
      "Graph finished: 15\n",
      "Terminal swapped 15\n",
      "Graph finished: 16\n",
      "Terminal swapped 16\n",
      "Graph finished: 17\n",
      "Terminal swapped 17\n",
      "Graph finished: 18\n",
      "Terminal swapped 18\n",
      "Graph finished: 19\n",
      "Terminal swapped 19\n",
      "Graph finished: 20\n",
      "Skipped items: 0\n",
      "Graph processing completed in 12.86 seconds\n",
      "Processed 20 graphs for training\n"
     ]
    }
   ],
   "execution_count": 6
  },
  {
   "metadata": {
    "ExecuteTime": {
     "end_time": "2025-08-20T00:43:16.975256Z",
     "start_time": "2025-08-20T00:43:16.972040Z"
    }
   },
   "cell_type": "code",
   "source": [
    "# Analyze processed dataset\n",
    "print(\"\\nProcessed Dataset Analysis:\")\n",
    "sample_key = list(processed_dataset.keys())[0]\n",
    "dgl_graph, adjacency_matrix, nx_graph, terminals = processed_dataset[sample_key]\n",
    "\n",
    "print(f\"Number of processed graphs: {len(processed_dataset)}\")\n",
    "print(f\"Sample data structure:\")\n",
    "print(f\"  DGL graph nodes: {dgl_graph.number_of_nodes()}\")\n",
    "print(f\"  DGL graph edges: {dgl_graph.number_of_edges()}\")\n",
    "print(f\"  Adjacency matrix shape: {adjacency_matrix.shape}\")\n",
    "print(f\"  Adjacency matrix device: {adjacency_matrix.device}\")\n",
    "print(f\"  Adjacency matrix dtype: {adjacency_matrix.dtype}\")\n",
    "print(f\"  NetworkX graph: {type(nx_graph)} with {len(nx_graph.nodes())} nodes\")\n",
    "print(f\"  Terminals: {terminals}\")\n",
    "\n",
    "# Check terminal normalization (should be [0, 1, 2] after processing)\n",
    "terminal_sets = [data[3] for data in processed_dataset.values()]\n",
    "unique_terminals = set(tuple(sorted(t)) for t in terminal_sets)\n",
    "print(f\"\\nTerminal normalization check:\")\n",
    "print(f\"  Unique terminal sets: {unique_terminals}\")\n",
    "print(f\"  Expected: {(0, 1, 2)}\")"
   ],
   "outputs": [
    {
     "name": "stdout",
     "output_type": "stream",
     "text": [
      "\n",
      "Processed Dataset Analysis:\n",
      "Number of processed graphs: 20\n",
      "Sample data structure:\n",
      "  DGL graph nodes: 500\n",
      "  DGL graph edges: 3500\n",
      "  Adjacency matrix shape: torch.Size([500, 1000])\n",
      "  Adjacency matrix device: cpu\n",
      "  Adjacency matrix dtype: torch.float32\n",
      "  NetworkX graph: <class 'networkx.classes.graph.Graph'> with 500 nodes\n",
      "  Terminals: [0, 1, 2]\n",
      "\n",
      "Terminal normalization check:\n",
      "  Unique terminal sets: {(0, 1, 2)}\n",
      "  Expected: (0, 1, 2)\n"
     ]
    }
   ],
   "execution_count": 7
  },
  {
   "metadata": {
    "ExecuteTime": {
     "end_time": "2025-08-20T00:43:17.066390Z",
     "start_time": "2025-08-20T00:43:17.004216Z"
    }
   },
   "cell_type": "code",
   "source": [
    "# Save processed dataset\n",
    "processed_file = os.path.join(DATASET_CONFIG['output_directory'], f\"{DATASET_CONFIG['dataset_name']}_training_ready.pkl\")\n",
    "\n",
    "print(\"Saving processed dataset...\")\n",
    "save_object(processed_dataset, processed_file)\n",
    "\n",
    "print(f\"Processed dataset saved to: {processed_file}\")\n",
    "print(f\"File size: {os.path.getsize(processed_file) / 1024 / 1024:.2f} MB\")\n",
    "\n",
    "# Verify we can reload the data\n",
    "print(\"\\nVerifying saved dataset...\")\n",
    "reloaded_dataset = open_file(processed_file)\n",
    "print(f\"Successfully reloaded {len(reloaded_dataset)} graphs from disk\")"
   ],
   "outputs": [
    {
     "name": "stdout",
     "output_type": "stream",
     "text": [
      "Saving processed dataset...\n",
      "Processed dataset saved to: ./training_data/maxcut_3way_n500_d6_8_t300_training_ready.pkl\n",
      "File size: 40.31 MB\n",
      "\n",
      "Verifying saved dataset...\n",
      "Successfully reloaded 20 graphs from disk\n"
     ]
    }
   ],
   "execution_count": 8
  },
  {
   "metadata": {},
   "cell_type": "markdown",
   "source": [
    "## Step 4: Configure Neural Network Training\n",
    "\n",
    "Set up training configuration for the 3-way max-cut GCN model."
   ]
  },
  {
   "cell_type": "code",
   "metadata": {
    "ExecuteTime": {
     "end_time": "2025-08-20T00:43:17.082131Z",
     "start_time": "2025-08-20T00:43:17.079387Z"
    }
   },
   "source": [
    "# Training configuration\n",
    "training_config = TrainingConfig(\n",
    "    # Model architecture\n",
    "    n_nodes=MAX_NODES,  # Maximum nodes (extended matrix size)\n",
    "    dim_embedding=MAX_NODES,  # Embedding dimension\n",
    "    hidden_dim=MAX_NODES // 2,  # Hidden layer dimension\n",
    "    dropout=0.0,  # No dropout for now\n",
    "    number_classes=3,  # 3-way max-cut\n",
    "    \n",
    "    # Training parameters\n",
    "    learning_rate=0.001,  # Standard learning rate\n",
    "    number_epochs=1000,  # Maximum epochs\n",
    "    tolerance=1e-4,  # Early stopping tolerance\n",
    "    patience=20,  # Early stopping patience\n",
    "    \n",
    "    # Loss parameters\n",
    "    A=0.0,  # Penalty parameter A\n",
    "    C=1.0,  # Penalty parameter C\n",
    "    penalty=1000.0,  # Terminal independence penalty\n",
    "    \n",
    "    # Saving parameters\n",
    "    save_directory=f\"{DATASET_CONFIG['dataset_name']}_model.pth\",\n",
    "    save_frequency=100  # Save checkpoint every 100 epochs\n",
    ")\n",
    "\n",
    "print(\"Training Configuration:\")\n",
    "print(f\"  Model: {training_config.n_nodes} nodes, {training_config.number_classes} classes\")\n",
    "print(f\"  Architecture: {training_config.dim_embedding} -> {training_config.hidden_dim} -> {training_config.number_classes}\")\n",
    "print(f\"  Training: {training_config.number_epochs} epochs, lr={training_config.learning_rate}\")\n",
    "print(f\"  Early stopping: patience={training_config.patience}, tolerance={training_config.tolerance}\")\n",
    "print(f\"  Loss: A={training_config.A}, C={training_config.C}, penalty={training_config.penalty}\")\n",
    "print(f\"  Model save path: {training_config.save_directory}\")"
   ],
   "outputs": [
    {
     "name": "stdout",
     "output_type": "stream",
     "text": [
      "Training Configuration:\n",
      "  Model: 1000 nodes, 3 classes\n",
      "  Architecture: 1000 -> 500 -> 3\n",
      "  Training: 1000 epochs, lr=0.001\n",
      "  Early stopping: patience=20, tolerance=0.0001\n",
      "  Loss: A=0.0, C=1.0, penalty=1000.0\n",
      "  Model save path: maxcut_3way_n500_d6_8_t300_model.pth\n"
     ]
    }
   ],
   "execution_count": 9
  },
  {
   "cell_type": "markdown",
   "metadata": {},
   "source": [
    "## Step 5: Train the Neural Network\n",
    "\n",
    "Train the GCN model on the processed dataset using the consolidated TrainingNeural module."
   ]
  },
  {
   "cell_type": "code",
   "metadata": {
    "scrolled": true,
    "ExecuteTime": {
     "end_time": "2025-08-20T00:46:08.921307Z",
     "start_time": "2025-08-20T00:43:17.110950Z"
    }
   },
   "source": [
    "# Train the model\n",
    "print(\"Starting neural network training...\")\n",
    "print(f\"Dataset: {len(processed_dataset)} graphs\")\n",
    "print(f\"Device: {'CUDA' if torch.cuda.is_available() else 'CPU'}\")\n",
    "print(\"=\" * 60)\n",
    "\n",
    "training_start_time = time()\n",
    "\n",
    "# Train using the processed dataset directly\n",
    "trained_model, best_loss, final_epoch, embedding_weights, loss_history = train_from_pickle(\n",
    "    dataset_filename=processed_file,\n",
    "    model_name=DATASET_CONFIG['dataset_name'],\n",
    "    n_nodes=training_config.n_nodes,\n",
    "    dim_embedding=training_config.dim_embedding,\n",
    "    hidden_dim=training_config.hidden_dim,\n",
    "    dropout=training_config.dropout,\n",
    "    number_classes=training_config.number_classes,\n",
    "    learning_rate=training_config.learning_rate,\n",
    "    number_epochs=training_config.number_epochs,\n",
    "    tolerance=training_config.tolerance,\n",
    "    patience=training_config.patience,\n",
    "    A=training_config.A,\n",
    "    C=training_config.C,\n",
    "    penalty=training_config.penalty,\n",
    "    save_frequency=training_config.save_frequency\n",
    ")\n",
    "\n",
    "training_time = time() - training_start_time\n",
    "\n",
    "print(\"=\" * 60)\n",
    "print(f\"Training completed in {training_time:.2f} seconds ({training_time/60:.1f} minutes)\")\n",
    "print(f\"Best loss achieved: {best_loss:.6f}\")\n",
    "print(f\"Final epoch: {final_epoch}\")\n",
    "print(f\"Total training epochs: {len(loss_history)}\")"
   ],
   "outputs": [
    {
     "name": "stdout",
     "output_type": "stream",
     "text": [
      "Starting neural network training...\n",
      "Dataset: 20 graphs\n",
      "Device: CPU\n",
      "============================================================\n",
      "Loading dataset from ./training_data/maxcut_3way_n500_d6_8_t300_training_ready.pkl\n",
      "Starting training with 1000 epochs\n",
      "Model: 1000 nodes, 3 classes\n",
      "Device: cpu\n",
      "Epoch: 0, Cumulative Loss: -13388.000023\n",
      "Epoch: 100, Cumulative Loss: -30915.000000\n",
      "Epoch: 200, Cumulative Loss: -31193.000000\n",
      "Epoch: 300, Cumulative Loss: -31270.000000\n",
      "Epoch: 400, Cumulative Loss: -31338.000000\n",
      "Early stopping at epoch 485\n",
      "Training completed in 171.21 seconds\n",
      "Best loss: -31355.000000\n",
      "Final model saved to ./final_maxcut_3way_n500_d6_8_t300.pth\n",
      "============================================================\n",
      "Training completed in 171.81 seconds (2.9 minutes)\n",
      "Best loss achieved: -31355.000000\n",
      "Final epoch: 485\n",
      "Total training epochs: 486\n"
     ]
    }
   ],
   "execution_count": 10
  },
  {
   "cell_type": "markdown",
   "metadata": {},
   "source": [
    "## Step 6: Analyze Training Results\n",
    "\n",
    "Examine the training progress and model performance."
   ]
  },
  {
   "cell_type": "code",
   "metadata": {
    "ExecuteTime": {
     "end_time": "2025-08-20T00:46:09.191565Z",
     "start_time": "2025-08-20T00:46:08.934286Z"
    }
   },
   "source": "    # Analyze training results\nimport matplotlib.pyplot as plt\n\nprint(\"Training Analysis:\")\nprint(f\"  Initial loss: {loss_history[0]:.6f}\")\nprint(f\"  Final loss: {loss_history[-1]:.6f}\")\nprint(f\"  Best loss: {best_loss:.6f}\")\nprint(f\"  Loss improvement: {loss_history[0] - best_loss:.6f}\")\nprint(f\"  Convergence: {'Early stopping' if final_epoch < training_config.number_epochs - 1 else 'Full epochs'}\")\n\n# Plot training curve\nplt.figure(figsize=(12, 5))\n\n# Loss curve\nplt.subplot(1, 2, 1)\nplt.plot(loss_history, 'b-', alpha=0.7, label='Training Loss')\nplt.axhline(y=best_loss, color='r', linestyle='--', alpha=0.7, label=f'Best Loss: {best_loss:.4f}')\nplt.xlabel('Epoch')\nplt.ylabel('Loss')\nplt.title('Training Loss Curve')\nplt.legend()\nplt.grid(True, alpha=0.3)\n\n# Loss curve (absolute value log scale for negative losses)\nplt.subplot(1, 2, 2)\n# Take absolute value of negative losses for log scale plotting\nabs_loss_history = [abs(loss) for loss in loss_history]\nabs_best_loss = abs(best_loss)\nplt.semilogy(abs_loss_history, 'b-', alpha=0.7, label='|Training Loss| (log)')\nplt.axhline(y=abs_best_loss, color='r', linestyle='--', alpha=0.7, label=f'|Best Loss|: {abs_best_loss:.4f}')\nplt.xlabel('Epoch')\nplt.ylabel('|Loss| (log scale)')\nplt.title('Training Loss Curve (Absolute Value, Log Scale)')\nplt.legend()\nplt.grid(True, alpha=0.3)\n\nplt.tight_layout()\nplt.show()\n\n# Training statistics\nprint(f\"\\nTraining Statistics:\")\nprint(f\"  Average time per epoch: {training_time / len(loss_history):.2f} seconds\")\nprint(f\"  Model parameters: {sum(p.numel() for p in trained_model.parameters()):,}\")\nprint(f\"  Embedding shape: {embedding_weights.shape}\")",
   "outputs": [
    {
     "name": "stdout",
     "output_type": "stream",
     "text": [
      "Training Analysis:\n",
      "  Initial loss: -13388.000023\n",
      "  Final loss: -31355.000000\n",
      "  Best loss: -31355.000000\n",
      "  Loss improvement: 17966.999977\n",
      "  Convergence: Early stopping\n"
     ]
    },
    {
     "data": {
      "text/plain": [
       "<Figure size 1200x500 with 2 Axes>"
      ],
      "image/png": "[encoded data removed]"
     },
     "metadata": {},
     "output_type": "display_data"
    },
    {
     "name": "stdout",
     "output_type": "stream",
     "text": [
      "\n",
      "Training Statistics:\n",
      "  Average time per epoch: 0.35 seconds\n",
      "  Model parameters: 502,003\n",
      "  Embedding shape: torch.Size([1000, 1000])\n"
     ]
    }
   ],
   "execution_count": 11
  },
  {
   "cell_type": "markdown",
   "metadata": {},
   "source": [
    "## Step 7: Save and Document the Complete Pipeline\n",
    "\n",
    "Save all artifacts and create comprehensive documentation."
   ]
  },
  {
   "cell_type": "code",
   "metadata": {
    "ExecuteTime": {
     "end_time": "2025-08-20T00:46:09.213391Z",
     "start_time": "2025-08-20T00:46:09.206111Z"
    }
   },
   "source": [
    "# Create comprehensive results package\n",
    "results_package = {\n",
    "    'dataset_config': DATASET_CONFIG,\n",
    "    'training_config': training_config,\n",
    "    'training_results': {\n",
    "        'best_loss': best_loss,\n",
    "        'final_epoch': final_epoch,\n",
    "        'loss_history': loss_history,\n",
    "        'training_time': training_time,\n",
    "        'generation_time': generation_time,\n",
    "        'processing_time': processing_time\n",
    "    },\n",
    "    'dataset_stats': {\n",
    "        'num_graphs': len(all_graphs),\n",
    "        'avg_nodes': np.mean([len(g.nodes()) for g in all_graphs.values()]),\n",
    "        'avg_edges': np.mean([len(g.edges()) for g in all_graphs.values()]),\n",
    "        'avg_degree': np.mean([sum(dict(g.degree()).values()) / len(g.nodes()) for g in all_graphs.values()])\n",
    "    },\n",
    "    'file_paths': {\n",
    "        'raw_graphs': graphs_file,\n",
    "        'raw_terminals': terminals_file,\n",
    "        'processed_dataset': processed_file,\n",
    "        'trained_model': f\"./final_{training_config.save_directory}\"\n",
    "    }\n",
    "}\n",
    "\n",
    "# Save results package\n",
    "results_file = os.path.join(DATASET_CONFIG['output_directory'], f\"{DATASET_CONFIG['dataset_name']}_complete_results.pkl\")\n",
    "save_object(results_package, results_file)\n",
    "\n",
    "print(\"Complete Results Package Saved:\")\n",
    "print(f\"  File: {results_file}\")\n",
    "print(f\"  Size: {os.path.getsize(results_file) / 1024 / 1024:.2f} MB\")"
   ],
   "outputs": [
    {
     "name": "stdout",
     "output_type": "stream",
     "text": [
      "Complete Results Package Saved:\n",
      "  File: ./training_data/maxcut_3way_n500_d6_8_t300_complete_results.pkl\n",
      "  Size: 0.01 MB\n"
     ]
    }
   ],
   "execution_count": 12
  },
  {
   "cell_type": "code",
   "metadata": {
    "ExecuteTime": {
     "end_time": "2025-08-20T00:46:23.332448Z",
     "start_time": "2025-08-20T00:46:23.326381Z"
    }
   },
   "source": "from datetime import datetime\n# Create detailed summary report\nsummary_report = f\"\"\"\n# GCN Max-Cut Training Pipeline - Complete Summary\n\n## Experiment Overview\n- **Date**: {datetime.now().strftime('%Y-%m-%d %H:%M:%S')}\n- **Dataset**: {DATASET_CONFIG['dataset_name']}\n- **Objective**: 3-way max-cut problem with GCN\n\n## Dataset Generation\n- **Graphs generated**: {DATASET_CONFIG['num_graphs']}\n- **Nodes per graph**: {DATASET_CONFIG['num_nodes']}\n- **Target degree range**: {DATASET_CONFIG['min_degree']}-{DATASET_CONFIG['max_degree']}\n- **Actual average degree**: {results_package['dataset_stats']['avg_degree']:.2f}\n- **Generation time**: {generation_time:.2f} seconds\n\n## Data Processing\n- **Extended matrix size**: {MAX_NODES} x {MAX_NODES}\n- **Processing time**: {processing_time:.2f} seconds\n- **Terminal normalization**: All graphs normalized to terminals [0, 1, 2]\n\n## Model Training\n- **Architecture**: GCN with {training_config.dim_embedding} -> {training_config.hidden_dim} -> {training_config.number_classes}\n- **Training time**: {training_time:.2f} seconds ({training_time/60:.1f} minutes)\n- **Epochs completed**: {len(loss_history)}/{training_config.number_epochs}\n- **Best loss**: {best_loss:.6f}\n- **Convergence**: {'Early stopping' if final_epoch < training_config.number_epochs - 1 else 'Full epochs'}\n\n## File Artifacts\n- **Raw graphs**: {graphs_file}\n- **Raw terminals**: {terminals_file}\n- **Training dataset**: {processed_file}\n- **Trained model**: ./final_{training_config.save_directory}\n- **Complete results**: {results_file}\n\n## Usage Instructions\n\n### Load the trained model:\n```python\nfrom Training.TrainingNeural import load_neural_model, TrainingConfig\nconfig = TrainingConfig(n_nodes={training_config.n_nodes}, number_classes={training_config.number_classes})\nmodel, inputs, config = load_neural_model('./final_{training_config.save_directory}', config)\n```\n\n### Load the training dataset:\n```python\nfrom commons import open_file\ndataset = open_file('{processed_file}')\n```\n\n### Load complete results:\n```python\nresults = open_file('{results_file}')\n```\n\n## Total Pipeline Time\n- **Graph generation**: {generation_time:.1f}s\n- **Data processing**: {processing_time:.1f}s  \n- **Model training**: {training_time:.1f}s\n- **Total time**: {generation_time + processing_time + training_time:.1f}s ({(generation_time + processing_time + training_time)/60:.1f} minutes)\n\"\"\"\n\n# Save summary report\nsummary_file = os.path.join(DATASET_CONFIG['output_directory'], f\"{DATASET_CONFIG['dataset_name']}_SUMMARY.md\")\nwith open(summary_file, 'w') as f:\n    f.write(summary_report)\n\nprint(summary_report)\nprint(f\"\\nSummary report saved to: {summary_file}\")",
   "outputs": [
    {
     "name": "stdout",
     "output_type": "stream",
     "text": [
      "\n",
      "# GCN Max-Cut Training Pipeline - Complete Summary\n",
      "\n",
      "## Experiment Overview\n",
      "- **Date**: 2025-08-19 20:46:23\n",
      "- **Dataset**: maxcut_3way_n500_d6_8_t300\n",
      "- **Objective**: 3-way max-cut problem with GCN\n",
      "\n",
      "## Dataset Generation\n",
      "- **Graphs generated**: 20\n",
      "- **Nodes per graph**: 500\n",
      "- **Target degree range**: 6-8\n",
      "- **Actual average degree**: 7.10\n",
      "- **Generation time**: 0.18 seconds\n",
      "\n",
      "## Data Processing\n",
      "- **Extended matrix size**: 1000 x 1000\n",
      "- **Processing time**: 12.86 seconds\n",
      "- **Terminal normalization**: All graphs normalized to terminals [0, 1, 2]\n",
      "\n",
      "## Model Training\n",
      "- **Architecture**: GCN with 1000 -> 500 -> 3\n",
      "- **Training time**: 171.81 seconds (2.9 minutes)\n",
      "- **Epochs completed**: 486/1000\n",
      "- **Best loss**: -31355.000000\n",
      "- **Convergence**: Early stopping\n",
      "\n",
      "## File Artifacts\n",
      "- **Raw graphs**: ./training_data/maxcut_3way_n500_d6_8_t300_graphs.pkl\n",
      "- **Raw terminals**: ./training_data/maxcut_3way_n500_d6_8_t300_terminals.pkl\n",
      "- **Training dataset**: ./training_data/maxcut_3way_n500_d6_8_t300_training_ready.pkl\n",
      "- **Trained model**: ./final_maxcut_3way_n500_d6_8_t300_model.pth\n",
      "- **Complete results**: ./training_data/maxcut_3way_n500_d6_8_t300_complete_results.pkl\n",
      "\n",
      "## Usage Instructions\n",
      "\n",
      "### Load the trained model:\n",
      "```python\n",
      "from Training.TrainingNeural import load_neural_model, TrainingConfig\n",
      "config = TrainingConfig(n_nodes=1000, number_classes=3)\n",
      "model, inputs, config = load_neural_model('./final_maxcut_3way_n500_d6_8_t300_model.pth', config)\n",
      "```\n",
      "\n",
      "### Load the training dataset:\n",
      "```python\n",
      "from commons import open_file\n",
      "dataset = open_file('./training_data/maxcut_3way_n500_d6_8_t300_training_ready.pkl')\n",
      "```\n",
      "\n",
      "### Load complete results:\n",
      "```python\n",
      "results = open_file('./training_data/maxcut_3way_n500_d6_8_t300_complete_results.pkl')\n",
      "```\n",
      "\n",
      "## Total Pipeline Time\n",
      "- **Graph generation**: 0.2s\n",
      "- **Data processing**: 12.9s  \n",
      "- **Model training**: 171.8s\n",
      "- **Total time**: 184.9s (3.1 minutes)\n",
      "\n",
      "\n",
      "Summary report saved to: ./training_data/maxcut_3way_n500_d6_8_t300_SUMMARY.md\n"
     ]
    }
   ],
   "execution_count": 13
  },
  {
   "cell_type": "markdown",
   "metadata": {},
   "source": [
    "## Step 8: Verification and Testing\n",
    "\n",
    "Test the saved model to ensure it works correctly."
   ]
  },
  {
   "cell_type": "code",
   "metadata": {
    "ExecuteTime": {
     "end_time": "2025-08-20T00:46:26.834389Z",
     "start_time": "2025-08-20T00:46:26.759997Z"
    }
   },
   "source": [
    "# Test model loading and inference\n",
    "from Training.TrainingNeural import load_neural_model, evaluate_model\n",
    "\n",
    "print(\"Testing saved model...\")\n",
    "\n",
    "# Load the saved model\n",
    "model_path = f\"./final_{training_config.save_directory}\"\n",
    "test_config = TrainingConfig(\n",
    "    n_nodes=training_config.n_nodes,\n",
    "    number_classes=training_config.number_classes,\n",
    "    dim_embedding=training_config.dim_embedding,\n",
    "    hidden_dim=training_config.hidden_dim\n",
    ")\n",
    "\n",
    "try:\n",
    "    loaded_model, loaded_inputs, loaded_config = load_neural_model(model_path, test_config)\n",
    "    print(\"✓ Model loaded successfully\")\n",
    "    \n",
    "    # Test on a small subset of the dataset\n",
    "    test_subset = {k: v for k, v in list(processed_dataset.items())[:5]}\n",
    "    eval_results = evaluate_model(loaded_model, test_subset, test_config)\n",
    "    \n",
    "    print(\"✓ Model evaluation successful\")\n",
    "    print(f\"  Test loss: {eval_results['average_loss']:.6f}\")\n",
    "    print(f\"  Test samples: {eval_results['num_samples']}\")\n",
    "    \n",
    "except Exception as e:\n",
    "    print(f\"✗ Model testing failed: {e}\")\n",
    "\n",
    "print(\"\\n\" + \"=\"*60)\n",
    "print(\"PIPELINE COMPLETED SUCCESSFULLY!\")\n",
    "print(\"=\"*60)\n",
    "print(f\"Dataset: {DATASET_CONFIG['num_graphs']} graphs with {DATASET_CONFIG['num_nodes']} nodes each\")\n",
    "print(f\"Model: 3-way max-cut GCN with best loss {best_loss:.6f}\")\n",
    "print(f\"All artifacts saved in: {DATASET_CONFIG['output_directory']}\")"
   ],
   "outputs": [
    {
     "name": "stdout",
     "output_type": "stream",
     "text": [
      "Testing saved model...\n",
      "✓ Model loaded successfully\n",
      "✓ Model evaluation successful\n",
      "  Test loss: -1241.800000\n",
      "  Test samples: 5\n",
      "\n",
      "============================================================\n",
      "PIPELINE COMPLETED SUCCESSFULLY!\n",
      "============================================================\n",
      "Dataset: 20 graphs with 500 nodes each\n",
      "Model: 3-way max-cut GCN with best loss -31355.000000\n",
      "All artifacts saved in: ./training_data\n"
     ]
    }
   ],
   "execution_count": 14
  },
  {
   "cell_type": "markdown",
   "source": "## Step 9: Create Testing Set\n\nGenerate a separate testing dataset to validate our trained model:\n- 5 graphs with 500 nodes each  \n- Apply graph extender for consistency with training format",
   "metadata": {}
  },
  {
   "metadata": {
    "ExecuteTime": {
     "end_time": "2025-08-20T00:46:32.556065Z",
     "start_time": "2025-08-20T00:46:32.521344Z"
    }
   },
   "cell_type": "code",
   "source": "# Configuration for testing dataset  \nTEST_CONFIG = {\n    'num_graphs': 5,\n    'num_nodes': 500,\n    'min_degree': 6,\n    'max_degree': 8,\n    'num_terminals': 3,  # For 3-way max-cut\n    'output_directory': './testing_data',\n    'dataset_name': 'maxcut_3way_test_n500_d6_8_t5'\n}\n\n# Create output directory\nos.makedirs(TEST_CONFIG['output_directory'], exist_ok=True)\n\nprint(\"Testing Dataset Configuration:\")\nfor key, value in TEST_CONFIG.items():\n    print(f\"  {key}: {value}\")\n\n# Generate testing graphs\nprint(\"\\nGenerating testing graphs...\")\ntest_start_time = time()\n\ntest_graphs = {}\ntest_terminals = {}\n\nfor i in range(TEST_CONFIG['num_graphs']):\n    # Random degree within specified range\n    avg_degree = random.randint(TEST_CONFIG['min_degree'], TEST_CONFIG['max_degree'])\n\n    # Generate graph using available function with different seeds to ensure uniqueness\n    graph = generate_graph(\n        n=TEST_CONFIG['num_nodes'],\n        d=avg_degree,\n        graph_type='reg',  # Regular graph\n        random_seed=i + 5000,  # Different seed range to avoid overlap with training set\n        edge_weight=1,\n        edge_capacity=1\n    )\n\n    # Generate unique terminal nodes\n    terminals = generate_unique_terminals(\n        TEST_CONFIG['num_nodes'],\n        TEST_CONFIG['num_terminals']\n    )\n\n    # Store with consistent naming\n    graph_name = f\"test_graph_{i:04d}_n{TEST_CONFIG['num_nodes']}_d{avg_degree}\"\n    test_graphs[graph_name] = graph\n    test_terminals[graph_name] = terminals\n\ntest_generation_time = time() - test_start_time\nprint(f\"Testing graph generation completed in {test_generation_time:.2f} seconds\")\nprint(f\"Generated {len(test_graphs)} test graphs with {len(test_terminals)} terminal sets\")",
   "outputs": [
    {
     "name": "stdout",
     "output_type": "stream",
     "text": [
      "Testing Dataset Configuration:\n",
      "  num_graphs: 5\n",
      "  num_nodes: 500\n",
      "  min_degree: 6\n",
      "  max_degree: 8\n",
      "  num_terminals: 3\n",
      "  output_directory: ./testing_data\n",
      "  dataset_name: maxcut_3way_test_n500_d6_8_t5\n",
      "\n",
      "Generating testing graphs...\n",
      "Testing graph generation completed in 0.03 seconds\n",
      "Generated 5 test graphs with 5 terminal sets\n"
     ]
    }
   ],
   "execution_count": 15
  },
  {
   "cell_type": "code",
   "source": "# Save testing graphs and terminals\ntest_graphs_file = os.path.join(TEST_CONFIG['output_directory'], f\"{TEST_CONFIG['dataset_name']}_graphs.pkl\")\ntest_terminals_file = os.path.join(TEST_CONFIG['output_directory'], f\"{TEST_CONFIG['dataset_name']}_terminals.pkl\")\n\nprint(\"Saving testing data...\")\nsave_graphs_to_pickle(test_graphs, test_graphs_file)\nsave_terminals_to_pickle(test_terminals, test_terminals_file)\n\nprint(f\"Test graphs saved to: {test_graphs_file}\")\nprint(f\"Test terminals saved to: {test_terminals_file}\")\n\n# Verify files were created\nprint(f\"\\nFile verification:\")\nprint(f\"  Test graphs file size: {os.path.getsize(test_graphs_file) / 1024 / 1024:.2f} MB\")\nprint(f\"  Test terminals file size: {os.path.getsize(test_terminals_file) / 1024 / 1024:.2f} MB\")",
   "metadata": {
    "ExecuteTime": {
     "end_time": "2025-08-20T00:46:45.252620Z",
     "start_time": "2025-08-20T00:46:45.246104Z"
    }
   },
   "outputs": [
    {
     "name": "stdout",
     "output_type": "stream",
     "text": [
      "Saving testing data...\n",
      "Test graphs saved to: ./testing_data/maxcut_3way_test_n500_d6_8_t5_graphs.pkl\n",
      "Test terminals saved to: ./testing_data/maxcut_3way_test_n500_d6_8_t5_terminals.pkl\n",
      "\n",
      "File verification:\n",
      "  Test graphs file size: 0.25 MB\n",
      "  Test terminals file size: 0.00 MB\n"
     ]
    }
   ],
   "execution_count": 16
  },
  {
   "cell_type": "code",
   "source": "# Process testing graphs for evaluation\nprint(\"Processing testing graphs...\")\ntest_processing_start_time = time()\n\n# Process test graphs using graphExtender\nprocessed_test_dataset = process_graphs_from_folder(\n    all_graphs=test_graphs,\n    all_terminals=test_terminals,\n    max_nodes=MAX_NODES,\n    save_batch_size=None,  # Don't save in batches for small test set\n    output_filename_prefix=f\"{TEST_CONFIG['dataset_name']}_processed\"\n)\n\ntest_processing_time = time() - test_processing_start_time\nprint(f\"Test graph processing completed in {test_processing_time:.2f} seconds\")\nprint(f\"Processed {len(processed_test_dataset)} test graphs for evaluation\")\n\n# Save processed test dataset\ntest_processed_file = os.path.join(TEST_CONFIG['output_directory'], f\"{TEST_CONFIG['dataset_name']}_testing_ready.pkl\")\nprint(f\"Saving processed test dataset to: {test_processed_file}\")\nsave_object(processed_test_dataset, test_processed_file)",
   "metadata": {
    "ExecuteTime": {
     "end_time": "2025-08-20T00:46:49.641742Z",
     "start_time": "2025-08-20T00:46:46.311429Z"
    }
   },
   "outputs": [
    {
     "name": "stdout",
     "output_type": "stream",
     "text": [
      "Processing testing graphs...\n",
      "Terminal swapped 0\n",
      "Graph finished: 1\n",
      "Terminal swapped 1\n",
      "Graph finished: 2\n",
      "Terminal swapped 2\n",
      "Graph finished: 3\n",
      "Terminal swapped 3\n",
      "Graph finished: 4\n",
      "Terminal swapped 4\n",
      "Graph finished: 5\n",
      "Skipped items: 0\n",
      "Test graph processing completed in 3.32 seconds\n",
      "Processed 5 test graphs for evaluation\n",
      "Saving processed test dataset to: ./testing_data/maxcut_3way_test_n500_d6_8_t5_testing_ready.pkl\n"
     ]
    }
   ],
   "execution_count": 17
  },
  {
   "metadata": {},
   "cell_type": "markdown",
   "source": [
    "## Step 10: Algorithm Comparison\n",
    "\n",
    "Compare the performance of the trained GCN model against the randomized algorithm on a single test graph."
   ]
  },
  {
   "metadata": {
    "ExecuteTime": {
     "end_time": "2025-08-20T00:46:54.348944Z",
     "start_time": "2025-08-20T00:46:54.344597Z"
    }
   },
   "cell_type": "code",
   "source": [
    "# Analyze processed testing dataset\n",
    "print(\"\\nProcessed Testing Dataset Analysis:\")\n",
    "test_sample_key = list(processed_test_dataset.keys())[0]\n",
    "test_dgl_graph, test_adjacency_matrix, test_nx_graph, test_terminals_processed = processed_test_dataset[test_sample_key]\n",
    "\n",
    "print(f\"Number of processed test graphs: {len(processed_test_dataset)}\")\n",
    "print(f\"Sample test data structure:\")\n",
    "print(f\"  DGL graph nodes: {test_dgl_graph.number_of_nodes()}\")\n",
    "print(f\"  DGL graph edges: {test_dgl_graph.number_of_edges()}\")\n",
    "print(f\"  Adjacency matrix shape: {test_adjacency_matrix.shape}\")\n",
    "print(f\"  Adjacency matrix device: {test_adjacency_matrix.device}\")\n",
    "print(f\"  Adjacency matrix dtype: {test_adjacency_matrix.dtype}\")\n",
    "print(f\"  NetworkX graph: {type(test_nx_graph)} with {len(test_nx_graph.nodes())} nodes\")\n",
    "print(f\"  Terminals: {test_terminals_processed}\")\n",
    "\n",
    "# Check terminal normalization for test set\n",
    "test_terminal_sets = [data[3] for data in processed_test_dataset.values()]\n",
    "test_unique_terminals = set(tuple(sorted(t)) for t in test_terminal_sets)\n",
    "print(f\"\\nTest set terminal normalization check:\")\n",
    "print(f\"  Unique terminal sets: {test_unique_terminals}\")\n",
    "print(f\"  Expected: {(0, 1, 2)}\")\n",
    "\n",
    "# Verify consistency with training set format\n",
    "print(f\"\\nConsistency check with training set:\")\n",
    "print(f\"  Training adjacency matrix shape: {adjacency_matrix.shape}\")\n",
    "print(f\"  Testing adjacency matrix shape: {test_adjacency_matrix.shape}\")\n",
    "print(f\"  Format consistency: {'✓' if adjacency_matrix.shape == test_adjacency_matrix.shape else '✗'}\")"
   ],
   "outputs": [
    {
     "name": "stdout",
     "output_type": "stream",
     "text": [
      "\n",
      "Processed Testing Dataset Analysis:\n",
      "Number of processed test graphs: 5\n",
      "Sample test data structure:\n",
      "  DGL graph nodes: 500\n",
      "  DGL graph edges: 3000\n",
      "  Adjacency matrix shape: torch.Size([500, 1000])\n",
      "  Adjacency matrix device: cpu\n",
      "  Adjacency matrix dtype: torch.float32\n",
      "  NetworkX graph: <class 'networkx.classes.graph.Graph'> with 500 nodes\n",
      "  Terminals: [0, 1, 2]\n",
      "\n",
      "Test set terminal normalization check:\n",
      "  Unique terminal sets: {(0, 1, 2)}\n",
      "  Expected: (0, 1, 2)\n",
      "\n",
      "Consistency check with training set:\n",
      "  Training adjacency matrix shape: torch.Size([500, 1000])\n",
      "  Testing adjacency matrix shape: torch.Size([500, 1000])\n",
      "  Format consistency: ✓\n"
     ]
    }
   ],
   "execution_count": 18
  },
  {
   "metadata": {
    "ExecuteTime": {
     "end_time": "2025-08-20T00:46:56.238624Z",
     "start_time": "2025-08-20T00:46:56.235577Z"
    }
   },
   "cell_type": "code",
   "source": "# Get one graph object from the processed test dataset for comparison\ntest_graph_key = list(processed_test_dataset.keys())[0]\ndgl_graph, adjacency_matrix, nx_graph, terminals = processed_test_dataset[test_graph_key]\n\nprint(f\"Selected graph: {test_graph_key}\")\nprint(f\"Graph properties:\")\nprint(f\"  Nodes: {len(nx_graph.nodes())}\")\nprint(f\"  Edges: {len(nx_graph.edges())}\")\nprint(f\"  Terminals: {terminals}\")\nprint(f\"  DGL graph nodes: {dgl_graph.number_of_nodes()}\")\nprint(f\"  DGL graph edges: {dgl_graph.number_of_edges()}\")\nprint(f\"  Adjacency matrix shape: {adjacency_matrix.shape}\")\n\n# Create terminal constraints for the randomized algorithm\n# The terminals are normalized to [0, 1, 2], we need to map them to actual node IDs\nterminal_constraints = {terminals[0]: 0, terminals[1]: 1, terminals[2]: 2}\n\nprint(f\"Terminal constraints: {terminal_constraints}\")",
   "outputs": [
    {
     "name": "stdout",
     "output_type": "stream",
     "text": [
      "Selected graph: 0\n",
      "Graph properties:\n",
      "  Nodes: 500\n",
      "  Edges: 1500\n",
      "  Terminals: [0, 1, 2]\n",
      "  DGL graph nodes: 500\n",
      "  DGL graph edges: 3000\n",
      "  Adjacency matrix shape: torch.Size([500, 1000])\n",
      "Terminal constraints: {0: 0, 1: 1, 2: 2}\n"
     ]
    }
   ],
   "execution_count": 19
  },
  {
   "metadata": {
    "ExecuteTime": {
     "end_time": "2025-08-20T00:46:57.344304Z",
     "start_time": "2025-08-20T00:46:57.340766Z"
    }
   },
   "cell_type": "code",
   "source": [
    "# Get one graph object from the extender (processed test dataset)\n",
    "test_graph_key = list(processed_test_dataset.keys())[0]\n",
    "dgl_graph, adjacency_matrix, nx_graph, terminals = processed_test_dataset[test_graph_key]\n",
    "\n",
    "print(f\"Selected graph: {test_graph_key}\")\n",
    "print(f\"Graph properties:\")\n",
    "print(f\"  Nodes: {len(nx_graph.nodes())}\")\n",
    "print(f\"  Edges: {len(nx_graph.edges())}\")\n",
    "print(f\"  Terminals: {terminals}\")\n",
    "print(f\"  DGL graph nodes: {dgl_graph.number_of_nodes()}\")\n",
    "print(f\"  DGL graph edges: {dgl_graph.number_of_edges()}\")\n",
    "print(f\"  Adjacency matrix shape: {adjacency_matrix.shape}\")"
   ],
   "outputs": [
    {
     "name": "stdout",
     "output_type": "stream",
     "text": [
      "Selected graph: 0\n",
      "Graph properties:\n",
      "  Nodes: 500\n",
      "  Edges: 1500\n",
      "  Terminals: [0, 1, 2]\n",
      "  DGL graph nodes: 500\n",
      "  DGL graph edges: 3000\n",
      "  Adjacency matrix shape: torch.Size([500, 1000])\n"
     ]
    }
   ],
   "execution_count": 20
  },
  {
   "metadata": {
    "ExecuteTime": {
     "end_time": "2025-08-20T00:47:03.290131Z",
     "start_time": "2025-08-20T00:47:03.218046Z"
    }
   },
   "cell_type": "code",
   "source": [
    "# Run the graph through the randomized algorithm\n",
    "print(\"=\" * 50)\n",
    "print(\"RANDOMIZED ALGORITHM EVALUATION\")\n",
    "print(\"=\" * 50)\n",
    "\n",
    "print(f\"Terminal constraints: {terminal_constraints}\")\n",
    "\n",
    "# Run randomized algorithm\n",
    "randomized_start_time = time()\n",
    "randomized_cut_value, randomized_partition = randomized_k_way_maxcut(\n",
    "    nx_graph,\n",
    "    k=3,\n",
    "    max_iterations=1000,\n",
    "    threshold=0,\n",
    "    patience=50,\n",
    "    fixed_terminals=terminal_constraints,\n",
    "    random_seed=42\n",
    ")\n",
    "randomized_time = time() - randomized_start_time\n",
    "\n",
    "print(f\"Randomized Algorithm Results:\")\n",
    "print(f\"  Cut value: {randomized_cut_value}\")\n",
    "print(f\"  Runtime: {randomized_time:.4f} seconds\")\n",
    "\n",
    "# Calculate partition distribution manually instead of using pandas\n",
    "partition_counts = {}\n",
    "for partition in randomized_partition.values():\n",
    "    partition_counts[partition] = partition_counts.get(partition, 0) + 1\n",
    "print(f\"  Partition distribution: {dict(sorted(partition_counts.items()))}\")\n",
    "\n",
    "# Verify terminal constraints were satisfied\n",
    "print(f\"Terminal constraint verification:\")\n",
    "for terminal_node, expected_partition in terminal_constraints.items():\n",
    "    actual_partition = randomized_partition[terminal_node]\n",
    "    print(f\"  Node {terminal_node} -> Partition {actual_partition} (expected {expected_partition}): {'✓' if actual_partition == expected_partition else '✗'}\")"
   ],
   "outputs": [
    {
     "name": "stdout",
     "output_type": "stream",
     "text": [
      "==================================================\n",
      "RANDOMIZED ALGORITHM EVALUATION\n",
      "==================================================\n",
      "Terminal constraints: {0: 0, 1: 1, 2: 2}\n",
      "Randomized Algorithm Results:\n",
      "  Cut value: 1046\n",
      "  Runtime: 0.0681 seconds\n",
      "  Partition distribution: {0: 176, 1: 164, 2: 160}\n",
      "Terminal constraint verification:\n",
      "  Node 0 -> Partition 0 (expected 0): ✓\n",
      "  Node 1 -> Partition 1 (expected 1): ✓\n",
      "  Node 2 -> Partition 2 (expected 2): ✓\n"
     ]
    }
   ],
   "execution_count": 22
  },
  {
   "metadata": {
    "ExecuteTime": {
     "end_time": "2025-08-20T00:47:04.249094Z",
     "start_time": "2025-08-20T00:47:04.243643Z"
    }
   },
   "cell_type": "code",
   "source": [
    "# Compare the results\n",
    "print(\"=\" * 50)\n",
    "print(\"ALGORITHM COMPARISON SUMMARY\")\n",
    "print(\"=\" * 50)\n",
    "\n",
    "print(f\"Graph: {test_graph_key}\")\n",
    "print(f\"Nodes: {len(nx_graph.nodes())}, Edges: {len(nx_graph.edges())}\")\n",
    "print(f\"Terminal constraints: {terminal_constraints}\")\n",
    "print(\"\")\n",
    "\n",
    "print(\"Results Comparison:\")\n",
    "print(f\"  Randomized Algorithm:\")\n",
    "print(f\"    Cut Value: {randomized_cut_value}\")\n",
    "print(f\"    Runtime: {randomized_time:.4f} seconds\")\n",
    "print(\"\")\n",
    "\n",
    "if 'gcn_results' in locals():\n",
    "    print(f\"  GCN Model:\")\n",
    "    print(f\"    Model Loss: {gcn_results['average_loss']:.6f}\")\n",
    "    print(f\"    Runtime: {gcn_time:.4f} seconds\")\n",
    "\n",
    "    # The GCN loss is typically negative of the cut value (since we maximize cut = minimize negative cut)\n",
    "    # So we can estimate the GCN cut value as the negative of the loss\n",
    "    estimated_gcn_cut = -gcn_results['average_loss']\n",
    "    print(f\"    Estimated Cut Value: {estimated_gcn_cut:.2f}\")\n",
    "\n",
    "    print(\"\")\n",
    "    print(\"Performance Analysis:\")\n",
    "\n",
    "    if estimated_gcn_cut > randomized_cut_value:\n",
    "        improvement = estimated_gcn_cut - randomized_cut_value\n",
    "        percentage = (improvement / randomized_cut_value) * 100\n",
    "        print(f\"  ✓ GCN outperforms randomized algorithm\")\n",
    "        print(f\"  ✓ Improvement: +{improvement:.2f} ({percentage:.1f}%)\")\n",
    "    elif estimated_gcn_cut < randomized_cut_value:\n",
    "        deficit = randomized_cut_value - estimated_gcn_cut\n",
    "        percentage = (deficit / randomized_cut_value) * 100\n",
    "        print(f\"  ⚠ Randomized algorithm outperforms GCN\")\n",
    "        print(f\"  ⚠ Deficit: -{deficit:.2f} ({percentage:.1f}%)\")\n",
    "    else:\n",
    "        print(f\"  = Both algorithms achieved similar performance\")\n",
    "\n",
    "    if gcn_time < randomized_time:\n",
    "        speedup = randomized_time / gcn_time\n",
    "        print(f\"  ✓ GCN is {speedup:.1f}x faster\")\n",
    "    else:\n",
    "        slowdown = gcn_time / randomized_time\n",
    "        print(f\"  ⚠ Randomized algorithm is {slowdown:.1f}x faster\")\n",
    "\n",
    "else:\n",
    "    print(f\"  GCN Model: Evaluation failed\")\n",
    "\n",
    "print(\"\")\n",
    "print(\"=\" * 50)"
   ],
   "outputs": [
    {
     "name": "stdout",
     "output_type": "stream",
     "text": [
      "==================================================\n",
      "ALGORITHM COMPARISON SUMMARY\n",
      "==================================================\n",
      "Graph: 0\n",
      "Nodes: 500, Edges: 1500\n",
      "Terminal constraints: {0: 0, 1: 1, 2: 2}\n",
      "\n",
      "Results Comparison:\n",
      "  Randomized Algorithm:\n",
      "    Cut Value: 1046\n",
      "    Runtime: 0.0681 seconds\n",
      "\n",
      "  GCN Model:\n",
      "    Model Loss: -1325.000000\n",
      "    Runtime: 0.0090 seconds\n",
      "    Estimated Cut Value: 1325.00\n",
      "\n",
      "Performance Analysis:\n",
      "  ✓ GCN outperforms randomized algorithm\n",
      "  ✓ Improvement: +279.00 (26.7%)\n",
      "  ✓ GCN is 7.6x faster\n",
      "\n",
      "==================================================\n"
     ]
    }
   ],
   "execution_count": 23
  },
  {
   "metadata": {
    "ExecuteTime": {
     "end_time": "2025-08-20T00:48:22.689846Z",
     "start_time": "2025-08-20T00:48:22.361710Z"
    }
   },
   "cell_type": "code",
   "source": [
    "# Comprehensive GCN vs Randomized Algorithm Testing\n",
    "print(\"=\" * 60)\n",
    "print(\"COMPREHENSIVE ALGORITHM COMPARISON\")\n",
    "print(\"=\" * 60)\n",
    "\n",
    "# Load the trained model\n",
    "model_path = f\"./final_{training_config.save_directory}\"\n",
    "print(f\"Loading trained GCN model from: {model_path}\")\n",
    "\n",
    "try:\n",
    "    # Load model with same configuration used for training\n",
    "    loaded_model, loaded_inputs, loaded_config = load_neural_model(model_path, training_config)\n",
    "    print(\"✓ GCN model loaded successfully\")\n",
    "\n",
    "    # Test on multiple graphs from the test set\n",
    "    test_results = []\n",
    "\n",
    "    print(f\"\\nRunning comparison on {len(processed_test_dataset)} test graphs...\")\n",
    "    print(\"-\" * 60)\n",
    "\n",
    "    for i, (test_key, (test_dgl_graph, test_adj_matrix, test_nx_graph, test_terminals)) in enumerate(processed_test_dataset.items()):\n",
    "        print(f\"\\nTest Graph {i+1}: {test_key}\")\n",
    "        print(f\"  Nodes: {len(test_nx_graph.nodes())}, Edges: {len(test_nx_graph.edges())}\")\n",
    "\n",
    "        # Create terminal constraints for randomized algorithm\n",
    "        # Terminals are normalized to [0, 1, 2] after processing\n",
    "        terminal_constraints = {test_terminals[0]: 0, test_terminals[1]: 1, test_terminals[2]: 2}\n",
    "\n",
    "        # 1. Run Randomized Algorithm\n",
    "        randomized_start_time = time()\n",
    "        randomized_cut_value, randomized_partition = randomized_k_way_maxcut(\n",
    "            test_nx_graph,\n",
    "            k=3,\n",
    "            max_iterations=1000,\n",
    "            threshold=0,\n",
    "            patience=50,\n",
    "            fixed_terminals=terminal_constraints,\n",
    "            random_seed=42\n",
    "        )\n",
    "        randomized_time = time() - randomized_start_time\n",
    "\n",
    "        # 2. Run GCN Model\n",
    "        gcn_start_time = time()\n",
    "        single_graph_dataset = {test_key: (test_dgl_graph, test_adj_matrix, test_nx_graph, test_terminals)}\n",
    "        gcn_results = evaluate_model(loaded_model, single_graph_dataset, training_config)\n",
    "        gcn_time = time() - gcn_start_time\n",
    "\n",
    "        # The GCN loss is negative of the cut value (we minimize negative cut = maximize cut)\n",
    "        estimated_gcn_cut = -gcn_results['average_loss']\n",
    "\n",
    "        # Store results\n",
    "        result = {\n",
    "            'graph_name': test_key,\n",
    "            'nodes': len(test_nx_graph.nodes()),\n",
    "            'edges': len(test_nx_graph.edges()),\n",
    "            'randomized_cut': randomized_cut_value,\n",
    "            'randomized_time': randomized_time,\n",
    "            'gcn_cut': estimated_gcn_cut,\n",
    "            'gcn_time': gcn_time,\n",
    "            'gcn_loss': gcn_results['average_loss']\n",
    "        }\n",
    "        test_results.append(result)\n",
    "\n",
    "        # Calculate performance metrics\n",
    "        if randomized_cut_value > 0:\n",
    "            improvement = estimated_gcn_cut - randomized_cut_value\n",
    "            percentage = (improvement / randomized_cut_value) * 100\n",
    "        else:\n",
    "            improvement = estimated_gcn_cut - randomized_cut_value\n",
    "            percentage = 0\n",
    "\n",
    "        speedup = randomized_time / gcn_time if gcn_time > 0 else float('inf')\n",
    "\n",
    "        # Print results for this graph\n",
    "        print(f\"  Randomized Algorithm: Cut = {randomized_cut_value}, Time = {randomized_time:.4f}s\")\n",
    "        print(f\"  GCN Model:           Cut = {estimated_gcn_cut:.2f}, Time = {gcn_time:.4f}s\")\n",
    "        print(f\"  Performance:         {improvement:+.2f} ({percentage:+.1f}%), {speedup:.1f}x speedup\")\n",
    "\n",
    "        # Verify terminal constraints for randomized algorithm\n",
    "        constraints_satisfied = all(\n",
    "            randomized_partition[node] == expected\n",
    "            for node, expected in terminal_constraints.items()\n",
    "        )\n",
    "        print(f\"  Terminal constraints: {'✓' if constraints_satisfied else '✗'}\")\n",
    "\n",
    "    # Summary statistics\n",
    "    print(\"\\n\" + \"=\" * 60)\n",
    "    print(\"SUMMARY STATISTICS\")\n",
    "    print(\"=\" * 60)\n",
    "\n",
    "    total_graphs = len(test_results)\n",
    "    avg_randomized_cut = sum(r['randomized_cut'] for r in test_results) / total_graphs\n",
    "    avg_gcn_cut = sum(r['gcn_cut'] for r in test_results) / total_graphs\n",
    "    avg_randomized_time = sum(r['randomized_time'] for r in test_results) / total_graphs\n",
    "    avg_gcn_time = sum(r['gcn_time'] for r in test_results) / total_graphs\n",
    "\n",
    "    total_improvement = avg_gcn_cut - avg_randomized_cut\n",
    "    avg_percentage = (total_improvement / avg_randomized_cut * 100) if avg_randomized_cut > 0 else 0\n",
    "    avg_speedup = avg_randomized_time / avg_gcn_time if avg_gcn_time > 0 else float('inf')\n",
    "\n",
    "    # Count wins\n",
    "    gcn_wins = sum(1 for r in test_results if r['gcn_cut'] > r['randomized_cut'])\n",
    "    randomized_wins = sum(1 for r in test_results if r['randomized_cut'] > r['gcn_cut'])\n",
    "    ties = total_graphs - gcn_wins - randomized_wins\n",
    "\n",
    "    print(f\"Total test graphs: {total_graphs}\")\n",
    "    print(f\"\")\n",
    "    print(f\"Average Cut Values:\")\n",
    "    print(f\"  Randomized Algorithm: {avg_randomized_cut:.2f}\")\n",
    "    print(f\"  GCN Model:           {avg_gcn_cut:.2f}\")\n",
    "    print(f\"  Improvement:         {total_improvement:+.2f} ({avg_percentage:+.1f}%)\")\n",
    "    print(f\"\")\n",
    "    print(f\"Average Runtime:\")\n",
    "    print(f\"  Randomized Algorithm: {avg_randomized_time:.4f}s\")\n",
    "    print(f\"  GCN Model:           {avg_gcn_time:.4f}s\")\n",
    "    print(f\"  Speedup:             {avg_speedup:.1f}x\")\n",
    "    print(f\"\")\n",
    "    print(f\"Win/Loss Record:\")\n",
    "    print(f\"  GCN Wins:            {gcn_wins}/{total_graphs} ({gcn_wins/total_graphs*100:.1f}%)\")\n",
    "    print(f\"  Randomized Wins:     {randomized_wins}/{total_graphs} ({randomized_wins/total_graphs*100:.1f}%)\")\n",
    "    print(f\"  Ties:                {ties}/{total_graphs} ({ties/total_graphs*100:.1f}%)\")\n",
    "\n",
    "    # Overall verdict\n",
    "    print(f\"\")\n",
    "    print(\"=\" * 60)\n",
    "    if gcn_wins > randomized_wins:\n",
    "        print(\"🏆 VERDICT: GCN Model outperforms Randomized Algorithm\")\n",
    "    elif randomized_wins > gcn_wins:\n",
    "        print(\"🏆 VERDICT: Randomized Algorithm outperforms GCN Model\")\n",
    "    else:\n",
    "        print(\"🤝 VERDICT: Both algorithms perform similarly\")\n",
    "    print(\"=\" * 60)\n",
    "\n",
    "    # Save detailed results\n",
    "    results_file = os.path.join(TEST_CONFIG['output_directory'], f\"{TEST_CONFIG['dataset_name']}_comparison_results.pkl\")\n",
    "    save_object(test_results, results_file)\n",
    "    print(f\"\\\\nDetailed results saved to: {results_file}\")\n",
    "\n",
    "except Exception as e:\n",
    "    print(f\"✗ Testing failed: {e}\")\n",
    "    import traceback\n",
    "    traceback.print_exc()"
   ],
   "outputs": [
    {
     "name": "stdout",
     "output_type": "stream",
     "text": [
      "============================================================\n",
      "COMPREHENSIVE ALGORITHM COMPARISON\n",
      "============================================================\n",
      "Loading trained GCN model from: ./final_maxcut_3way_n500_d6_8_t300_model.pth\n",
      "✓ GCN model loaded successfully\n",
      "\n",
      "Running comparison on 5 test graphs...\n",
      "------------------------------------------------------------\n",
      "\n",
      "Test Graph 1: 0\n",
      "  Nodes: 500, Edges: 1500\n",
      "  Randomized Algorithm: Cut = 1046, Time = 0.0572s\n",
      "  GCN Model:           Cut = 1024.00, Time = 0.0092s\n",
      "  Performance:         -22.00 (-2.1%), 6.2x speedup\n",
      "  Terminal constraints: ✓\n",
      "\n",
      "Test Graph 2: 1\n",
      "  Nodes: 500, Edges: 1750\n",
      "  Randomized Algorithm: Cut = 1205, Time = 0.0603s\n",
      "  GCN Model:           Cut = 1245.00, Time = 0.0087s\n",
      "  Performance:         +40.00 (+3.3%), 6.9x speedup\n",
      "  Terminal constraints: ✓\n",
      "\n",
      "Test Graph 3: 2\n",
      "  Nodes: 500, Edges: 1750\n",
      "  Randomized Algorithm: Cut = 1215, Time = 0.0546s\n",
      "  GCN Model:           Cut = 1198.00, Time = 0.0093s\n",
      "  Performance:         -17.00 (-1.4%), 5.9x speedup\n",
      "  Terminal constraints: ✓\n",
      "\n",
      "Test Graph 4: 3\n",
      "  Nodes: 500, Edges: 1500\n",
      "  Randomized Algorithm: Cut = 1044, Time = 0.0392s\n",
      "  GCN Model:           Cut = 1027.00, Time = 0.0086s\n",
      "  Performance:         -17.00 (-1.6%), 4.5x speedup\n",
      "  Terminal constraints: ✓\n",
      "\n",
      "Test Graph 5: 4\n",
      "  Nodes: 500, Edges: 2000\n",
      "  Randomized Algorithm: Cut = 1371, Time = 0.0400s\n",
      "  GCN Model:           Cut = 1325.00, Time = 0.0094s\n",
      "  Performance:         -46.00 (-3.4%), 4.3x speedup\n",
      "  Terminal constraints: ✓\n",
      "\n",
      "============================================================\n",
      "SUMMARY STATISTICS\n",
      "============================================================\n",
      "Total test graphs: 5\n",
      "\n",
      "Average Cut Values:\n",
      "  Randomized Algorithm: 1176.20\n",
      "  GCN Model:           1163.80\n",
      "  Improvement:         -12.40 (-1.1%)\n",
      "\n",
      "Average Runtime:\n",
      "  Randomized Algorithm: 0.0503s\n",
      "  GCN Model:           0.0090s\n",
      "  Speedup:             5.6x\n",
      "\n",
      "Win/Loss Record:\n",
      "  GCN Wins:            1/5 (20.0%)\n",
      "  Randomized Wins:     4/5 (80.0%)\n",
      "  Ties:                0/5 (0.0%)\n",
      "\n",
      "============================================================\n",
      "🏆 VERDICT: Randomized Algorithm outperforms GCN Model\n",
      "============================================================\n",
      "\\nDetailed results saved to: ./testing_data/maxcut_3way_test_n500_d6_8_t5_comparison_results.pkl\n"
     ]
    }
   ],
   "execution_count": 25
  },
  {
   "metadata": {},
   "cell_type": "code",
   "outputs": [],
   "execution_count": null,
   "source": ""
  }
 ],
 "metadata": {
  "kernelspec": {
   "display_name": "Python 3",
   "language": "python",
   "name": "python3"
  },
  "language_info": {
   "codemirror_mode": {
    "name": "ipython",
    "version": 3
   },
   "file_extension": ".py",
   "mimetype": "text/x-python",
   "name": "python",
   "nbconvert_exporter": "python",
   "pygments_lexer": "ipython3",
   "version": "3.8.5"
  }
 },
 "nbformat": 4,
 "nbformat_minor": 4
}
