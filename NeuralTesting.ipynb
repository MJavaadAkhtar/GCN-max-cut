{
 "cells": [
  {
   "cell_type": "code",
   "execution_count": 1,
   "outputs": [],
   "source": [
    "import numpy as np\n",
    "\n",
    "from commons import *"
   ],
   "metadata": {
    "collapsed": false,
    "pycharm": {
     "name": "#%%\n"
    }
   }
  },
  {
   "cell_type": "code",
   "execution_count": 2,
   "outputs": [],
   "source": [
    "TORCH_DEVICE = torch.device('cuda' if torch.cuda.is_available() else 'cpu')\n",
    "TORCH_DTYPE = torch.float32\n",
    "\n",
    "def get_gnn(n_nodes, gnn_hypers, opt_params, torch_device, torch_dtype):\n",
    "    \"\"\"\n",
    "    Generate GNN instance with specified structure. Creates GNN, retrieves embedding layer,\n",
    "    and instantiates ADAM optimizer given those.\n",
    "\n",
    "    Input:\n",
    "        n_nodes: Problem size (number of nodes in graph)\n",
    "        gnn_hypers: Hyperparameters relevant to GNN structure\n",
    "        opt_params: Hyperparameters relevant to ADAM optimizer\n",
    "        torch_device: Whether to load pytorch variables onto CPU or GPU\n",
    "        torch_dtype: Datatype to use for pytorch variables\n",
    "    Output:\n",
    "        net: GNN instance\n",
    "        embed: Embedding layer to use as input to GNN\n",
    "        optimizer: ADAM optimizer instance\n",
    "    \"\"\"\n",
    "    dim_embedding = gnn_hypers['dim_embedding']\n",
    "    hidden_dim = gnn_hypers['hidden_dim']\n",
    "    dropout = gnn_hypers['dropout']\n",
    "    number_classes = gnn_hypers['number_classes']\n",
    "\n",
    "    # instantiate the GNN\n",
    "    net = GCNSoftmax(dim_embedding, hidden_dim, number_classes, dropout, torch_device)\n",
    "    net = net.type(torch_dtype).to(torch_device)\n",
    "    embed = nn.Embedding(n_nodes, dim_embedding)\n",
    "    embed = embed.type(torch_dtype).to(torch_device)\n",
    "\n",
    "    # set up Adam optimizer\n",
    "    params = chain(net.parameters(), embed.parameters())\n",
    "    optimizer = torch.optim.Adam(params, **opt_params)\n",
    "    return net, embed, optimizer\n",
    "\n",
    "def partition_weight(adj, s):\n",
    "    \"\"\"\n",
    "    Calculates the sum of weights of edges that are in different partitions.\n",
    "\n",
    "    :param adj: Adjacency matrix of the graph.\n",
    "    :param s: List indicating the partition of each edge (0 or 1).\n",
    "    :return: Sum of weights of edges in different partitions.\n",
    "    \"\"\"\n",
    "    s = np.array(s)\n",
    "    partition_matrix = np.not_equal.outer(s, s).astype(int)\n",
    "    weight = (adj * partition_matrix).sum() / 2\n",
    "    return weight\n",
    "\n",
    "def calculateAllCut(q_torch, s):\n",
    "    '''\n",
    "\n",
    "    :param q_torch: The adjacent matrix of the graph\n",
    "    :param s: The binary output from the neural network. s will be in form of [[prob1, prob2, ..., prob n], ...]\n",
    "    :return: The calculated cut loss value\n",
    "    '''\n",
    "    if len(s) > 0:\n",
    "        totalCuts = len(s[0])\n",
    "        CutValue = 0\n",
    "        for i in range(totalCuts):\n",
    "            CutValue += partition_weight(q_torch, s[:,i])\n",
    "        return CutValue/2\n",
    "    return 0\n",
    "\n",
    "\n",
    "def printCombo(orig):\n",
    "    # Original dictionary\n",
    "    input_dict = orig\n",
    "\n",
    "    # Generate all permutations of the dictionary values\n",
    "    value_permutations = list(permutations(input_dict.values()))\n",
    "\n",
    "    # Create a list of dictionaries from the permutations\n",
    "    permuted_dicts = [{key: value for key, value in zip(input_dict.keys(), perm)} for perm in value_permutations]\n",
    "\n",
    "    return permuted_dicts\n",
    "\n",
    "def GetOptimal(net, dgl_graph, inp, q_torch, terminal = None):\n",
    "\n",
    "    probs = net(dgl_graph, inp, terminal)\n",
    "    binary_partitions = (probs >= 0.5).float()\n",
    "\n",
    "    for i in range(len(binary_partitions)-1):\n",
    "        if torch.sum(binary_partitions[i]) != 1:\n",
    "            binary_partitions[i] = torch.tensor([0,1,0])\n",
    "\n",
    "    cut_value_item = calculateAllCut(q_torch, binary_partitions)\n",
    "\n",
    "    return cut_value_item, binary_partitions\n",
    "\n",
    "def GetOptimalNetValue(net, dgl_graph, inp, q_torch, terminal_dict):\n",
    "    net.eval()\n",
    "    best_loss = float('inf')\n",
    "    best_binary = []\n",
    "    # if (dgl_graph.number_of_nodes() < 30):\n",
    "    #     inp = torch.ones((dgl_graph.number_of_nodes(), 30))\n",
    "\n",
    "    # find all potential combination of terminal nodes with respective indices\n",
    "\n",
    "    perm_items = printCombo(terminal_dict)\n",
    "    for i in perm_items:\n",
    "        probs = net(dgl_graph, inp, i)\n",
    "        binary_partitions = (probs >= 0.5).float()\n",
    "        # print([m for m in binary_partitions if sum(m)>1 or sum(m)==0])\n",
    "        # print(binary_partitions, q_torch)\n",
    "        cut_value_item = calculateAllCut(q_torch, binary_partitions)\n",
    "        if cut_value_item < best_loss:\n",
    "            best_loss = cut_value_item\n",
    "            best_binary = binary_partitions\n",
    "    return best_loss, best_binary"
   ],
   "metadata": {
    "collapsed": false,
    "pycharm": {
     "name": "#%%\n"
    }
   }
  },
  {
   "cell_type": "code",
   "execution_count": 3,
   "outputs": [],
   "source": [
    "\n",
    "def hyperParameters(n = 100, d = 3, p = None, graph_type = 'reg', number_epochs = int(1e5),\n",
    "                    learning_rate = 1e-4, PROB_THRESHOLD = 0.5, tol = 1e-4, patience = 100):\n",
    "    dim_embedding = 80    # e.g. 10\n",
    "    hidden_dim = int(dim_embedding/2)\n",
    "    return n, d, p, graph_type, number_epochs, learning_rate, PROB_THRESHOLD, tol, patience, dim_embedding, hidden_dim"
   ],
   "metadata": {
    "collapsed": false,
    "pycharm": {
     "name": "#%%\n"
    }
   }
  },
  {
   "cell_type": "code",
   "execution_count": 4,
   "outputs": [],
   "source": [
    "def test1(modelName):\n",
    "    n, d, p, graph_type, number_epochs, learning_rate, PROB_THRESHOLD, tol, patience, dim_embedding, hidden_dim = hyperParameters(n=4096,patience=40)\n",
    "\n",
    "    # Establish pytorch GNN + optimizer\n",
    "    opt_params = {'lr': learning_rate}\n",
    "    gnn_hypers = {\n",
    "        'dim_embedding': dim_embedding,\n",
    "        'hidden_dim': hidden_dim,\n",
    "        'dropout': 0.0,\n",
    "        'number_classes': 3,\n",
    "        'prob_threshold': PROB_THRESHOLD,\n",
    "        'number_epochs': number_epochs,\n",
    "        'tolerance': tol,\n",
    "        'patience': patience,\n",
    "        'nodes':n\n",
    "    }\n",
    "    test_item = open_file('./testData/prepareDS.pkl')\n",
    "    # test_item_2 = {}\n",
    "    # test_item_2[0]=test_item[1]\n",
    "    net, embed, optimizer = get_gnn(n, gnn_hypers, opt_params, TORCH_DEVICE, TORCH_DTYPE)\n",
    "    model, inputs =LoadNeuralModel(net, gnn_hypers, TORCH_DEVICE, modelName)\n",
    "    model.eval()\n",
    "\n",
    "    i = 0\n",
    "    neural_cut = []\n",
    "    for key, (dgl_graph, adjacency_matrix,graph, terminal) in test_item.items():\n",
    "        # embed = nn.Embedding(graph.number_of_nodes(), dim_embedding)\n",
    "        # embed = embed.type(TORCH_DTYPE).to(TORCH_DEVICE)\n",
    "        # inputs = embed.weight\n",
    "        #inputs = model.embed.weight\n",
    "        # cut_val, partition = GetOptimal(model,dgl_graph, inputs, adjacency_matrix, {terminal[0]:0, terminal[1]:1, terminal[2]:2})\n",
    "        # neural_cut.append(cut_val)\n",
    "        print(inputs, inputs.size())\n",
    "        logits = net(dgl_graph, inputs)\n",
    "        binary_partitions = (logits >= 0.5).float()\n",
    "\n",
    "        # for i in range(len(binary_partitions)-1):\n",
    "        #     if torch.sum(binary_partitions[i]) != 1:\n",
    "        #         binary_partitions[i] = torch.tensor([1,0,0])\n",
    "\n",
    "        cut = calculateAllCut(adjacency_matrix, binary_partitions)\n",
    "        # print(calculateAllCut)\n",
    "        totSum = np.sum(binary_partitions.numpy(), axis=0)\n",
    "\n",
    "        # cut_value, (part_1, part_2) = nx.minimum_cut(test_item_2[0][2], test_item_2[0][3][1], test_item_2[0][3][0], flow_func=shortest_augmenting_path)\n",
    "\n",
    "        print(\"Neural 3-way min-cut value: \" + str(cut) + \" \"  +  str(totSum[0])+ \" \"  +  str(totSum[1])\n",
    "              + \" \"  +  str(totSum[2])+ \" Total Nodes:\" + str(np.sum(totSum)))\n",
    "\n",
    "        print(\"Terminalss: 0-\"+ str(binary_partitions[0])+\n",
    "              \" 1-\"+ str(binary_partitions[1])+\n",
    "              \"2-\"+ str(binary_partitions[2]))\n",
    "\n",
    "        invalidsCount = [m for m in binary_partitions if sum(m)!=1]\n",
    "        print(\"Invalids Nodes: \" + str( len(invalidsCount)))\n",
    "\n",
    "\n",
    "        print(\"---------- \\n\")\n",
    "        i+=1\n",
    "\n",
    "        if (i>10):\n",
    "            break\n"
   ],
   "metadata": {
    "collapsed": false,
    "pycharm": {
     "name": "#%%\n"
    }
   }
  },
  {
   "cell_type": "code",
   "execution_count": null,
   "outputs": [],
   "source": [
    "test1('./final__80wayCut_LossOrig.pth')"
   ],
   "metadata": {
    "collapsed": false,
    "pycharm": {
     "name": "#%%\n"
    }
   }
  },
  {
   "cell_type": "code",
   "execution_count": null,
   "outputs": [],
   "source": [
    "test1('./final__80wayCut_LossMinCut.pth')\n"
   ],
   "metadata": {
    "collapsed": false,
    "pycharm": {
     "name": "#%%\n"
    }
   }
  },
  {
   "cell_type": "code",
   "execution_count": null,
   "outputs": [],
   "source": [
    "test1('./final__80wayCut_LossNew.pth')\n"
   ],
   "metadata": {
    "collapsed": false,
    "pycharm": {
     "name": "#%%\n"
    }
   }
  },
  {
   "cell_type": "code",
   "execution_count": null,
   "outputs": [],
   "source": [
    "test1('./final__80wayCut_Losscomb.pth')\n"
   ],
   "metadata": {
    "collapsed": false,
    "pycharm": {
     "name": "#%%\n"
    }
   }
  },
  {
   "cell_type": "code",
   "execution_count": null,
   "outputs": [],
   "source": [
    "test1('./final__80wayCut_Lossinter.pth')\n"
   ],
   "metadata": {
    "collapsed": false,
    "pycharm": {
     "name": "#%%\n"
    }
   }
  },
  {
   "cell_type": "code",
   "execution_count": null,
   "outputs": [],
   "source": [
    "test1('./final__80wayCut_Lossinter_min_cut_loss.pth')\n",
    "\n",
    "\n",
    "\n"
   ],
   "metadata": {
    "collapsed": false,
    "pycharm": {
     "name": "#%%\n"
    }
   }
  },
  {
   "cell_type": "code",
   "execution_count": null,
   "outputs": [],
   "source": [
    "test1('./final__80wayCut_Lossinter_min_cut_loss.pth')\n"
   ],
   "metadata": {
    "collapsed": false,
    "pycharm": {
     "name": "#%%\n"
    }
   }
  },
  {
   "cell_type": "code",
   "execution_count": null,
   "outputs": [],
   "source": [
    "test1('./final__80wayCut_Lossinter_min_cut_loss_2.pth')"
   ],
   "metadata": {
    "collapsed": false,
    "pycharm": {
     "name": "#%%\n"
    }
   }
  },
  {
   "cell_type": "code",
   "execution_count": null,
   "outputs": [],
   "source": [
    "test1('./final__80wayCut_Lossinter_min_cut_loss_3.pth')\n"
   ],
   "metadata": {
    "collapsed": false,
    "pycharm": {
     "name": "#%%\n"
    }
   }
  },
  {
   "cell_type": "code",
   "execution_count": null,
   "outputs": [],
   "source": [
    "test1('./final__80wayCut_Lossinter_min_cut_loss_4.pth')\n"
   ],
   "metadata": {
    "collapsed": false,
    "pycharm": {
     "name": "#%%\n"
    }
   }
  },
  {
   "cell_type": "code",
   "execution_count": null,
   "outputs": [],
   "source": [
    "test1('./final__80wayCut_Lossinter_min_cut_loss_5.pth')\n"
   ],
   "metadata": {
    "collapsed": false,
    "pycharm": {
     "name": "#%%\n"
    }
   }
  },
  {
   "cell_type": "code",
   "execution_count": null,
   "outputs": [],
   "source": [
    "test1('./final__80wayCut_Lossinter_min_cut_loss_6.pth')\n"
   ],
   "metadata": {
    "collapsed": false,
    "pycharm": {
     "name": "#%%\n"
    }
   }
  },
  {
   "cell_type": "code",
   "execution_count": null,
   "outputs": [],
   "source": [
    "test1('./final__80wayCut_Lossinter_min_cut_loss_7.pth')\n"
   ],
   "metadata": {
    "collapsed": false,
    "pycharm": {
     "name": "#%%\n"
    }
   }
  },
  {
   "cell_type": "code",
   "execution_count": null,
   "outputs": [],
   "source": [
    "#with no terminal loss\n",
    "test1('./final__80wayCut_Lossinter_min_cut_loss_9.pth')\n"
   ],
   "metadata": {
    "collapsed": false,
    "pycharm": {
     "name": "#%%\n"
    }
   }
  },
  {
   "cell_type": "code",
   "execution_count": null,
   "outputs": [],
   "source": [
    "# with terminal loss\n",
    "test1('./final__80wayCut_Lossinter_min_cut_loss_9.pth')\n"
   ],
   "metadata": {
    "collapsed": false,
    "pycharm": {
     "name": "#%%\n"
    }
   }
  },
  {
   "cell_type": "code",
   "execution_count": null,
   "outputs": [],
   "source": [
    "# with terminal loss in NN\n",
    "test1('./final__80wayCut_Lossinter_min_cut_loss_9.pth')\n"
   ],
   "metadata": {
    "collapsed": false,
    "pycharm": {
     "name": "#%%\n"
    }
   }
  },
  {
   "cell_type": "code",
   "execution_count": null,
   "outputs": [],
   "source": [
    "# with terminal loss in NN\n",
    "test1('./final__80wayCut_Lossinter_min_cut_loss_9.pth')\n"
   ],
   "metadata": {
    "collapsed": false,
    "pycharm": {
     "name": "#%%\n"
    }
   }
  },
  {
   "cell_type": "code",
   "execution_count": null,
   "outputs": [],
   "source": [
    "# with terminal loss in NN\n",
    "test1('./final__80wayCut_Lossinter_min_cut_loss_9.pth')\n"
   ],
   "metadata": {
    "collapsed": false,
    "pycharm": {
     "name": "#%%\n"
    }
   }
  },
  {
   "cell_type": "code",
   "execution_count": 5,
   "outputs": [],
   "source": [
    "def test2(modelName):\n",
    "    n, d, p, graph_type, number_epochs, learning_rate, PROB_THRESHOLD, tol, patience, dim_embedding, hidden_dim = hyperParameters(n=4096,patience=40)\n",
    "\n",
    "    # Establish pytorch GNN + optimizer\n",
    "    opt_params = {'lr': learning_rate}\n",
    "    gnn_hypers = {\n",
    "        'dim_embedding': dim_embedding,\n",
    "        'hidden_dim': hidden_dim,\n",
    "        'dropout': 0.0,\n",
    "        'number_classes': 3,\n",
    "        'prob_threshold': PROB_THRESHOLD,\n",
    "        'number_epochs': number_epochs,\n",
    "        'tolerance': tol,\n",
    "        'patience': patience,\n",
    "        'nodes':n\n",
    "    }\n",
    "    test_item = open_file('./testData/prepareDS.pkl')\n",
    "    # test_item_2 = {}\n",
    "    # test_item_2[0]=test_item[1]\n",
    "    net, embed, optimizer = get_gnn(n, gnn_hypers, opt_params, TORCH_DEVICE, TORCH_DTYPE)\n",
    "    model, inputs =LoadNeuralModel(net, gnn_hypers, TORCH_DEVICE, modelName)\n",
    "    model.eval()\n",
    "\n",
    "    i = 0\n",
    "    neural_cut = []\n",
    "    for key, (dgl_graph, adjacency_matrix,graph, terminal) in test_item.items():\n",
    "        # embed = nn.Embedding(graph.number_of_nodes(), dim_embedding)\n",
    "        # embed = embed.type(TORCH_DTYPE).to(TORCH_DEVICE)\n",
    "        # inputs = embed.weight\n",
    "        #inputs = model.embed.weight\n",
    "        # cut_val, partition = GetOptimal(model,dgl_graph, inputs, adjacency_matrix, {terminal[0]:0, terminal[1]:1, terminal[2]:2})\n",
    "        # neural_cut.append(cut_val)\n",
    "        # print(inputs, inputs.size())\n",
    "        logits = net(dgl_graph, adjacency_matrix)\n",
    "        binary_partitions = (logits >= 0.5).float()\n",
    "\n",
    "        # for i in range(len(binary_partitions)-1):\n",
    "        #     if torch.sum(binary_partitions[i]) != 1:\n",
    "        #         binary_partitions[i] = torch.tensor([1,0,0])\n",
    "\n",
    "        cut = calculateAllCut(adjacency_matrix, binary_partitions)\n",
    "        # print(calculateAllCut)\n",
    "        totSum = np.sum(binary_partitions.numpy(), axis=0)\n",
    "\n",
    "        # cut_value, (part_1, part_2) = nx.minimum_cut(test_item_2[0][2], test_item_2[0][3][1], test_item_2[0][3][0], flow_func=shortest_augmenting_path)\n",
    "\n",
    "        print(i, \": number :\", \"Neural 3-way min-cut value: \" + str(cut) + \" \"  +  str(totSum[0])+ \" \"  +  str(totSum[1])\n",
    "              + \" \"  +  str(totSum[2])+ \" Total Nodes:\" + str(np.sum(totSum)))\n",
    "\n",
    "        print(\"Terminalss: 0-\"+ str(binary_partitions[0])+\n",
    "              \" 1-\"+ str(binary_partitions[1])+\n",
    "              \"2-\"+ str(binary_partitions[2]))\n",
    "\n",
    "        invalidsCount = [m for m in binary_partitions if sum(m)!=1]\n",
    "        print(\"Invalids Nodes: \" + str( len(invalidsCount)))\n",
    "\n",
    "\n",
    "        print(\"---------- \\n\")\n",
    "        i+=1\n",
    "\n",
    "        if (i>10):\n",
    "            break\n"
   ],
   "metadata": {
    "collapsed": false,
    "pycharm": {
     "name": "#%%\n"
    }
   }
  },
  {
   "cell_type": "code",
   "execution_count": 51,
   "outputs": [
    {
     "name": "stdout",
     "output_type": "stream",
     "text": [
      "Neural 3-way min-cut value: tensor(672., dtype=torch.float64) 7.0 11.0 62.0 Total Nodes:80.0\n",
      "Terminalss: 0-tensor([0., 0., 1.]) 1-tensor([1., 0., 0.])2-tensor([0., 1., 0.])\n",
      "Invalids Nodes: 0\n",
      "---------- \n",
      "\n",
      "Neural 3-way min-cut value: tensor(277., dtype=torch.float64) 9.0 5.0 66.0 Total Nodes:80.0\n",
      "Terminalss: 0-tensor([1., 0., 0.]) 1-tensor([0., 0., 1.])2-tensor([0., 1., 0.])\n",
      "Invalids Nodes: 0\n",
      "---------- \n",
      "\n",
      "Neural 3-way min-cut value: tensor(498., dtype=torch.float64) 5.0 6.0 69.0 Total Nodes:80.0\n",
      "Terminalss: 0-tensor([0., 0., 1.]) 1-tensor([1., 0., 0.])2-tensor([0., 1., 0.])\n",
      "Invalids Nodes: 0\n",
      "---------- \n",
      "\n",
      "Neural 3-way min-cut value: tensor(216., dtype=torch.float64) 9.0 6.0 65.0 Total Nodes:80.0\n",
      "Terminalss: 0-tensor([0., 0., 1.]) 1-tensor([0., 1., 0.])2-tensor([1., 0., 0.])\n",
      "Invalids Nodes: 0\n",
      "---------- \n",
      "\n",
      "Neural 3-way min-cut value: tensor(202., dtype=torch.float64) 9.0 15.0 56.0 Total Nodes:80.0\n",
      "Terminalss: 0-tensor([1., 0., 0.]) 1-tensor([0., 1., 0.])2-tensor([0., 0., 1.])\n",
      "Invalids Nodes: 0\n",
      "---------- \n",
      "\n",
      "Neural 3-way min-cut value: tensor(872., dtype=torch.float64) 10.0 12.0 58.0 Total Nodes:80.0\n",
      "Terminalss: 0-tensor([0., 1., 0.]) 1-tensor([1., 0., 0.])2-tensor([0., 0., 1.])\n",
      "Invalids Nodes: 0\n",
      "---------- \n",
      "\n",
      "Neural 3-way min-cut value: tensor(752., dtype=torch.float64) 8.0 5.0 67.0 Total Nodes:80.0\n",
      "Terminalss: 0-tensor([0., 1., 0.]) 1-tensor([1., 0., 0.])2-tensor([0., 0., 1.])\n",
      "Invalids Nodes: 0\n",
      "---------- \n",
      "\n",
      "Neural 3-way min-cut value: tensor(585., dtype=torch.float64) 3.0 13.0 64.0 Total Nodes:80.0\n",
      "Terminalss: 0-tensor([1., 0., 0.]) 1-tensor([0., 1., 0.])2-tensor([0., 0., 1.])\n",
      "Invalids Nodes: 0\n",
      "---------- \n",
      "\n",
      "Neural 3-way min-cut value: tensor(359., dtype=torch.float64) 4.0 8.0 68.0 Total Nodes:80.0\n",
      "Terminalss: 0-tensor([1., 0., 0.]) 1-tensor([0., 1., 0.])2-tensor([0., 0., 1.])\n",
      "Invalids Nodes: 0\n",
      "---------- \n",
      "\n",
      "Neural 3-way min-cut value: tensor(817., dtype=torch.float64) 13.0 8.0 59.0 Total Nodes:80.0\n",
      "Terminalss: 0-tensor([1., 0., 0.]) 1-tensor([0., 0., 1.])2-tensor([0., 1., 0.])\n",
      "Invalids Nodes: 0\n",
      "---------- \n",
      "\n",
      "Neural 3-way min-cut value: tensor(337., dtype=torch.float64) 6.0 10.0 64.0 Total Nodes:80.0\n",
      "Terminalss: 0-tensor([1., 0., 0.]) 1-tensor([0., 1., 0.])2-tensor([0., 0., 1.])\n",
      "Invalids Nodes: 0\n",
      "---------- \n",
      "\n"
     ]
    }
   ],
   "source": [
    "test2('./final__80wayCut_LossOrig_2.pth')\n"
   ],
   "metadata": {
    "collapsed": false,
    "pycharm": {
     "name": "#%%\n"
    }
   }
  },
  {
   "cell_type": "code",
   "execution_count": 54,
   "outputs": [
    {
     "name": "stdout",
     "output_type": "stream",
     "text": [
      "Neural 3-way min-cut value: tensor(321., dtype=torch.float64) 38.0 0.0 42.0 Total Nodes:80.0\n",
      "Terminalss: 0-tensor([0., 0., 1.]) 1-tensor([1., 0., 0.])2-tensor([0., 0., 1.])\n",
      "Invalids Nodes: 0\n",
      "---------- \n",
      "\n",
      "Neural 3-way min-cut value: tensor(37., dtype=torch.float64) 32.0 0.0 48.0 Total Nodes:80.0\n",
      "Terminalss: 0-tensor([0., 0., 1.]) 1-tensor([1., 0., 0.])2-tensor([0., 0., 1.])\n",
      "Invalids Nodes: 0\n",
      "---------- \n",
      "\n",
      "Neural 3-way min-cut value: tensor(102., dtype=torch.float64) 25.0 0.0 55.0 Total Nodes:80.0\n",
      "Terminalss: 0-tensor([1., 0., 0.]) 1-tensor([0., 0., 1.])2-tensor([0., 0., 1.])\n",
      "Invalids Nodes: 0\n",
      "---------- \n",
      "\n",
      "Neural 3-way min-cut value: tensor(135., dtype=torch.float64) 31.0 0.0 49.0 Total Nodes:80.0\n",
      "Terminalss: 0-tensor([1., 0., 0.]) 1-tensor([0., 0., 1.])2-tensor([0., 0., 1.])\n",
      "Invalids Nodes: 0\n",
      "---------- \n",
      "\n",
      "Neural 3-way min-cut value: tensor(384., dtype=torch.float64) 23.0 0.0 57.0 Total Nodes:80.0\n",
      "Terminalss: 0-tensor([0., 0., 1.]) 1-tensor([0., 0., 1.])2-tensor([0., 0., 1.])\n",
      "Invalids Nodes: 0\n",
      "---------- \n",
      "\n",
      "Neural 3-way min-cut value: tensor(59., dtype=torch.float64) 32.0 0.0 48.0 Total Nodes:80.0\n",
      "Terminalss: 0-tensor([0., 0., 1.]) 1-tensor([1., 0., 0.])2-tensor([1., 0., 0.])\n",
      "Invalids Nodes: 0\n",
      "---------- \n",
      "\n",
      "Neural 3-way min-cut value: tensor(64., dtype=torch.float64) 29.0 0.0 51.0 Total Nodes:80.0\n",
      "Terminalss: 0-tensor([0., 0., 1.]) 1-tensor([0., 0., 1.])2-tensor([0., 0., 1.])\n",
      "Invalids Nodes: 0\n",
      "---------- \n",
      "\n",
      "Neural 3-way min-cut value: tensor(776., dtype=torch.float64) 27.0 0.0 53.0 Total Nodes:80.0\n",
      "Terminalss: 0-tensor([0., 0., 1.]) 1-tensor([0., 0., 1.])2-tensor([0., 0., 1.])\n",
      "Invalids Nodes: 0\n",
      "---------- \n",
      "\n",
      "Neural 3-way min-cut value: tensor(170., dtype=torch.float64) 32.0 0.0 48.0 Total Nodes:80.0\n",
      "Terminalss: 0-tensor([0., 0., 1.]) 1-tensor([0., 0., 1.])2-tensor([1., 0., 0.])\n",
      "Invalids Nodes: 0\n",
      "---------- \n",
      "\n",
      "Neural 3-way min-cut value: tensor(132., dtype=torch.float64) 32.0 0.0 48.0 Total Nodes:80.0\n",
      "Terminalss: 0-tensor([0., 0., 1.]) 1-tensor([0., 0., 1.])2-tensor([0., 0., 1.])\n",
      "Invalids Nodes: 0\n",
      "---------- \n",
      "\n",
      "Neural 3-way min-cut value: tensor(179., dtype=torch.float64) 39.0 0.0 41.0 Total Nodes:80.0\n",
      "Terminalss: 0-tensor([0., 0., 1.]) 1-tensor([1., 0., 0.])2-tensor([0., 0., 1.])\n",
      "Invalids Nodes: 0\n",
      "---------- \n",
      "\n"
     ]
    }
   ],
   "source": [
    "test2('./final__80wayCut_Lossinter_min_cut_loss_9_new.pth')\n"
   ],
   "metadata": {
    "collapsed": false,
    "pycharm": {
     "name": "#%%\n"
    }
   }
  },
  {
   "cell_type": "code",
   "execution_count": 56,
   "outputs": [
    {
     "name": "stdout",
     "output_type": "stream",
     "text": [
      "Neural 3-way min-cut value: tensor(629., dtype=torch.float64) 51.0 21.0 8.0 Total Nodes:80.0\n",
      "Terminalss: 0-tensor([0., 1., 0.]) 1-tensor([1., 0., 0.])2-tensor([0., 0., 1.])\n",
      "Invalids Nodes: 0\n",
      "---------- \n",
      "\n",
      "Neural 3-way min-cut value: tensor(565., dtype=torch.float64) 69.0 5.0 6.0 Total Nodes:80.0\n",
      "Terminalss: 0-tensor([1., 0., 0.]) 1-tensor([0., 1., 0.])2-tensor([0., 0., 1.])\n",
      "Invalids Nodes: 0\n",
      "---------- \n",
      "\n",
      "Neural 3-way min-cut value: tensor(734., dtype=torch.float64) 61.0 18.0 1.0 Total Nodes:80.0\n",
      "Terminalss: 0-tensor([0., 1., 0.]) 1-tensor([0., 0., 1.])2-tensor([1., 0., 0.])\n",
      "Invalids Nodes: 0\n",
      "---------- \n",
      "\n",
      "Neural 3-way min-cut value: tensor(525., dtype=torch.float64) 56.0 21.0 3.0 Total Nodes:80.0\n",
      "Terminalss: 0-tensor([1., 0., 0.]) 1-tensor([0., 1., 0.])2-tensor([0., 0., 1.])\n",
      "Invalids Nodes: 0\n",
      "---------- \n",
      "\n",
      "Neural 3-way min-cut value: tensor(252., dtype=torch.float64) 49.0 16.0 15.0 Total Nodes:80.0\n",
      "Terminalss: 0-tensor([0., 0., 1.]) 1-tensor([1., 0., 0.])2-tensor([0., 1., 0.])\n",
      "Invalids Nodes: 0\n",
      "---------- \n",
      "\n",
      "Neural 3-way min-cut value: tensor(381., dtype=torch.float64) 61.0 18.0 1.0 Total Nodes:80.0\n",
      "Terminalss: 0-tensor([0., 1., 0.]) 1-tensor([0., 0., 1.])2-tensor([1., 0., 0.])\n",
      "Invalids Nodes: 0\n",
      "---------- \n",
      "\n",
      "Neural 3-way min-cut value: tensor(209., dtype=torch.float64) 46.0 27.0 7.0 Total Nodes:80.0\n",
      "Terminalss: 0-tensor([0., 0., 1.]) 1-tensor([1., 0., 0.])2-tensor([0., 1., 0.])\n",
      "Invalids Nodes: 0\n",
      "---------- \n",
      "\n",
      "Neural 3-way min-cut value: tensor(414., dtype=torch.float64) 38.0 30.0 12.0 Total Nodes:80.0\n",
      "Terminalss: 0-tensor([1., 0., 0.]) 1-tensor([0., 1., 0.])2-tensor([0., 0., 1.])\n",
      "Invalids Nodes: 0\n",
      "---------- \n",
      "\n",
      "Neural 3-way min-cut value: tensor(365., dtype=torch.float64) 45.0 31.0 4.0 Total Nodes:80.0\n",
      "Terminalss: 0-tensor([0., 1., 0.]) 1-tensor([1., 0., 0.])2-tensor([0., 0., 1.])\n",
      "Invalids Nodes: 0\n",
      "---------- \n",
      "\n",
      "Neural 3-way min-cut value: tensor(343., dtype=torch.float64) 48.0 20.0 12.0 Total Nodes:80.0\n",
      "Terminalss: 0-tensor([0., 1., 0.]) 1-tensor([0., 0., 1.])2-tensor([1., 0., 0.])\n",
      "Invalids Nodes: 0\n",
      "---------- \n",
      "\n",
      "Neural 3-way min-cut value: tensor(601., dtype=torch.float64) 25.0 52.0 3.0 Total Nodes:80.0\n",
      "Terminalss: 0-tensor([0., 1., 0.]) 1-tensor([0., 0., 1.])2-tensor([1., 0., 0.])\n",
      "Invalids Nodes: 0\n",
      "---------- \n",
      "\n"
     ]
    }
   ],
   "source": [
    "test2('./final__80wayCut_Lossinter_min_cut_loss_10_new.pth')\n"
   ],
   "metadata": {
    "collapsed": false,
    "pycharm": {
     "name": "#%%\n"
    }
   }
  },
  {
   "cell_type": "code",
   "execution_count": 57,
   "outputs": [
    {
     "name": "stdout",
     "output_type": "stream",
     "text": [
      "Neural 3-way min-cut value: tensor(653., dtype=torch.float64) 76.0 2.0 2.0 Total Nodes:80.0\n",
      "Terminalss: 0-tensor([0., 0., 1.]) 1-tensor([0., 1., 0.])2-tensor([1., 0., 0.])\n",
      "Invalids Nodes: 0\n",
      "---------- \n",
      "\n",
      "Neural 3-way min-cut value: tensor(10., dtype=torch.float64) 71.0 0.0 9.0 Total Nodes:80.0\n",
      "Terminalss: 0-tensor([0., 0., 1.]) 1-tensor([1., 0., 0.])2-tensor([1., 0., 0.])\n",
      "Invalids Nodes: 0\n",
      "---------- \n",
      "\n",
      "Neural 3-way min-cut value: tensor(338., dtype=torch.float64) 75.0 4.0 1.0 Total Nodes:80.0\n",
      "Terminalss: 0-tensor([1., 0., 0.]) 1-tensor([0., 1., 0.])2-tensor([0., 0., 1.])\n",
      "Invalids Nodes: 0\n",
      "---------- \n",
      "\n",
      "Neural 3-way min-cut value: tensor(206., dtype=torch.float64) 71.0 7.0 2.0 Total Nodes:80.0\n",
      "Terminalss: 0-tensor([1., 0., 0.]) 1-tensor([1., 0., 0.])2-tensor([0., 1., 0.])\n",
      "Invalids Nodes: 0\n",
      "---------- \n",
      "\n",
      "Neural 3-way min-cut value: tensor(47., dtype=torch.float64) 72.0 0.0 8.0 Total Nodes:80.0\n",
      "Terminalss: 0-tensor([0., 0., 1.]) 1-tensor([1., 0., 0.])2-tensor([1., 0., 0.])\n",
      "Invalids Nodes: 0\n",
      "---------- \n",
      "\n",
      "Neural 3-way min-cut value: tensor(91., dtype=torch.float64) 75.0 0.0 5.0 Total Nodes:80.0\n",
      "Terminalss: 0-tensor([1., 0., 0.]) 1-tensor([0., 0., 1.])2-tensor([1., 0., 0.])\n",
      "Invalids Nodes: 0\n",
      "---------- \n",
      "\n",
      "Neural 3-way min-cut value: tensor(92., dtype=torch.float64) 67.0 9.0 4.0 Total Nodes:80.0\n",
      "Terminalss: 0-tensor([1., 0., 0.]) 1-tensor([0., 0., 1.])2-tensor([0., 1., 0.])\n",
      "Invalids Nodes: 0\n",
      "---------- \n",
      "\n",
      "Neural 3-way min-cut value: tensor(232., dtype=torch.float64) 76.0 1.0 3.0 Total Nodes:80.0\n",
      "Terminalss: 0-tensor([1., 0., 0.]) 1-tensor([0., 1., 0.])2-tensor([1., 0., 0.])\n",
      "Invalids Nodes: 0\n",
      "---------- \n",
      "\n",
      "Neural 3-way min-cut value: tensor(178., dtype=torch.float64) 69.0 5.0 6.0 Total Nodes:80.0\n",
      "Terminalss: 0-tensor([1., 0., 0.]) 1-tensor([0., 0., 1.])2-tensor([0., 1., 0.])\n",
      "Invalids Nodes: 0\n",
      "---------- \n",
      "\n",
      "Neural 3-way min-cut value: tensor(297., dtype=torch.float64) 77.0 1.0 2.0 Total Nodes:80.0\n",
      "Terminalss: 0-tensor([1., 0., 0.]) 1-tensor([0., 1., 0.])2-tensor([0., 0., 1.])\n",
      "Invalids Nodes: 0\n",
      "---------- \n",
      "\n",
      "Neural 3-way min-cut value: tensor(28., dtype=torch.float64) 75.0 0.0 5.0 Total Nodes:80.0\n",
      "Terminalss: 0-tensor([1., 0., 0.]) 1-tensor([1., 0., 0.])2-tensor([0., 0., 1.])\n",
      "Invalids Nodes: 0\n",
      "---------- \n",
      "\n"
     ]
    }
   ],
   "source": [
    "test2('./final__80wayCut_Lossinter_min_cut_loss_10_new.pth')\n"
   ],
   "metadata": {
    "collapsed": false,
    "pycharm": {
     "name": "#%%\n"
    }
   }
  },
  {
   "cell_type": "code",
   "execution_count": 59,
   "outputs": [
    {
     "name": "stdout",
     "output_type": "stream",
     "text": [
      "0 : number : Neural 3-way min-cut value: tensor(653., dtype=torch.float64) 76.0 2.0 2.0 Total Nodes:80.0\n",
      "Terminalss: 0-tensor([0., 0., 1.]) 1-tensor([0., 1., 0.])2-tensor([1., 0., 0.])\n",
      "Invalids Nodes: 0\n",
      "---------- \n",
      "\n",
      "1 : number : Neural 3-way min-cut value: tensor(10., dtype=torch.float64) 71.0 0.0 9.0 Total Nodes:80.0\n",
      "Terminalss: 0-tensor([0., 0., 1.]) 1-tensor([1., 0., 0.])2-tensor([1., 0., 0.])\n",
      "Invalids Nodes: 0\n",
      "---------- \n",
      "\n",
      "2 : number : Neural 3-way min-cut value: tensor(338., dtype=torch.float64) 75.0 4.0 1.0 Total Nodes:80.0\n",
      "Terminalss: 0-tensor([1., 0., 0.]) 1-tensor([0., 1., 0.])2-tensor([0., 0., 1.])\n",
      "Invalids Nodes: 0\n",
      "---------- \n",
      "\n",
      "3 : number : Neural 3-way min-cut value: tensor(206., dtype=torch.float64) 71.0 7.0 2.0 Total Nodes:80.0\n",
      "Terminalss: 0-tensor([1., 0., 0.]) 1-tensor([1., 0., 0.])2-tensor([0., 1., 0.])\n",
      "Invalids Nodes: 0\n",
      "---------- \n",
      "\n",
      "4 : number : Neural 3-way min-cut value: tensor(47., dtype=torch.float64) 62.0 10.0 8.0 Total Nodes:80.0\n",
      "Terminalss: 0-tensor([0., 0., 1.]) 1-tensor([0., 1., 0.])2-tensor([1., 0., 0.])\n",
      "Invalids Nodes: 0\n",
      "---------- \n",
      "\n",
      "5 : number : Neural 3-way min-cut value: tensor(91., dtype=torch.float64) 64.0 11.0 5.0 Total Nodes:80.0\n",
      "Terminalss: 0-tensor([1., 0., 0.]) 1-tensor([0., 0., 1.])2-tensor([0., 1., 0.])\n",
      "Invalids Nodes: 0\n",
      "---------- \n",
      "\n",
      "6 : number : Neural 3-way min-cut value: tensor(92., dtype=torch.float64) 67.0 9.0 4.0 Total Nodes:80.0\n",
      "Terminalss: 0-tensor([1., 0., 0.]) 1-tensor([0., 0., 1.])2-tensor([0., 1., 0.])\n",
      "Invalids Nodes: 0\n",
      "---------- \n",
      "\n",
      "7 : number : Neural 3-way min-cut value: tensor(232., dtype=torch.float64) 76.0 1.0 3.0 Total Nodes:80.0\n",
      "Terminalss: 0-tensor([1., 0., 0.]) 1-tensor([0., 1., 0.])2-tensor([1., 0., 0.])\n",
      "Invalids Nodes: 0\n",
      "---------- \n",
      "\n",
      "8 : number : Neural 3-way min-cut value: tensor(178., dtype=torch.float64) 69.0 5.0 6.0 Total Nodes:80.0\n",
      "Terminalss: 0-tensor([1., 0., 0.]) 1-tensor([0., 0., 1.])2-tensor([0., 1., 0.])\n",
      "Invalids Nodes: 0\n",
      "---------- \n",
      "\n",
      "9 : number : Neural 3-way min-cut value: tensor(297., dtype=torch.float64) 77.0 1.0 2.0 Total Nodes:80.0\n",
      "Terminalss: 0-tensor([1., 0., 0.]) 1-tensor([0., 1., 0.])2-tensor([0., 0., 1.])\n",
      "Invalids Nodes: 0\n",
      "---------- \n",
      "\n",
      "10 : number : Neural 3-way min-cut value: tensor(28., dtype=torch.float64) 22.0 8.0 50.0 Total Nodes:80.0\n",
      "Terminalss: 0-tensor([1., 0., 0.]) 1-tensor([0., 1., 0.])2-tensor([0., 0., 1.])\n",
      "Invalids Nodes: 0\n",
      "---------- \n",
      "\n"
     ]
    }
   ],
   "source": [
    "test2('./final__80wayCut_Lossinter_min_cut_loss_10_new.pth')\n"
   ],
   "metadata": {
    "collapsed": false,
    "pycharm": {
     "name": "#%%\n"
    }
   }
  },
  {
   "cell_type": "code",
   "execution_count": 62,
   "outputs": [
    {
     "name": "stdout",
     "output_type": "stream",
     "text": [
      "0 : number : Neural 3-way min-cut value: tensor(338., dtype=torch.float64) 14.0 39.0 27.0 Total Nodes:80.0\n",
      "Terminalss: 0-tensor([0., 1., 0.]) 1-tensor([1., 0., 0.])2-tensor([1., 0., 0.])\n",
      "Invalids Nodes: 0\n",
      "---------- \n",
      "\n",
      "1 : number : Neural 3-way min-cut value: tensor(84., dtype=torch.float64) 7.0 55.0 18.0 Total Nodes:80.0\n",
      "Terminalss: 0-tensor([0., 1., 0.]) 1-tensor([0., 0., 1.])2-tensor([1., 0., 0.])\n",
      "Invalids Nodes: 0\n",
      "---------- \n",
      "\n",
      "2 : number : Neural 3-way min-cut value: tensor(478., dtype=torch.float64) 15.0 39.0 26.0 Total Nodes:80.0\n",
      "Terminalss: 0-tensor([0., 0., 1.]) 1-tensor([1., 0., 0.])2-tensor([0., 1., 0.])\n",
      "Invalids Nodes: 0\n",
      "---------- \n",
      "\n",
      "3 : number : Neural 3-way min-cut value: tensor(604., dtype=torch.float64) 8.0 44.0 28.0 Total Nodes:80.0\n",
      "Terminalss: 0-tensor([1., 0., 0.]) 1-tensor([0., 1., 0.])2-tensor([0., 0., 1.])\n",
      "Invalids Nodes: 0\n",
      "---------- \n",
      "\n",
      "4 : number : Neural 3-way min-cut value: tensor(270., dtype=torch.float64) 13.0 44.0 23.0 Total Nodes:80.0\n",
      "Terminalss: 0-tensor([0., 1., 0.]) 1-tensor([0., 1., 0.])2-tensor([1., 0., 0.])\n",
      "Invalids Nodes: 0\n",
      "---------- \n",
      "\n",
      "5 : number : Neural 3-way min-cut value: tensor(506., dtype=torch.float64) 18.0 38.0 24.0 Total Nodes:80.0\n",
      "Terminalss: 0-tensor([0., 1., 0.]) 1-tensor([1., 0., 0.])2-tensor([0., 0., 1.])\n",
      "Invalids Nodes: 0\n",
      "---------- \n",
      "\n",
      "6 : number : Neural 3-way min-cut value: tensor(610., dtype=torch.float64) 11.0 42.0 27.0 Total Nodes:80.0\n",
      "Terminalss: 0-tensor([1., 0., 0.]) 1-tensor([0., 1., 0.])2-tensor([0., 0., 1.])\n",
      "Invalids Nodes: 0\n",
      "---------- \n",
      "\n",
      "7 : number : Neural 3-way min-cut value: tensor(454., dtype=torch.float64) 8.0 48.0 24.0 Total Nodes:80.0\n",
      "Terminalss: 0-tensor([1., 0., 0.]) 1-tensor([0., 0., 1.])2-tensor([0., 1., 0.])\n",
      "Invalids Nodes: 0\n",
      "---------- \n",
      "\n",
      "8 : number : Neural 3-way min-cut value: tensor(542.5000, dtype=torch.float64) 20.0 38.0 21.0 Total Nodes:79.0\n",
      "Terminalss: 0-tensor([0., 1., 0.]) 1-tensor([1., 0., 0.])2-tensor([0., 0., 1.])\n",
      "Invalids Nodes: 1\n",
      "---------- \n",
      "\n",
      "9 : number : Neural 3-way min-cut value: tensor(720., dtype=torch.float64) 15.0 34.0 31.0 Total Nodes:80.0\n",
      "Terminalss: 0-tensor([0., 0., 1.]) 1-tensor([1., 0., 0.])2-tensor([0., 1., 0.])\n",
      "Invalids Nodes: 0\n",
      "---------- \n",
      "\n",
      "10 : number : Neural 3-way min-cut value: tensor(814., dtype=torch.float64) 12.0 37.0 31.0 Total Nodes:80.0\n",
      "Terminalss: 0-tensor([1., 0., 0.]) 1-tensor([0., 1., 0.])2-tensor([0., 0., 1.])\n",
      "Invalids Nodes: 0\n",
      "---------- \n",
      "\n"
     ]
    }
   ],
   "source": [
    "test2('./final__80wayCut_LossOrig_2.pth')"
   ],
   "metadata": {
    "collapsed": false,
    "pycharm": {
     "name": "#%%\n"
    }
   }
  },
  {
   "cell_type": "markdown",
   "source": [
    "### Associated with Exp2\n",
    "Removing terminal penalty, now using cloning\n"
   ],
   "metadata": {
    "collapsed": false,
    "pycharm": {
     "name": "#%% md\n"
    }
   }
  },
  {
   "cell_type": "code",
   "execution_count": 11,
   "outputs": [
    {
     "name": "stdout",
     "output_type": "stream",
     "text": [
      "0 : number : Neural 3-way min-cut value: tensor(130., dtype=torch.float64) 70.0 6.0 4.0 Total Nodes:80.0\n",
      "Terminalss: 0-tensor([1., 0., 0.]) 1-tensor([0., 1., 0.])2-tensor([0., 0., 1.])\n",
      "Invalids Nodes: 0\n",
      "---------- \n",
      "\n",
      "1 : number : Neural 3-way min-cut value: tensor(12., dtype=torch.float64) 70.0 6.0 4.0 Total Nodes:80.0\n",
      "Terminalss: 0-tensor([1., 0., 0.]) 1-tensor([0., 1., 0.])2-tensor([0., 0., 1.])\n",
      "Invalids Nodes: 0\n",
      "---------- \n",
      "\n",
      "2 : number : Neural 3-way min-cut value: tensor(50., dtype=torch.float64) 72.0 4.0 4.0 Total Nodes:80.0\n",
      "Terminalss: 0-tensor([1., 0., 0.]) 1-tensor([0., 1., 0.])2-tensor([0., 0., 1.])\n",
      "Invalids Nodes: 0\n",
      "---------- \n",
      "\n",
      "3 : number : Neural 3-way min-cut value: tensor(200., dtype=torch.float64) 72.0 3.0 5.0 Total Nodes:80.0\n",
      "Terminalss: 0-tensor([1., 0., 0.]) 1-tensor([0., 1., 0.])2-tensor([0., 0., 1.])\n",
      "Invalids Nodes: 0\n",
      "---------- \n",
      "\n",
      "4 : number : Neural 3-way min-cut value: tensor(70., dtype=torch.float64) 70.0 5.0 5.0 Total Nodes:80.0\n",
      "Terminalss: 0-tensor([1., 0., 0.]) 1-tensor([0., 1., 0.])2-tensor([0., 0., 1.])\n",
      "Invalids Nodes: 0\n",
      "---------- \n",
      "\n",
      "5 : number : Neural 3-way min-cut value: tensor(180., dtype=torch.float64) 73.0 5.0 2.0 Total Nodes:80.0\n",
      "Terminalss: 0-tensor([1., 0., 0.]) 1-tensor([0., 1., 0.])2-tensor([0., 0., 1.])\n",
      "Invalids Nodes: 0\n",
      "---------- \n",
      "\n",
      "6 : number : Neural 3-way min-cut value: tensor(200., dtype=torch.float64) 72.0 4.0 4.0 Total Nodes:80.0\n",
      "Terminalss: 0-tensor([1., 0., 0.]) 1-tensor([0., 1., 0.])2-tensor([0., 0., 1.])\n",
      "Invalids Nodes: 0\n",
      "---------- \n",
      "\n",
      "7 : number : Neural 3-way min-cut value: tensor(171., dtype=torch.float64) 73.0 4.0 3.0 Total Nodes:80.0\n",
      "Terminalss: 0-tensor([1., 0., 0.]) 1-tensor([0., 1., 0.])2-tensor([0., 0., 1.])\n",
      "Invalids Nodes: 0\n",
      "---------- \n",
      "\n",
      "8 : number : Neural 3-way min-cut value: tensor(167., dtype=torch.float64) 68.0 7.0 5.0 Total Nodes:80.0\n",
      "Terminalss: 0-tensor([1., 0., 0.]) 1-tensor([0., 1., 0.])2-tensor([0., 0., 1.])\n",
      "Invalids Nodes: 0\n",
      "---------- \n",
      "\n",
      "9 : number : Neural 3-way min-cut value: tensor(31., dtype=torch.float64) 72.0 2.0 6.0 Total Nodes:80.0\n",
      "Terminalss: 0-tensor([1., 0., 0.]) 1-tensor([0., 1., 0.])2-tensor([0., 0., 1.])\n",
      "Invalids Nodes: 0\n",
      "---------- \n",
      "\n",
      "10 : number : Neural 3-way min-cut value: tensor(210., dtype=torch.float64) 71.0 5.0 4.0 Total Nodes:80.0\n",
      "Terminalss: 0-tensor([1., 0., 0.]) 1-tensor([0., 1., 0.])2-tensor([0., 0., 1.])\n",
      "Invalids Nodes: 0\n",
      "---------- \n",
      "\n"
     ]
    }
   ],
   "source": [
    "class GCNSoftmax(nn.Module):\n",
    "    def __init__(self, in_feats, hidden_size, num_classes, dropout, device):\n",
    "        super(GCNSoftmax, self).__init__()\n",
    "        self.dropout_frac = dropout\n",
    "        self.conv1 = GraphConv(in_feats, hidden_size).to(device)\n",
    "        self.conv2 = GraphConv(hidden_size, num_classes).to(device)\n",
    "\n",
    "    def forward(self, g, inputs):\n",
    "        # Basic forward pass\n",
    "        h = self.conv1(g, inputs)\n",
    "        h = F.relu(h)\n",
    "        h = F.dropout(h, p=self.dropout_frac, training=self.training)\n",
    "        h = self.conv2(g, h)\n",
    "        h = F.softmax(h, dim=1)  # Apply softmax over the classes dimension\n",
    "\n",
    "        return h\n",
    "\n",
    "def override_fixed_nodes(h):\n",
    "    output = h.clone()\n",
    "    # Set the output for node 0 to [1, 0, 0]\n",
    "    output[0] = torch.tensor([1.0, 0.0, 0.0])\n",
    "    # Set the output for node 1 to [0, 1, 0]\n",
    "    output[1] = torch.tensor([0.0, 1.0, 0.0])\n",
    "    # Set the output for node 2 to [0, 0, 1]\n",
    "    output[2] = torch.tensor([0.0, 0.0, 1.0])\n",
    "    return output\n",
    "\n",
    "\n",
    "\n",
    "def testexp2(modelName):\n",
    "    n, d, p, graph_type, number_epochs, learning_rate, PROB_THRESHOLD, tol, patience, dim_embedding, hidden_dim = hyperParameters(n=4096,patience=40)\n",
    "\n",
    "    # Establish pytorch GNN + optimizer\n",
    "    opt_params = {'lr': learning_rate}\n",
    "    gnn_hypers = {\n",
    "        'dim_embedding': dim_embedding,\n",
    "        'hidden_dim': hidden_dim,\n",
    "        'dropout': 0.0,\n",
    "        'number_classes': 3,\n",
    "        'prob_threshold': PROB_THRESHOLD,\n",
    "        'number_epochs': number_epochs,\n",
    "        'tolerance': tol,\n",
    "        'patience': patience,\n",
    "        'nodes':n\n",
    "    }\n",
    "    test_item = open_file('./testData/prepareDS.pkl')\n",
    "\n",
    "    net, embed, optimizer = get_gnn(n, gnn_hypers, opt_params, TORCH_DEVICE, TORCH_DTYPE)\n",
    "    model, inputs =LoadNeuralModel(net, gnn_hypers, TORCH_DEVICE, modelName)\n",
    "    model.eval()\n",
    "\n",
    "    i = 0\n",
    "    neural_cut = []\n",
    "    for key, (dgl_graph, adjacency_matrix,graph, terminal) in test_item.items():\n",
    "\n",
    "        logits = net(dgl_graph, adjacency_matrix)\n",
    "        logits = override_fixed_nodes(logits)\n",
    "        binary_partitions = (logits >= 0.5).float()\n",
    "\n",
    "\n",
    "        cut = calculateAllCut(adjacency_matrix, binary_partitions)\n",
    "        # print(calculateAllCut)\n",
    "        totSum = np.sum(binary_partitions.numpy(), axis=0)\n",
    "\n",
    "        print(i, \": number :\", \"Neural 3-way min-cut value: \" + str(cut) + \" \"  +  str(totSum[0])+ \" \"  +  str(totSum[1])\n",
    "              + \" \"  +  str(totSum[2])+ \" Total Nodes:\" + str(np.sum(totSum)))\n",
    "\n",
    "        print(\"Terminalss: 0-\"+ str(binary_partitions[0])+\n",
    "              \" 1-\"+ str(binary_partitions[1])+\n",
    "              \"2-\"+ str(binary_partitions[2]))\n",
    "\n",
    "        invalidsCount = [m for m in binary_partitions if sum(m)!=1]\n",
    "        print(\"Invalids Nodes: \" + str( len(invalidsCount)))\n",
    "\n",
    "\n",
    "        print(\"---------- \\n\")\n",
    "        i+=1\n",
    "\n",
    "        if (i>10):\n",
    "            break\n",
    "testexp2('./final__80wayCut_LossExp2.pth')"
   ],
   "metadata": {
    "collapsed": false,
    "pycharm": {
     "name": "#%%\n"
    }
   }
  },
  {
   "cell_type": "markdown",
   "source": [
    "## Associated with Exp1 - loss\n",
    "modified loss with terminal loss"
   ],
   "metadata": {
    "collapsed": false,
    "pycharm": {
     "name": "#%% md\n"
    }
   }
  },
  {
   "cell_type": "code",
   "execution_count": 13,
   "outputs": [
    {
     "name": "stdout",
     "output_type": "stream",
     "text": [
      "0 : number : Neural 3-way min-cut value: tensor(653., dtype=torch.float64) 56.0 6.0 18.0 Total Nodes:80.0\n",
      "Terminalss: 0-tensor([0., 0., 1.]) 1-tensor([0., 1., 0.])2-tensor([1., 0., 0.])\n",
      "Invalids Nodes: 0\n",
      "---------- \n",
      "\n",
      "1 : number : Neural 3-way min-cut value: tensor(157., dtype=torch.float64) 69.0 1.0 10.0 Total Nodes:80.0\n",
      "Terminalss: 0-tensor([0., 0., 1.]) 1-tensor([1., 0., 0.])2-tensor([0., 1., 0.])\n",
      "Invalids Nodes: 0\n",
      "---------- \n",
      "\n",
      "2 : number : Neural 3-way min-cut value: tensor(619., dtype=torch.float64) 60.0 12.0 8.0 Total Nodes:80.0\n",
      "Terminalss: 0-tensor([0., 1., 0.]) 1-tensor([1., 0., 0.])2-tensor([0., 0., 1.])\n",
      "Invalids Nodes: 0\n",
      "---------- \n",
      "\n",
      "3 : number : Neural 3-way min-cut value: tensor(224., dtype=torch.float64) 53.0 15.0 12.0 Total Nodes:80.0\n",
      "Terminalss: 0-tensor([0., 0., 1.]) 1-tensor([1., 0., 0.])2-tensor([0., 1., 0.])\n",
      "Invalids Nodes: 0\n",
      "---------- \n",
      "\n",
      "4 : number : Neural 3-way min-cut value: tensor(118., dtype=torch.float64) 55.0 16.0 9.0 Total Nodes:80.0\n",
      "Terminalss: 0-tensor([0., 0., 1.]) 1-tensor([1., 0., 0.])2-tensor([0., 1., 0.])\n",
      "Invalids Nodes: 0\n",
      "---------- \n",
      "\n",
      "5 : number : Neural 3-way min-cut value: tensor(906., dtype=torch.float64) 50.0 20.0 10.0 Total Nodes:80.0\n",
      "Terminalss: 0-tensor([1., 0., 0.]) 1-tensor([0., 1., 0.])2-tensor([0., 0., 1.])\n",
      "Invalids Nodes: 0\n",
      "---------- \n",
      "\n",
      "6 : number : Neural 3-way min-cut value: tensor(627., dtype=torch.float64) 55.0 15.0 10.0 Total Nodes:80.0\n",
      "Terminalss: 0-tensor([1., 0., 0.]) 1-tensor([0., 0., 1.])2-tensor([0., 1., 0.])\n",
      "Invalids Nodes: 0\n",
      "---------- \n",
      "\n",
      "7 : number : Neural 3-way min-cut value: tensor(767., dtype=torch.float64) 46.0 11.0 23.0 Total Nodes:80.0\n",
      "Terminalss: 0-tensor([0., 1., 0.]) 1-tensor([1., 0., 0.])2-tensor([0., 0., 1.])\n",
      "Invalids Nodes: 0\n",
      "---------- \n",
      "\n",
      "8 : number : Neural 3-way min-cut value: tensor(193., dtype=torch.float64) 62.0 10.0 8.0 Total Nodes:80.0\n",
      "Terminalss: 0-tensor([0., 0., 1.]) 1-tensor([1., 0., 0.])2-tensor([0., 1., 0.])\n",
      "Invalids Nodes: 0\n",
      "---------- \n",
      "\n",
      "9 : number : Neural 3-way min-cut value: tensor(418., dtype=torch.float64) 53.0 13.0 14.0 Total Nodes:80.0\n",
      "Terminalss: 0-tensor([0., 0., 1.]) 1-tensor([0., 1., 0.])2-tensor([1., 0., 0.])\n",
      "Invalids Nodes: 0\n",
      "---------- \n",
      "\n",
      "10 : number : Neural 3-way min-cut value: tensor(802., dtype=torch.float64) 52.0 17.0 11.0 Total Nodes:80.0\n",
      "Terminalss: 0-tensor([1., 0., 0.]) 1-tensor([0., 1., 0.])2-tensor([0., 0., 1.])\n",
      "Invalids Nodes: 0\n",
      "---------- \n",
      "\n"
     ]
    }
   ],
   "source": [
    "class GCNSoftmax(nn.Module):\n",
    "    def __init__(self, in_feats, hidden_size, num_classes, dropout, device):\n",
    "        super(GCNSoftmax, self).__init__()\n",
    "        self.dropout_frac = dropout\n",
    "        self.conv1 = GraphConv(in_feats, hidden_size).to(device)\n",
    "        self.conv2 = GraphConv(hidden_size, num_classes).to(device)\n",
    "\n",
    "    def forward(self, g, inputs):\n",
    "        # Basic forward pass\n",
    "        h = self.conv1(g, inputs)\n",
    "        h = F.relu(h)\n",
    "        h = F.dropout(h, p=self.dropout_frac, training=self.training)\n",
    "        h = self.conv2(g, h)\n",
    "        h = F.softmax(h, dim=1)  # Apply softmax over the classes dimension\n",
    "\n",
    "        return h\n",
    "\n",
    "def override_fixed_nodes(h):\n",
    "    output = h.clone()\n",
    "    # Set the output for node 0 to [1, 0, 0]\n",
    "    output[0] = torch.tensor([1.0, 0.0, 0.0])\n",
    "    # Set the output for node 1 to [0, 1, 0]\n",
    "    output[1] = torch.tensor([0.0, 1.0, 0.0])\n",
    "    # Set the output for node 2 to [0, 0, 1]\n",
    "    output[2] = torch.tensor([0.0, 0.0, 1.0])\n",
    "    return output\n",
    "\n",
    "\n",
    "\n",
    "def testexp1_loss(modelName):\n",
    "    n, d, p, graph_type, number_epochs, learning_rate, PROB_THRESHOLD, tol, patience, dim_embedding, hidden_dim = hyperParameters(n=4096,patience=40)\n",
    "\n",
    "    # Establish pytorch GNN + optimizer\n",
    "    opt_params = {'lr': learning_rate}\n",
    "    gnn_hypers = {\n",
    "        'dim_embedding': dim_embedding,\n",
    "        'hidden_dim': hidden_dim,\n",
    "        'dropout': 0.0,\n",
    "        'number_classes': 3,\n",
    "        'prob_threshold': PROB_THRESHOLD,\n",
    "        'number_epochs': number_epochs,\n",
    "        'tolerance': tol,\n",
    "        'patience': patience,\n",
    "        'nodes':n\n",
    "    }\n",
    "    test_item = open_file('./testData/prepareDS.pkl')\n",
    "\n",
    "    net, embed, optimizer = get_gnn(n, gnn_hypers, opt_params, TORCH_DEVICE, TORCH_DTYPE)\n",
    "    model, inputs =LoadNeuralModel(net, gnn_hypers, TORCH_DEVICE, modelName)\n",
    "    model.eval()\n",
    "\n",
    "    i = 0\n",
    "    neural_cut = []\n",
    "    for key, (dgl_graph, adjacency_matrix,graph, terminal) in test_item.items():\n",
    "\n",
    "        logits = net(dgl_graph, adjacency_matrix)\n",
    "        # logits = override_fixed_nodes(logits)\n",
    "        binary_partitions = (logits >= 0.5).float()\n",
    "\n",
    "\n",
    "        cut = calculateAllCut(adjacency_matrix, binary_partitions)\n",
    "        # print(calculateAllCut)\n",
    "        totSum = np.sum(binary_partitions.numpy(), axis=0)\n",
    "\n",
    "        print(i, \": number :\", \"Neural 3-way min-cut value: \" + str(cut) + \" \"  +  str(totSum[0])+ \" \"  +  str(totSum[1])\n",
    "              + \" \"  +  str(totSum[2])+ \" Total Nodes:\" + str(np.sum(totSum)))\n",
    "\n",
    "        print(\"Terminalss: 0-\"+ str(binary_partitions[0])+\n",
    "              \" 1-\"+ str(binary_partitions[1])+\n",
    "              \"2-\"+ str(binary_partitions[2]))\n",
    "\n",
    "        invalidsCount = [m for m in binary_partitions if sum(m)!=1]\n",
    "        print(\"Invalids Nodes: \" + str( len(invalidsCount)))\n",
    "\n",
    "\n",
    "        print(\"---------- \\n\")\n",
    "        i+=1\n",
    "\n",
    "        if (i>10):\n",
    "            break\n",
    "testexp1_loss('./final__80wayCut_LossExp1_loss.pth')"
   ],
   "metadata": {
    "collapsed": false,
    "pycharm": {
     "name": "#%%\n"
    }
   }
  },
  {
   "cell_type": "markdown",
   "source": [],
   "metadata": {
    "collapsed": false,
    "pycharm": {
     "name": "#%% md\n"
    }
   }
  },
  {
   "cell_type": "markdown",
   "source": [
    "## Associated with Exp2 - loss\n",
    "modified loss with fixed terminal loss (using clone)"
   ],
   "metadata": {
    "collapsed": false,
    "pycharm": {
     "name": "#%% md\n"
    }
   }
  },
  {
   "cell_type": "code",
   "execution_count": 14,
   "outputs": [
    {
     "name": "stdout",
     "output_type": "stream",
     "text": [
      "0 : number : Neural 3-way min-cut value: tensor(559., dtype=torch.float64) 78.0 1.0 1.0 Total Nodes:80.0\n",
      "Terminalss: 0-tensor([1., 0., 0.]) 1-tensor([0., 1., 0.])2-tensor([0., 0., 1.])\n",
      "Invalids Nodes: 0\n",
      "---------- \n",
      "\n",
      "1 : number : Neural 3-way min-cut value: tensor(262., dtype=torch.float64) 78.0 1.0 1.0 Total Nodes:80.0\n",
      "Terminalss: 0-tensor([1., 0., 0.]) 1-tensor([0., 1., 0.])2-tensor([0., 0., 1.])\n",
      "Invalids Nodes: 0\n",
      "---------- \n",
      "\n",
      "2 : number : Neural 3-way min-cut value: tensor(338., dtype=torch.float64) 78.0 1.0 1.0 Total Nodes:80.0\n",
      "Terminalss: 0-tensor([1., 0., 0.]) 1-tensor([0., 1., 0.])2-tensor([0., 0., 1.])\n",
      "Invalids Nodes: 0\n",
      "---------- \n",
      "\n",
      "3 : number : Neural 3-way min-cut value: tensor(498., dtype=torch.float64) 78.0 1.0 1.0 Total Nodes:80.0\n",
      "Terminalss: 0-tensor([1., 0., 0.]) 1-tensor([0., 1., 0.])2-tensor([0., 0., 1.])\n",
      "Invalids Nodes: 0\n",
      "---------- \n",
      "\n",
      "4 : number : Neural 3-way min-cut value: tensor(429., dtype=torch.float64) 78.0 1.0 1.0 Total Nodes:80.0\n",
      "Terminalss: 0-tensor([1., 0., 0.]) 1-tensor([0., 1., 0.])2-tensor([0., 0., 1.])\n",
      "Invalids Nodes: 0\n",
      "---------- \n",
      "\n",
      "5 : number : Neural 3-way min-cut value: tensor(427., dtype=torch.float64) 78.0 1.0 1.0 Total Nodes:80.0\n",
      "Terminalss: 0-tensor([1., 0., 0.]) 1-tensor([0., 1., 0.])2-tensor([0., 0., 1.])\n",
      "Invalids Nodes: 0\n",
      "---------- \n",
      "\n",
      "6 : number : Neural 3-way min-cut value: tensor(543., dtype=torch.float64) 78.0 1.0 1.0 Total Nodes:80.0\n",
      "Terminalss: 0-tensor([1., 0., 0.]) 1-tensor([0., 1., 0.])2-tensor([0., 0., 1.])\n",
      "Invalids Nodes: 0\n",
      "---------- \n",
      "\n",
      "7 : number : Neural 3-way min-cut value: tensor(492., dtype=torch.float64) 78.0 1.0 1.0 Total Nodes:80.0\n",
      "Terminalss: 0-tensor([1., 0., 0.]) 1-tensor([0., 1., 0.])2-tensor([0., 0., 1.])\n",
      "Invalids Nodes: 0\n",
      "---------- \n",
      "\n",
      "8 : number : Neural 3-way min-cut value: tensor(473., dtype=torch.float64) 78.0 1.0 1.0 Total Nodes:80.0\n",
      "Terminalss: 0-tensor([1., 0., 0.]) 1-tensor([0., 1., 0.])2-tensor([0., 0., 1.])\n",
      "Invalids Nodes: 0\n",
      "---------- \n",
      "\n",
      "9 : number : Neural 3-way min-cut value: tensor(295., dtype=torch.float64) 78.0 1.0 1.0 Total Nodes:80.0\n",
      "Terminalss: 0-tensor([1., 0., 0.]) 1-tensor([0., 1., 0.])2-tensor([0., 0., 1.])\n",
      "Invalids Nodes: 0\n",
      "---------- \n",
      "\n",
      "10 : number : Neural 3-way min-cut value: tensor(443., dtype=torch.float64) 78.0 1.0 1.0 Total Nodes:80.0\n",
      "Terminalss: 0-tensor([1., 0., 0.]) 1-tensor([0., 1., 0.])2-tensor([0., 0., 1.])\n",
      "Invalids Nodes: 0\n",
      "---------- \n",
      "\n"
     ]
    }
   ],
   "source": [
    "class GCNSoftmax(nn.Module):\n",
    "    def __init__(self, in_feats, hidden_size, num_classes, dropout, device):\n",
    "        super(GCNSoftmax, self).__init__()\n",
    "        self.dropout_frac = dropout\n",
    "        self.conv1 = GraphConv(in_feats, hidden_size).to(device)\n",
    "        self.conv2 = GraphConv(hidden_size, num_classes).to(device)\n",
    "\n",
    "    def forward(self, g, inputs):\n",
    "        # Basic forward pass\n",
    "        h = self.conv1(g, inputs)\n",
    "        h = F.relu(h)\n",
    "        h = F.dropout(h, p=self.dropout_frac, training=self.training)\n",
    "        h = self.conv2(g, h)\n",
    "        h = F.softmax(h, dim=1)  # Apply softmax over the classes dimension\n",
    "\n",
    "        return h\n",
    "\n",
    "def override_fixed_nodes(h):\n",
    "    output = h.clone()\n",
    "    # Set the output for node 0 to [1, 0, 0]\n",
    "    output[0] = torch.tensor([1.0, 0.0, 0.0])\n",
    "    # Set the output for node 1 to [0, 1, 0]\n",
    "    output[1] = torch.tensor([0.0, 1.0, 0.0])\n",
    "    # Set the output for node 2 to [0, 0, 1]\n",
    "    output[2] = torch.tensor([0.0, 0.0, 1.0])\n",
    "    return output\n",
    "\n",
    "\n",
    "\n",
    "def testexp1_loss(modelName):\n",
    "    n, d, p, graph_type, number_epochs, learning_rate, PROB_THRESHOLD, tol, patience, dim_embedding, hidden_dim = hyperParameters(n=4096,patience=40)\n",
    "\n",
    "    # Establish pytorch GNN + optimizer\n",
    "    opt_params = {'lr': learning_rate}\n",
    "    gnn_hypers = {\n",
    "        'dim_embedding': dim_embedding,\n",
    "        'hidden_dim': hidden_dim,\n",
    "        'dropout': 0.0,\n",
    "        'number_classes': 3,\n",
    "        'prob_threshold': PROB_THRESHOLD,\n",
    "        'number_epochs': number_epochs,\n",
    "        'tolerance': tol,\n",
    "        'patience': patience,\n",
    "        'nodes':n\n",
    "    }\n",
    "    test_item = open_file('./testData/prepareDS.pkl')\n",
    "\n",
    "    net, embed, optimizer = get_gnn(n, gnn_hypers, opt_params, TORCH_DEVICE, TORCH_DTYPE)\n",
    "    model, inputs =LoadNeuralModel(net, gnn_hypers, TORCH_DEVICE, modelName)\n",
    "    model.eval()\n",
    "\n",
    "    i = 0\n",
    "    neural_cut = []\n",
    "    for key, (dgl_graph, adjacency_matrix,graph, terminal) in test_item.items():\n",
    "\n",
    "        logits = net(dgl_graph, adjacency_matrix)\n",
    "        logits = override_fixed_nodes(logits)\n",
    "        binary_partitions = (logits >= 0.5).float()\n",
    "\n",
    "\n",
    "        cut = calculateAllCut(adjacency_matrix, binary_partitions)\n",
    "        # print(calculateAllCut)\n",
    "        totSum = np.sum(binary_partitions.numpy(), axis=0)\n",
    "\n",
    "        print(i, \": number :\", \"Neural 3-way min-cut value: \" + str(cut) + \" \"  +  str(totSum[0])+ \" \"  +  str(totSum[1])\n",
    "              + \" \"  +  str(totSum[2])+ \" Total Nodes:\" + str(np.sum(totSum)))\n",
    "\n",
    "        print(\"Terminalss: 0-\"+ str(binary_partitions[0])+\n",
    "              \" 1-\"+ str(binary_partitions[1])+\n",
    "              \"2-\"+ str(binary_partitions[2]))\n",
    "\n",
    "        invalidsCount = [m for m in binary_partitions if sum(m)!=1]\n",
    "        print(\"Invalids Nodes: \" + str( len(invalidsCount)))\n",
    "\n",
    "\n",
    "        print(\"---------- \\n\")\n",
    "        i+=1\n",
    "\n",
    "        if (i>10):\n",
    "            break\n",
    "testexp1_loss('./final__80wayCut_LossExp2_loss.pth')"
   ],
   "metadata": {
    "collapsed": false,
    "pycharm": {
     "name": "#%%\n"
    }
   }
  },
  {
   "cell_type": "markdown",
   "source": [
    "## Exp3\n",
    "using binary loss"
   ],
   "metadata": {
    "collapsed": false,
    "pycharm": {
     "name": "#%% md\n"
    }
   }
  },
  {
   "cell_type": "code",
   "execution_count": 17,
   "outputs": [
    {
     "name": "stdout",
     "output_type": "stream",
     "text": [
      "0 : number : Neural 3-way min-cut value: tensor(441., dtype=torch.float64) 12.0 5.0 63.0 Total Nodes:80.0\n",
      "Terminalss: 0-tensor([0., 1., 0.]) 1-tensor([1., 0., 0.])2-tensor([0., 0., 1.])\n",
      "Invalids Nodes: 0\n",
      "---------- \n",
      "\n",
      "1 : number : Neural 3-way min-cut value: tensor(134., dtype=torch.float64) 1.0 8.0 71.0 Total Nodes:80.0\n",
      "Terminalss: 0-tensor([0., 1., 0.]) 1-tensor([0., 0., 1.])2-tensor([1., 0., 0.])\n",
      "Invalids Nodes: 0\n",
      "---------- \n",
      "\n",
      "2 : number : Neural 3-way min-cut value: tensor(375., dtype=torch.float64) 1.0 5.0 74.0 Total Nodes:80.0\n",
      "Terminalss: 0-tensor([0., 0., 1.]) 1-tensor([0., 1., 0.])2-tensor([1., 0., 0.])\n",
      "Invalids Nodes: 0\n",
      "---------- \n",
      "\n",
      "3 : number : Neural 3-way min-cut value: tensor(218., dtype=torch.float64) 1.0 8.0 71.0 Total Nodes:80.0\n",
      "Terminalss: 0-tensor([0., 0., 1.]) 1-tensor([1., 0., 0.])2-tensor([0., 1., 0.])\n",
      "Invalids Nodes: 0\n",
      "---------- \n",
      "\n",
      "4 : number : Neural 3-way min-cut value: tensor(299., dtype=torch.float64) 1.0 10.0 69.0 Total Nodes:80.0\n",
      "Terminalss: 0-tensor([0., 1., 0.]) 1-tensor([0., 0., 1.])2-tensor([1., 0., 0.])\n",
      "Invalids Nodes: 0\n",
      "---------- \n",
      "\n",
      "5 : number : Neural 3-way min-cut value: tensor(105., dtype=torch.float64) 0.0 8.0 72.0 Total Nodes:80.0\n",
      "Terminalss: 0-tensor([0., 0., 1.]) 1-tensor([0., 1., 0.])2-tensor([0., 0., 1.])\n",
      "Invalids Nodes: 0\n",
      "---------- \n",
      "\n",
      "6 : number : Neural 3-way min-cut value: tensor(129., dtype=torch.float64) 7.0 4.0 69.0 Total Nodes:80.0\n",
      "Terminalss: 0-tensor([0., 1., 0.]) 1-tensor([1., 0., 0.])2-tensor([0., 0., 1.])\n",
      "Invalids Nodes: 0\n",
      "---------- \n",
      "\n",
      "7 : number : Neural 3-way min-cut value: tensor(413., dtype=torch.float64) 4.0 1.0 75.0 Total Nodes:80.0\n",
      "Terminalss: 0-tensor([0., 0., 1.]) 1-tensor([0., 1., 0.])2-tensor([1., 0., 0.])\n",
      "Invalids Nodes: 0\n",
      "---------- \n",
      "\n",
      "8 : number : Neural 3-way min-cut value: tensor(427., dtype=torch.float64) 1.0 1.0 78.0 Total Nodes:80.0\n",
      "Terminalss: 0-tensor([1., 0., 0.]) 1-tensor([0., 1., 0.])2-tensor([0., 0., 1.])\n",
      "Invalids Nodes: 0\n",
      "---------- \n",
      "\n",
      "9 : number : Neural 3-way min-cut value: tensor(330., dtype=torch.float64) 9.0 6.0 65.0 Total Nodes:80.0\n",
      "Terminalss: 0-tensor([1., 0., 0.]) 1-tensor([0., 0., 1.])2-tensor([0., 1., 0.])\n",
      "Invalids Nodes: 0\n",
      "---------- \n",
      "\n",
      "10 : number : Neural 3-way min-cut value: tensor(73., dtype=torch.float64) 0.0 6.0 74.0 Total Nodes:80.0\n",
      "Terminalss: 0-tensor([0., 1., 0.]) 1-tensor([0., 0., 1.])2-tensor([0., 0., 1.])\n",
      "Invalids Nodes: 0\n",
      "---------- \n",
      "\n"
     ]
    }
   ],
   "source": [
    "class GCNSoftmax(nn.Module):\n",
    "    def __init__(self, in_feats, hidden_size, num_classes, dropout, device):\n",
    "        super(GCNSoftmax, self).__init__()\n",
    "        self.dropout_frac = dropout\n",
    "        self.conv1 = GraphConv(in_feats, hidden_size).to(device)\n",
    "        self.conv2 = GraphConv(hidden_size, num_classes).to(device)\n",
    "\n",
    "    def forward(self, g, inputs):\n",
    "        # Basic forward pass\n",
    "        h = self.conv1(g, inputs)\n",
    "        h = F.relu(h)\n",
    "        h = F.dropout(h, p=self.dropout_frac, training=self.training)\n",
    "        h = self.conv2(g, h)\n",
    "        h = F.softmax(h, dim=1)  # Apply softmax over the classes dimension\n",
    "\n",
    "        return h\n",
    "\n",
    "def override_fixed_nodes(h):\n",
    "    output = h.clone()\n",
    "    # Set the output for node 0 to [1, 0, 0]\n",
    "    output[0] = torch.tensor([1.0, 0.0, 0.0])\n",
    "    # Set the output for node 1 to [0, 1, 0]\n",
    "    output[1] = torch.tensor([0.0, 1.0, 0.0])\n",
    "    # Set the output for node 2 to [0, 0, 1]\n",
    "    output[2] = torch.tensor([0.0, 0.0, 1.0])\n",
    "    return output\n",
    "\n",
    "\n",
    "\n",
    "def testexp1_loss(modelName):\n",
    "    n, d, p, graph_type, number_epochs, learning_rate, PROB_THRESHOLD, tol, patience, dim_embedding, hidden_dim = hyperParameters(n=4096,patience=40)\n",
    "\n",
    "    # Establish pytorch GNN + optimizer\n",
    "    opt_params = {'lr': learning_rate}\n",
    "    gnn_hypers = {\n",
    "        'dim_embedding': dim_embedding,\n",
    "        'hidden_dim': hidden_dim,\n",
    "        'dropout': 0.0,\n",
    "        'number_classes': 3,\n",
    "        'prob_threshold': PROB_THRESHOLD,\n",
    "        'number_epochs': number_epochs,\n",
    "        'tolerance': tol,\n",
    "        'patience': patience,\n",
    "        'nodes':n\n",
    "    }\n",
    "    test_item = open_file('./testData/prepareDS.pkl')\n",
    "\n",
    "    net, embed, optimizer = get_gnn(n, gnn_hypers, opt_params, TORCH_DEVICE, TORCH_DTYPE)\n",
    "    model, inputs =LoadNeuralModel(net, gnn_hypers, TORCH_DEVICE, modelName)\n",
    "    model.eval()\n",
    "\n",
    "    i = 0\n",
    "    neural_cut = []\n",
    "    for key, (dgl_graph, adjacency_matrix,graph, terminal) in test_item.items():\n",
    "\n",
    "        logits = net(dgl_graph, adjacency_matrix)\n",
    "        # logits = override_fixed_nodes(logits)\n",
    "        binary_partitions = (logits >= 0.5).float()\n",
    "\n",
    "\n",
    "        cut = calculateAllCut(adjacency_matrix, binary_partitions)\n",
    "        # print(calculateAllCut)\n",
    "        totSum = np.sum(binary_partitions.numpy(), axis=0)\n",
    "\n",
    "        print(i, \": number :\", \"Neural 3-way min-cut value: \" + str(cut) + \" \"  +  str(totSum[0])+ \" \"  +  str(totSum[1])\n",
    "              + \" \"  +  str(totSum[2])+ \" Total Nodes:\" + str(np.sum(totSum)))\n",
    "\n",
    "        print(\"Terminalss: 0-\"+ str(binary_partitions[0])+\n",
    "              \" 1-\"+ str(binary_partitions[1])+\n",
    "              \"2-\"+ str(binary_partitions[2]))\n",
    "\n",
    "        invalidsCount = [m for m in binary_partitions if sum(m)!=1]\n",
    "        print(\"Invalids Nodes: \" + str( len(invalidsCount)))\n",
    "\n",
    "\n",
    "        print(\"---------- \\n\")\n",
    "        i+=1\n",
    "\n",
    "        if (i>10):\n",
    "            break\n",
    "testexp1_loss('./final__80wayCut_LossExp3_loss.pth')"
   ],
   "metadata": {
    "collapsed": false,
    "pycharm": {
     "name": "#%%\n"
    }
   }
  },
  {
   "cell_type": "markdown",
   "source": [
    "## Exp4\n",
    "binary loss function with fixed penality"
   ],
   "metadata": {
    "collapsed": false,
    "pycharm": {
     "name": "#%% md\n"
    }
   }
  },
  {
   "cell_type": "code",
   "execution_count": 18,
   "outputs": [
    {
     "name": "stdout",
     "output_type": "stream",
     "text": [
      "0 : number : Neural 3-way min-cut value: tensor(429., dtype=torch.float64) 75.0 1.0 4.0 Total Nodes:80.0\n",
      "Terminalss: 0-tensor([1., 0., 0.]) 1-tensor([0., 1., 0.])2-tensor([0., 0., 1.])\n",
      "Invalids Nodes: 0\n",
      "---------- \n",
      "\n",
      "1 : number : Neural 3-way min-cut value: tensor(150., dtype=torch.float64) 75.0 1.0 4.0 Total Nodes:80.0\n",
      "Terminalss: 0-tensor([1., 0., 0.]) 1-tensor([0., 1., 0.])2-tensor([0., 0., 1.])\n",
      "Invalids Nodes: 0\n",
      "---------- \n",
      "\n",
      "2 : number : Neural 3-way min-cut value: tensor(171., dtype=torch.float64) 75.0 1.0 4.0 Total Nodes:80.0\n",
      "Terminalss: 0-tensor([1., 0., 0.]) 1-tensor([0., 1., 0.])2-tensor([0., 0., 1.])\n",
      "Invalids Nodes: 0\n",
      "---------- \n",
      "\n",
      "3 : number : Neural 3-way min-cut value: tensor(345., dtype=torch.float64) 74.0 1.0 5.0 Total Nodes:80.0\n",
      "Terminalss: 0-tensor([1., 0., 0.]) 1-tensor([0., 1., 0.])2-tensor([0., 0., 1.])\n",
      "Invalids Nodes: 0\n",
      "---------- \n",
      "\n",
      "4 : number : Neural 3-way min-cut value: tensor(177., dtype=torch.float64) 75.0 1.0 4.0 Total Nodes:80.0\n",
      "Terminalss: 0-tensor([1., 0., 0.]) 1-tensor([0., 1., 0.])2-tensor([0., 0., 1.])\n",
      "Invalids Nodes: 0\n",
      "---------- \n",
      "\n",
      "5 : number : Neural 3-way min-cut value: tensor(335., dtype=torch.float64) 73.0 1.0 6.0 Total Nodes:80.0\n",
      "Terminalss: 0-tensor([1., 0., 0.]) 1-tensor([0., 1., 0.])2-tensor([0., 0., 1.])\n",
      "Invalids Nodes: 0\n",
      "---------- \n",
      "\n",
      "6 : number : Neural 3-way min-cut value: tensor(375., dtype=torch.float64) 75.0 1.0 4.0 Total Nodes:80.0\n",
      "Terminalss: 0-tensor([1., 0., 0.]) 1-tensor([0., 1., 0.])2-tensor([0., 0., 1.])\n",
      "Invalids Nodes: 0\n",
      "---------- \n",
      "\n",
      "7 : number : Neural 3-way min-cut value: tensor(350., dtype=torch.float64) 76.0 1.0 3.0 Total Nodes:80.0\n",
      "Terminalss: 0-tensor([1., 0., 0.]) 1-tensor([0., 1., 0.])2-tensor([0., 0., 1.])\n",
      "Invalids Nodes: 0\n",
      "---------- \n",
      "\n",
      "8 : number : Neural 3-way min-cut value: tensor(316., dtype=torch.float64) 74.0 1.0 5.0 Total Nodes:80.0\n",
      "Terminalss: 0-tensor([1., 0., 0.]) 1-tensor([0., 1., 0.])2-tensor([0., 0., 1.])\n",
      "Invalids Nodes: 0\n",
      "---------- \n",
      "\n",
      "9 : number : Neural 3-way min-cut value: tensor(83., dtype=torch.float64) 73.0 1.0 6.0 Total Nodes:80.0\n",
      "Terminalss: 0-tensor([1., 0., 0.]) 1-tensor([0., 1., 0.])2-tensor([0., 0., 1.])\n",
      "Invalids Nodes: 0\n",
      "---------- \n",
      "\n",
      "10 : number : Neural 3-way min-cut value: tensor(321., dtype=torch.float64) 75.0 1.0 4.0 Total Nodes:80.0\n",
      "Terminalss: 0-tensor([1., 0., 0.]) 1-tensor([0., 1., 0.])2-tensor([0., 0., 1.])\n",
      "Invalids Nodes: 0\n",
      "---------- \n",
      "\n"
     ]
    }
   ],
   "source": [
    "class GCNSoftmax(nn.Module):\n",
    "    def __init__(self, in_feats, hidden_size, num_classes, dropout, device):\n",
    "        super(GCNSoftmax, self).__init__()\n",
    "        self.dropout_frac = dropout\n",
    "        self.conv1 = GraphConv(in_feats, hidden_size).to(device)\n",
    "        self.conv2 = GraphConv(hidden_size, num_classes).to(device)\n",
    "\n",
    "    def forward(self, g, inputs):\n",
    "        # Basic forward pass\n",
    "        h = self.conv1(g, inputs)\n",
    "        h = F.relu(h)\n",
    "        h = F.dropout(h, p=self.dropout_frac, training=self.training)\n",
    "        h = self.conv2(g, h)\n",
    "        h = F.softmax(h, dim=1)  # Apply softmax over the classes dimension\n",
    "\n",
    "        return h\n",
    "\n",
    "def override_fixed_nodes(h):\n",
    "    output = h.clone()\n",
    "    # Set the output for node 0 to [1, 0, 0]\n",
    "    output[0] = torch.tensor([1.0, 0.0, 0.0])\n",
    "    # Set the output for node 1 to [0, 1, 0]\n",
    "    output[1] = torch.tensor([0.0, 1.0, 0.0])\n",
    "    # Set the output for node 2 to [0, 0, 1]\n",
    "    output[2] = torch.tensor([0.0, 0.0, 1.0])\n",
    "    return output\n",
    "\n",
    "\n",
    "\n",
    "def testexp1_loss(modelName):\n",
    "    n, d, p, graph_type, number_epochs, learning_rate, PROB_THRESHOLD, tol, patience, dim_embedding, hidden_dim = hyperParameters(n=4096,patience=40)\n",
    "\n",
    "    # Establish pytorch GNN + optimizer\n",
    "    opt_params = {'lr': learning_rate}\n",
    "    gnn_hypers = {\n",
    "        'dim_embedding': dim_embedding,\n",
    "        'hidden_dim': hidden_dim,\n",
    "        'dropout': 0.0,\n",
    "        'number_classes': 3,\n",
    "        'prob_threshold': PROB_THRESHOLD,\n",
    "        'number_epochs': number_epochs,\n",
    "        'tolerance': tol,\n",
    "        'patience': patience,\n",
    "        'nodes':n\n",
    "    }\n",
    "    test_item = open_file('./testData/prepareDS.pkl')\n",
    "\n",
    "    net, embed, optimizer = get_gnn(n, gnn_hypers, opt_params, TORCH_DEVICE, TORCH_DTYPE)\n",
    "    model, inputs =LoadNeuralModel(net, gnn_hypers, TORCH_DEVICE, modelName)\n",
    "    model.eval()\n",
    "\n",
    "    i = 0\n",
    "    neural_cut = []\n",
    "    for key, (dgl_graph, adjacency_matrix,graph, terminal) in test_item.items():\n",
    "\n",
    "        logits = net(dgl_graph, adjacency_matrix)\n",
    "        logits = override_fixed_nodes(logits)\n",
    "        binary_partitions = (logits >= 0.5).float()\n",
    "\n",
    "\n",
    "        cut = calculateAllCut(adjacency_matrix, binary_partitions)\n",
    "        # print(calculateAllCut)\n",
    "        totSum = np.sum(binary_partitions.numpy(), axis=0)\n",
    "\n",
    "        print(i, \": number :\", \"Neural 3-way min-cut value: \" + str(cut) + \" \"  +  str(totSum[0])+ \" \"  +  str(totSum[1])\n",
    "              + \" \"  +  str(totSum[2])+ \" Total Nodes:\" + str(np.sum(totSum)))\n",
    "\n",
    "        print(\"Terminalss: 0-\"+ str(binary_partitions[0])+\n",
    "              \" 1-\"+ str(binary_partitions[1])+\n",
    "              \"2-\"+ str(binary_partitions[2]))\n",
    "\n",
    "        invalidsCount = [m for m in binary_partitions if sum(m)!=1]\n",
    "        print(\"Invalids Nodes: \" + str( len(invalidsCount)))\n",
    "\n",
    "\n",
    "        print(\"---------- \\n\")\n",
    "        i+=1\n",
    "\n",
    "        if (i>10):\n",
    "            break\n",
    "testexp1_loss('./final__80wayCut_LossExp4_loss.pth')"
   ],
   "metadata": {
    "collapsed": false,
    "pycharm": {
     "name": "#%%\n"
    }
   }
  },
  {
   "cell_type": "markdown",
   "source": [
    "## Exp 5 - loss\n",
    "Changing the loss function to intake binary input and find exact loss value +  loss function"
   ],
   "metadata": {
    "collapsed": false,
    "pycharm": {
     "name": "#%% md\n"
    }
   }
  },
  {
   "cell_type": "code",
   "execution_count": 19,
   "outputs": [
    {
     "name": "stdout",
     "output_type": "stream",
     "text": [
      "0 : number : Neural 3-way min-cut value: tensor(127., dtype=torch.float64) 5.0 71.0 4.0 Total Nodes:80.0\n",
      "Terminalss: 0-tensor([1., 0., 0.]) 1-tensor([0., 1., 0.])2-tensor([0., 0., 1.])\n",
      "Invalids Nodes: 0\n",
      "---------- \n",
      "\n",
      "1 : number : Neural 3-way min-cut value: tensor(28., dtype=torch.float64) 8.0 68.0 4.0 Total Nodes:80.0\n",
      "Terminalss: 0-tensor([1., 0., 0.]) 1-tensor([0., 1., 0.])2-tensor([0., 0., 1.])\n",
      "Invalids Nodes: 0\n",
      "---------- \n",
      "\n",
      "2 : number : Neural 3-way min-cut value: tensor(60., dtype=torch.float64) 7.0 69.0 4.0 Total Nodes:80.0\n",
      "Terminalss: 0-tensor([1., 0., 0.]) 1-tensor([0., 1., 0.])2-tensor([0., 0., 1.])\n",
      "Invalids Nodes: 0\n",
      "---------- \n",
      "\n",
      "3 : number : Neural 3-way min-cut value: tensor(210., dtype=torch.float64) 5.0 72.0 3.0 Total Nodes:80.0\n",
      "Terminalss: 0-tensor([1., 0., 0.]) 1-tensor([0., 1., 0.])2-tensor([0., 0., 1.])\n",
      "Invalids Nodes: 0\n",
      "---------- \n",
      "\n",
      "4 : number : Neural 3-way min-cut value: tensor(133., dtype=torch.float64) 7.0 68.0 5.0 Total Nodes:80.0\n",
      "Terminalss: 0-tensor([1., 0., 0.]) 1-tensor([0., 1., 0.])2-tensor([0., 0., 1.])\n",
      "Invalids Nodes: 0\n",
      "---------- \n",
      "\n",
      "5 : number : Neural 3-way min-cut value: tensor(256., dtype=torch.float64) 5.0 71.0 4.0 Total Nodes:80.0\n",
      "Terminalss: 0-tensor([1., 0., 0.]) 1-tensor([0., 1., 0.])2-tensor([0., 0., 1.])\n",
      "Invalids Nodes: 0\n",
      "---------- \n",
      "\n",
      "6 : number : Neural 3-way min-cut value: tensor(227., dtype=torch.float64) 5.0 71.0 4.0 Total Nodes:80.0\n",
      "Terminalss: 0-tensor([1., 0., 0.]) 1-tensor([0., 1., 0.])2-tensor([0., 0., 1.])\n",
      "Invalids Nodes: 0\n",
      "---------- \n",
      "\n",
      "7 : number : Neural 3-way min-cut value: tensor(155., dtype=torch.float64) 5.0 72.0 3.0 Total Nodes:80.0\n",
      "Terminalss: 0-tensor([1., 0., 0.]) 1-tensor([0., 1., 0.])2-tensor([0., 0., 1.])\n",
      "Invalids Nodes: 0\n",
      "---------- \n",
      "\n",
      "8 : number : Neural 3-way min-cut value: tensor(176., dtype=torch.float64) 4.0 71.0 5.0 Total Nodes:80.0\n",
      "Terminalss: 0-tensor([1., 0., 0.]) 1-tensor([0., 1., 0.])2-tensor([0., 0., 1.])\n",
      "Invalids Nodes: 0\n",
      "---------- \n",
      "\n",
      "9 : number : Neural 3-way min-cut value: tensor(105., dtype=torch.float64) 6.0 68.0 6.0 Total Nodes:80.0\n",
      "Terminalss: 0-tensor([1., 0., 0.]) 1-tensor([0., 1., 0.])2-tensor([0., 0., 1.])\n",
      "Invalids Nodes: 0\n",
      "---------- \n",
      "\n",
      "10 : number : Neural 3-way min-cut value: tensor(137., dtype=torch.float64) 6.0 70.0 4.0 Total Nodes:80.0\n",
      "Terminalss: 0-tensor([1., 0., 0.]) 1-tensor([0., 1., 0.])2-tensor([0., 0., 1.])\n",
      "Invalids Nodes: 0\n",
      "---------- \n",
      "\n"
     ]
    }
   ],
   "source": [
    "class GCNSoftmax(nn.Module):\n",
    "    def __init__(self, in_feats, hidden_size, num_classes, dropout, device):\n",
    "        super(GCNSoftmax, self).__init__()\n",
    "        self.dropout_frac = dropout\n",
    "        self.conv1 = GraphConv(in_feats, hidden_size).to(device)\n",
    "        self.conv2 = GraphConv(hidden_size, num_classes).to(device)\n",
    "\n",
    "    def forward(self, g, inputs):\n",
    "        # Basic forward pass\n",
    "        h = self.conv1(g, inputs)\n",
    "        h = F.relu(h)\n",
    "        h = F.dropout(h, p=self.dropout_frac, training=self.training)\n",
    "        h = self.conv2(g, h)\n",
    "        h = F.softmax(h, dim=1)  # Apply softmax over the classes dimension\n",
    "\n",
    "        return h\n",
    "\n",
    "def override_fixed_nodes(h):\n",
    "    output = h.clone()\n",
    "    # Set the output for node 0 to [1, 0, 0]\n",
    "    output[0] = torch.tensor([1.0, 0.0, 0.0])\n",
    "    # Set the output for node 1 to [0, 1, 0]\n",
    "    output[1] = torch.tensor([0.0, 1.0, 0.0])\n",
    "    # Set the output for node 2 to [0, 0, 1]\n",
    "    output[2] = torch.tensor([0.0, 0.0, 1.0])\n",
    "    return output\n",
    "\n",
    "\n",
    "\n",
    "def testexp1_loss(modelName):\n",
    "    n, d, p, graph_type, number_epochs, learning_rate, PROB_THRESHOLD, tol, patience, dim_embedding, hidden_dim = hyperParameters(n=4096,patience=40)\n",
    "\n",
    "    # Establish pytorch GNN + optimizer\n",
    "    opt_params = {'lr': learning_rate}\n",
    "    gnn_hypers = {\n",
    "        'dim_embedding': dim_embedding,\n",
    "        'hidden_dim': hidden_dim,\n",
    "        'dropout': 0.0,\n",
    "        'number_classes': 3,\n",
    "        'prob_threshold': PROB_THRESHOLD,\n",
    "        'number_epochs': number_epochs,\n",
    "        'tolerance': tol,\n",
    "        'patience': patience,\n",
    "        'nodes':n\n",
    "    }\n",
    "    test_item = open_file('./testData/prepareDS.pkl')\n",
    "\n",
    "    net, embed, optimizer = get_gnn(n, gnn_hypers, opt_params, TORCH_DEVICE, TORCH_DTYPE)\n",
    "    model, inputs =LoadNeuralModel(net, gnn_hypers, TORCH_DEVICE, modelName)\n",
    "    model.eval()\n",
    "\n",
    "    i = 0\n",
    "    neural_cut = []\n",
    "    for key, (dgl_graph, adjacency_matrix,graph, terminal) in test_item.items():\n",
    "\n",
    "        logits = net(dgl_graph, adjacency_matrix)\n",
    "        logits = override_fixed_nodes(logits)\n",
    "        binary_partitions = (logits >= 0.5).float()\n",
    "\n",
    "\n",
    "        cut = calculateAllCut(adjacency_matrix, binary_partitions)\n",
    "        # print(calculateAllCut)\n",
    "        totSum = np.sum(binary_partitions.numpy(), axis=0)\n",
    "\n",
    "        print(i, \": number :\", \"Neural 3-way min-cut value: \" + str(cut) + \" \"  +  str(totSum[0])+ \" \"  +  str(totSum[1])\n",
    "              + \" \"  +  str(totSum[2])+ \" Total Nodes:\" + str(np.sum(totSum)))\n",
    "\n",
    "        print(\"Terminalss: 0-\"+ str(binary_partitions[0])+\n",
    "              \" 1-\"+ str(binary_partitions[1])+\n",
    "              \"2-\"+ str(binary_partitions[2]))\n",
    "\n",
    "        invalidsCount = [m for m in binary_partitions if sum(m)!=1]\n",
    "        print(\"Invalids Nodes: \" + str( len(invalidsCount)))\n",
    "\n",
    "\n",
    "        print(\"---------- \\n\")\n",
    "        i+=1\n",
    "\n",
    "        if (i>10):\n",
    "            break\n",
    "testexp1_loss('./final__80wayCut_LossExp5_loss.pth')"
   ],
   "metadata": {
    "collapsed": false,
    "pycharm": {
     "name": "#%%\n"
    }
   }
  },
  {
   "cell_type": "markdown",
   "source": [
    "## Exp 6 - loss\n",
    "Changing the loss function to intake binary input and find exact loss value +  loss function + terminal loss"
   ],
   "metadata": {
    "collapsed": false,
    "pycharm": {
     "name": "#%% md\n"
    }
   }
  },
  {
   "cell_type": "code",
   "execution_count": 21,
   "outputs": [
    {
     "name": "stdout",
     "output_type": "stream",
     "text": [
      "0 : number : Neural 3-way min-cut value: tensor(472., dtype=torch.float64) 10.0 4.0 66.0 Total Nodes:80.0\n",
      "Terminalss: 0-tensor([1., 0., 0.]) 1-tensor([0., 0., 1.])2-tensor([0., 1., 0.])\n",
      "Invalids Nodes: 0\n",
      "---------- \n",
      "\n",
      "1 : number : Neural 3-way min-cut value: tensor(129., dtype=torch.float64) 1.0 8.0 71.0 Total Nodes:80.0\n",
      "Terminalss: 0-tensor([0., 1., 0.]) 1-tensor([0., 0., 1.])2-tensor([1., 0., 0.])\n",
      "Invalids Nodes: 0\n",
      "---------- \n",
      "\n",
      "2 : number : Neural 3-way min-cut value: tensor(302., dtype=torch.float64) 1.0 12.0 67.0 Total Nodes:80.0\n",
      "Terminalss: 0-tensor([1., 0., 0.]) 1-tensor([0., 0., 1.])2-tensor([0., 1., 0.])\n",
      "Invalids Nodes: 0\n",
      "---------- \n",
      "\n",
      "3 : number : Neural 3-way min-cut value: tensor(430., dtype=torch.float64) 7.0 12.0 61.0 Total Nodes:80.0\n",
      "Terminalss: 0-tensor([0., 0., 1.]) 1-tensor([0., 1., 0.])2-tensor([1., 0., 0.])\n",
      "Invalids Nodes: 0\n",
      "---------- \n",
      "\n",
      "4 : number : Neural 3-way min-cut value: tensor(399., dtype=torch.float64) 1.0 16.0 63.0 Total Nodes:80.0\n",
      "Terminalss: 0-tensor([1., 0., 0.]) 1-tensor([0., 0., 1.])2-tensor([0., 1., 0.])\n",
      "Invalids Nodes: 0\n",
      "---------- \n",
      "\n",
      "5 : number : Neural 3-way min-cut value: tensor(178., dtype=torch.float64) 7.0 18.0 55.0 Total Nodes:80.0\n",
      "Terminalss: 0-tensor([0., 1., 0.]) 1-tensor([0., 0., 1.])2-tensor([0., 0., 1.])\n",
      "Invalids Nodes: 0\n",
      "---------- \n",
      "\n",
      "6 : number : Neural 3-way min-cut value: tensor(302., dtype=torch.float64) 1.0 12.0 67.0 Total Nodes:80.0\n",
      "Terminalss: 0-tensor([0., 0., 1.]) 1-tensor([1., 0., 0.])2-tensor([0., 1., 0.])\n",
      "Invalids Nodes: 0\n",
      "---------- \n",
      "\n",
      "7 : number : Neural 3-way min-cut value: tensor(521., dtype=torch.float64) 7.0 24.0 49.0 Total Nodes:80.0\n",
      "Terminalss: 0-tensor([0., 0., 1.]) 1-tensor([1., 0., 0.])2-tensor([0., 1., 0.])\n",
      "Invalids Nodes: 0\n",
      "---------- \n",
      "\n",
      "8 : number : Neural 3-way min-cut value: tensor(525., dtype=torch.float64) 2.0 16.0 62.0 Total Nodes:80.0\n",
      "Terminalss: 0-tensor([1., 0., 0.]) 1-tensor([0., 1., 0.])2-tensor([0., 0., 1.])\n",
      "Invalids Nodes: 0\n",
      "---------- \n",
      "\n",
      "9 : number : Neural 3-way min-cut value: tensor(28., dtype=torch.float64) 0.0 6.0 74.0 Total Nodes:80.0\n",
      "Terminalss: 0-tensor([0., 0., 1.]) 1-tensor([0., 0., 1.])2-tensor([0., 1., 0.])\n",
      "Invalids Nodes: 0\n",
      "---------- \n",
      "\n",
      "10 : number : Neural 3-way min-cut value: tensor(640., dtype=torch.float64) 1.0 11.0 68.0 Total Nodes:80.0\n",
      "Terminalss: 0-tensor([1., 0., 0.]) 1-tensor([0., 1., 0.])2-tensor([0., 0., 1.])\n",
      "Invalids Nodes: 0\n",
      "---------- \n",
      "\n"
     ]
    }
   ],
   "source": [
    "class GCNSoftmax(nn.Module):\n",
    "    def __init__(self, in_feats, hidden_size, num_classes, dropout, device):\n",
    "        super(GCNSoftmax, self).__init__()\n",
    "        self.dropout_frac = dropout\n",
    "        self.conv1 = GraphConv(in_feats, hidden_size).to(device)\n",
    "        self.conv2 = GraphConv(hidden_size, num_classes).to(device)\n",
    "\n",
    "    def forward(self, g, inputs):\n",
    "        # Basic forward pass\n",
    "        h = self.conv1(g, inputs)\n",
    "        h = F.relu(h)\n",
    "        h = F.dropout(h, p=self.dropout_frac, training=self.training)\n",
    "        h = self.conv2(g, h)\n",
    "        h = F.softmax(h, dim=1)  # Apply softmax over the classes dimension\n",
    "\n",
    "        return h\n",
    "\n",
    "def override_fixed_nodes(h):\n",
    "    output = h.clone()\n",
    "    # Set the output for node 0 to [1, 0, 0]\n",
    "    output[0] = torch.tensor([1.0, 0.0, 0.0])\n",
    "    # Set the output for node 1 to [0, 1, 0]\n",
    "    output[1] = torch.tensor([0.0, 1.0, 0.0])\n",
    "    # Set the output for node 2 to [0, 0, 1]\n",
    "    output[2] = torch.tensor([0.0, 0.0, 1.0])\n",
    "    return output\n",
    "\n",
    "\n",
    "\n",
    "def testexp1_loss(modelName):\n",
    "    n, d, p, graph_type, number_epochs, learning_rate, PROB_THRESHOLD, tol, patience, dim_embedding, hidden_dim = hyperParameters(n=4096,patience=40)\n",
    "\n",
    "    # Establish pytorch GNN + optimizer\n",
    "    opt_params = {'lr': learning_rate}\n",
    "    gnn_hypers = {\n",
    "        'dim_embedding': dim_embedding,\n",
    "        'hidden_dim': hidden_dim,\n",
    "        'dropout': 0.0,\n",
    "        'number_classes': 3,\n",
    "        'prob_threshold': PROB_THRESHOLD,\n",
    "        'number_epochs': number_epochs,\n",
    "        'tolerance': tol,\n",
    "        'patience': patience,\n",
    "        'nodes':n\n",
    "    }\n",
    "    test_item = open_file('./testData/prepareDS.pkl')\n",
    "\n",
    "    net, embed, optimizer = get_gnn(n, gnn_hypers, opt_params, TORCH_DEVICE, TORCH_DTYPE)\n",
    "    model, inputs =LoadNeuralModel(net, gnn_hypers, TORCH_DEVICE, modelName)\n",
    "    model.eval()\n",
    "\n",
    "    i = 0\n",
    "    neural_cut = []\n",
    "    for key, (dgl_graph, adjacency_matrix,graph, terminal) in test_item.items():\n",
    "\n",
    "        logits = net(dgl_graph, adjacency_matrix)\n",
    "        # logits = override_fixed_nodes(logits)\n",
    "        binary_partitions = (logits >= 0.5).float()\n",
    "\n",
    "\n",
    "        cut = calculateAllCut(adjacency_matrix, binary_partitions)\n",
    "        # print(calculateAllCut)\n",
    "        totSum = np.sum(binary_partitions.numpy(), axis=0)\n",
    "\n",
    "        print(i, \": number :\", \"Neural 3-way min-cut value: \" + str(cut) + \" \"  +  str(totSum[0])+ \" \"  +  str(totSum[1])\n",
    "              + \" \"  +  str(totSum[2])+ \" Total Nodes:\" + str(np.sum(totSum)))\n",
    "\n",
    "        print(\"Terminalss: 0-\"+ str(binary_partitions[0])+\n",
    "              \" 1-\"+ str(binary_partitions[1])+\n",
    "              \"2-\"+ str(binary_partitions[2]))\n",
    "\n",
    "        invalidsCount = [m for m in binary_partitions if sum(m)!=1]\n",
    "        print(\"Invalids Nodes: \" + str( len(invalidsCount)))\n",
    "\n",
    "\n",
    "        print(\"---------- \\n\")\n",
    "        i+=1\n",
    "\n",
    "        if (i>10):\n",
    "            break\n",
    "testexp1_loss('./final__80wayCut_LossExp6_loss.pth')"
   ],
   "metadata": {
    "collapsed": false,
    "pycharm": {
     "name": "#%%\n"
    }
   }
  },
  {
   "cell_type": "markdown",
   "source": [
    "## Exp 7 - loss\n",
    "Changing the loss function to intake binary input and find exact loss value +  loss function"
   ],
   "metadata": {
    "collapsed": false,
    "pycharm": {
     "name": "#%% md\n"
    }
   }
  },
  {
   "cell_type": "code",
   "execution_count": null,
   "outputs": [],
   "source": [
    "class GCNSoftmax(nn.Module):\n",
    "    def __init__(self, in_feats, hidden_size, num_classes, dropout, device):\n",
    "        super(GCNSoftmax, self).__init__()\n",
    "        self.dropout_frac = dropout\n",
    "        self.conv1 = GraphConv(in_feats, hidden_size).to(device)\n",
    "        self.conv2 = GraphConv(hidden_size, num_classes).to(device)\n",
    "\n",
    "    def forward(self, g, inputs):\n",
    "        # Basic forward pass\n",
    "        h = self.conv1(g, inputs)\n",
    "        h = F.relu(h)\n",
    "        h = F.dropout(h, p=self.dropout_frac, training=self.training)\n",
    "        h = self.conv2(g, h)\n",
    "        h = F.softmax(h, dim=1)  # Apply softmax over the classes dimension\n",
    "\n",
    "        return h\n",
    "\n",
    "def override_fixed_nodes(h):\n",
    "    output = h.clone()\n",
    "    # Set the output for node 0 to [1, 0, 0]\n",
    "    output[0] = torch.tensor([1.0, 0.0, 0.0])\n",
    "    # Set the output for node 1 to [0, 1, 0]\n",
    "    output[1] = torch.tensor([0.0, 1.0, 0.0])\n",
    "    # Set the output for node 2 to [0, 0, 1]\n",
    "    output[2] = torch.tensor([0.0, 0.0, 1.0])\n",
    "    return output\n",
    "\n",
    "\n",
    "\n",
    "def testexp1_loss(modelName):\n",
    "    n, d, p, graph_type, number_epochs, learning_rate, PROB_THRESHOLD, tol, patience, dim_embedding, hidden_dim = hyperParameters(n=4096,patience=40)\n",
    "\n",
    "    # Establish pytorch GNN + optimizer\n",
    "    opt_params = {'lr': learning_rate}\n",
    "    gnn_hypers = {\n",
    "        'dim_embedding': dim_embedding,\n",
    "        'hidden_dim': hidden_dim,\n",
    "        'dropout': 0.0,\n",
    "        'number_classes': 3,\n",
    "        'prob_threshold': PROB_THRESHOLD,\n",
    "        'number_epochs': number_epochs,\n",
    "        'tolerance': tol,\n",
    "        'patience': patience,\n",
    "        'nodes':n\n",
    "    }\n",
    "    test_item = open_file('./testData/prepareDS.pkl')\n",
    "\n",
    "    net, embed, optimizer = get_gnn(n, gnn_hypers, opt_params, TORCH_DEVICE, TORCH_DTYPE)\n",
    "    model, inputs =LoadNeuralModel(net, gnn_hypers, TORCH_DEVICE, modelName)\n",
    "    model.eval()\n",
    "\n",
    "    i = 0\n",
    "    neural_cut = []\n",
    "    for key, (dgl_graph, adjacency_matrix,graph, terminal) in test_item.items():\n",
    "\n",
    "        logits = net(dgl_graph, adjacency_matrix)\n",
    "        logits = override_fixed_nodes(logits)\n",
    "        binary_partitions = (logits >= 0.5).float()\n",
    "\n",
    "\n",
    "        cut = calculateAllCut(adjacency_matrix, binary_partitions)\n",
    "        # print(calculateAllCut)\n",
    "        totSum = np.sum(binary_partitions.numpy(), axis=0)\n",
    "\n",
    "        print(i, \": number :\", \"Neural 3-way min-cut value: \" + str(cut) + \" \"  +  str(totSum[0])+ \" \"  +  str(totSum[1])\n",
    "              + \" \"  +  str(totSum[2])+ \" Total Nodes:\" + str(np.sum(totSum)))\n",
    "\n",
    "        print(\"Terminalss: 0-\"+ str(binary_partitions[0])+\n",
    "              \" 1-\"+ str(binary_partitions[1])+\n",
    "              \"2-\"+ str(binary_partitions[2]))\n",
    "\n",
    "        invalidsCount = [m for m in binary_partitions if sum(m)!=1]\n",
    "        print(\"Invalids Nodes: \" + str( len(invalidsCount)))\n",
    "\n",
    "\n",
    "        print(\"---------- \\n\")\n",
    "        i+=1\n",
    "\n",
    "        if (i>10):\n",
    "            break\n",
    "testexp1_loss('./final__80wayCut_LossExp7_loss.pth')"
   ],
   "metadata": {
    "collapsed": false,
    "pycharm": {
     "name": "#%%\n"
    }
   }
  },
  {
   "cell_type": "code",
   "execution_count": 7,
   "outputs": [
    {
     "name": "stdout",
     "output_type": "stream",
     "text": [
      "0 : number : Neural 3-way min-cut value: tensor(559., dtype=torch.float64) 78.0 1.0 1.0 Total Nodes:80.0\n",
      "Terminalss: 0-tensor([1., 0., 0.]) 1-tensor([0., 1., 0.])2-tensor([0., 0., 1.])\n",
      "Invalids Nodes: 0\n",
      "---------- \n",
      "\n",
      "1 : number : Neural 3-way min-cut value: tensor(262., dtype=torch.float64) 78.0 1.0 1.0 Total Nodes:80.0\n",
      "Terminalss: 0-tensor([1., 0., 0.]) 1-tensor([0., 1., 0.])2-tensor([0., 0., 1.])\n",
      "Invalids Nodes: 0\n",
      "---------- \n",
      "\n",
      "2 : number : Neural 3-way min-cut value: tensor(338., dtype=torch.float64) 78.0 1.0 1.0 Total Nodes:80.0\n",
      "Terminalss: 0-tensor([1., 0., 0.]) 1-tensor([0., 1., 0.])2-tensor([0., 0., 1.])\n",
      "Invalids Nodes: 0\n",
      "---------- \n",
      "\n",
      "3 : number : Neural 3-way min-cut value: tensor(498., dtype=torch.float64) 78.0 1.0 1.0 Total Nodes:80.0\n",
      "Terminalss: 0-tensor([1., 0., 0.]) 1-tensor([0., 1., 0.])2-tensor([0., 0., 1.])\n",
      "Invalids Nodes: 0\n",
      "---------- \n",
      "\n",
      "4 : number : Neural 3-way min-cut value: tensor(429., dtype=torch.float64) 78.0 1.0 1.0 Total Nodes:80.0\n",
      "Terminalss: 0-tensor([1., 0., 0.]) 1-tensor([0., 1., 0.])2-tensor([0., 0., 1.])\n",
      "Invalids Nodes: 0\n",
      "---------- \n",
      "\n",
      "5 : number : Neural 3-way min-cut value: tensor(427., dtype=torch.float64) 78.0 1.0 1.0 Total Nodes:80.0\n",
      "Terminalss: 0-tensor([1., 0., 0.]) 1-tensor([0., 1., 0.])2-tensor([0., 0., 1.])\n",
      "Invalids Nodes: 0\n",
      "---------- \n",
      "\n",
      "6 : number : Neural 3-way min-cut value: tensor(543., dtype=torch.float64) 78.0 1.0 1.0 Total Nodes:80.0\n",
      "Terminalss: 0-tensor([1., 0., 0.]) 1-tensor([0., 1., 0.])2-tensor([0., 0., 1.])\n",
      "Invalids Nodes: 0\n",
      "---------- \n",
      "\n",
      "7 : number : Neural 3-way min-cut value: tensor(492., dtype=torch.float64) 78.0 1.0 1.0 Total Nodes:80.0\n",
      "Terminalss: 0-tensor([1., 0., 0.]) 1-tensor([0., 1., 0.])2-tensor([0., 0., 1.])\n",
      "Invalids Nodes: 0\n",
      "---------- \n",
      "\n",
      "8 : number : Neural 3-way min-cut value: tensor(473., dtype=torch.float64) 78.0 1.0 1.0 Total Nodes:80.0\n",
      "Terminalss: 0-tensor([1., 0., 0.]) 1-tensor([0., 1., 0.])2-tensor([0., 0., 1.])\n",
      "Invalids Nodes: 0\n",
      "---------- \n",
      "\n",
      "9 : number : Neural 3-way min-cut value: tensor(295., dtype=torch.float64) 78.0 1.0 1.0 Total Nodes:80.0\n",
      "Terminalss: 0-tensor([1., 0., 0.]) 1-tensor([0., 1., 0.])2-tensor([0., 0., 1.])\n",
      "Invalids Nodes: 0\n",
      "---------- \n",
      "\n",
      "10 : number : Neural 3-way min-cut value: tensor(443., dtype=torch.float64) 78.0 1.0 1.0 Total Nodes:80.0\n",
      "Terminalss: 0-tensor([1., 0., 0.]) 1-tensor([0., 1., 0.])2-tensor([0., 0., 1.])\n",
      "Invalids Nodes: 0\n",
      "---------- \n",
      "\n"
     ]
    }
   ],
   "source": [
    "class GCNSoftmax(nn.Module):\n",
    "    def __init__(self, in_feats, hidden_size, num_classes, dropout, device):\n",
    "        super(GCNSoftmax, self).__init__()\n",
    "        self.dropout_frac = dropout\n",
    "        self.conv1 = GraphConv(in_feats, hidden_size).to(device)\n",
    "        self.conv2 = GraphConv(hidden_size, num_classes).to(device)\n",
    "\n",
    "    def forward(self, g, inputs):\n",
    "        # Basic forward pass\n",
    "        h = self.conv1(g, inputs)\n",
    "        h = F.relu(h)\n",
    "        h = F.dropout(h, p=self.dropout_frac, training=self.training)\n",
    "        h = self.conv2(g, h)\n",
    "        h = F.softmax(h, dim=1)  # Apply softmax over the classes dimension\n",
    "        # h = F.sigmoid(h)\n",
    "        h = override_fixed_nodes(h)\n",
    "\n",
    "        return h\n",
    "\n",
    "def override_fixed_nodes(h):\n",
    "    output = h.clone()\n",
    "    # Set the output for node 0 to [1, 0, 0]\n",
    "    output[0] = torch.tensor([1.0, 0.0, 0.0])\n",
    "    # Set the output for node 1 to [0, 1, 0]\n",
    "    output[1] = torch.tensor([0.0, 1.0, 0.0])\n",
    "    # Set the output for node 2 to [0, 0, 1]\n",
    "    output[2] = torch.tensor([0.0, 0.0, 1.0])\n",
    "    return output\n",
    "\n",
    "\n",
    "test2('./final__80wayCut_LossExp1.pth')"
   ],
   "metadata": {
    "collapsed": false,
    "pycharm": {
     "name": "#%%\n"
    }
   }
  },
  {
   "cell_type": "code",
   "execution_count": 8,
   "outputs": [
    {
     "name": "stdout",
     "output_type": "stream",
     "text": [
      "0 : number : Neural 3-way min-cut value: tensor(257., dtype=torch.float64) 5.0 74.0 1.0 Total Nodes:80.0\n",
      "Terminalss: 0-tensor([1., 0., 0.]) 1-tensor([0., 1., 0.])2-tensor([0., 0., 1.])\n",
      "Invalids Nodes: 0\n",
      "---------- \n",
      "\n",
      "1 : number : Neural 3-way min-cut value: tensor(144., dtype=torch.float64) 10.0 69.0 1.0 Total Nodes:80.0\n",
      "Terminalss: 0-tensor([1., 0., 0.]) 1-tensor([0., 1., 0.])2-tensor([0., 0., 1.])\n",
      "Invalids Nodes: 0\n",
      "---------- \n",
      "\n",
      "2 : number : Neural 3-way min-cut value: tensor(227., dtype=torch.float64) 7.0 72.0 1.0 Total Nodes:80.0\n",
      "Terminalss: 0-tensor([1., 0., 0.]) 1-tensor([0., 1., 0.])2-tensor([0., 0., 1.])\n",
      "Invalids Nodes: 0\n",
      "---------- \n",
      "\n",
      "3 : number : Neural 3-way min-cut value: tensor(343., dtype=torch.float64) 5.0 74.0 1.0 Total Nodes:80.0\n",
      "Terminalss: 0-tensor([1., 0., 0.]) 1-tensor([0., 1., 0.])2-tensor([0., 0., 1.])\n",
      "Invalids Nodes: 0\n",
      "---------- \n",
      "\n",
      "4 : number : Neural 3-way min-cut value: tensor(367., dtype=torch.float64) 7.0 72.0 1.0 Total Nodes:80.0\n",
      "Terminalss: 0-tensor([1., 0., 0.]) 1-tensor([0., 1., 0.])2-tensor([0., 0., 1.])\n",
      "Invalids Nodes: 0\n",
      "---------- \n",
      "\n",
      "5 : number : Neural 3-way min-cut value: tensor(267., dtype=torch.float64) 5.0 74.0 1.0 Total Nodes:80.0\n",
      "Terminalss: 0-tensor([1., 0., 0.]) 1-tensor([0., 1., 0.])2-tensor([0., 0., 1.])\n",
      "Invalids Nodes: 0\n",
      "---------- \n",
      "\n",
      "6 : number : Neural 3-way min-cut value: tensor(366., dtype=torch.float64) 4.0 75.0 1.0 Total Nodes:80.0\n",
      "Terminalss: 0-tensor([1., 0., 0.]) 1-tensor([0., 1., 0.])2-tensor([0., 0., 1.])\n",
      "Invalids Nodes: 0\n",
      "---------- \n",
      "\n",
      "7 : number : Neural 3-way min-cut value: tensor(297., dtype=torch.float64) 5.0 74.0 1.0 Total Nodes:80.0\n",
      "Terminalss: 0-tensor([1., 0., 0.]) 1-tensor([0., 1., 0.])2-tensor([0., 0., 1.])\n",
      "Invalids Nodes: 0\n",
      "---------- \n",
      "\n",
      "8 : number : Neural 3-way min-cut value: tensor(392., dtype=torch.float64) 3.0 76.0 1.0 Total Nodes:80.0\n",
      "Terminalss: 0-tensor([1., 0., 0.]) 1-tensor([0., 1., 0.])2-tensor([0., 0., 1.])\n",
      "Invalids Nodes: 0\n",
      "---------- \n",
      "\n",
      "9 : number : Neural 3-way min-cut value: tensor(361., dtype=torch.float64) 6.0 73.0 1.0 Total Nodes:80.0\n",
      "Terminalss: 0-tensor([1., 0., 0.]) 1-tensor([0., 1., 0.])2-tensor([0., 0., 1.])\n",
      "Invalids Nodes: 0\n",
      "---------- \n",
      "\n",
      "10 : number : Neural 3-way min-cut value: tensor(259., dtype=torch.float64) 6.0 73.0 1.0 Total Nodes:80.0\n",
      "Terminalss: 0-tensor([1., 0., 0.]) 1-tensor([0., 1., 0.])2-tensor([0., 0., 1.])\n",
      "Invalids Nodes: 0\n",
      "---------- \n",
      "\n"
     ]
    }
   ],
   "source": [
    "class GCNSoftmax(nn.Module):\n",
    "    def __init__(self, in_feats, hidden_size, num_classes, dropout, device):\n",
    "        super(GCNSoftmax, self).__init__()\n",
    "        self.dropout_frac = dropout\n",
    "        self.conv1 = GraphConv(in_feats, hidden_size).to(device)\n",
    "        self.conv2 = GraphConv(hidden_size, num_classes).to(device)\n",
    "\n",
    "    def forward(self, g, inputs):\n",
    "        # Basic forward pass\n",
    "        h = self.conv1(g, inputs)\n",
    "        h = F.relu(h)\n",
    "        h = F.dropout(h, p=self.dropout_frac, training=self.training)\n",
    "        h = self.conv2(g, h)\n",
    "        h = F.softmax(h, dim=1)  # Apply softmax over the classes dimension\n",
    "        # h = F.sigmoid(h)\n",
    "        h = override_fixed_nodes(h)\n",
    "\n",
    "        return h\n",
    "\n",
    "def override_fixed_nodes(h):\n",
    "    output = h.clone()\n",
    "    # Set the output for node 0 to [1, 0, 0]\n",
    "    output[0] = torch.tensor([1.0, 0.0, 0.0])\n",
    "    # Set the output for node 1 to [0, 1, 0]\n",
    "    output[1] = torch.tensor([0.0, 1.0, 0.0])\n",
    "    # Set the output for node 2 to [0, 0, 1]\n",
    "    output[2] = torch.tensor([0.0, 0.0, 1.0])\n",
    "    return output\n",
    "\n",
    "\n",
    "test2('./final__80wayCut_LossExp1.pth')"
   ],
   "metadata": {
    "collapsed": false,
    "pycharm": {
     "name": "#%%\n"
    }
   }
  },
  {
   "cell_type": "code",
   "execution_count": 191,
   "outputs": [],
   "source": [
    "# def test2():\n",
    "#     n, d, p, graph_type, number_epochs, learning_rate, PROB_THRESHOLD, tol, patience, dim_embedding, hidden_dim = hyperParameters(n=4096,patience=40)\n",
    "#\n",
    "#     # Establish pytorch GNN + optimizer\n",
    "#     opt_params = {'lr': learning_rate}\n",
    "#     gnn_hypers = {\n",
    "#         'dim_embedding': dim_embedding,\n",
    "#         'hidden_dim': hidden_dim,\n",
    "#         'dropout': 0.0,\n",
    "#         'number_classes': 2,\n",
    "#         'prob_threshold': PROB_THRESHOLD,\n",
    "#         'number_epochs': number_epochs,\n",
    "#         'tolerance': tol,\n",
    "#         'patience': patience,\n",
    "#         'nodes':n\n",
    "#     }\n",
    "#     test_item = LoadData(fileName='./testData/dummy.pkl')\n",
    "#     net, embed, optimizer = get_gnn(n, gnn_hypers, opt_params, TORCH_DEVICE, TORCH_DTYPE)\n",
    "#     # model = net\n",
    "#     model, inputs =LoadNeuralModel(net, gnn_hypers, TORCH_DEVICE, '/Users/javaad/Documents/research/COP/models/2Way/small/exp_2way_epoch0_loss4895329096.pth')\n",
    "#     model.eval()\n",
    "#\n",
    "#     neural_cut1 = []\n",
    "#     for key, (dgl_graph, adjacency_matrix,graph) in test_item.items():\n",
    "#         embed = nn.Embedding(graph.number_of_nodes(), dim_embedding)\n",
    "#         embed = embed.type(TORCH_DTYPE).to(TORCH_DEVICE)\n",
    "#         inputs = embed.weight\n",
    "#         # inputs = torch.ones((dgl_graph.number_of_nodes(), dim_embedding))\n",
    "#         neural_cut1.append(GetOptimalNetValue(model,dgl_graph, inputs, adjacency_matrix, {0:0, 5:1}))\n",
    "#\n",
    "#         print(\"Neural 2-way min-cut value: \" + str(neural_cut1[-1].item()))\n",
    "#     return neural_cut"
   ],
   "metadata": {
    "collapsed": false,
    "pycharm": {
     "name": "#%%\n"
    }
   }
  },
  {
   "cell_type": "code",
   "execution_count": 117,
   "outputs": [
    {
     "name": "stdout",
     "output_type": "stream",
     "text": [
      "Neural 2-way min-cut value: 100.0\n",
      "Neural 2-way min-cut value: 100.0\n"
     ]
    }
   ],
   "source": [
    "# neural_cut = test2()"
   ],
   "metadata": {
    "collapsed": false,
    "pycharm": {
     "name": "#%%\n"
    }
   }
  },
  {
   "cell_type": "code",
   "execution_count": 72,
   "outputs": [],
   "source": [
    "# heurestic_cut_k = LoadData('./testData/heurestic_cut_k.pkl')\n",
    "# #"
   ],
   "metadata": {
    "collapsed": false,
    "pycharm": {
     "name": "#%%\n"
    }
   }
  },
  {
   "cell_type": "code",
   "execution_count": 55,
   "outputs": [],
   "source": [
    "# from matplotlib.ticker import ScalarFormatter\n",
    "# def barPlot_2(heurestic_cut, neural_cut):\n",
    "#     # Example data\n",
    "#     n_groups = len(heurestic_cut)\n",
    "#     index = np.arange(n_groups)\n",
    "#     bar_width = 0.35\n",
    "#\n",
    "#     # Create bars\n",
    "#     plt.figure(figsize=(30, 6))\n",
    "#     bar1 = plt.bar(index, heurestic_cut, bar_width, label='Heurestic')\n",
    "#     bar2 = plt.bar(index + bar_width, neural_cut, bar_width, label='Neural Network')\n",
    "#\n",
    "#     # Add details\n",
    "#     plt.xlabel('Graph Number')\n",
    "#     plt.ylabel('Minimum Cut Value')\n",
    "#     plt.title('Comparison of Minimum Cut Values by Algorithm')\n",
    "#     # plt.xticks(index + bar_width / 2, range(1, n_groups + 1))\n",
    "#     plt.legend()\n",
    "#     # plt.tight_layout()\n",
    "#     # plt.gca().yaxis.set(major_formatter=ScalarFormatter(), minor_formatter=ScalarFormatter());\n",
    "#     plt.show()"
   ],
   "metadata": {
    "collapsed": false,
    "pycharm": {
     "name": "#%%\n"
    }
   }
  },
  {
   "cell_type": "code",
   "execution_count": 56,
   "outputs": [
    {
     "data": {
      "text/plain": "<Figure size 3000x600 with 1 Axes>",
      "image/png": "[encoded data removed]"
     },
     "metadata": {},
     "output_type": "display_data"
    }
   ],
   "source": [
    "barPlot_2( heurestic_cut_k, neural_cut)"
   ],
   "metadata": {
    "collapsed": false,
    "pycharm": {
     "name": "#%%\n"
    }
   }
  },
  {
   "cell_type": "code",
   "execution_count": null,
   "outputs": [],
   "source": [],
   "metadata": {
    "collapsed": false,
    "pycharm": {
     "name": "#%%\n"
    }
   }
  }
 ],
 "metadata": {
  "kernelspec": {
   "display_name": "Python 3",
   "language": "python",
   "name": "python3"
  },
  "language_info": {
   "codemirror_mode": {
    "name": "ipython",
    "version": 2
   },
   "file_extension": ".py",
   "mimetype": "text/x-python",
   "name": "python",
   "nbconvert_exporter": "python",
   "pygments_lexer": "ipython2",
   "version": "2.7.6"
  }
 },
 "nbformat": 4,
 "nbformat_minor": 0
}