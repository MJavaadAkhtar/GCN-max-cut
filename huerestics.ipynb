{
 "cells": [
  {
   "cell_type": "code",
   "execution_count": 6,
   "metadata": {
    "collapsed": true,
    "pycharm": {
     "name": "#%%\n"
    }
   },
   "outputs": [],
   "source": [
    "from commons import *\n",
    "import random\n",
    "import itertools"
   ]
  },
  {
   "cell_type": "markdown",
   "source": [
    "# open the file with data"
   ],
   "metadata": {
    "collapsed": false,
    "pycharm": {
     "name": "#%% md\n"
    }
   }
  },
  {
   "cell_type": "code",
   "execution_count": 2,
   "outputs": [],
   "source": [
    "TORCH_DEVICE = torch.device('cuda' if torch.cuda.is_available() else 'cpu')\n",
    "TORCH_DTYPE = torch.float32"
   ],
   "metadata": {
    "collapsed": false,
    "pycharm": {
     "name": "#%%\n"
    }
   }
  },
  {
   "cell_type": "markdown",
   "source": [
    "# Finding a 3 way-cut"
   ],
   "metadata": {
    "collapsed": false,
    "pycharm": {
     "name": "#%% md\n"
    }
   }
  },
  {
   "cell_type": "code",
   "execution_count": 7,
   "outputs": [],
   "source": [
    "from itertools import chain, islice, combinations\n",
    "def find3WayCut(graph, terminal_lst):\n",
    "    # Compute the first cut between the first two terminals\n",
    "    cut_value_AB, partition_AB = nx.minimum_cut(graph, terminal_lst[0], terminal_lst[1], flow_func=shortest_augmenting_path)\n",
    "\n",
    "    # Generate subgraphs based on the first cut\n",
    "    graph_1 = graph.subgraph(partition_AB[0]).copy()\n",
    "    graph_2 = graph.subgraph(partition_AB[1]).copy()\n",
    "\n",
    "    # Determine in which subgraph the third terminal is located\n",
    "    if terminal_lst[2] in partition_AB[0]:\n",
    "        # If the third terminal is in graph_1, compute the minimum cut in graph_1\n",
    "        # between terminal_lst[0] (or terminal_lst[1], depending on presence) and terminal_lst[2]\n",
    "        if terminal_lst[0] in graph_1:\n",
    "            cut_value_BC, _ = nx.minimum_cut(graph_1, terminal_lst[0], terminal_lst[2], flow_func=shortest_augmenting_path)\n",
    "        else:\n",
    "            cut_value_BC, _ = nx.minimum_cut(graph_1, terminal_lst[1], terminal_lst[2], flow_func=shortest_augmenting_path)\n",
    "    else:\n",
    "        # If the third terminal is in graph_2, compute the minimum cut in graph_2\n",
    "        # between terminal_lst[0] (or terminal_lst[1], depending on presence) and terminal_lst[2]\n",
    "        if terminal_lst[0] in graph_2:\n",
    "            cut_value_BC, _ = nx.minimum_cut(graph_2, terminal_lst[0], terminal_lst[2], flow_func=shortest_augmenting_path)\n",
    "        else:\n",
    "            cut_value_BC, _ = nx.minimum_cut(graph_2, terminal_lst[1], terminal_lst[2], flow_func=shortest_augmenting_path)\n",
    "\n",
    "    # Sum the cut values to get the total 3-way cut value\n",
    "    return cut_value_AB + cut_value_BC\n",
    "def recursive_cut(graph, terminals):\n",
    "    if len(terminals) <= 1 or graph.number_of_nodes() == 0:\n",
    "        # Base case: no cut needed if only one terminal or graph is empty\n",
    "        return 0, {terminals[0]: graph} if terminals else {}\n",
    "\n",
    "    # Perform initial 2-way cut between the first two terminals\n",
    "    cut_value, (part_1, part_2) = nx.minimum_cut(graph, terminals[0], terminals[1], flow_func=shortest_augmenting_path)\n",
    "    graph_1, graph_2 = graph.subgraph(part_1).copy(), graph.subgraph(part_2).copy()\n",
    "\n",
    "    # Determine which terminals are in each subgraph\n",
    "    terminals_1, terminals_2 = [], []\n",
    "    for terminal in terminals:\n",
    "        if terminal in part_1:\n",
    "            terminals_1.append(terminal)\n",
    "        else:\n",
    "            terminals_2.append(terminal)\n",
    "\n",
    "    # Recursively apply cuts to each subgraph\n",
    "    cut_value_1, partitions_1 = recursive_cut(graph_1, terminals_1)\n",
    "    cut_value_2, partitions_2 = recursive_cut(graph_2, terminals_2)\n",
    "\n",
    "    # Combine the results\n",
    "    total_cut_value = cut_value + cut_value_1 + cut_value_2\n",
    "    partitions = partitions_1\n",
    "    partitions.update(partitions_2)  # Merge the two partition dictionaries\n",
    "\n",
    "    return total_cut_value, partitions\n",
    "\n",
    "def find_k_way_cut(graph, terminals):\n",
    "    \"\"\"\n",
    "    Find a k-way cut in the graph such that all terminals are in separate partitions.\n",
    "\n",
    "    Parameters:\n",
    "    - graph: A NetworkX graph.\n",
    "    - terminals: A list of terminal nodes that need to be in separate partitions.\n",
    "\n",
    "    Returns:\n",
    "    - The total cut value for separating all terminals into their own partition.\n",
    "    - A dictionary mapping each terminal to its corresponding subgraph.\n",
    "    \"\"\"\n",
    "\n",
    "    permutations = list(itertools.permutations(terminals))\n",
    "    best_cut_Value = torch.inf\n",
    "    best_partition = []\n",
    "    for perm in permutations:\n",
    "        total_cut_value, partitions = recursive_cut(graph, perm)\n",
    "        if total_cut_value < best_cut_Value:\n",
    "            best_cut_Value = total_cut_value\n",
    "            best_partition = partitions\n",
    "\n",
    "    # total_cut_value, partitions = recursive_cut(graph, terminals)\n",
    "    # return total_cut_value, partitions\n",
    "    return best_cut_Value, best_partition"
   ],
   "metadata": {
    "collapsed": false,
    "pycharm": {
     "name": "#%%\n"
    }
   }
  },
  {
   "cell_type": "code",
   "execution_count": 8,
   "outputs": [],
   "source": [
    "\n",
    "def qubo_dict_to_torch(nx_G, Q, torch_dtype=None, torch_device=None):\n",
    "    \"\"\"\n",
    "    Output Q matrix as torch tensor for given Q in dictionary format.\n",
    "\n",
    "    Input:\n",
    "        Q: QUBO matrix as defaultdict\n",
    "        nx_G: graph as networkx object (needed for node lables can vary 0,1,... vs 1,2,... vs a,b,...)\n",
    "    Output:\n",
    "        Q: QUBO as torch tensor\n",
    "    \"\"\"\n",
    "\n",
    "    # get number of nodes\n",
    "    n_nodes = len(nx_G.nodes)\n",
    "\n",
    "    # get QUBO Q as torch tensor\n",
    "    Q_mat = torch.zeros(n_nodes, n_nodes)\n",
    "    for (x_coord, y_coord), val in Q.items():\n",
    "        Q_mat[x_coord][y_coord] = val\n",
    "\n",
    "    if torch_dtype is not None:\n",
    "        Q_mat = Q_mat.type(torch_dtype)\n",
    "\n",
    "    if torch_device is not None:\n",
    "        Q_mat = Q_mat.to(torch_device)\n",
    "\n",
    "    return Q_mat\n",
    "def gen_adj_matrix(nx_G):\n",
    "    adj_dict = defaultdict(int)\n",
    "\n",
    "    for(u,v) in nx_G.edges:\n",
    "        adj_dict[(u, v)] = nx_G[u][v]['weight']\n",
    "        adj_dict[(v, u)] = nx_G[u][v]['weight']\n",
    "\n",
    "    for u in nx_G.nodes:\n",
    "        for i in nx_G.nodes:\n",
    "            if not adj_dict[(u, i)]:\n",
    "                adj_dict[(u, i)] = 0\n",
    "\n",
    "    return adj_dict"
   ],
   "metadata": {
    "collapsed": false,
    "pycharm": {
     "name": "#%%\n"
    }
   }
  },
  {
   "cell_type": "code",
   "execution_count": 18,
   "outputs": [
    {
     "name": "stdout",
     "output_type": "stream",
     "text": [
      "0 : number : Heurestic k-way 3 min-cut value:92.0 15 61 4 ; Terminals - [0, 1, 2]\n",
      "1 : number : Heurestic k-way 3 min-cut value:2.0 20 31 29 ; Terminals - [0, 1, 2]\n",
      "2 : number : Heurestic k-way 3 min-cut value:20.0 56 5 19 ; Terminals - [0, 1, 2]\n",
      "3 : number : Heurestic k-way 3 min-cut value:98.0 48 23 9 ; Terminals - [0, 1, 2]\n",
      "4 : number : Heurestic k-way 3 min-cut value:6.0 40 29 11 ; Terminals - [0, 1, 2]\n",
      "5 : number : Heurestic k-way 3 min-cut value:121.0 14 4 62 ; Terminals - [0, 1, 2]\n",
      "6 : number : Heurestic k-way 3 min-cut value:32.0 43 28 9 ; Terminals - [0, 1, 2]\n",
      "7 : number : Heurestic k-way 3 min-cut value:6.0 7 23 50 ; Terminals - [0, 1, 2]\n",
      "8 : number : Heurestic k-way 3 min-cut value:41.0 50 24 6 ; Terminals - [0, 1, 2]\n",
      "9 : number : Heurestic k-way 3 min-cut value:18.0 9 2 69 ; Terminals - [0, 1, 2]\n",
      "10 : number : Heurestic k-way 3 min-cut value:29.0 22 53 5 ; Terminals - [0, 1, 2]\n"
     ]
    }
   ],
   "source": [
    "heurestic_cut_3 = []\n",
    "test_item = open_file( filename='./testData/prepareDS.pkl')\n",
    "\n",
    "# pos = nx.kamada_kawai_layout(test_item[1][2])\n",
    "# nx.draw(test_item[1][2], pos, with_labels=True, node_color=[[.7, .7, .7]])\n",
    "# labels = nx.get_edge_attributes(test_item[1][2],'weight')\n",
    "# nx.draw_networkx_edge_labels(test_item[1][2],pos,edge_labels=labels)\n",
    "## new - remove\n",
    "# test_item_2 = {}\n",
    "# test_item_2[0]=test_item[1]\n",
    "# print(test_item_2[0][-1])\n",
    "##\n",
    "i = 0\n",
    "for key, (dgl_graph, adjacency_matrix,graph, terminal) in test_item.items():\n",
    "\n",
    "    l = find_k_way_cut(graph, terminal)\n",
    "    heurestic_cut_3.append(l[0])\n",
    "    print(i, \": number :\", \"Heurestic k-way 3 min-cut value:\" + str(heurestic_cut_3[-1]), l[1][terminal[0]].number_of_nodes(), l[1][terminal[1]].number_of_nodes(), l[1][terminal[2]].number_of_nodes(), \"; Terminals - \"+ str(terminal))\n",
    "    # print(find_k_way_cut(graph, [0,1,2]))\n",
    "    #\n",
    "    # swap_graph_nodes(graph, {57:0, 56:1, 47:2, 0:57, 1:56, 2:47})\n",
    "    # # print(\"Edges of the new graph:\", graph.edges())\n",
    "    # # print(\"Edges of the new graph:\", graph.edges())\n",
    "    # print(find_k_way_cut(graph, terminal))\n",
    "    # print(find_k_way_cut(graph, [0,1,2]))\n",
    "\n",
    "    i+=1\n",
    "\n",
    "    if i>10:\n",
    "        break\n",
    "\n",
    "\n",
    "    #\n",
    "    # heurestic_cut_k.append(find_k_way_cut(graph, [0,20,60,85,98])[0])\n",
    "    # print(\"Heurestic k-way 5 min-cut value: \" + str(heurestic_cut_k[-1]))"
   ],
   "metadata": {
    "collapsed": false,
    "pycharm": {
     "name": "#%%\n"
    }
   }
  },
  {
   "cell_type": "code",
   "execution_count": 15,
   "outputs": [
    {
     "name": "stdout",
     "output_type": "stream",
     "text": [
      "Heurestic k-way 2 min-cut value: 1.0 : 15 65 ; Terminals - [0, 1, 2]\n",
      "Heurestic k-way 2 min-cut value: 1.0 : 49 31 ; Terminals - [0, 1, 2]\n",
      "Heurestic k-way 2 min-cut value: 19.0 : 75 5 ; Terminals - [0, 1, 2]\n",
      "Heurestic k-way 2 min-cut value: 8.0 : 48 32 ; Terminals - [0, 1, 2]\n",
      "Heurestic k-way 2 min-cut value: 1.0 : 51 29 ; Terminals - [0, 1, 2]\n",
      "Heurestic k-way 2 min-cut value: 40.0 : 14 66 ; Terminals - [0, 1, 2]\n",
      "Heurestic k-way 2 min-cut value: 30.0 : 43 37 ; Terminals - [0, 1, 2]\n",
      "Heurestic k-way 2 min-cut value: 3.0 : 57 23 ; Terminals - [0, 1, 2]\n",
      "Heurestic k-way 2 min-cut value: 3.0 : 56 24 ; Terminals - [0, 1, 2]\n",
      "Heurestic k-way 2 min-cut value: 17.0 : 78 2 ; Terminals - [0, 1, 2]\n",
      "Heurestic k-way 2 min-cut value: 1.0 : 22 58 ; Terminals - [0, 1, 2]\n"
     ]
    }
   ],
   "source": [
    "heurestic_cut_3 = []\n",
    "test_item = open_file( filename='./testData/prepareDS.pkl')\n",
    "\n",
    "# pos = nx.kamada_kawai_layout(test_item[1][2])\n",
    "# nx.draw(test_item[1][2], pos, with_labels=True, node_color=[[.7, .7, .7]])\n",
    "# labels = nx.get_edge_attributes(test_item[1][2],'weight')\n",
    "# nx.draw_networkx_edge_labels(test_item[1][2],pos,edge_labels=labels)\n",
    "## new - remove\n",
    "# test_item_2 = {}\n",
    "# test_item_2[0]=test_item[1]\n",
    "# print(test_item_2[0][-1])\n",
    "##\n",
    "i = 0\n",
    "for key, (dgl_graph, adjacency_matrix,graph, terminal) in test_item.items():\n",
    "\n",
    "    l = find_k_way_cut(graph, [0,1])\n",
    "    heurestic_cut_3.append(l[0])\n",
    "    print(\"Heurestic k-way 2 min-cut value: \" + str(heurestic_cut_3[-1]),\":\", l[1][terminal[0]].number_of_nodes(), l[1][terminal[1]].number_of_nodes(), \"; Terminals - \"+ str(terminal))\n",
    "    # print(find_k_way_cut(graph, [0,1,2]))\n",
    "    #\n",
    "    # swap_graph_nodes(graph, {57:0, 56:1, 47:2, 0:57, 1:56, 2:47})\n",
    "    # # print(\"Edges of the new graph:\", graph.edges())\n",
    "    # # print(\"Edges of the new graph:\", graph.edges())\n",
    "    # print(find_k_way_cut(graph, terminal))\n",
    "    # print(find_k_way_cut(graph, [0,1,2]))\n",
    "\n",
    "    i+=1\n",
    "\n",
    "    if i>10:\n",
    "        break\n",
    "\n",
    "\n",
    "    #\n",
    "    # heurestic_cut_k.append(find_k_way_cut(graph, [0,20,60,85,98])[0])\n",
    "    # print(\"Heurestic k-way 5 min-cut value: \" + str(heurestic_cut_k[-1]))"
   ],
   "metadata": {
    "collapsed": false,
    "pycharm": {
     "name": "#%%\n"
    }
   }
  },
  {
   "cell_type": "code",
   "execution_count": 204,
   "outputs": [
    {
     "data": {
      "text/plain": "(1.0,\n ({0,\n   1,\n   2,\n   3,\n   4,\n   5,\n   6,\n   7,\n   8,\n   9,\n   10,\n   11,\n   12,\n   13,\n   14,\n   15,\n   16,\n   17,\n   18,\n   19,\n   20,\n   21,\n   22,\n   23,\n   24,\n   25,\n   26,\n   27,\n   28,\n   29,\n   30,\n   31,\n   32,\n   33,\n   34,\n   35,\n   36,\n   37,\n   38,\n   39,\n   40,\n   41,\n   42,\n   43,\n   44,\n   45,\n   46,\n   47,\n   48,\n   49,\n   50,\n   51,\n   53,\n   55,\n   56,\n   58,\n   60,\n   61,\n   63,\n   64,\n   65,\n   66,\n   67,\n   68,\n   70,\n   74,\n   75,\n   76},\n  {52, 54, 57, 59, 62, 69, 71, 72, 73, 77, 78, 79}))"
     },
     "execution_count": 204,
     "metadata": {},
     "output_type": "execute_result"
    }
   ],
   "source": [
    "nx.minimum_cut(test_item_2[0][2], test_item_2[0][3][1], test_item_2[0][3][0], flow_func=shortest_augmenting_path)"
   ],
   "metadata": {
    "collapsed": false,
    "pycharm": {
     "name": "#%%\n"
    }
   }
  },
  {
   "cell_type": "code",
   "execution_count": 181,
   "outputs": [
    {
     "name": "stdout",
     "output_type": "stream",
     "text": [
      "Heurestic 2-way min-cut value: 27705 562 1\n"
     ]
    },
    {
     "ename": "KeyboardInterrupt",
     "evalue": "",
     "output_type": "error",
     "traceback": [
      "\u001B[0;31m---------------------------------------------------------------------------\u001B[0m",
      "\u001B[0;31mKeyboardInterrupt\u001B[0m                         Traceback (most recent call last)",
      "Cell \u001B[0;32mIn[181], line 16\u001B[0m\n\u001B[1;32m     13\u001B[0m heurestic_cut_3\u001B[38;5;241m.\u001B[39mappend(cut_value)\n\u001B[1;32m     14\u001B[0m \u001B[38;5;28mprint\u001B[39m(\u001B[38;5;124m\"\u001B[39m\u001B[38;5;124mHeurestic 2-way min-cut value: \u001B[39m\u001B[38;5;124m\"\u001B[39m \u001B[38;5;241m+\u001B[39m \u001B[38;5;28mstr\u001B[39m(heurestic_cut_3[\u001B[38;5;241m-\u001B[39m\u001B[38;5;241m1\u001B[39m]), \u001B[38;5;28mlen\u001B[39m(part_1), \u001B[38;5;28mlen\u001B[39m(part_2))\n\u001B[0;32m---> 16\u001B[0m l \u001B[38;5;241m=\u001B[39m \u001B[43mfind_k_way_cut\u001B[49m\u001B[43m(\u001B[49m\u001B[43mgraph\u001B[49m\u001B[43m,\u001B[49m\u001B[43m \u001B[49m\u001B[43m[\u001B[49m\u001B[38;5;241;43m0\u001B[39;49m\u001B[43m,\u001B[49m\u001B[38;5;241;43m200\u001B[39;49m\u001B[43m,\u001B[49m\u001B[38;5;241;43m399\u001B[39;49m\u001B[43m]\u001B[49m\u001B[43m)\u001B[49m\n\u001B[1;32m     17\u001B[0m \u001B[38;5;66;03m# print(l)\u001B[39;00m\n\u001B[1;32m     18\u001B[0m heurestic_cut_k\u001B[38;5;241m.\u001B[39mappend(l[\u001B[38;5;241m0\u001B[39m])\n",
      "Cell \u001B[0;32mIn[26], line 46\u001B[0m, in \u001B[0;36mfind_k_way_cut\u001B[0;34m(graph, terminals)\u001B[0m\n\u001B[1;32m     44\u001B[0m best_partition \u001B[38;5;241m=\u001B[39m []\n\u001B[1;32m     45\u001B[0m \u001B[38;5;28;01mfor\u001B[39;00m perm \u001B[38;5;129;01min\u001B[39;00m permutations:\n\u001B[0;32m---> 46\u001B[0m     total_cut_value, partitions \u001B[38;5;241m=\u001B[39m \u001B[43mrecursive_cut\u001B[49m\u001B[43m(\u001B[49m\u001B[43mgraph\u001B[49m\u001B[43m,\u001B[49m\u001B[43m \u001B[49m\u001B[43mperm\u001B[49m\u001B[43m)\u001B[49m\n\u001B[1;32m     47\u001B[0m     \u001B[38;5;28;01mif\u001B[39;00m total_cut_value \u001B[38;5;241m<\u001B[39m best_cut_Value:\n\u001B[1;32m     48\u001B[0m         best_cut_Value \u001B[38;5;241m=\u001B[39m total_cut_value\n",
      "Cell \u001B[0;32mIn[26], line 8\u001B[0m, in \u001B[0;36mrecursive_cut\u001B[0;34m(graph, terminals)\u001B[0m\n\u001B[1;32m      6\u001B[0m \u001B[38;5;66;03m# Perform initial 2-way cut between the first two terminals\u001B[39;00m\n\u001B[1;32m      7\u001B[0m cut_value, (part_1, part_2) \u001B[38;5;241m=\u001B[39m nx\u001B[38;5;241m.\u001B[39mminimum_cut(graph, terminals[\u001B[38;5;241m0\u001B[39m], terminals[\u001B[38;5;241m1\u001B[39m], flow_func\u001B[38;5;241m=\u001B[39mshortest_augmenting_path)\n\u001B[0;32m----> 8\u001B[0m graph_1, graph_2 \u001B[38;5;241m=\u001B[39m graph\u001B[38;5;241m.\u001B[39msubgraph(part_1)\u001B[38;5;241m.\u001B[39mcopy(), \u001B[43mgraph\u001B[49m\u001B[38;5;241;43m.\u001B[39;49m\u001B[43msubgraph\u001B[49m\u001B[43m(\u001B[49m\u001B[43mpart_2\u001B[49m\u001B[43m)\u001B[49m\u001B[38;5;241;43m.\u001B[39;49m\u001B[43mcopy\u001B[49m\u001B[43m(\u001B[49m\u001B[43m)\u001B[49m\n\u001B[1;32m     10\u001B[0m \u001B[38;5;66;03m# Determine which terminals are in each subgraph\u001B[39;00m\n\u001B[1;32m     11\u001B[0m terminals_1, terminals_2 \u001B[38;5;241m=\u001B[39m [], []\n",
      "File \u001B[0;32m~/anaconda3/envs/research/lib/python3.8/site-packages/networkx/classes/graph.py:1643\u001B[0m, in \u001B[0;36mGraph.copy\u001B[0;34m(self, as_view)\u001B[0m\n\u001B[1;32m   1641\u001B[0m G\u001B[38;5;241m.\u001B[39mgraph\u001B[38;5;241m.\u001B[39mupdate(\u001B[38;5;28mself\u001B[39m\u001B[38;5;241m.\u001B[39mgraph)\n\u001B[1;32m   1642\u001B[0m G\u001B[38;5;241m.\u001B[39madd_nodes_from((n, d\u001B[38;5;241m.\u001B[39mcopy()) \u001B[38;5;28;01mfor\u001B[39;00m n, d \u001B[38;5;129;01min\u001B[39;00m \u001B[38;5;28mself\u001B[39m\u001B[38;5;241m.\u001B[39m_node\u001B[38;5;241m.\u001B[39mitems())\n\u001B[0;32m-> 1643\u001B[0m \u001B[43mG\u001B[49m\u001B[38;5;241;43m.\u001B[39;49m\u001B[43madd_edges_from\u001B[49m\u001B[43m(\u001B[49m\n\u001B[1;32m   1644\u001B[0m \u001B[43m    \u001B[49m\u001B[43m(\u001B[49m\u001B[43mu\u001B[49m\u001B[43m,\u001B[49m\u001B[43m \u001B[49m\u001B[43mv\u001B[49m\u001B[43m,\u001B[49m\u001B[43m \u001B[49m\u001B[43mdatadict\u001B[49m\u001B[38;5;241;43m.\u001B[39;49m\u001B[43mcopy\u001B[49m\u001B[43m(\u001B[49m\u001B[43m)\u001B[49m\u001B[43m)\u001B[49m\n\u001B[1;32m   1645\u001B[0m \u001B[43m    \u001B[49m\u001B[38;5;28;43;01mfor\u001B[39;49;00m\u001B[43m \u001B[49m\u001B[43mu\u001B[49m\u001B[43m,\u001B[49m\u001B[43m \u001B[49m\u001B[43mnbrs\u001B[49m\u001B[43m \u001B[49m\u001B[38;5;129;43;01min\u001B[39;49;00m\u001B[43m \u001B[49m\u001B[38;5;28;43mself\u001B[39;49m\u001B[38;5;241;43m.\u001B[39;49m\u001B[43m_adj\u001B[49m\u001B[38;5;241;43m.\u001B[39;49m\u001B[43mitems\u001B[49m\u001B[43m(\u001B[49m\u001B[43m)\u001B[49m\n\u001B[1;32m   1646\u001B[0m \u001B[43m    \u001B[49m\u001B[38;5;28;43;01mfor\u001B[39;49;00m\u001B[43m \u001B[49m\u001B[43mv\u001B[49m\u001B[43m,\u001B[49m\u001B[43m \u001B[49m\u001B[43mdatadict\u001B[49m\u001B[43m \u001B[49m\u001B[38;5;129;43;01min\u001B[39;49;00m\u001B[43m \u001B[49m\u001B[43mnbrs\u001B[49m\u001B[38;5;241;43m.\u001B[39;49m\u001B[43mitems\u001B[49m\u001B[43m(\u001B[49m\u001B[43m)\u001B[49m\n\u001B[1;32m   1647\u001B[0m \u001B[43m\u001B[49m\u001B[43m)\u001B[49m\n\u001B[1;32m   1648\u001B[0m \u001B[38;5;28;01mreturn\u001B[39;00m G\n",
      "File \u001B[0;32m~/anaconda3/envs/research/lib/python3.8/site-packages/networkx/classes/graph.py:1016\u001B[0m, in \u001B[0;36mGraph.add_edges_from\u001B[0;34m(self, ebunch_to_add, **attr)\u001B[0m\n\u001B[1;32m    961\u001B[0m \u001B[38;5;28;01mdef\u001B[39;00m \u001B[38;5;21madd_edges_from\u001B[39m(\u001B[38;5;28mself\u001B[39m, ebunch_to_add, \u001B[38;5;241m*\u001B[39m\u001B[38;5;241m*\u001B[39mattr):\n\u001B[1;32m    962\u001B[0m \u001B[38;5;250m    \u001B[39m\u001B[38;5;124;03m\"\"\"Add all the edges in ebunch_to_add.\u001B[39;00m\n\u001B[1;32m    963\u001B[0m \n\u001B[1;32m    964\u001B[0m \u001B[38;5;124;03m    Parameters\u001B[39;00m\n\u001B[0;32m   (...)\u001B[0m\n\u001B[1;32m   1014\u001B[0m \u001B[38;5;124;03m    >>> G.add_edges_from(list((5, n) for n in G.nodes))\u001B[39;00m\n\u001B[1;32m   1015\u001B[0m \u001B[38;5;124;03m    \"\"\"\u001B[39;00m\n\u001B[0;32m-> 1016\u001B[0m     \u001B[38;5;28;01mfor\u001B[39;00m e \u001B[38;5;129;01min\u001B[39;00m ebunch_to_add:\n\u001B[1;32m   1017\u001B[0m         ne \u001B[38;5;241m=\u001B[39m \u001B[38;5;28mlen\u001B[39m(e)\n\u001B[1;32m   1018\u001B[0m         \u001B[38;5;28;01mif\u001B[39;00m ne \u001B[38;5;241m==\u001B[39m \u001B[38;5;241m3\u001B[39m:\n",
      "File \u001B[0;32m~/anaconda3/envs/research/lib/python3.8/site-packages/networkx/classes/graph.py:1646\u001B[0m, in \u001B[0;36m<genexpr>\u001B[0;34m(.0)\u001B[0m\n\u001B[1;32m   1641\u001B[0m G\u001B[38;5;241m.\u001B[39mgraph\u001B[38;5;241m.\u001B[39mupdate(\u001B[38;5;28mself\u001B[39m\u001B[38;5;241m.\u001B[39mgraph)\n\u001B[1;32m   1642\u001B[0m G\u001B[38;5;241m.\u001B[39madd_nodes_from((n, d\u001B[38;5;241m.\u001B[39mcopy()) \u001B[38;5;28;01mfor\u001B[39;00m n, d \u001B[38;5;129;01min\u001B[39;00m \u001B[38;5;28mself\u001B[39m\u001B[38;5;241m.\u001B[39m_node\u001B[38;5;241m.\u001B[39mitems())\n\u001B[1;32m   1643\u001B[0m G\u001B[38;5;241m.\u001B[39madd_edges_from(\n\u001B[1;32m   1644\u001B[0m     (u, v, datadict\u001B[38;5;241m.\u001B[39mcopy())\n\u001B[1;32m   1645\u001B[0m     \u001B[38;5;28;01mfor\u001B[39;00m u, nbrs \u001B[38;5;129;01min\u001B[39;00m \u001B[38;5;28mself\u001B[39m\u001B[38;5;241m.\u001B[39m_adj\u001B[38;5;241m.\u001B[39mitems()\n\u001B[0;32m-> 1646\u001B[0m     \u001B[38;5;28;01mfor\u001B[39;00m v, datadict \u001B[38;5;129;01min\u001B[39;00m nbrs\u001B[38;5;241m.\u001B[39mitems()\n\u001B[1;32m   1647\u001B[0m )\n\u001B[1;32m   1648\u001B[0m \u001B[38;5;28;01mreturn\u001B[39;00m G\n",
      "File \u001B[0;32m~/anaconda3/envs/research/lib/python3.8/_collections_abc.py:743\u001B[0m, in \u001B[0;36mItemsView.__iter__\u001B[0;34m(self)\u001B[0m\n\u001B[1;32m    742\u001B[0m \u001B[38;5;28;01mdef\u001B[39;00m \u001B[38;5;21m__iter__\u001B[39m(\u001B[38;5;28mself\u001B[39m):\n\u001B[0;32m--> 743\u001B[0m     \u001B[38;5;28;01mfor\u001B[39;00m key \u001B[38;5;129;01min\u001B[39;00m \u001B[38;5;28mself\u001B[39m\u001B[38;5;241m.\u001B[39m_mapping:\n\u001B[1;32m    744\u001B[0m         \u001B[38;5;28;01myield\u001B[39;00m (key, \u001B[38;5;28mself\u001B[39m\u001B[38;5;241m.\u001B[39m_mapping[key])\n",
      "File \u001B[0;32m~/anaconda3/envs/research/lib/python3.8/site-packages/networkx/classes/coreviews.py:281\u001B[0m, in \u001B[0;36m<genexpr>\u001B[0;34m(.0)\u001B[0m\n\u001B[1;32m    279\u001B[0m \u001B[38;5;28;01mif\u001B[39;00m node_ok_shorter:\n\u001B[1;32m    280\u001B[0m     \u001B[38;5;28;01mreturn\u001B[39;00m (n \u001B[38;5;28;01mfor\u001B[39;00m n \u001B[38;5;129;01min\u001B[39;00m \u001B[38;5;28mself\u001B[39m\u001B[38;5;241m.\u001B[39mNODE_OK\u001B[38;5;241m.\u001B[39mnodes \u001B[38;5;28;01mif\u001B[39;00m n \u001B[38;5;129;01min\u001B[39;00m \u001B[38;5;28mself\u001B[39m\u001B[38;5;241m.\u001B[39m_atlas)\n\u001B[0;32m--> 281\u001B[0m \u001B[38;5;28;01mreturn\u001B[39;00m (n \u001B[38;5;28;01mfor\u001B[39;00m n \u001B[38;5;129;01min\u001B[39;00m \u001B[38;5;28mself\u001B[39m\u001B[38;5;241m.\u001B[39m_atlas \u001B[38;5;28;01mif\u001B[39;00m \u001B[38;5;28;43mself\u001B[39;49m\u001B[38;5;241;43m.\u001B[39;49m\u001B[43mNODE_OK\u001B[49m\u001B[43m(\u001B[49m\u001B[43mn\u001B[49m\u001B[43m)\u001B[49m)\n",
      "\u001B[0;31mKeyboardInterrupt\u001B[0m: "
     ]
    }
   ],
   "source": [
    "heurestic_cut_3 = []\n",
    "heurestic_cut_k = []\n",
    "test_item = open_file(obj = test_item, filename='./testData/400-600.pkl')\n",
    "\n",
    "# pos = nx.kamada_kawai_layout(test_item[1][2])\n",
    "# nx.draw(test_item[1][2], pos, with_labels=True, node_color=[[.7, .7, .7]])\n",
    "# labels = nx.get_edge_attributes(test_item[1][2],'weight')\n",
    "# nx.draw_networkx_edge_labels(test_item[1][2],pos,edge_labels=labels)\n",
    "\n",
    "for key, (dgl_graph, adjacency_matrix,graph) in test_item.items():\n",
    "    cut_value, (part_1, part_2) = nx.minimum_cut(graph, 200, 399)\n",
    "\n",
    "    heurestic_cut_3.append(cut_value)\n",
    "    print(\"Heurestic 2-way min-cut value: \" + str(heurestic_cut_3[-1]), len(part_1), len(part_2))\n",
    "\n",
    "    l = find_k_way_cut(graph, [0,200,399])\n",
    "    # print(l)\n",
    "    heurestic_cut_k.append(l[0])\n",
    "    print(\"Heurestic k-way 3 min-cut value: \" + str(heurestic_cut_k[-1]), l[1][0].number_of_nodes(), l[1][200].number_of_nodes(), l[1][399].number_of_nodes())\n",
    "\n",
    "    l = find_k_way_cut(graph, [0,200,299, 399])\n",
    "    # print(l)\n",
    "    heurestic_cut_k.append(l[0])\n",
    "    print(\"Heurestic k-way 3 min-cut value: \" + str(heurestic_cut_k[-1]), l[1][0].number_of_nodes(), l[1][200].number_of_nodes(), l[1][399].number_of_nodes(), l[1][299].number_of_nodes())\n",
    "    #\n",
    "    # heurestic_cut_k.append(find_k_way_cut(graph, [0,20,60,85,98])[0])\n",
    "    # print(\"Heurestic k-way 5 min-cut value: \" + str(heurestic_cut_k[-1]))"
   ],
   "metadata": {
    "collapsed": false,
    "pycharm": {
     "name": "#%%\n"
    }
   }
  },
  {
   "cell_type": "code",
   "execution_count": 89,
   "outputs": [],
   "source": [
    "def CreateDummyFunction2():\n",
    "    test_graph = nx.Graph()\n",
    "    test_graph.add_edges_from([(0,1, {\"weight\": 1, \"capacity\":5}),\n",
    "                               (0,2, {\"weight\": 2, \"capacity\":2}),\n",
    "                               (1,3, {\"weight\": 2, \"capacity\":2}),\n",
    "                               (2,3, {\"weight\": 2, \"capacity\":2}),\n",
    "                               (0,4, {\"weight\": 100, \"capacity\":100}),\n",
    "                               (2,5, {\"weight\": 100, \"capacity\":100})])\n",
    "    test_graph.order()\n",
    "    return test_graph\n"
   ],
   "metadata": {
    "collapsed": false,
    "pycharm": {
     "name": "#%%\n"
    }
   }
  },
  {
   "cell_type": "code",
   "execution_count": 29,
   "outputs": [
    {
     "name": "stdout",
     "output_type": "stream",
     "text": [
      "Heurestic k-way 5 min-cut value: 21140\n",
      "Heurestic k-way 5 min-cut value: 27131\n",
      "Heurestic k-way 5 min-cut value: 21814\n",
      "Heurestic k-way 5 min-cut value: 23645\n",
      "Heurestic k-way 5 min-cut value: 23056\n",
      "Heurestic k-way 5 min-cut value: 33226\n",
      "Heurestic k-way 5 min-cut value: 32765\n",
      "Heurestic k-way 5 min-cut value: 28692\n",
      "Heurestic k-way 5 min-cut value: 33983\n",
      "Heurestic k-way 5 min-cut value: 23906\n"
     ]
    }
   ],
   "source": [
    "heurestic_cut_3 = []\n",
    "heurestic_cut_k = []\n",
    "\n",
    "for key, (dgl_graph, adjacency_matrix,graph) in test_item.items():\n",
    "\n",
    "\n",
    "    heurestic_cut_k.append(find_k_way_cut(graph, [0,20,60,85,98])[0])\n",
    "    print(\"Heurestic k-way 5 min-cut value: \" + str(heurestic_cut_k[-1]))"
   ],
   "metadata": {
    "collapsed": false,
    "pycharm": {
     "name": "#%%\n"
    }
   }
  },
  {
   "cell_type": "code",
   "execution_count": 30,
   "outputs": [],
   "source": [
    "save_object(heurestic_cut_k, './testData/heurestic_cut_k.pkl')"
   ],
   "metadata": {
    "collapsed": false,
    "pycharm": {
     "name": "#%%\n"
    }
   }
  },
  {
   "cell_type": "code",
   "execution_count": 16,
   "outputs": [
    {
     "ename": "KeyError",
     "evalue": "(0, 0)",
     "output_type": "error",
     "traceback": [
      "\u001B[0;31m---------------------------------------------------------------------------\u001B[0m",
      "\u001B[0;31mKeyError\u001B[0m                                  Traceback (most recent call last)",
      "Cell \u001B[0;32mIn[16], line 83\u001B[0m\n\u001B[1;32m     81\u001B[0m G \u001B[38;5;241m=\u001B[39m  test_item[\u001B[38;5;241m0\u001B[39m][\u001B[38;5;241m2\u001B[39m] \u001B[38;5;66;03m# Your graph initialization here\u001B[39;00m\n\u001B[1;32m     82\u001B[0m terminals \u001B[38;5;241m=\u001B[39m [\u001B[38;5;241m0\u001B[39m, \u001B[38;5;241m20\u001B[39m, \u001B[38;5;241m98\u001B[39m]  \u001B[38;5;66;03m# Your terminals\u001B[39;00m\n\u001B[0;32m---> 83\u001B[0m problem \u001B[38;5;241m=\u001B[39m \u001B[43msetup_3way_cut_problem\u001B[49m\u001B[43m(\u001B[49m\u001B[43mG\u001B[49m\u001B[43m,\u001B[49m\u001B[43m \u001B[49m\u001B[43mterminals\u001B[49m\u001B[43m)\u001B[49m\n\u001B[1;32m     84\u001B[0m \u001B[38;5;28;01mif\u001B[39;00m problem:\n\u001B[1;32m     85\u001B[0m     \u001B[38;5;66;03m# Extract solution, etc.\u001B[39;00m\n\u001B[1;32m     86\u001B[0m     \u001B[38;5;28mprint\u001B[39m(\u001B[38;5;124m\"\u001B[39m\u001B[38;5;124mSolution status = \u001B[39m\u001B[38;5;124m\"\u001B[39m, problem[\u001B[38;5;241m0\u001B[39m]\u001B[38;5;241m.\u001B[39msolution\u001B[38;5;241m.\u001B[39mget_status(), \u001B[38;5;124m\"\u001B[39m\u001B[38;5;124m:\u001B[39m\u001B[38;5;124m\"\u001B[39m, end\u001B[38;5;241m=\u001B[39m\u001B[38;5;124m'\u001B[39m\u001B[38;5;124m \u001B[39m\u001B[38;5;124m'\u001B[39m)\n",
      "Cell \u001B[0;32mIn[16], line 44\u001B[0m, in \u001B[0;36msetup_3way_cut_problem\u001B[0;34m(G, terminals)\u001B[0m\n\u001B[1;32m     40\u001B[0m \u001B[38;5;28;01mfor\u001B[39;00m i, j \u001B[38;5;129;01min\u001B[39;00m G\u001B[38;5;241m.\u001B[39medges():\n\u001B[1;32m     41\u001B[0m     \u001B[38;5;28;01mfor\u001B[39;00m t \u001B[38;5;129;01min\u001B[39;00m \u001B[38;5;28mrange\u001B[39m(\u001B[38;5;241m3\u001B[39m):\n\u001B[1;32m     42\u001B[0m         prob\u001B[38;5;241m.\u001B[39mlinear_constraints\u001B[38;5;241m.\u001B[39madd(\n\u001B[1;32m     43\u001B[0m             lin_expr\u001B[38;5;241m=\u001B[39m[\n\u001B[0;32m---> 44\u001B[0m                 cplex\u001B[38;5;241m.\u001B[39mSparsePair(ind\u001B[38;5;241m=\u001B[39m[\u001B[43mnode_partition_vars\u001B[49m\u001B[43m[\u001B[49m\u001B[43m(\u001B[49m\u001B[43mi\u001B[49m\u001B[43m,\u001B[49m\u001B[43m \u001B[49m\u001B[43mt\u001B[49m\u001B[43m)\u001B[49m\u001B[43m]\u001B[49m, node_partition_vars[(j, t)], edge_vars[(i, j)]],\n\u001B[1;32m     45\u001B[0m                                  val\u001B[38;5;241m=\u001B[39m[\u001B[38;5;241m1\u001B[39m, \u001B[38;5;241m-\u001B[39m\u001B[38;5;241m1\u001B[39m, \u001B[38;5;241m1\u001B[39m]),\n\u001B[1;32m     46\u001B[0m                 cplex\u001B[38;5;241m.\u001B[39mSparsePair(ind\u001B[38;5;241m=\u001B[39m[node_partition_vars[(i, t)], node_partition_vars[(j, t)], edge_vars[(i, j)]],\n\u001B[1;32m     47\u001B[0m                                  val\u001B[38;5;241m=\u001B[39m[\u001B[38;5;241m-\u001B[39m\u001B[38;5;241m1\u001B[39m, \u001B[38;5;241m1\u001B[39m, \u001B[38;5;241m1\u001B[39m])\n\u001B[1;32m     48\u001B[0m             ],\n\u001B[1;32m     49\u001B[0m             senses\u001B[38;5;241m=\u001B[39m\u001B[38;5;124m\"\u001B[39m\u001B[38;5;124mLL\u001B[39m\u001B[38;5;124m\"\u001B[39m,\n\u001B[1;32m     50\u001B[0m             rhs\u001B[38;5;241m=\u001B[39m[\u001B[38;5;241m0\u001B[39m, \u001B[38;5;241m0\u001B[39m]\n\u001B[1;32m     51\u001B[0m         )\n\u001B[1;32m     53\u001B[0m \u001B[38;5;66;03m# Solve the problem\u001B[39;00m\n\u001B[1;32m     54\u001B[0m prob\u001B[38;5;241m.\u001B[39msolve()\n",
      "\u001B[0;31mKeyError\u001B[0m: (0, 0)"
     ]
    }
   ],
   "source": [
    "# import cplex\n",
    "# from cplex.exceptions import CplexError\n",
    "#\n",
    "# def setup_3way_cut_problem(G, terminals):\n",
    "#     try:\n",
    "#         # Initialize CPLEX problem\n",
    "#         prob = cplex.Cplex()\n",
    "#         prob.set_problem_type(cplex.Cplex.problem_type.LP)\n",
    "#         prob.objective.set_sense(prob.objective.sense.minimize)\n",
    "#\n",
    "#         # Add variables\n",
    "#         edge_vars = {}\n",
    "#         node_partition_vars = {}\n",
    "#         for i in G.nodes():\n",
    "#             if i in terminals:\n",
    "#                 continue  # Skip terminals\n",
    "#             for t in range(3):  # For each terminal/partition\n",
    "#                 var_name = f\"x_{i}_{t}\"\n",
    "#                 node_partition_vars[(i, t)] = var_name\n",
    "#                 prob.variables.add(names=[var_name], lb=[0], ub=[1], types=[\"B\"])\n",
    "#\n",
    "#         for i, j in G.edges():\n",
    "#             var_name = f\"y_{i}_{j}\"\n",
    "#             edge_vars[(i, j)] = var_name\n",
    "#             prob.variables.add(names=[var_name], lb=[0], ub=[1], types=[\"B\"], obj=[G[i][j]['weight']])\n",
    "#\n",
    "#         # Add constraints\n",
    "#         # Node must belong to one partition\n",
    "#         for i in G.nodes():\n",
    "#             if i in terminals:\n",
    "#                 continue\n",
    "#             constraints = [node_partition_vars[(i, t)] for t in range(3)]\n",
    "#             prob.linear_constraints.add(\n",
    "#                 lin_expr=[cplex.SparsePair(ind=constraints, val=[1]*3)],\n",
    "#                 senses=[\"E\"],\n",
    "#                 rhs=[1]\n",
    "#             )\n",
    "#\n",
    "#         # Edge cut constraints\n",
    "#         for i, j in G.edges():\n",
    "#             for t in range(3):\n",
    "#                 prob.linear_constraints.add(\n",
    "#                     lin_expr=[\n",
    "#                         cplex.SparsePair(ind=[node_partition_vars[(i, t)], node_partition_vars[(j, t)], edge_vars[(i, j)]],\n",
    "#                                          val=[1, -1, 1]),\n",
    "#                         cplex.SparsePair(ind=[node_partition_vars[(i, t)], node_partition_vars[(j, t)], edge_vars[(i, j)]],\n",
    "#                                          val=[-1, 1, 1])\n",
    "#                     ],\n",
    "#                     senses=\"LL\",\n",
    "#                     rhs=[0, 0]\n",
    "#                 )\n",
    "#\n",
    "#         # Solve the problem\n",
    "#         prob.solve()\n",
    "#         return prob, node_partition_vars\n",
    "#\n",
    "#     except CplexError as exc:\n",
    "#         print(exc)\n",
    "#         return None\n",
    "#\n",
    "# def extract_partitions(problem, G, terminals, node_partition_vars):\n",
    "#     # Retrieve the values of the decision variables\n",
    "#     variable_values = problem.solution.get_values()\n",
    "#\n",
    "#     # Initialize dictionaries to hold the nodes for each terminal's partition\n",
    "#     partitions = {terminal: [] for terminal in terminals}\n",
    "#\n",
    "#     # Variable names mapping back to node and terminal\n",
    "#     var_to_node = {v: k for k, v in node_partition_vars.items()}\n",
    "#\n",
    "#     # Loop through all variable values and assign nodes to partitions based on variable value\n",
    "#     for var_index, value in enumerate(variable_values):\n",
    "#         var_name = problem.variables.get_names(var_index)\n",
    "#         if var_name.startswith('x_') and value > 0.5:  # Considering binary variables true if > 0.5\n",
    "#             node, terminal_index = var_to_node[var_name]\n",
    "#             partitions[terminals[terminal_index]].append(node)\n",
    "#\n",
    "#     return partitions\n",
    "#\n",
    "# # Example usage\n",
    "# G =  test_item[0][2] # Your graph initialization here\n",
    "# terminals = ['0', '20', '98']  # Your terminals\n",
    "# problem = setup_3way_cut_problem(G, terminals)\n",
    "# if problem:\n",
    "#     # Extract solution, etc.\n",
    "#     print(\"Solution status = \", problem[0].solution.get_status(), \":\", end=' ')\n",
    "#     print(problem[0].solution.status[problem[0].solution.get_status()])\n",
    "#     print(\"Solution value  = \", problem[0].solution.get_objective_value())\n",
    "#\n",
    "#     # Extract and print the partitions\n",
    "#     partitions = extract_partitions(problem[0], G, terminals, problem[1])\n",
    "#     for terminal, nodes in partitions.items():\n",
    "#         print(f\"Partition for terminal {terminal}: {nodes}\")\n"
   ],
   "metadata": {
    "collapsed": false,
    "pycharm": {
     "name": "#%%\n"
    }
   }
  },
  {
   "cell_type": "code",
   "execution_count": 21,
   "outputs": [
    {
     "ename": "ValueError",
     "evalue": "too many values to unpack (expected 2)",
     "output_type": "error",
     "traceback": [
      "\u001B[0;31m---------------------------------------------------------------------------\u001B[0m",
      "\u001B[0;31mValueError\u001B[0m                                Traceback (most recent call last)",
      "Cell \u001B[0;32mIn[21], line 91\u001B[0m\n\u001B[1;32m     88\u001B[0m terminals \u001B[38;5;241m=\u001B[39m [\u001B[38;5;124m'\u001B[39m\u001B[38;5;124m0\u001B[39m\u001B[38;5;124m'\u001B[39m, \u001B[38;5;124m'\u001B[39m\u001B[38;5;124m20\u001B[39m\u001B[38;5;124m'\u001B[39m, \u001B[38;5;124m'\u001B[39m\u001B[38;5;124m98\u001B[39m\u001B[38;5;124m'\u001B[39m]  \u001B[38;5;66;03m# Example terminals as strings, adjust according to your needs\u001B[39;00m\n\u001B[1;32m     90\u001B[0m \u001B[38;5;66;03m# Setup and solve the 3-way cut problem\u001B[39;00m\n\u001B[0;32m---> 91\u001B[0m problem, node_vars \u001B[38;5;241m=\u001B[39m \u001B[43msetup_3way_cut_problem\u001B[49m\u001B[43m(\u001B[49m\u001B[43mG\u001B[49m\u001B[43m,\u001B[49m\u001B[43m \u001B[49m\u001B[43mterminals\u001B[49m\u001B[43m)\u001B[49m\n\u001B[1;32m     92\u001B[0m \u001B[38;5;28;01mif\u001B[39;00m problem:\n\u001B[1;32m     93\u001B[0m     \u001B[38;5;28mprint\u001B[39m(\u001B[38;5;124m\"\u001B[39m\u001B[38;5;124mSolution status: \u001B[39m\u001B[38;5;124m\"\u001B[39m, problem\u001B[38;5;241m.\u001B[39msolution\u001B[38;5;241m.\u001B[39mget_status())\n",
      "Cell \u001B[0;32mIn[21], line 23\u001B[0m, in \u001B[0;36msetup_3way_cut_problem\u001B[0;34m(G, terminals)\u001B[0m\n\u001B[1;32m     20\u001B[0m         node_vars[(i, t)] \u001B[38;5;241m=\u001B[39m var_name\n\u001B[1;32m     22\u001B[0m \u001B[38;5;66;03m# Add edge variables and set the objective to minimize cut weights\u001B[39;00m\n\u001B[0;32m---> 23\u001B[0m \u001B[38;5;28;01mfor\u001B[39;00m i, j \u001B[38;5;129;01min\u001B[39;00m G\u001B[38;5;241m.\u001B[39medges(data\u001B[38;5;241m=\u001B[39m\u001B[38;5;124m'\u001B[39m\u001B[38;5;124mweight\u001B[39m\u001B[38;5;124m'\u001B[39m):\n\u001B[1;32m     24\u001B[0m     var_name \u001B[38;5;241m=\u001B[39m \u001B[38;5;124mf\u001B[39m\u001B[38;5;124m\"\u001B[39m\u001B[38;5;124my_\u001B[39m\u001B[38;5;132;01m{\u001B[39;00mi\u001B[38;5;132;01m}\u001B[39;00m\u001B[38;5;124m_\u001B[39m\u001B[38;5;132;01m{\u001B[39;00mj\u001B[38;5;132;01m}\u001B[39;00m\u001B[38;5;124m\"\u001B[39m\n\u001B[1;32m     25\u001B[0m     weight \u001B[38;5;241m=\u001B[39m G[i][j][\u001B[38;5;124m'\u001B[39m\u001B[38;5;124mweight\u001B[39m\u001B[38;5;124m'\u001B[39m]\n",
      "\u001B[0;31mValueError\u001B[0m: too many values to unpack (expected 2)"
     ]
    }
   ],
   "source": [
    "import cplex\n",
    "from cplex.exceptions import CplexError\n",
    "\n",
    "def setup_3way_cut_problem(G, terminals):\n",
    "    try:\n",
    "        # Initialize CPLEX problem\n",
    "        prob = cplex.Cplex()\n",
    "        prob.objective.set_sense(prob.objective.sense.minimize)\n",
    "\n",
    "        # Ensure variables for each node with respect to each terminal\n",
    "        # Initialize dictionaries for variables\n",
    "        node_vars = {}\n",
    "        edge_vars = {}\n",
    "\n",
    "        # Add variables for node-partition assignments\n",
    "        for i in G.nodes():\n",
    "            for t_index, t in enumerate(terminals):\n",
    "                var_name = f\"x_{i}_{t_index}\"\n",
    "                if str(i) == t:  # Force terminal nodes to their respective partitions\n",
    "                    prob.variables.add(names=[var_name], lb=[1], ub=[1], types=[\"B\"])\n",
    "                else:\n",
    "                    prob.variables.add(names=[var_name], lb=[0], ub=[1], types=[\"B\"])\n",
    "                node_vars[(i, t_index)] = var_name\n",
    "\n",
    "        # Add variables for edges indicating if they are cut\n",
    "        for i, j in G.edges():\n",
    "            var_name = f\"y_{i}_{j}\"\n",
    "            edge_vars[(i, j)] = var_name\n",
    "            weight = G[i][j]['weight']\n",
    "            prob.variables.add(names=[var_name], lb=[0], ub=[1], types=[\"B\"], obj=[weight])\n",
    "\n",
    "        # Constraint: Each non-terminal node must belong to exactly one partition\n",
    "        for i in G.nodes():\n",
    "            if str(i) not in terminals:  # Skip terminal assignment here\n",
    "                prob.linear_constraints.add(\n",
    "                    lin_expr=[[\n",
    "                        [node_vars[(i, t_index)] for t_index in range(3)],  # Variables for this node across partitions\n",
    "                        [1.0] * 3  # Coefficients\n",
    "                    ]],\n",
    "                    senses=[\"E\"],  # Equality\n",
    "                    rhs=[1.0]  # Must be in exactly one partition\n",
    "                )\n",
    "\n",
    "        # Constraint: For each edge, enforce cut if nodes are in different partitions\n",
    "        for i, j in G.edges():\n",
    "            for t_index in range(3):\n",
    "                prob.linear_constraints.add(\n",
    "                    lin_expr=[[\n",
    "                        [node_vars[(i, t_index)], node_vars[(j, t_index)], edge_vars[(i, j)]],\n",
    "                        [1, -1, -G.number_of_nodes()],  # Large negative coefficient to enforce y_ij = 1 if i and j differ in partition\n",
    "                        [-1, 1, -G.number_of_nodes()]   # Same here\n",
    "                    ]],\n",
    "                    senses=[\"L\", \"L\"],  # Less than or equal, to activate edge_var if nodes are in different partitions\n",
    "                    rhs=[0, 0]\n",
    "                )\n",
    "\n",
    "        # Solve the problem\n",
    "        prob.solve()\n",
    "        return prob, node_vars\n",
    "\n",
    "    except CplexError as exc:\n",
    "        print(exc)\n",
    "        return None\n",
    "\n",
    "def extract_partitions(problem, G, terminals, node_vars):\n",
    "    partitions = {t: [t] for t in terminals}  # Initialize partitions with terminals\n",
    "    solution_values = problem.solution.get_values()\n",
    "\n",
    "    for (i, t_index), var_name in node_vars.items():\n",
    "        value = solution_values[problem.variables.get_indices(var_name)]\n",
    "        if value > 0.5 and str(i) not in terminals:  # Node assigned to this terminal's partition\n",
    "            partitions[terminals[t_index]].append(str(i))\n",
    "\n",
    "    return partitions\n",
    "\n",
    "# Assuming G has been created and terminals are defined\n",
    "G =  test_item[0][2] # Your graph initialization here\n",
    "terminals = ['0', '20', '98']  # Assuming these are the string representations of your terminal nodes\n",
    "print(setup_3way_cut_problem(G, terminals))\n",
    "problem, node_vars = setup_3way_cut_problem(G, terminals)\n",
    "if problem:\n",
    "    print(\"Solution status:\", problem.solution.get_status(), \":\", problem.solution.status[problem.solution.get_status()])\n",
    "    print(\"Solution value:\", problem.solution.get_objective_value())\n",
    "    partitions = extract_partitions(problem, G, terminals, node_vars)\n",
    "    for t, nodes in partitions.items():\n",
    "        print(f\"Partition for terminal {t}: {nodes}\")\n"
   ],
   "metadata": {
    "collapsed": false,
    "pycharm": {
     "name": "#%%\n"
    }
   }
  },
  {
   "cell_type": "code",
   "execution_count": 23,
   "outputs": [
    {
     "name": "stdout",
     "output_type": "stream",
     "text": [
      "Version identifier: 22.1.1.0 | 2022-11-28 | 9160aff4d\n",
      "CPXPARAM_Read_DataCheck                          1\n",
      "Found incumbent of value 0.000000 after 0.03 sec. (1.59 ticks)\n",
      "\n",
      "Root node processing (before b&c):\n",
      "  Real time             =    0.04 sec. (1.77 ticks)\n",
      "Parallel b&c, 10 threads:\n",
      "  Real time             =    0.00 sec. (0.00 ticks)\n",
      "  Sync time (average)   =    0.00 sec.\n",
      "  Wait time (average)   =    0.00 sec.\n",
      "                          ------------\n",
      "Total (root+branch&cut) =    0.04 sec. (1.77 ticks)\n",
      "Solution status:  101\n",
      "Objective value:  0.0\n",
      "Partition 0: [0, 1, 2, 3, 4, 5, 6, 7, 8, 9, 10, 11, 12, 13, 14, 15, 16, 17, 18, 19, 20, 21, 22, 23, 24, 25, 26, 27, 28, 29, 30, 31, 32, 33, 34, 35, 36, 37, 38, 39, 40, 41, 42, 43, 44, 45, 46, 47, 48, 49, 50, 51, 52, 53, 54, 55, 56, 57, 58, 59, 60, 61, 62, 63, 64, 65, 66, 67, 68, 69, 70, 71, 72, 73, 74, 75, 76, 77, 78, 79, 80, 81, 82, 83, 84, 85, 86, 87, 88, 89, 90, 91, 92, 93, 94, 95, 96, 97, 98, 99, 100, 101, 102, 103, 104, 105, 106, 107]\n",
      "Partition 20: []\n",
      "Partition 98: []\n"
     ]
    }
   ],
   "source": [
    "import cplex\n",
    "from cplex.exceptions import CplexError\n",
    "import networkx as nx\n",
    "import random\n",
    "\n",
    "def setup_3way_cut_problem(G, terminals):\n",
    "    try:\n",
    "        # Initialize CPLEX problem\n",
    "        prob = cplex.Cplex()\n",
    "        prob.objective.set_sense(prob.objective.sense.minimize)\n",
    "\n",
    "        node_vars = {}  # Node-partition assignment variables\n",
    "        edge_vars = {}  # Edge-cut indicator variables\n",
    "\n",
    "        # Add node variables\n",
    "        for i in G.nodes():\n",
    "            for t, terminal in enumerate(terminals):\n",
    "                var_name = f\"x_{i}_{t}\"\n",
    "                prob.variables.add(names=[var_name], lb=[0], ub=[1], types=[\"B\"])\n",
    "                node_vars[(i, t)] = var_name\n",
    "\n",
    "        # Add edge variables and set the objective to minimize cut weights\n",
    "        for i, j, data in G.edges(data=True):\n",
    "            var_name = f\"y_{i}_{j}\"\n",
    "            weight = data['weight']  # Extracting the weight from the edge data\n",
    "            prob.variables.add(names=[var_name], lb=[0], ub=[1], types=[\"B\"], obj=[weight])\n",
    "            edge_vars[(i, j)] = var_name\n",
    "\n",
    "        # Each node must belong to exactly one partition\n",
    "        for i in G.nodes():\n",
    "            constraints = [node_vars[(i, t)] for t in range(3)]\n",
    "            prob.linear_constraints.add(\n",
    "                lin_expr=[cplex.SparsePair(ind=constraints, val=[1.0]*3)],\n",
    "                senses=[\"E\"],\n",
    "                rhs=[1.0]\n",
    "            )\n",
    "\n",
    "        # Enforcing edge cuts if nodes are in different partitions\n",
    "        for (i, j), var_name in edge_vars.items():\n",
    "            for t in range(3):\n",
    "                node_i_var = node_vars[(i, t)]\n",
    "                node_j_var = node_vars[(j, t)]\n",
    "                # For each edge and each terminal, add constraints to enforce the cut\n",
    "                prob.linear_constraints.add(\n",
    "                    lin_expr=[\n",
    "                        cplex.SparsePair(ind=[node_i_var, node_j_var, var_name], val=[1, -1, G.number_of_nodes()]),\n",
    "                        cplex.SparsePair(ind=[node_i_var, node_j_var, var_name], val=[-1, 1, G.number_of_nodes()])\n",
    "                    ],\n",
    "                    senses=[\"L\", \"L\"],\n",
    "                    rhs=[G.number_of_nodes() - 1, G.number_of_nodes() - 1]\n",
    "                )\n",
    "\n",
    "        prob.solve()\n",
    "        return prob, node_vars\n",
    "\n",
    "    except CplexError as exc:\n",
    "        print(exc)\n",
    "        return None\n",
    "\n",
    "def extract_partitions(problem, G, terminals, node_vars):\n",
    "    partitions = {t: [] for t in terminals}\n",
    "    solution_values = problem.solution.get_values()\n",
    "\n",
    "    # Map variables back to their node and terminal\n",
    "    for (node, terminal), var in node_vars.items():\n",
    "        value = solution_values[problem.variables.get_indices(var)]\n",
    "        if value > 0.5:  # Node is in this terminal's partition\n",
    "            partitions[terminals[terminal]].append(node)\n",
    "\n",
    "    return partitions\n",
    "\n",
    "# Example of creating a graph and using the setup\n",
    "def create_example_graph():\n",
    "    G = nx.Graph()\n",
    "    G.add_nodes_from(range(101))  # 101 nodes numbered from 0 to 100\n",
    "    # Add random weighted edges\n",
    "    for i in range(101):\n",
    "        for j in range(i+1, 101):\n",
    "            if random.random() < 0.5:  # Add an edge with 50% probability\n",
    "                weight = random.randint(1, 10)\n",
    "                G.add_edge(i, j, weight=weight)\n",
    "    return G\n",
    "\n",
    "# Initialize a graph\n",
    "#G = create_example_graph()\n",
    "G =  test_item[0][2]\n",
    "# Define terminals (ensure they are within the graph's node range)\n",
    "terminals = ['0', '20', '98']  # Example terminals as strings, adjust according to your needs\n",
    "\n",
    "# Setup and solve the 3-way cut problem\n",
    "problem, node_vars = setup_3way_cut_problem(G, terminals)\n",
    "if problem:\n",
    "    print(\"Solution status: \", problem.solution.get_status())\n",
    "    print(\"Objective value: \", problem.solution.get_objective_value())\n",
    "    partitions = extract_partitions(problem, G, terminals, node_vars)\n",
    "    for terminal, nodes in partitions.items():\n",
    "        print(f\"Partition {terminal}: {nodes}\")\n"
   ],
   "metadata": {
    "collapsed": false,
    "pycharm": {
     "name": "#%%\n"
    }
   }
  },
  {
   "cell_type": "code",
   "execution_count": null,
   "outputs": [],
   "source": [],
   "metadata": {
    "collapsed": false,
    "pycharm": {
     "name": "#%%\n"
    }
   }
  }
 ],
 "metadata": {
  "kernelspec": {
   "display_name": "Python 3",
   "language": "python",
   "name": "python3"
  },
  "language_info": {
   "codemirror_mode": {
    "name": "ipython",
    "version": 2
   },
   "file_extension": ".py",
   "mimetype": "text/x-python",
   "name": "python",
   "nbconvert_exporter": "python",
   "pygments_lexer": "ipython2",
   "version": "2.7.6"
  }
 },
 "nbformat": 4,
 "nbformat_minor": 0
}