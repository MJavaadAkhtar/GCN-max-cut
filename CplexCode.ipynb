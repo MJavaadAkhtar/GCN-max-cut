{
 "cells": [
  {
   "cell_type": "code",
   "execution_count": null,
   "metadata": {
    "collapsed": true,
    "pycharm": {
     "name": "#%%\n"
    }
   },
   "outputs": [],
   "source": [
    "import cplex\n",
    "from cplex.exceptions import CplexError\n",
    "\n",
    "def setup_3way_cut_problem(G, terminals):\n",
    "    try:\n",
    "        # Initialize CPLEX problem\n",
    "        prob = cplex.Cplex()\n",
    "        prob.set_problem_type(cplex.Cplex.problem_type.LP)\n",
    "        prob.objective.set_sense(prob.objective.sense.minimize)\n",
    "\n",
    "        # Add variables\n",
    "        edge_vars = {}\n",
    "        node_partition_vars = {}\n",
    "        for i in G.nodes():\n",
    "            if i in terminals:\n",
    "                continue  # Skip terminals\n",
    "            for t in range(3):  # For each terminal/partition\n",
    "                var_name = f\"x_{i}_{t}\"\n",
    "                node_partition_vars[(i, t)] = var_name\n",
    "                prob.variables.add(names=[var_name], lb=[0], ub=[1], types=[\"B\"])\n",
    "\n",
    "        for i, j in G.edges():\n",
    "            var_name = f\"y_{i}_{j}\"\n",
    "            edge_vars[(i, j)] = var_name\n",
    "            prob.variables.add(names=[var_name], lb=[0], ub=[1], types=[\"B\"], obj=[G[i][j]['weight']])\n",
    "\n",
    "        # Add constraints\n",
    "        # Node must belong to one partition\n",
    "        for i in G.nodes():\n",
    "            if i in terminals:\n",
    "                continue\n",
    "            constraints = [node_partition_vars[(i, t)] for t in range(3)]\n",
    "            prob.linear_constraints.add(\n",
    "                lin_expr=[cplex.SparsePair(ind=constraints, val=[1]*3)],\n",
    "                senses=[\"E\"],\n",
    "                rhs=[1]\n",
    "            )\n",
    "\n",
    "        # Edge cut constraints\n",
    "        for i, j in G.edges():\n",
    "            for t in range(3):\n",
    "                prob.linear_constraints.add(\n",
    "                    lin_expr=[\n",
    "                        cplex.SparsePair(ind=[node_partition_vars[(i, t)], node_partition_vars[(j, t)], edge_vars[(i, j)]],\n",
    "                                         val=[1, -1, 1]),\n",
    "                        cplex.SparsePair(ind=[node_partition_vars[(i, t)], node_partition_vars[(j, t)], edge_vars[(i, j)]],\n",
    "                                         val=[-1, 1, 1])\n",
    "                    ],\n",
    "                    senses=\"LL\",\n",
    "                    rhs=[0, 0]\n",
    "                )\n",
    "\n",
    "        # Solve the problem\n",
    "        prob.solve()\n",
    "        return prob\n",
    "\n",
    "    except CplexError as exc:\n",
    "        print(exc)\n",
    "        return None\n",
    "\n",
    "# Example usage\n",
    "G = ...  # Your graph initialization here\n",
    "terminals = ['t1', 't2', 't3']  # Your terminals\n",
    "problem = setup_3way_cut_problem(G, terminals)\n",
    "if problem:\n",
    "    # Extract solution, etc.\n",
    "    print(\"Solution status = \", problem.solution.get_status(), \":\", end=' ')\n",
    "    print(problem.solution.status[problem.solution.get_status()])\n",
    "    print(\"Solution value  = \", problem.solution.get_objective_value())\n",
    "    # Further extraction of partition assignments, etc., can be done here\n"
   ]
  }
 ],
 "metadata": {
  "kernelspec": {
   "display_name": "Python 3",
   "language": "python",
   "name": "python3"
  },
  "language_info": {
   "codemirror_mode": {
    "name": "ipython",
    "version": 2
   },
   "file_extension": ".py",
   "mimetype": "text/x-python",
   "name": "python",
   "nbconvert_exporter": "python",
   "pygments_lexer": "ipython2",
   "version": "2.7.6"
  }
 },
 "nbformat": 4,
 "nbformat_minor": 0
}